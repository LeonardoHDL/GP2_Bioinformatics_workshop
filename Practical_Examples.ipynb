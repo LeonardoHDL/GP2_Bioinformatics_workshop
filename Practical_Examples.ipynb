{
 "cells": [
  {
   "cell_type": "markdown",
   "metadata": {},
   "source": [
    "## __GP2 Taller de Bioinformatica Mexico - DEMO 4 - Ejemplos practicos__\n",
    "\n",
    "```GP2 ❤️ Open Science 😍```\n",
    "\n",
    "* __Modulo:__ Ejemplos practicos\n",
    "* __Estimacion de recursos computacionales y duracion del analisis:__\n",
    "    * __Configuracion de la maquina virtual:__ Por defecto; 1 CPU, 3.75 GB memoria, 50 GB espacio de disco\n",
    "    * __Duracion estimada:__ 1h.\n",
    "* __Fecha de ultima actualizacion:__ 28-ENERO-2023\n",
    "\n",
    "### Descripcion\n",
    "\n",
    "Utilizando \"individual level data\" o datos individuales de pacientes y controles veremos los siguientes ejemplos:\n",
    "\n",
    "__0. Getting Started__\n",
    "\n",
    "__1. Calcula componentes principales (PCs) para los datos de genotipado de la población EAS__\n",
    "\n",
    "__2. Crea un “Scree plot”__\n",
    "\n",
    "__3. Estima que muestras estan emparentadas entre si y si hay muestras duplicadas en los datos de la población SAS__\n",
    "\n",
    "__4. Estima la frecuencia de GBA - N370S en los datos de la población AJ__\n",
    "\n",
    "__5. Estima el numero de homozigotos para el alelo de riesgo y heterozigotos para la mutacion LRRK2 G2019S en los datos de la población AJ__\n",
    "\n",
    "__6. Calcula posibles regiones en homocigosis en chr1 en los datos de la población EUR__\n",
    "\n",
    "__7. Extrae la region de SNCA y compara los haplotipos en los datos de las poblaciónes AMR y EUR__\n"
   ]
  },
  {
   "cell_type": "markdown",
   "metadata": {},
   "source": [
    "## Getting Started\n",
    "\n",
    "### Cargar librerias de Python"
   ]
  },
  {
   "cell_type": "code",
   "execution_count": 1,
   "metadata": {},
   "outputs": [
    {
     "name": "stderr",
     "output_type": "stream",
     "text": [
      "/tmp/ipykernel_1511/3943855956.py:26: DeprecationWarning: Importing display from IPython.core.display is deprecated since IPython 7.14, please import from IPython display\n",
      "  from IPython.core.display import display, HTML\n"
     ]
    }
   ],
   "source": [
    "# Use the os package to interact with the environment\n",
    "import os\n",
    "import sys\n",
    "\n",
    "# Bring in Pandas for Dataframe functionality\n",
    "import pandas as pd\n",
    "from functools import reduce\n",
    "\n",
    "# Bring some visualization functionality \n",
    "import seaborn as sns\n",
    "\n",
    "# numpy for basics\n",
    "import numpy as np\n",
    "\n",
    "# Use StringIO for working with file contents\n",
    "from io import StringIO\n",
    "\n",
    "# Enable IPython to display matplotlib graphs\n",
    "import matplotlib.pyplot as plt\n",
    "%matplotlib inline\n",
    "\n",
    "# Enable interaction with the FireCloud API\n",
    "from firecloud import api as fapi\n",
    "\n",
    "# Import the iPython HTML rendering for displaying links to Google Cloud Console\n",
    "from IPython.core.display import display, HTML\n",
    "\n",
    "# Import urllib modules for building URLs to Google Cloud Console\n",
    "import urllib.parse\n",
    "\n",
    "# BigQuery for querying data\n",
    "from google.cloud import bigquery"
   ]
  },
  {
   "cell_type": "markdown",
   "metadata": {},
   "source": [
    "### Definir funciones de Python para interactuar con GCP/Terra"
   ]
  },
  {
   "cell_type": "code",
   "execution_count": 2,
   "metadata": {},
   "outputs": [],
   "source": [
    "# Utility routine for printing a shell command before executing it\n",
    "def shell_do(command):\n",
    "    print(f'Executing: {command}', file=sys.stderr)\n",
    "    !$command\n",
    "    \n",
    "def shell_return(command):\n",
    "    print(f'Executing: {command}', file=sys.stderr)\n",
    "    output = !$command\n",
    "    return '\\n'.join(output)\n",
    "\n",
    "# Utility routine for printing a query before executing it\n",
    "def bq_query(query):\n",
    "    print(f'Executing: {query}', file=sys.stderr)\n",
    "    return pd.read_gbq(query, project_id=BILLING_PROJECT_ID, dialect='standard')\n",
    "\n",
    "# Utility routine for display a message and a link\n",
    "def display_html_link(description, link_text, url):\n",
    "    html = f'''\n",
    "    <p>\n",
    "    </p>\n",
    "    <p>\n",
    "    {description}\n",
    "    <a target=_blank href=\"{url}\">{link_text}</a>.\n",
    "    </p>\n",
    "    '''\n",
    "\n",
    "    display(HTML(html))\n",
    "\n",
    "# Utility routines for reading files from Google Cloud Storage\n",
    "def gcs_read_file(path):\n",
    "    \"\"\"Return the contents of a file in GCS\"\"\"\n",
    "    contents = !gsutil -u {BILLING_PROJECT_ID} cat {path}\n",
    "    return '\\n'.join(contents)\n",
    "    \n",
    "def gcs_read_csv(path, sep=None):\n",
    "    \"\"\"Return a DataFrame from the contents of a delimited file in GCS\"\"\"\n",
    "    return pd.read_csv(StringIO(gcs_read_file(path)), sep=sep, engine='python')\n",
    "\n",
    "# Utility routine for displaying a message and link to Cloud Console\n",
    "def link_to_cloud_console_gcs(description, link_text, gcs_path):\n",
    "    url = '{}?{}'.format(\n",
    "        os.path.join('https://console.cloud.google.com/storage/browser',\n",
    "                     gcs_path.replace(\"gs://\",\"\")),\n",
    "        urllib.parse.urlencode({'userProject': BILLING_PROJECT_ID}))\n",
    "\n",
    "    display_html_link(description, link_text, url)"
   ]
  },
  {
   "cell_type": "markdown",
   "metadata": {},
   "source": [
    "### Inicializar las variables del entorno de trabajo"
   ]
  },
  {
   "cell_type": "code",
   "execution_count": 3,
   "metadata": {
    "scrolled": false
   },
   "outputs": [
    {
     "name": "stdout",
     "output_type": "stream",
     "text": [
      "Billing and Workspace\n",
      "Workspace Name: GRUPO_4_MEXICO_WORKSHOP\n",
      "Billing Project: terra-61e6143b\n",
      "Workspace Bucket, where you can upload and download data: gs://fc-secure-0b3bd9f2-17a9-4e2b-91f6-53c11325da24\n",
      "\n",
      "GP2 v3.0\n",
      "Path to GP2 v3.0 Clinical Data: gs://gp2tier2/release3_31102022/clinical_data\n",
      "Path to GP2 v3.0 Raw Genotype Data: gs://gp2tier2/release3_31102022/raw_genotypes\n",
      "Path to GP2 v3.0 Imputed Genotype Data: gs://gp2tier2/release3_31102022/imputed_genotypes\n",
      "AMP-PD v3.0\n",
      "Path to AMP-PD v3.0 Clinical Data: gs://amp-pd-data/releases/2022_v3release_1115/clinical\n",
      "Path to AMP-PD v3.0 WGS Data: gs://amp-pd-genomics/releases/2022_v3release_1115/wgs-WB-DWGS/plink\n",
      "\n"
     ]
    }
   ],
   "source": [
    "# Set up billing project and data path variables\n",
    "BILLING_PROJECT_ID = os.environ['GOOGLE_PROJECT']\n",
    "WORKSPACE_NAMESPACE = os.environ['WORKSPACE_NAMESPACE']\n",
    "WORKSPACE_NAME = os.environ['WORKSPACE_NAME']\n",
    "WORKSPACE_BUCKET = os.environ['WORKSPACE_BUCKET']\n",
    "\n",
    "WORKSPACE_ATTRIBUTES = fapi.get_workspace(WORKSPACE_NAMESPACE, WORKSPACE_NAME).json().get('workspace',{}).get('attributes',{})\n",
    "\n",
    "## Print the information to check we are in the proper release and billing \n",
    "## This will be different for you, the user, depending on the billing project your workspace is on\n",
    "print('Billing and Workspace')\n",
    "print(f'Workspace Name: {WORKSPACE_NAME}')\n",
    "print(f'Billing Project: {BILLING_PROJECT_ID}')\n",
    "print(f'Workspace Bucket, where you can upload and download data: {WORKSPACE_BUCKET}')\n",
    "print('')\n",
    "\n",
    "\n",
    "## GP2 v3.0\n",
    "## Explicitly define release v3.0 path \n",
    "GP2_RELEASE_PATH = 'gs://gp2tier2/release3_31102022'\n",
    "GP2_CLINICAL_RELEASE_PATH = f'{GP2_RELEASE_PATH}/clinical_data'\n",
    "GP2_RAW_GENO_PATH = f'{GP2_RELEASE_PATH}/raw_genotypes'\n",
    "GP2_IMPUTED_GENO_PATH = f'{GP2_RELEASE_PATH}/imputed_genotypes'\n",
    "print('GP2 v3.0')\n",
    "print(f'Path to GP2 v3.0 Clinical Data: {GP2_CLINICAL_RELEASE_PATH}')\n",
    "print(f'Path to GP2 v3.0 Raw Genotype Data: {GP2_RAW_GENO_PATH}')\n",
    "print(f'Path to GP2 v3.0 Imputed Genotype Data: {GP2_IMPUTED_GENO_PATH}')\n",
    "\n",
    "\n",
    "## AMP-PD v3.0\n",
    "## Explicitly define release v3.0 path \n",
    "AMP_RELEASE_PATH = 'gs://amp-pd-data/releases/2022_v3release_1115'\n",
    "AMP_CLINICAL_RELEASE_PATH = f'{AMP_RELEASE_PATH}/clinical'\n",
    "\n",
    "AMP_WGS_RELEASE_PATH = 'gs://amp-pd-genomics/releases/2022_v3release_1115/wgs-WB-DWGS'\n",
    "AMP_WGS_RELEASE_PLINK_PATH = os.path.join(AMP_WGS_RELEASE_PATH, 'plink')\n",
    "\n",
    "print('AMP-PD v3.0')\n",
    "print(f'Path to AMP-PD v3.0 Clinical Data: {AMP_CLINICAL_RELEASE_PATH}')\n",
    "print(f'Path to AMP-PD v3.0 WGS Data: {AMP_WGS_RELEASE_PLINK_PATH}')\n",
    "print('')"
   ]
  },
  {
   "cell_type": "markdown",
   "metadata": {},
   "source": [
    "### Bucket datos GP2 (version 3)\n",
    "\n",
    "Los ficheros raw estan almacenados en los buckets de <a href=\"https://cloud.google.com/storage/\">Google Cloud Storage</a>:\n",
    "\n",
    "#### __Tier 2__\n",
    "\n",
    "- <a href=\"https://console.cloud.google.com/storage/browser/gp2tier2/release3_31102022?pageState=(%22StorageObjectListTable%22:(%22f%22:%22%255B%255D%22))&prefix=&forceOnObjectsSortingFiltering=false\">gs://gp2tier2/release3_31102022/</a>: Tier 2 Bucket\n",
    "\n",
    "- <a href=\"https://console.cloud.google.com/storage/browser/gp2tier2/release3_31102022/summary_statistics?pageState=(%22StorageObjectListTable%22:(%22f%22:%22%255B%255D%22))&prefix=&forceOnObjectsSortingFiltering=false\">gs://gp2tier2/release3_31102022/summary_statistics/</a>: Summary Statistics\n",
    "\n",
    "- <a href=\"https://console.cloud.google.com/storage/browser/gp2tier2/release3_31102022/raw_genotypes?pageState=(%22StorageObjectListTable%22:(%22f%22:%22%255B%255D%22))&prefix=&forceOnObjectsSortingFiltering=false\">gs://gp2tier2/release3_31102022/raw_genotypes/</a>: Genotipos raw (ficheros divididos por ascendencia)\n",
    "\n",
    "- <a href=\"https://console.cloud.google.com/storage/browser/gp2tier2/release3_31102022/imputed_genotypes?pageState=(%22StorageObjectListTable%22:(%22f%22:%22%255B%255D%22))&prefix=&forceOnObjectsSortingFiltering=false\">gs://gp2tier2/release3_31102022/imputed_genotypes/</a>: Genotipos imputados (ficheros divididos por ascendencia)\n",
    "\n",
    "- <a href=\"https://console.cloud.google.com/storage/browser/gp2tier2/release3_31102022/cnvs?pageState=(%22StorageObjectListTable%22:(%22f%22:%22%255B%255D%22))&prefix=&forceOnObjectsSortingFiltering=false\">gs://gp2tier2/release3_31102022/cnvs/</a>: Estimacion probabilistica de variaciones en el numero de copias por gen\n",
    "\n",
    "- <a href=\"https://console.cloud.google.com/storage/browser/gp2tier2/release3_31102022/clinical_data?pageState=(%22StorageObjectListTable%22:(%22f%22:%22%255B%255D%22))&prefix=&forceOnObjectsSortingFiltering=false\">gs://gp2tier2/release3_31102022/clinical_data/</a>: Datos clinicos y diccionario\n",
    "\n",
    "- <a href=\"https://console.cloud.google.com/storage/browser/gp2tier2/release3_31102022/meta_data?pageState=(%22StorageObjectListTable%22:(%22f%22:%22%255B%255D%22))&prefix=&forceOnObjectsSortingFiltering=false\">gs://gp2tier2/release3_31102022/meta_data/</a>: Metadatos (fichero hdf5 con control de calidad, ascendencia, componentes principales, etc)"
   ]
  },
  {
   "cell_type": "code",
   "execution_count": 4,
   "metadata": {},
   "outputs": [
    {
     "name": "stdout",
     "output_type": "stream",
     "text": [
      "Copy over files from bucket to VM workspace\n",
      "WARNING! This VM, when deleted, deletes all data copied over to it\n",
      "If you want to store results or files long-term, copy them to your bucket\n"
     ]
    }
   ],
   "source": [
    "print(\"Copy over files from bucket to VM workspace\")\n",
    "print(\"WARNING! This VM, when deleted, deletes all data copied over to it\")\n",
    "print(\"If you want to store results or files long-term, copy them to your bucket\")"
   ]
  },
  {
   "cell_type": "markdown",
   "metadata": {},
   "source": [
    "### Acceder a los datos GP2"
   ]
  },
  {
   "cell_type": "code",
   "execution_count": 5,
   "metadata": {},
   "outputs": [
    {
     "name": "stdout",
     "output_type": "stream",
     "text": [
      "GP2 v3.0\n",
      "Path to GP2 v3.0 Clinical Data: gs://gp2tier2/release3_31102022/clinical_data\n",
      "Path to GP2 v3.0 Raw Genotype Data: gs://gp2tier2/release3_31102022/raw_genotypes\n",
      "Path to GP2 v3.0 Imputed Genotype Data: gs://gp2tier2/release3_31102022/imputed_genotypes\n"
     ]
    }
   ],
   "source": [
    "## GP2 v3.0\n",
    "## Explicitly define release v3.0 path \n",
    "GP2_RELEASE_PATH = 'gs://gp2tier2/release3_31102022'\n",
    "GP2_CLINICAL_RELEASE_PATH = f'{GP2_RELEASE_PATH}/clinical_data'\n",
    "GP2_META_RELEASE_PATH = f'{GP2_RELEASE_PATH}/meta_data'\n",
    "GP2_SUMSTAT_RELEASE_PATH = f'{GP2_RELEASE_PATH}/summary_statistics'\n",
    "\n",
    "GP2_RAW_GENO_PATH = f'{GP2_RELEASE_PATH}/raw_genotypes'\n",
    "GP2_IMPUTED_GENO_PATH = f'{GP2_RELEASE_PATH}/imputed_genotypes'\n",
    "print('GP2 v3.0')\n",
    "print(f'Path to GP2 v3.0 Clinical Data: {GP2_CLINICAL_RELEASE_PATH}')\n",
    "print(f'Path to GP2 v3.0 Raw Genotype Data: {GP2_RAW_GENO_PATH}')\n",
    "print(f'Path to GP2 v3.0 Imputed Genotype Data: {GP2_IMPUTED_GENO_PATH}')"
   ]
  },
  {
   "cell_type": "code",
   "execution_count": 6,
   "metadata": {
    "scrolled": true
   },
   "outputs": [
    {
     "name": "stderr",
     "output_type": "stream",
     "text": [
      "Executing: gsutil -u terra-61e6143b ls gs://gp2tier2/release3_31102022\n"
     ]
    },
    {
     "name": "stdout",
     "output_type": "stream",
     "text": [
      "gs://gp2tier2/release3_31102022/\r\n",
      "gs://gp2tier2/release3_31102022/README_release3_31102022.txt\r\n",
      "gs://gp2tier2/release3_31102022/clinical_data/\r\n",
      "gs://gp2tier2/release3_31102022/cnvs/\r\n",
      "gs://gp2tier2/release3_31102022/imputed_genotypes/\r\n",
      "gs://gp2tier2/release3_31102022/meta_data/\r\n",
      "gs://gp2tier2/release3_31102022/raw_genotypes/\r\n",
      "gs://gp2tier2/release3_31102022/summary_statistics/\r\n",
      "gs://gp2tier2/release3_31102022/utils/\r\n",
      "gs://gp2tier2/release3_31102022/wgs/\r\n"
     ]
    }
   ],
   "source": [
    "shell_do(f'gsutil -u {BILLING_PROJECT_ID} ls {GP2_RELEASE_PATH}')"
   ]
  },
  {
   "cell_type": "markdown",
   "metadata": {},
   "source": [
    "### Instalar paquetes"
   ]
  },
  {
   "cell_type": "code",
   "execution_count": 7,
   "metadata": {},
   "outputs": [
    {
     "name": "stdout",
     "output_type": "stream",
     "text": [
      "Downloading plink \n",
      "    -------\n"
     ]
    },
    {
     "name": "stderr",
     "output_type": "stream",
     "text": [
      "--2023-12-27 04:52:28--  http://s3.amazonaws.com/plink1-assets/plink_linux_x86_64_20190304.zip\n",
      "Resolving s3.amazonaws.com (s3.amazonaws.com)... 52.216.110.77, 52.217.123.40, 52.217.104.174, ...\n",
      "Connecting to s3.amazonaws.com (s3.amazonaws.com)|52.216.110.77|:80... connected.\n",
      "HTTP request sent, awaiting response... 200 OK\n",
      "Length: 8708135 (8.3M) [application/zip]\n",
      "Saving to: ‘plink_linux_x86_64_20190304.zip’\n",
      "\n",
      "     0K .......... .......... .......... .......... ..........  0%  993K 9s\n",
      "    50K .......... .......... .......... .......... ..........  1% 1.88M 6s\n",
      "   100K .......... .......... .......... .......... ..........  1% 97.1M 4s\n",
      "   150K .......... .......... .......... .......... ..........  2% 6.75M 3s\n",
      "   200K .......... .......... .......... .......... ..........  2% 2.61M 3s\n",
      "   250K .......... .......... .......... .......... ..........  3%  155M 3s\n",
      "   300K .......... .......... .......... .......... ..........  4%  186M 2s\n",
      "   350K .......... .......... .......... .......... ..........  4%  235M 2s\n",
      "   400K .......... .......... .......... .......... ..........  5% 1.95M 2s\n",
      "   450K .......... .......... .......... .......... ..........  5% 28.1M 2s\n",
      "   500K .......... .......... .......... .......... ..........  6%  266M 2s\n",
      "   550K .......... .......... .......... .......... ..........  7%  264M 2s\n",
      "   600K .......... .......... .......... .......... ..........  7%  263M 2s\n",
      "   650K .......... .......... .......... .......... ..........  8%  246M 1s\n",
      "   700K .......... .......... .......... .......... ..........  8%  270M 1s\n",
      "   750K .......... .......... .......... .......... ..........  9%  283M 1s\n",
      "   800K .......... .......... .......... .......... ..........  9% 10.1M 1s\n",
      "   850K .......... .......... .......... .......... .......... 10%  101M 1s\n",
      "   900K .......... .......... .......... .......... .......... 11% 2.67M 1s\n",
      "   950K .......... .......... .......... .......... .......... 11%  250M 1s\n",
      "  1000K .......... .......... .......... .......... .......... 12% 20.7M 1s\n",
      "  1050K .......... .......... .......... .......... .......... 12%  247M 1s\n",
      "  1100K .......... .......... .......... .......... .......... 13%  281M 1s\n",
      "  1150K .......... .......... .......... .......... .......... 14%  220M 1s\n",
      "  1200K .......... .......... .......... .......... .......... 14%  273M 1s\n",
      "  1250K .......... .......... .......... .......... .......... 15%  284M 1s\n",
      "  1300K .......... .......... .......... .......... .......... 15%  288M 1s\n",
      "  1350K .......... .......... .......... .......... .......... 16%  233M 1s\n",
      "  1400K .......... .......... .......... .......... .......... 17%  263M 1s\n",
      "  1450K .......... .......... .......... .......... .......... 17%  284M 1s\n",
      "  1500K .......... .......... .......... .......... .......... 18%  266M 1s\n",
      "  1550K .......... .......... .......... .......... .......... 18%  230M 1s\n",
      "  1600K .......... .......... .......... .......... .......... 19% 11.7M 1s\n",
      "  1650K .......... .......... .......... .......... .......... 19%  253M 1s\n",
      "  1700K .......... .......... .......... .......... .......... 20%  282M 1s\n",
      "  1750K .......... .......... .......... .......... .......... 21%  236M 1s\n",
      "  1800K .......... .......... .......... .......... .......... 21% 2.96M 1s\n",
      "  1850K .......... .......... .......... .......... .......... 22%  165M 1s\n",
      "  1900K .......... .......... .......... .......... .......... 22%  279M 1s\n",
      "  1950K .......... .......... .......... .......... .......... 23%  261M 1s\n",
      "  2000K .......... .......... .......... .......... .......... 24% 44.1M 1s\n",
      "  2050K .......... .......... .......... .......... .......... 24%  173M 1s\n",
      "  2100K .......... .......... .......... .......... .......... 25%  165M 1s\n",
      "  2150K .......... .......... .......... .......... .......... 25%  245M 1s\n",
      "  2200K .......... .......... .......... .......... .......... 26%  141M 1s\n",
      "  2250K .......... .......... .......... .......... .......... 27%  192M 0s\n",
      "  2300K .......... .......... .......... .......... .......... 27%  191M 0s\n",
      "  2350K .......... .......... .......... .......... .......... 28%  201M 0s\n",
      "  2400K .......... .......... .......... .......... .......... 28% 35.6M 0s\n",
      "  2450K .......... .......... .......... .......... .......... 29%  275M 0s\n",
      "  2500K .......... .......... .......... .......... .......... 29%  244M 0s\n",
      "  2550K .......... .......... .......... .......... .......... 30%  270M 0s\n",
      "  2600K .......... .......... .......... .......... .......... 31%  278M 0s\n",
      "  2650K .......... .......... .......... .......... .......... 31%  256M 0s\n",
      "  2700K .......... .......... .......... .......... .......... 32%  244M 0s\n",
      "  2750K .......... .......... .......... .......... .......... 32%  278M 0s\n",
      "  2800K .......... .......... .......... .......... .......... 33%  282M 0s\n",
      "  2850K .......... .......... .......... .......... .......... 34%  286M 0s\n",
      "  2900K .......... .......... .......... .......... .......... 34%  248M 0s\n",
      "  2950K .......... .......... .......... .......... .......... 35%  266M 0s\n",
      "  3000K .......... .......... .......... .......... .......... 35%  287M 0s\n",
      "  3050K .......... .......... .......... .......... .......... 36%  283M 0s\n",
      "  3100K .......... .......... .......... .......... .......... 37%  106M 0s\n",
      "  3150K .......... .......... .......... .......... .......... 37% 6.51M 0s\n",
      "  3200K .......... .......... .......... .......... .......... 38%  256M 0s\n",
      "  3250K .......... .......... .......... .......... .......... 38%  281M 0s\n",
      "  3300K .......... .......... .......... .......... .......... 39%  232M 0s\n",
      "  3350K .......... .......... .......... .......... .......... 39%  283M 0s\n",
      "  3400K .......... .......... .......... .......... .......... 40%  291M 0s\n",
      "  3450K .......... .......... .......... .......... .......... 41%  286M 0s\n",
      "  3500K .......... .......... .......... .......... .......... 41%  226M 0s\n",
      "  3550K .......... .......... .......... .......... .......... 42%  282M 0s\n",
      "  3600K .......... .......... .......... .......... .......... 42%  268M 0s\n",
      "  3650K .......... .......... .......... .......... .......... 43% 5.31M 0s\n",
      "  3700K .......... .......... .......... .......... .......... 44%  151M 0s\n",
      "  3750K .......... .......... .......... .......... .......... 44%  192M 0s\n",
      "  3800K .......... .......... .......... .......... .......... 45%  224M 0s\n",
      "  3850K .......... .......... .......... .......... .......... 45%  266M 0s\n",
      "  3900K .......... .......... .......... .......... .......... 46%  270M 0s\n",
      "  3950K .......... .......... .......... .......... .......... 47%  269M 0s\n",
      "  4000K .......... .......... .......... .......... .......... 47% 94.0M 0s\n",
      "  4050K .......... .......... .......... .......... .......... 48%  180M 0s\n",
      "  4100K .......... .......... .......... .......... .......... 48% 61.3M 0s\n",
      "  4150K .......... .......... .......... .......... .......... 49%  227M 0s\n",
      "  4200K .......... .......... .......... .......... .......... 49%  133M 0s\n",
      "  4250K .......... .......... .......... .......... .......... 50%  183M 0s\n",
      "  4300K .......... .......... .......... .......... .......... 51%  134M 0s\n",
      "  4350K .......... .......... .......... .......... .......... 51%  151M 0s\n",
      "  4400K .......... .......... .......... .......... .......... 52% 6.95M 0s\n",
      "  4450K .......... .......... .......... .......... .......... 52% 87.3M 0s\n",
      "  4500K .......... .......... .......... .......... .......... 53%  230M 0s\n",
      "  4550K .......... .......... .......... .......... .......... 54%  284M 0s\n",
      "  4600K .......... .......... .......... .......... .......... 54%  250M 0s\n",
      "  4650K .......... .......... .......... .......... .......... 55%  261M 0s\n",
      "  4700K .......... .......... .......... .......... .......... 55%  289M 0s\n",
      "  4750K .......... .......... .......... .......... .......... 56%  293M 0s\n",
      "  4800K .......... .......... .......... .......... .......... 57%  233M 0s\n",
      "  4850K .......... .......... .......... .......... .......... 57%  284M 0s\n",
      "  4900K .......... .......... .......... .......... .......... 58%  277M 0s\n",
      "  4950K .......... .......... .......... .......... .......... 58%  290M 0s\n",
      "  5000K .......... .......... .......... .......... .......... 59%  252M 0s\n",
      "  5050K .......... .......... .......... .......... .......... 59%  273M 0s\n",
      "  5100K .......... .......... .......... .......... .......... 60%  273M 0s\n",
      "  5150K .......... .......... .......... .......... .......... 61%  287M 0s\n",
      "  5200K .......... .......... .......... .......... .......... 61% 6.82M 0s\n",
      "  5250K .......... .......... .......... .......... .......... 62%  268M 0s\n",
      "  5300K .......... .......... .......... .......... .......... 62%  277M 0s\n",
      "  5350K .......... .......... .......... .......... .......... 63%  269M 0s\n",
      "  5400K .......... .......... .......... .......... .......... 64%  242M 0s\n",
      "  5450K .......... .......... .......... .......... .......... 64%  276M 0s\n",
      "  5500K .......... .......... .......... .......... .......... 65%  281M 0s\n",
      "  5550K .......... .......... .......... .......... .......... 65%  294M 0s\n",
      "  5600K .......... .......... .......... .......... .......... 66%  247M 0s\n",
      "  5650K .......... .......... .......... .......... .......... 67%  294M 0s\n",
      "  5700K .......... .......... .......... .......... .......... 67%  267M 0s\n",
      "  5750K .......... .......... .......... .......... .......... 68% 9.48M 0s\n",
      "  5800K .......... .......... .......... .......... .......... 68%  232M 0s\n",
      "  5850K .......... .......... .......... .......... .......... 69%  282M 0s\n",
      "  5900K .......... .......... .......... .......... .......... 69%  275M 0s\n",
      "  5950K .......... .......... .......... .......... .......... 70%  283M 0s\n",
      "  6000K .......... .......... .......... .......... .......... 71%  251M 0s\n",
      "  6050K .......... .......... .......... .......... .......... 71%  271M 0s\n",
      "  6100K .......... .......... .......... .......... .......... 72%  288M 0s\n",
      "  6150K .......... .......... .......... .......... .......... 72%  294M 0s\n",
      "  6200K .......... .......... .......... .......... .......... 73%  245M 0s\n",
      "  6250K .......... .......... .......... .......... .......... 74%  269M 0s\n",
      "  6300K .......... .......... .......... .......... .......... 74% 7.78M 0s\n",
      "  6350K .......... .......... .......... .......... .......... 75%  264M 0s\n",
      "  6400K .......... .......... .......... .......... .......... 75%  246M 0s\n",
      "  6450K .......... .......... .......... .......... .......... 76%  270M 0s\n",
      "  6500K .......... .......... .......... .......... .......... 77%  286M 0s\n",
      "  6550K .......... .......... .......... .......... .......... 77%  257M 0s\n",
      "  6600K .......... .......... .......... .......... .......... 78%  246M 0s\n",
      "  6650K .......... .......... .......... .......... .......... 78%  292M 0s\n",
      "  6700K .......... .......... .......... .......... .......... 79%  295M 0s\n",
      "  6750K .......... .......... .......... .......... .......... 79%  280M 0s\n",
      "  6800K .......... .......... .......... .......... .......... 80%  247M 0s\n",
      "  6850K .......... .......... .......... .......... .......... 81%  732K 0s\n",
      "  6900K .......... .......... .......... .......... .......... 81%  165M 0s\n",
      "  6950K .......... .......... .......... .......... .......... 82%  195M 0s\n",
      "  7000K .......... .......... .......... .......... .......... 82%  194M 0s\n",
      "  7050K .......... .......... .......... .......... .......... 83%  185M 0s\n",
      "  7100K .......... .......... .......... .......... .......... 84%  181M 0s\n",
      "  7150K .......... .......... .......... .......... .......... 84%  145M 0s\n",
      "  7200K .......... .......... .......... .......... .......... 85%  161M 0s\n",
      "  7250K .......... .......... .......... .......... .......... 85%  154M 0s\n",
      "  7300K .......... .......... .......... .......... .......... 86%  211M 0s\n",
      "  7350K .......... .......... .......... .......... .......... 87%  145M 0s\n",
      "  7400K .......... .......... .......... .......... .......... 87%  199M 0s\n",
      "  7450K .......... .......... .......... .......... .......... 88%  192M 0s\n",
      "  7500K .......... .......... .......... .......... .......... 88%  225M 0s\n",
      "  7550K .......... .......... .......... .......... .......... 89% 26.8M 0s\n",
      "  7600K .......... .......... .......... .......... .......... 89%  251M 0s\n",
      "  7650K .......... .......... .......... .......... .......... 90%  246M 0s\n",
      "  7700K .......... .......... .......... .......... .......... 91%  286M 0s\n",
      "  7750K .......... .......... .......... .......... .......... 91%  257M 0s\n",
      "  7800K .......... .......... .......... .......... .......... 92%  293M 0s\n",
      "  7850K .......... .......... .......... .......... .......... 92%  285M 0s\n",
      "  7900K .......... .......... .......... .......... .......... 93%  284M 0s\n",
      "  7950K .......... .......... .......... .......... .......... 94%  234M 0s\n",
      "  8000K .......... .......... .......... .......... .......... 94%  283M 0s\n",
      "  8050K .......... .......... .......... .......... .......... 95%  288M 0s\n",
      "  8100K .......... .......... .......... .......... .......... 95%  291M 0s\n",
      "  8150K .......... .......... .......... .......... .......... 96%  650K 0s\n",
      "  8200K .......... .......... .......... .......... .......... 97%  180M 0s\n",
      "  8250K .......... .......... .......... .......... .......... 97%  228M 0s\n",
      "  8300K .......... .......... .......... .......... .......... 98%  473K 0s\n",
      "  8350K .......... .......... .......... .......... .......... 98%  187M 0s\n",
      "  8400K .......... .......... .......... .......... .......... 99%  153M 0s\n",
      "  8450K .......... .......... .......... .......... .......... 99% 23.1M 0s\n",
      "  8500K ....                                                  100% 7702G=0.5s\n",
      "\n",
      "2023-12-27 04:52:29 (16.4 MB/s) - ‘plink_linux_x86_64_20190304.zip’ saved [8708135/8708135]\n",
      "\n"
     ]
    },
    {
     "name": "stdout",
     "output_type": "stream",
     "text": [
      "Archive:  plink_linux_x86_64_20190304.zip\n",
      "  inflating: plink                   \n",
      "  inflating: LICENSE                 \n",
      "  inflating: toy.ped                 \n",
      "  inflating: toy.map                 \n",
      "  inflating: prettify                \n",
      "\n",
      " plink downloaded and unzipped in /home/jupyter/tools \n",
      " \n",
      "Downloading plink2 \n",
      "    -------\n"
     ]
    },
    {
     "name": "stderr",
     "output_type": "stream",
     "text": [
      "--2023-12-27 04:52:29--  https://s3.amazonaws.com/plink2-assets/alpha3/plink2_linux_avx2_20220603.zip\n",
      "Resolving s3.amazonaws.com (s3.amazonaws.com)... 52.216.110.77, 52.217.123.40, 52.217.104.174, ...\n",
      "Connecting to s3.amazonaws.com (s3.amazonaws.com)|52.216.110.77|:443... connected.\n",
      "HTTP request sent, awaiting response... 200 OK\n",
      "Length: 9111524 (8.7M) [application/zip]\n",
      "Saving to: ‘plink2_linux_avx2_20220603.zip’\n",
      "\n",
      "     0K .......... .......... .......... .......... ..........  0% 2.08M 4s\n",
      "    50K .......... .......... .......... .......... ..........  1% 1.87M 4s\n",
      "   100K .......... .......... .......... .......... ..........  1% 1.87M 4s\n",
      "   150K .......... .......... .......... .......... ..........  2%  169M 3s\n",
      "   200K .......... .......... .......... .......... ..........  2%  166M 3s\n",
      "   250K .......... .......... .......... .......... ..........  3% 1.90M 3s\n",
      "   300K .......... .......... .......... .......... ..........  3%  168M 2s\n",
      "   350K .......... .......... .......... .......... ..........  4%  180M 2s\n",
      "   400K .......... .......... .......... .......... ..........  5%  176M 2s\n",
      "   450K .......... .......... .......... .......... ..........  5%  180M 2s\n",
      "   500K .......... .......... .......... .......... ..........  6% 1.96M 2s\n",
      "   550K .......... .......... .......... .......... ..........  6% 85.3M 2s\n",
      "   600K .......... .......... .......... .......... ..........  7% 91.6M 2s\n",
      "   650K .......... .......... .......... .......... ..........  7% 19.3M 2s\n",
      "   700K .......... .......... .......... .......... ..........  8%  176M 1s\n",
      "   750K .......... .......... .......... .......... ..........  8%  169M 1s\n",
      "   800K .......... .......... .......... .......... ..........  9%  189M 1s\n",
      "   850K .......... .......... .......... .......... .......... 10%  208M 1s\n",
      "   900K .......... .......... .......... .......... .......... 10%  210M 1s\n",
      "   950K .......... .......... .......... .......... .......... 11%  168M 1s\n",
      "  1000K .......... .......... .......... .......... .......... 11%  173M 1s\n",
      "  1050K .......... .......... .......... .......... .......... 12%  172M 1s\n",
      "  1100K .......... .......... .......... .......... .......... 12% 2.39M 1s\n",
      "  1150K .......... .......... .......... .......... .......... 13% 24.3M 1s\n",
      "  1200K .......... .......... .......... .......... .......... 14%  178M 1s\n",
      "  1250K .......... .......... .......... .......... .......... 14%  176M 1s\n",
      "  1300K .......... .......... .......... .......... .......... 15%  207M 1s\n",
      "  1350K .......... .......... .......... .......... .......... 15%  217M 1s\n",
      "  1400K .......... .......... .......... .......... .......... 16%  221M 1s\n",
      "  1450K .......... .......... .......... .......... .......... 16%  210M 1s\n",
      "  1500K .......... .......... .......... .......... .......... 17%  186M 1s\n",
      "  1550K .......... .......... .......... .......... .......... 17%  218M 1s\n",
      "  1600K .......... .......... .......... .......... .......... 18%  232M 1s\n",
      "  1650K .......... .......... .......... .......... .......... 19%  232M 1s\n",
      "  1700K .......... .......... .......... .......... .......... 19%  185M 1s\n",
      "  1750K .......... .......... .......... .......... .......... 20%  231M 1s\n",
      "  1800K .......... .......... .......... .......... .......... 20% 7.45M 1s\n",
      "  1850K .......... .......... .......... .......... .......... 21%  220M 1s\n",
      "  1900K .......... .......... .......... .......... .......... 21%  186M 1s\n",
      "  1950K .......... .......... .......... .......... .......... 22%  215M 1s\n",
      "  2000K .......... .......... .......... .......... .......... 23%  231M 1s\n",
      "  2050K .......... .......... .......... .......... .......... 23%  220M 1s\n",
      "  2100K .......... .......... .......... .......... .......... 24%  196M 1s\n",
      "  2150K .......... .......... .......... .......... .......... 24%  218M 1s\n",
      "  2200K .......... .......... .......... .......... .......... 25%  233M 0s\n",
      "  2250K .......... .......... .......... .......... .......... 25% 3.86M 1s\n",
      "  2300K .......... .......... .......... .......... .......... 26%  135M 1s\n",
      "  2350K .......... .......... .......... .......... .......... 26%  118M 0s\n",
      "  2400K .......... .......... .......... .......... .......... 27%  119M 0s\n",
      "  2450K .......... .......... .......... .......... .......... 28%  182M 0s\n",
      "  2500K .......... .......... .......... .......... .......... 28%  117M 0s\n",
      "  2550K .......... .......... .......... .......... .......... 29%  187M 0s\n",
      "  2600K .......... .......... .......... .......... .......... 29%  166M 0s\n",
      "  2650K .......... .......... .......... .......... .......... 30%  153M 0s\n",
      "  2700K .......... .......... .......... .......... .......... 30%  143M 0s\n",
      "  2750K .......... .......... .......... .......... .......... 31%  166M 0s\n",
      "  2800K .......... .......... .......... .......... .......... 32%  174M 0s\n",
      "  2850K .......... .......... .......... .......... .......... 32%  165M 0s\n",
      "  2900K .......... .......... .......... .......... .......... 33% 15.0M 0s\n",
      "  2950K .......... .......... .......... .......... .......... 33%  226M 0s\n",
      "  3000K .......... .......... .......... .......... .......... 34%  211M 0s\n",
      "  3050K .......... .......... .......... .......... .......... 34%  228M 0s\n",
      "  3100K .......... .......... .......... .......... .......... 35%  186M 0s\n",
      "  3150K .......... .......... .......... .......... .......... 35%  232M 0s\n",
      "  3200K .......... .......... .......... .......... .......... 36%  233M 0s\n",
      "  3250K .......... .......... .......... .......... .......... 37%  224M 0s\n",
      "  3300K .......... .......... .......... .......... .......... 37% 9.17M 0s\n",
      "  3350K .......... .......... .......... .......... .......... 38%  211M 0s\n",
      "  3400K .......... .......... .......... .......... .......... 38%  232M 0s\n",
      "  3450K .......... .......... .......... .......... .......... 39%  223M 0s\n",
      "  3500K .......... .......... .......... .......... .......... 39%  174M 0s\n",
      "  3550K .......... .......... .......... .......... .......... 40%  232M 0s\n",
      "  3600K .......... .......... .......... .......... .......... 41%  234M 0s\n",
      "  3650K .......... .......... .......... .......... .......... 41%  222M 0s\n",
      "  3700K .......... .......... .......... .......... .......... 42%  205M 0s\n",
      "  3750K .......... .......... .......... .......... .......... 42%  218M 0s\n",
      "  3800K .......... .......... .......... .......... .......... 43%  231M 0s\n",
      "  3850K .......... .......... .......... .......... .......... 43%  234M 0s\n",
      "  3900K .......... .......... .......... .......... .......... 44%  191M 0s\n",
      "  3950K .......... .......... .......... .......... .......... 44% 6.65M 0s\n",
      "  4000K .......... .......... .......... .......... .......... 45%  204M 0s\n",
      "  4050K .......... .......... .......... .......... .......... 46%  233M 0s\n",
      "  4100K .......... .......... .......... .......... .......... 46%  188M 0s\n",
      "  4150K .......... .......... .......... .......... .......... 47%  215M 0s\n",
      "  4200K .......... .......... .......... .......... .......... 47%  232M 0s\n",
      "  4250K .......... .......... .......... .......... .......... 48%  232M 0s\n",
      "  4300K .......... .......... .......... .......... .......... 48%  190M 0s\n",
      "  4350K .......... .......... .......... .......... .......... 49%  183M 0s\n",
      "  4400K .......... .......... .......... .......... .......... 50%  187M 0s\n",
      "  4450K .......... .......... .......... .......... .......... 50%  172M 0s\n",
      "  4500K .......... .......... .......... .......... .......... 51%  138M 0s\n",
      "  4550K .......... .......... .......... .......... .......... 51% 5.57M 0s\n",
      "  4600K .......... .......... .......... .......... .......... 52%  218M 0s\n",
      "  4650K .......... .......... .......... .......... .......... 52%  213M 0s\n",
      "  4700K .......... .......... .......... .......... .......... 53%  194M 0s\n",
      "  4750K .......... .......... .......... .......... .......... 53%  229M 0s\n",
      "  4800K .......... .......... .......... .......... .......... 54%  225M 0s\n",
      "  4850K .......... .......... .......... .......... .......... 55%  203M 0s\n",
      "  4900K .......... .......... .......... .......... .......... 55%  204M 0s\n",
      "  4950K .......... .......... .......... .......... .......... 56%  233M 0s\n",
      "  5000K .......... .......... .......... .......... .......... 56%  227M 0s\n",
      "  5050K .......... .......... .......... .......... .......... 57%  215M 0s\n",
      "  5100K .......... .......... .......... .......... .......... 57% 7.78M 0s\n",
      "  5150K .......... .......... .......... .......... .......... 58%  231M 0s\n",
      "  5200K .......... .......... .......... .......... .......... 59%  222M 0s\n",
      "  5250K .......... .......... .......... .......... .......... 59%  233M 0s\n",
      "  5300K .......... .......... .......... .......... .......... 60%  192M 0s\n",
      "  5350K .......... .......... .......... .......... .......... 60%  225M 0s\n",
      "  5400K .......... .......... .......... .......... .......... 61%  234M 0s\n",
      "  5450K .......... .......... .......... .......... .......... 61%  226M 0s\n",
      "  5500K .......... .......... .......... .......... .......... 62% 8.94M 0s\n",
      "  5550K .......... .......... .......... .......... .......... 62%  182M 0s\n",
      "  5600K .......... .......... .......... .......... .......... 63%  210M 0s\n",
      "  5650K .......... .......... .......... .......... .......... 64%  224M 0s\n",
      "  5700K .......... .......... .......... .......... .......... 64%  137M 0s\n",
      "  5750K .......... .......... .......... .......... .......... 65%  139M 0s\n",
      "  5800K .......... .......... .......... .......... .......... 65%  149M 0s\n",
      "  5850K .......... .......... .......... .......... .......... 66%  134M 0s\n",
      "  5900K .......... .......... .......... .......... .......... 66%  159M 0s\n",
      "  5950K .......... .......... .......... .......... .......... 67%  228M 0s\n",
      "  6000K .......... .......... .......... .......... .......... 67% 6.24M 0s\n",
      "  6050K .......... .......... .......... .......... .......... 68%  157M 0s\n",
      "  6100K .......... .......... .......... .......... .......... 69%  141M 0s\n",
      "  6150K .......... .......... .......... .......... .......... 69%  152M 0s\n",
      "  6200K .......... .......... .......... .......... .......... 70%  135M 0s\n",
      "  6250K .......... .......... .......... .......... .......... 70%  226M 0s\n",
      "  6300K .......... .......... .......... .......... .......... 71%  184M 0s\n",
      "  6350K .......... .......... .......... .......... .......... 71%  220M 0s\n",
      "  6400K .......... .......... .......... .......... .......... 72% 6.96M 0s\n",
      "  6450K .......... .......... .......... .......... .......... 73%  165M 0s\n",
      "  6500K .......... .......... .......... .......... .......... 73%  177M 0s\n",
      "  6550K .......... .......... .......... .......... .......... 74%  220M 0s\n",
      "  6600K .......... .......... .......... .......... .......... 74%  210M 0s\n",
      "  6650K .......... .......... .......... .......... .......... 75%  215M 0s\n",
      "  6700K .......... .......... .......... .......... .......... 75%  194M 0s\n",
      "  6750K .......... .......... .......... .......... .......... 76%  227M 0s\n",
      "  6800K .......... .......... .......... .......... .......... 76%  219M 0s\n",
      "  6850K .......... .......... .......... .......... .......... 77%  228M 0s\n",
      "  6900K .......... .......... .......... .......... .......... 78% 6.67M 0s\n",
      "  6950K .......... .......... .......... .......... .......... 78%  220M 0s\n",
      "  7000K .......... .......... .......... .......... .......... 79%  222M 0s\n",
      "  7050K .......... .......... .......... .......... .......... 79%  226M 0s\n",
      "  7100K .......... .......... .......... .......... .......... 80%  175M 0s\n",
      "  7150K .......... .......... .......... .......... .......... 80%  228M 0s\n",
      "  7200K .......... .......... .......... .......... .......... 81% 10.2M 0s\n",
      "  7250K .......... .......... .......... .......... .......... 82%  219M 0s\n",
      "  7300K .......... .......... .......... .......... .......... 82%  191M 0s\n",
      "  7350K .......... .......... .......... .......... .......... 83%  226M 0s\n",
      "  7400K .......... .......... .......... .......... .......... 83%  212M 0s\n",
      "  7450K .......... .......... .......... .......... .......... 84%  224M 0s\n",
      "  7500K .......... .......... .......... .......... .......... 84%  190M 0s\n",
      "  7550K .......... .......... .......... .......... .......... 85%  224M 0s\n",
      "  7600K .......... .......... .......... .......... .......... 85%  210M 0s\n",
      "  7650K .......... .......... .......... .......... .......... 86%  218M 0s\n",
      "  7700K .......... .......... .......... .......... .......... 87%  203M 0s\n",
      "  7750K .......... .......... .......... .......... .......... 87% 7.31M 0s\n",
      "  7800K .......... .......... .......... .......... .......... 88%  170M 0s\n",
      "  7850K .......... .......... .......... .......... .......... 88%  216M 0s\n",
      "  7900K .......... .......... .......... .......... .......... 89%  185M 0s\n",
      "  7950K .......... .......... .......... .......... .......... 89%  214M 0s\n",
      "  8000K .......... .......... .......... .......... .......... 90%  232M 0s\n",
      "  8050K .......... .......... .......... .......... .......... 91%  212M 0s\n",
      "  8100K .......... .......... .......... .......... .......... 91%  191M 0s\n",
      "  8150K .......... .......... .......... .......... .......... 92%  219M 0s\n",
      "  8200K .......... .......... .......... .......... .......... 92%  230M 0s\n",
      "  8250K .......... .......... .......... .......... .......... 93%  226M 0s\n",
      "  8300K .......... .......... .......... .......... .......... 93%  183M 0s\n",
      "  8350K .......... .......... .......... .......... .......... 94% 4.72M 0s\n",
      "  8400K .......... .......... .......... .......... .......... 94%  215M 0s\n",
      "  8450K .......... .......... .......... .......... .......... 95%  214M 0s\n",
      "  8500K .......... .......... .......... .......... .......... 96%  195M 0s\n",
      "  8550K .......... .......... .......... .......... .......... 96%  210M 0s\n",
      "  8600K .......... .......... .......... .......... .......... 97%  229M 0s\n",
      "  8650K .......... .......... .......... .......... .......... 97%  218M 0s\n",
      "  8700K .......... .......... .......... .......... .......... 98%  189M 0s\n",
      "  8750K .......... .......... .......... .......... .......... 98%  218M 0s\n",
      "  8800K .......... .......... .......... .......... .......... 99%  224M 0s\n",
      "  8850K .......... .......... .......... .......... .......   100%  218M=0.3s\n",
      "\n",
      "2023-12-27 04:52:30 (29.9 MB/s) - ‘plink2_linux_avx2_20220603.zip’ saved [9111524/9111524]\n",
      "\n"
     ]
    },
    {
     "name": "stdout",
     "output_type": "stream",
     "text": [
      "Archive:  plink2_linux_avx2_20220603.zip\n",
      "  inflating: plink2                  \n",
      "\n",
      " plink2 downloaded and unzipped in /home/jupyter/tools \n",
      " \n"
     ]
    }
   ],
   "source": [
    "%%bash\n",
    "\n",
    "mkdir -p ~/tools\n",
    "cd ~/tools\n",
    "\n",
    "if test -e /home/jupyter/tools/plink; then\n",
    "echo \"Plink1.9 is already installed in /home/jupyter/tools/\"\n",
    "\n",
    "else\n",
    "echo -e \"Downloading plink \\n    -------\"\n",
    "wget -N http://s3.amazonaws.com/plink1-assets/plink_linux_x86_64_20190304.zip \n",
    "unzip -o plink_linux_x86_64_20190304.zip\n",
    "echo -e \"\\n plink downloaded and unzipped in /home/jupyter/tools \\n \"\n",
    "\n",
    "fi\n",
    "\n",
    "\n",
    "if test -e /home/jupyter/tools/plink2; then\n",
    "echo \"Plink2 is already installed in /home/jupyter/tools/\"\n",
    "\n",
    "else\n",
    "echo -e \"Downloading plink2 \\n    -------\"\n",
    "wget -N https://s3.amazonaws.com/plink2-assets/alpha3/plink2_linux_avx2_20220603.zip\n",
    "unzip -o plink2_linux_avx2_20220603.zip\n",
    "echo -e \"\\n plink2 downloaded and unzipped in /home/jupyter/tools \\n \"\n",
    "\n",
    "fi"
   ]
  },
  {
   "cell_type": "code",
   "execution_count": 8,
   "metadata": {},
   "outputs": [
    {
     "name": "stdout",
     "output_type": "stream",
     "text": [
      "LICENSE\n",
      "plink\n",
      "plink2\n",
      "plink2_linux_avx2_20220603.zip\n",
      "plink_linux_x86_64_20190304.zip\n",
      "prettify\n",
      "toy.map\n",
      "toy.ped\n"
     ]
    }
   ],
   "source": [
    "%%bash\n",
    "ls /home/jupyter/tools/"
   ]
  },
  {
   "cell_type": "markdown",
   "metadata": {},
   "source": [
    "## Calcula componentes principales (PCs) para los datos de genotipado de la población EAS"
   ]
  },
  {
   "cell_type": "code",
   "execution_count": 9,
   "metadata": {
    "scrolled": true
   },
   "outputs": [
    {
     "name": "stdout",
     "output_type": "stream",
     "text": [
      "Making a working directory\n"
     ]
    },
    {
     "name": "stderr",
     "output_type": "stream",
     "text": [
      "Executing: mkdir -p /home/jupyter/EJERCICIO_1\n"
     ]
    }
   ],
   "source": [
    "# Crea una carpeta en tu \"workspace\" donde vamos a ejecutar los analisis\n",
    "print(\"Making a working directory\")\n",
    "WORK_DIR = f'/home/jupyter/EJERCICIO_1'\n",
    "shell_do(f'mkdir -p {WORK_DIR}')"
   ]
  },
  {
   "cell_type": "code",
   "execution_count": 10,
   "metadata": {},
   "outputs": [
    {
     "name": "stderr",
     "output_type": "stream",
     "text": [
      "Executing: gsutil -u terra-61e6143b -m cp -r gs://gp2tier2/release3_31102022/raw_genotypes/EAS /home/jupyter/EJERCICIO_1\n"
     ]
    },
    {
     "name": "stdout",
     "output_type": "stream",
     "text": [
      "Copying gs://gp2tier2/release3_31102022/raw_genotypes/EAS/GP2_round3_EAS_maf_hwe_release3.pgen...\n",
      "Copying gs://gp2tier2/release3_31102022/raw_genotypes/EAS/GP2_round3_EAS_maf_hwe_release3.psam...\n",
      "Copying gs://gp2tier2/release3_31102022/raw_genotypes/EAS/GP2_round3_EAS_maf_hwe_release3.log...\n",
      "Copying gs://gp2tier2/release3_31102022/raw_genotypes/EAS/GP2_round3_EAS_maf_hwe_release3.pvar...\n",
      "Copying gs://gp2tier2/release3_31102022/raw_genotypes/EAS/GP2_round3_EAS_maf_hwe_release3.samples...\n",
      "- [5/5 files][ 39.7 MiB/ 39.7 MiB] 100% Done                                    \n",
      "Operation completed over 5 objects/39.7 MiB.                                     \n"
     ]
    }
   ],
   "source": [
    "## Importa desde el bucket GP2-Tier 2 los genotipos \"raw\" de la poblacion EAS\n",
    "shell_do(f'gsutil -u {BILLING_PROJECT_ID} -m cp -r {GP2_RELEASE_PATH}/raw_genotypes/EAS {WORK_DIR}')"
   ]
  },
  {
   "cell_type": "markdown",
   "metadata": {},
   "source": [
    "### Visualiza los archivos plink *pvar, *psam y *pgen (en bash)"
   ]
  },
  {
   "cell_type": "code",
   "execution_count": 11,
   "metadata": {},
   "outputs": [
    {
     "name": "stdout",
     "output_type": "stream",
     "text": [
      "GP2_round3_EAS_maf_hwe_release3.log   GP2_round3_EAS_maf_hwe_release3.pvar\r\n",
      "GP2_round3_EAS_maf_hwe_release3.pgen  GP2_round3_EAS_maf_hwe_release3.samples\r\n",
      "GP2_round3_EAS_maf_hwe_release3.psam\r\n"
     ]
    }
   ],
   "source": [
    "! ls {WORK_DIR}/EAS/ # Explora los archivos dentro de la carpeta "
   ]
  },
  {
   "cell_type": "code",
   "execution_count": 12,
   "metadata": {},
   "outputs": [
    {
     "name": "stdout",
     "output_type": "stream",
     "text": [
      "#FID\tIID\tSEX\tPHENO1\n",
      "0\tAPGS_000051_s1\t1\t2\n",
      "0\tAPGS_000113_s1\t1\t2\n",
      "0\tAPGS_000135_s1\t1\t2\n",
      "0\tAPGS_000186_s1\t1\t2\n",
      "0\tAPGS_000201_s1\t1\t2\n",
      "0\tAPGS_000204_s1\t2\t2\n",
      "0\tAPGS_000263_s1\t1\t2\n",
      "0\tAPGS_000314_s1\t2\t2\n",
      "0\tAPGS_000415_s1\t2\t2\n",
      "#CHROM\tPOS\tID\tREF\tALT\n",
      "0\t0\t10:47074788-A-G\tG\tA\n",
      "0\t0\t10:47084956-C-T\tA\tG\n",
      "0\t0\t15:23279911-C-T\tA\tG\n",
      "0\t0\t1:144677777-T-C\tG\tA\n",
      "0\t0\t1:144863320-TC\tA\tG\n",
      "0\t0\t1:144863401-TC\tA\tG\n",
      "0\t0\t1:144879339-CT\tG\tA\n",
      "0\t0\t1:144931251-CT\tG\tA\n",
      "0\t0\t1:145014096-GA\tG\tA\n",
      "##\t#\u0005\u0012#\u0014\u0004\t\u0014\t\u0001\u0014#\u0014#\u0016##\u0014\u0017\u0014\u0003\u0016\u0014\u001d",
      "\u0010\u0015\u0014\u001b#\u0012\u0004#\u0001#\u0014#\t#\u0014\t\u0004\t\u0014\t\u0000\u0000\u0000\u0000\u0000��x\u0000\u0000\u0000\u0000\u0000���\u0000\u0000\u0000\u0000\u0000���\u0000\u0000\u0000\u0000\u0000w��\u0000\u0000\u0000\u0000\u0000Z(�\u0000\u0000\u0000\u0000\u0000\u001d",
      "0�\u0000\u0000\u0000\u0000\u0000�N�\u0000\u0000\u0000\u0000\u0000\u0010�\u000b",
      "\u0001\u0000\u0000\u0000\u0000DDA@@@DDD\u0004\u0010 \"\u0004\u0004\u0001\u0011\u0001AA!\u0010@\u0010D\u0014D\u0000\u0004D\u0010BA\u0012\u0010\u0010\u0000\u0011A\u0011!\u0012\u0001D@@DD\u0001\u0001\u0014B!\u0014B\u0000\u0014A\u0014D\u0014BA\u0001\u0001\u0012\u0010!\u0001\u0010\u0014\u0010A\u0014\u0012A\u0011D\u0012\u0010A\"\u0014\u0014\u0014DA\u0001AD!A\u0010\u0012@A\u0001\u0000\u0010\u0014\u0001\u0001\u0014\"\"@$@\u0010\u0014@\"\u0002@\u0002\u0004\u0000\u0002\u0011\u0000\u0011\u0010\u0000\u0014@\u0004\u0014\u0012\u0004!A@D@\u0010@\u0010@\u0010\u0000\u0001\u0002\u0000@D\u0004@@@\u0004\u0000D\u0011\u0002\u0014\u0014@A \u0001A\u0000\u0000\u0010\u0001\u0004@D\u0004@\u0004AD\u0010\u0000D\u0000\u0010\u0001\u0002\u0011 \u0001\u0010\u0010\"B!\u0014\u0011B\u0014@\u0010\u0010\u0010\u0004\u0000\u0010$\u0004\u0000\u0011\u0004D\u0010A\u0011A\u0000\u0011\u0010DDA\u0001A\u0014\u0001@@\u0000 \u0010\"\u0011\u0000@\u0011\u0000\u0010\u0004\u0004\u0000@\u0010\u0000\u0014@\u0000\u0001\u0004\u0001\u0010\u0011A\u0000@\u0010\u0004\"D\u0004\u0001D\u0000@DD\u0004AD\u0014\u0004 A\u0011\u0011\u0014D@\u0004 D\u0014\u0000ADA\u0014D\"!@$@@\u0011\u0014\u0010\u0004D\u0001\u0001\u0004A \u0014A\u0011\u0010\u0010\u0011\u0004\u0004\u0004@\u0010\u0004\u0002\u0000\u0004\u0010D\u0004\u0001@\u0001A\u0014\u0001B\u0014@\u0010\u0000\u0004\u0011\u0010\u0001D\u0001@D D\u0004\u0011\u0004\u0011\u0000\u0014\u0004D\u0004\u0014A!A@\u0012\u0000\u0012\u0011\u0000\u0010 \u0010\u0010\u0004\u0014\u0014\u0002\u0004\u0010@\u0010\u0004\u0014\u0001\u0011!@\u0004!\u0000@\u0014\u0012\u0001 DAA\u0004\u0014D\u0011\u0014\u0010AAD!\u0000\u0010DDD\u0004A@\u0001\u0010\u0011\u0010\u0002 A\u0001@\u0001!BA\u0014\u0000\u0001\u0000@\u0000DA\u0011\u0012A\u0004\u0012\"\u0012\u0014@A!\"DAAA\u0014\u0004\u0001\u0004D@ \u0010\u0010A\u0011\u0010A\u0010\u0014\u0001\u0010\u0004D\u0000 A\u0014\u0000@@!\u0002\u0010\u0014\u0004\u0010\u0011\u0001\u0014\u0002A\u0014\u0010\u0001\u0012\u0014\u0011!\u0014\u0000\u0012 @A\u0004 \u0001\u0000\u0011\u0010\u0000\u0014D\u0000\u0004D\u0014@\u0000\u0004\u0000\u0004A\u0014\u0010D@\u0014!\u0001A\u0000\u0010\u0010\u0010\u0014BAD\u0011\u0002\u0011\u0001!\u0014D@\u0004D\u0000\u0010\u0001@\u0010\u0001\u0004\u0001\u0001\u0010\u0012\u0014\u0001\u0011\u0010\u0011@\u0010\u0010\u0001\u0004@\u0014\u0000A\u0004@\u0010\u0001\u0000\u0014@@\u0004\u0001\u0001\u0011\u0010A\u0004\u0001\u0004\u0010\u0010\u0014\u0014\u0014\u0011\u0014A\u0010 \u0000\u0010\u0000\u0001\u0010\u0000\u0011\u0010\u0004\u0000@\u0010D D\u0014D@\u0004\u0014$@\u0001\u0002\"\u0004\u0004\u0001C\u0010\u0000B!D D\u0000\u0001@\u0002\u0010BD\u0000\u0004\u0002B\u0001A\u0001\u0010\u0001\u0004\u0010\u0002\u0000\u0012\u0014\u0000\u0000\u0001\u0011\u0010\u0000\u0001@0\u0001A\u0011\u0000\u0000\u0011\u0004\"@\u0010\u0004\u0001\u0011@\u0011 \u0010\u0010\u0014\u0004D\u0014\u0011\u0014\u0004\u0004!@\u0010\u0010\u0000\u0011\u0002\u0000\u0002 @\u0000AD!\u0002\u0011\u0010\u0011\u0010\u0001\u0012 \u0011\" \u0010\u0001\u0011\u0010\u0000\u0000\u0014\u0001\u0011\u0001\u0011\u0012A\u0000\u0001A@\u0014\u0004\u0011\u0011\u0014\u0002\u0001\u0004\u0014$\u0000A\u0001\u0004@\u0014\u0000\u0014\u0000\u0010\u0010\u0001\u0012\u0004\u0000A$@\u0000 D@\u0010\u0004\"@\u0014\u0004AD@\u0011\u0001\u0004!\u0000@\u0011\u0010\u0004\u0011\u0001@D!\u0000\u0001\u0004\u0011 \u0000\u0010D\u0011 D@AA\u0000@\u0001\u0001\u0004\u0004\u0012\u0010\u0014\u0000\u0010\u0010!@ B\u0000\u0004\u0014\u0000\u0011\u0010\u0000@\u0010\u0000A!\u0000\u0000\u0011\u0000\u0001B@$\u0004\u0011\u0004\u0000\u0004\u0000\u0010\u0010\u0004 \u0001\u0001AA@\u0000A\u0001D\u0000\u0004\u0001\u0000@@@A@\u0010\u0010\u0011\u0004\u0010\u0000DA\u0000\u0011\u0014\u0004 \u0004\u0000\u0011\u0011\u0002\u0004\u0000\u0011\u0014\u0000\u0001D\u0001@\u0014@\u0004\u0011\u0014\u0010\u0000\u0000\u0014@\u0010\u0010A!\u0014\u0002DA!\u0014\u0010!\u0010\u0002\u0012B\u0001\u0000\u0012 \u0000\u0000!\u0001\u0000 D\u0010\u0010\u0010\u0010\u0001\u0012\u0014\u0014\u0010\u0000\u0011\u0000\"\u0004\u0004\u0014\u0010\u0000$\u0012\u0001\u0004\u0000\u0014\"\u0014\u0010\u0000!\u0000@\u0001\u0011!D\u0000AD@\u0000\u0001!D\u0000\u0010\"\u0000@\u0001@!\u0010\u0011\u0004\u0014B\u0000 \u0011\u0002\u0000@\u0004\u0004\u0001\u0014\u0000\u0001\u0011\u0011\u0000\u0001\u0014\u0000\"\u0004\u0000\u0011 \u0001\u0010\u0001!\u0010\u0010\u0011\u0001\u0014@B\u0011D\u0011DDD@\u0004\u0004A\u0004\u0001\u0011@!\u0004B\u0004\u0000\u0004\u0004$D\u0014!\u0001\u0004\u0014B\u0014D\u0010\u0004\u0012\u0010\u0010\"@A\u0010\u0000\u0001\u0001\u0000\u0000\u0001\u0004\u0000\u0000\u0004\u0010@\u0000\u0004\u0000\u0010\u0010@\u0011@\u0002\u0000@\u0000\u0002\u0011\u0001\u0004\u0001\u0004\u0001\u0004\u0012@\u0014@@\u0000D!\u0011B\u0010DA\u0001\u0010@A\"\u0011B\u0011!$\u0010@\u0001\u0010\u0010@\u0000\u0014D\u0011\u0004\u0010\u0004\u0014\u0000\u0012\u0004\u0014\u0001\u0011 \u0004\u0000\u0012\u0004@A\u0000A\u0010\u0001B\u0000\u0010\u0000\u0014\u0004$\u0002@\u0010\u0004\u0000AD@\u0000\u0004\u0010\u0000@\u0004A\u0010\u0004\u0010!\u0012\u0001\u0011\u0000\u0001\u0010\u0002\u0001\u0001A\u0014\u0001\u0002\u0001\u0004\u0000A!\u0014\u0014\u0011D\u0011!\u0011\u0000\u0014\u0002\u0010@\u0001@\u0001A\u0011\u0004\u0000\u0001\u0000\u0000 \"\u0001\u0001\u0011\u0011\u0011\u0000\u0000\u0004\"\u0000@$\u0004\u0001 \u0004\u0004\u0012\u0010@\u0000D\u0001\u0001 B\u0001A\u0001\u0004!A\u0000B\u0001\u0001\u0001\u0001\u0011\u0002\u0012 \u0010@\u0010\u0000\u0004\u0010\u0004\u0000\u0002D!\u0010\u0001\u0004\u0000\u0000\u0000\u0001@\u0002\u0010 \u0001\u0000\u0010\u0001\u0001\u0011\u0000\u0000\u0001\u0001\u0014\u0002\u0002\u0000AA\u0000\u0000\u0001\u0014\u0010\u0000\u0002\u0010\u0004\u0011\u0001A@\u0001\u0014!\u0014B\"\u0014@\u0014\u0011$\u0004\u0014$\u0014D\u0014D\u0014!\u0010D@\u0012\"@\u0014\u0012\u0011\u0014A@!@\u0010\u0014@A\u0014\u0004A\u0012 ADDD\u0004B\u0010\u0010\u0004\u0010\u0001 A\u0011\u0001D\u0000\u0014\u0011\u0010\u0014\u0000\u0001 \u0012\u0000\u0000\u0004@\u0000\u0010\u0001@\u0001@\u0004\u0004@\u0010\" A@\u0001B@\u0014\u0004 \u0004\u0004B\u0001D\u0010\u0004\u0014@A@\u0001D\u0004D$A!\"DD!A \u0002D!A\u0004\"A D\u0014\u0011D\u0000DA\"@BD\u0014@D @\u0004D\u0010\u0002\u0002\u0010B\u0002D D\u0010\u0000@ \u0004DA@\u0001\u0004\u0004\u0001\u0002\u0000@\u0000\u0012A\u0000$\u0004@\u0010\u0004\u0004@\u0001D\u0000 \u0000\u0010@D\u0010\"@!\u0001\u0012\u0004@A\u0000\u0010\u0011\u0001\u0000\u0001\u0000@\u0010\u0004\u0011\u0000\u0014@ \u0004@\u0001\u0011 \u0010\u0011\u0000@A\u0011\u0001\u0001\u0014A@\u0000\u0012!\u0002$\u0010\u0000A\u0001\u0001\u0014\u0011 \u0002\u0012B\u0000\u0004A\u0011\u0011@D\u0014\u0004D\u0011\u0012\u0004D DDD@ \u0011\u0001\u0004\u0002\u0001\u0004 \u0010\u0011\u0010\u0014D\u0000\u0011A\u0014\u0010\u0001A\u0010\u0010\u0011A\u0010\u0010\u0001\u0000\u0000\u0010\u0014\u0001\u0001\u0000\u0011\u0001\u0000\u0001\u0010@\u0001!\u0002\u0010@\u0011 \u0012\u0000\u0010\u0000\u0001$\u0011A\"\u0012\u0014B\u0002\u0010@\u0001\u0004@\u0011\u0000\u0004\u0011\u0001\u0004\u0001\u0000\u0011\u0000 @@@@\u0011\u0012\u0001\u0004\u0014\u0000B\u0014$!$\u0004\u0004\u0000D@\u0011A\u0011\u0014\u0002\u0002\u0001\u0011A\u0011\u0010\u0004@D!\u0000\u0002\u0001\"B@\u0011\u0004\u0000\u0004\u0000D\u0004BDDD@\u0010D\u0004@\u0000\u0000D\u0010\u0010\u0004A\u0011\u0004D\u0000\u0004@!\u0004\u0002D\u0004\u0002\u0001\u0014\u0002A@!$\u0004\u0010\u0014\u0004\u0012BD\u0011!$\u0010\u0011\u0014\u0014A\u0014D\u0011\"\u0014\"A\u0011\u0014!!\u0011\u0014ADAA\u0011\u0012\u0014DA\u0011\u0014!B\u0002\u0004 \u0011\u0001\u0014\u0000\u0012\u0014\u0011\u0014@ \u0002\u0012\u0010\u0001\u0001\u0011\u0010\u0004B@\u0011\u0010\u0014\u0002\u0012\u0001\u0014\u0011\u0004AB\"\u0014\u0000\"B\u0011A\u0000@\u0014@\u0004\u0010\u0002D\u0011\u0001\u0000\u0001\u0001\u0010\u0012\u0000 A@\u0014\u0004\u0014@\u0014\u0014\u0014\u0001\u0004!A\u0000\u0002@@ \"\u0004\u0001\u0014\u0002\u0002\u0012\u0011B\u0004\u0001\u0001\u0004\u0002!B\u0014!\u0014@ B\u0002 \u0000\u0000\u0004  \u0000\u0001\u0004D\u0000\u0000\u0000\u0010\u0010\u0000\u0004\u0001@ D\u0001!\u0000\u0011\u0000\u0004\u0001\u0011A\u0000\u0010\u0010\u0001\u0011\u0001A\u0000\u0014@@\u0001\u0010\u0001\u0010\u0001\u0011\u0001\u0001\u0001\u0001\u0001\u0012\u0014DAA\u0010!BA\u0004\u0004A\u0010\u0010D\u0004\u0012@@A@\u0011B\u0014\u0014D\u0001\u0010D!\u0014\u0010@\u0001D\u0001@A\u0010@\u0000 BA\u0002B\u0004\u0001\u0002B\u0000!A\u0004\"\u0002\u0014\u0014\u0014\u0014\u0010\u0004\u0000\u0000\u0004B@\u0011B\u0004\u0004 \"\u0002BAD\u0011\u0010AB@\u0004\u0014@\u0004\u0014@@\u0014DD\u0004\u0001\u0000\u0014\u0011\u0000D\u0001\u0004\u0001\u0000\u0014\u0004\u0004A\u0010\u0014! \u0012\u0011\u0011A\u0000\u0010\u0002\u0014\u0011\u0004\u0014D\u0000D\u0014\u0001\"@\u0004\u0004DDA\u0004 \u0000\u0010@\u0011\u0011\u0010\u0011\u0011\u0001\u0014\u0001A\u0011@\u0001@\u0010\u0011 @ D\u0012@\u0004@D\u0000\u0001\u0000\u0000A\u0010\u0004\u0004\u0001@$!\u0002\u0004\u0000\u0001\u0000\u0010 \u0010\u0001!\u0000A\u0012\u0002\u0011\u0014\u0014\u0001BAD!\u0014\u0014AA\u0012\u0011\u0014D!\"A$\"D\u0014A\u0004\u0014\u0001\u0004\"\u0004\u0000\u0014\u0002\u0004\u0001\u0002\u0010\u0002\u0000\u0014\u0012\u0000D @AD\u0011\u0014\u0000\u0014\u0010\u0001!\u0014\u0012\u0014@\u0001@!\u0014\u0014D\u0004 \u0004A\u0001\u0014!@\u0004\u0010\u0010D@A\u0000\u0004\u0001\u0004\u0011\u0010@\u0001\u0010!\u0011\u0000\"\u0004\u0014@A\u0014@\u0010@A\u0001A\u0011A\u0010\u0001\u0011\u0001\u0001\u0011\u0004\u0001\u0012\u0014\u0010\u0004A\u0010\u0004\u0004\u0000B\u0000\u0014\u0010\u0002\u0002B\u0004@\u0000\u0000D \u0002\"\u0001B\u0004@\u0000B\"\u0014BD\u0014\u0011\u0011!$\u0010\u0000B\u0014\u0001\u0012 \u0004 @\u0000\u0011\u0012\u0000\u0012\u0012\u0004A D\u0000\u0014\u0000@\" AAD\u0000$D \u0014\u0004A\u0011\u0012\u0014@\u0014\u0004A!\u0004\u0000\u0001\u0000\u0000@\u0000\u0014\u0014\u0004\u0004\"DDA\u0012\"B\u0012\u0014\u0010\u0010\u0004@\u0004\u0011 D\u0014BAD\u0011!\u0014ADD\u0011\u0011\u0014BDDD\u0004D\u0011!\u0014\u0000\u0011\u0014\u0011A\u0000@\u0001\u0014!@\u0000\u0004\u0001!\u0014\u0014\u0014\"\u0014B A\u0000\u0014\u0000\u0004\u0004@\u0010A\u0010\u0001B@D\u0010DD!\u0010 DD D\u0000\u0011\u0001 \u0014\u0014 B\u0010@\u0001\u0000\u0000\u0002!\u0002!\u0012\u0010\"D A@D\u0001\u0002\u0010\u0000\u0010\u0000\u0001\u0002$@\u0010\u0010\u0000\u0000\u0000\u0011\u0010\u0011AA@\u0010\u0001\u0011\u0000\u0010\u0014\u0010B\u0011! \u0014DA@@A@\u0004\u0000A@A\u0002D\u0014\u0001\u0000\u0011D\u0000A\u0004\u0001!AA\u0001D\u0004\u0014\u0011@\u0004D\u0014\u0001\u0014\u0004\u0004B@\u0011\u0000\u0011\u0001\u0011\u0011D!\u0011\u0004A\u0010\u0011\u0011\u0011\u0010\u0011\u0000\u0001\u0001\u0010\u0004@@A!\u0002!\u0001\u0000\u0010\u0010\u0010\u0011\u0011\u0011\u0004\u0010\u0001 \u0010\u0012\u0010\u0014\u0001\u0001@\u0010\u0000\u0010@B\u0011\u0001\u0014\u0010\u0011\u0000\u0010\u0014\u0000\u0011\u0010\u0011@\u0001@A\u0000!DD@\u0000B\u0011!\u0001B\u0001\u0010\u0011\"\"\u0000@@\"\"@ \u0000@\u0001\u0000\u0004\"\"\u0000\u0004\u0002\u0000\u0010A\u0002\u0001\"@@\u0000\u0010@@@\u0000\u0014\u0001\u0001A \u0001\u0010\u0014\u0000\u0000\u0010\u0010\u0011D\u0002D\u0010\u0004@!\u0004\u0010@\u0011@!\u0001@\u0001\u0004C!\u0001D\u0010\u0004\u0011!D@\u0010D\u0001@A\u0004\u0012A\u0011\u0010D\u0011\u0000\u0010@\u0010\u0001\u0001\u0011\u0011\u0001@\u0004A\u0001\u0002\u0000A\u0010\u0001\u0001\u0010\u0000\u0010\u0000\u0010\u0010D\u0001\u0004\u0004A\u0001C\u0014\u0001\u0000D\u0001\u0004\u0004!A\u0004\u0000\u0014\u0002\u0012\u0004\u0004\u0002\u0004\u0014A\u0010\u0004D@ \u0000\u0004\u0001\u0010\u0000@\u0000\u0000\u0011A!\u0014\u0011A \u0014\u0010\u0000A\u0004D\u0010\u0014@\u0010\u0001\u0011\u0000D\u0001\u0000@@\u0010\u0002A@\u0004D@\u0014!$\u0004\u0014\u0010@\u0014@BA\u0014\u0001\u0004D\u0010@A\u0001\u0011\u0000\u0011\u0011!\u0002\u0010!\u0001\u0011\u0001\u0000\u0010\u0001\u0001\u0011\u0002\u0001\u0011\u0004B\u0000\u0011\u0001$!\u0012AB\u0011A@\"\u0010\u0000\u0000@\u0014@\u0014\u0010\u0010\u0000@\u0001\u0001@\u0011\u0004\u0000\u0001 \u0004$\u0001\u0004$@DA@\u0000\u0001\u0004!B@B$@$\u0004\u0004\u0014\u0004\u0000\u0002$@ \u0001\u0004$\u0012\u0014\u0011@DB \u0004! @@$D\u0010@\u0014@D\u0014\u0014\u0000\u0004\u0012\u0010BA\u0010B!!\u0010\u0010\u0011\u0011@@\u0004!$\u0014$\u0001\u0010\u0004\"B\u0014\u0004$\u0001D\u0000 \"\u0004D$\" BD\u0012DDBDD\u0004DDDD\u0004\u0014$BDDADD!B\u0004$\u0002DADA\u0014DDA\u0001B\u0011A\u0002\u0002\"\u0002\u0011B\u0001\u0004B@DD!$D\u0014BAAAA\u0001AA\u0001A\u0002A!\u0004\u0011\u0010D\u0010\u0014!B\u0014\u0012\u0012\u0002\u0011\"\u0014A\u0011\u0001!D D \u0014\u0011 \u0004\u0012\u0002\u0004\u0011\u0000A\u0004!\u0011\u0014D\u0004A\"\u0011D\u0014DDD\u0010\u0012\u0011\u0010\u0000\u0011\"\u0014 B!\"\u0000D\u0011!\"\"\u0002\u0014!\"\u0001A\u0004B@ \"\u0002\u0001B\u0011\u0011!\u0011\u0014 \u0002D\u0004\u0014\u0000\u0014D@\"A\u0012\u0014D\u0014D\"\"\u0004\u0011\u0011A\u0002A!\u0011\u0010 \u0011D\u0011DD\u0010\u0004\u0011\u0014A!\u0011\u0014@\u0004A@\u0014A!\u0011 AD\u0010 \"\"BD@ D\u0004\u0010 @@@\u0000\u0004@!\u0001DA\u0001\u0004\u0004B\u0002\u0004\u0001B\u0014\u0010!\u0000\u0001A\u0000\u0004\u0004\u0011\u0010\u0001!@\u0011\u0010B\u0001\u0010\u0014\u0011@DA!\u0014D\u0010\u0011\"\u0014\u0012B\u0014 \u0010\u0010 @\u0011\u0000\u0004\u0010 @\u0004B\u0004\u0000\u0000\u0004\u0000\u0001\u0001 \u0010A\u0011B@\u0000\u0000\u0002\u0000\u0014!\u0000A\u0004\u0011\u0000@\u0000D\u0010AD\u0001\u0000\u0011\u0000!\u0010\u0014DB@\u0010\u0001\u0010\u0000\u0014\u0004\u0011A\u0004\u0011A\u0010\u0001\u0000!\u0012\u0010D\u0000D\u0011\u0010\u0000A\u0001\u0010@\u0000\u0010\u0010\u0014A\u0001\u0010\u0010\u0004\u0014A\u0001\u0001\u0004\u0010\u0000@\u0011@\u0010\u0004\u0014\u0001\u0010\u0010\u0004$\u0010!\u0000\u0010\u0010A@$@\u0001\u0010D\u0000\u0000@@\u0014\u0001@\u0000\u0010\u0000\u0000\u0012\u0012\u0014\u0014\u0000@\u0010\u0011\u0000\u0000\u0000\u0002\u0001!\u0011A\u0014DDBA$\"ADA@A!D$B@\u0014\u0011\u0014\u0004\u0002\u0000\u0000\u0004\u0000\u0001\u0000@\u0010\u0001D\u0004\u0004\u0004\u0010\u0010\u0010\u0004\u0001@\u0010\u0000\u0011\u0002\u0000@\u0011D\u0001@\u0011D\u0010\u0010\u0001\u0004A\u0010\u0010\u0001\u0010D\u0004A\u0012!\u0002\u0004@!\u0002@\u0010A@\u0001\u0001\u0014\u0004\u0011\u0000\u0001\u0000\u0000\u0014\u0011\u0000\u0010\u0004\u0012\u0001\u0001\u0014\u0014\u0011$\u0014\u0011D\u0014\u0014\u0014\u0001\u0014\u0001\u0014\u0014A\u0000\u0001\u0011\u0002!@@\u0012\u0010D@\u0000\u0001\u0012\u0001\u0011\u0000\u0011A\u0011!\u0004\u0014\u0014\u0014\u0014A\u0004\u0004\u0004A@!\u0004\u0012B\u0010!\u0000\u0010\u0001\u0010\u0001@\u0001A\u0001@\u0004\u0001!\u0002A\u0010@\u0000\u0000@\u0012\u0002\u0000 \u0014B\u0010\u0012\u0002\u0004\u00120@\"D@\u0010 \u0000  \u0014DA\u0011@AA\u0000\u0000D@\u0012\u0010\u0000@A\u0001A@\u0010\u0010\u0011\u0010\"@\u0014\u0000DD\u0010\u0001 \u0001!!DA@ @!@ DD\u0004\u0012\u0004!@\u0014D\u0014\u0014\u0010\u0002\u0002D\u0011@\u0001B\u0001A\u0001A\u0004\u0010\u0011D\u0000 D\u0000\u0011\u0000!A\u0010A\u0000@\u0010\u0001D\u0014\u0000 A\u0000\u0000\u0011\u0000\u0010\u0004\u0000\u0002\u0000!\u0000\u0000\u0001\u0011\u0004\u0001\u0014 B\u0004@\u0001@\u0010\u0011\u0014\u0014\u0010\u0010\u0010\u0011\u0004\u0001A\u0004\u0011@\u0001\u0004\u0000B\u0000\u0000\u0001B\u0000\u0000@\u0010\u0011\u0011\u0011\u0012\u0001\u0002\u0004@\u0010\u0004 A@ \u0000\u0014D\u0001\u0004 A\u0000 \u0002\u0000\u0001A\u0004\u0004\u0011\u0004\u0010\u0010@\u0011\u0002\u0001A\u0004@\u0002\u0012!\u0014!@AA\u0014\u0001\u0011\u0012\u0004\u0014\u0004D\u0001\u0012\u0000\u0014DD\u0004\u0001@\u0004\u0004\u0014@@\u0010@\u0000@\u0010\u0001\u0011\u0000\u0011\u0010!\u0000\u0000\u0004\u0014@DA\u0004BD\u0000!\u0000A\u0000\u0000\u0014\u0010\u0012\u0000\u0004\"\u0000\u0000 \u0011!\u0002\u0004\u0000$\u0000A\u0001@\u0004\u0004\u0004\u0012\u0004D\u0000\u0012@ \"@@@\u0000\u0002\u0004D@\u0004\u0002\u0000@\u0000\u0011\u0011 \u0014\u0014A@\u0011@\u0000A\u0011\u0010\u0010 \u0001\u0014\u0004$\u0002A@\u0004\u0000@A\u0012\u0012\u0011\u0010B\u0010\u0014\u0000\u0001\u0014\u0001A\u0000\u0010\u0004\"\u0010BDA\u0014!\u0004\"\u0002D\u0001D@\u0000\u0002\u0001\u0001\u0004\u0014\u0010\u0001@ D\u0000\u0010@\u0000\u0001\u0012\u0014\u0002\u0004A\u0011D\u0014BAA\u0011D!\u0014\u0001\u0011A\u0000BD\u0010\u0014\u0001\u0010D\u0010A\u0001\u0011\u0000D$\u0001B\u0004BA \u0012\u0000A\u0004\u0004\u0000B\u0001\u0010\u0011\u0014 \u0001 \u0011B\u0011\u0001\"\u0002\u0002\u0002\u0001BD@\u0001\u0001AA\u0001\"\u0004 B\u0000\u0014\"\u0002\u0010\u0000\u0004D\u0004@@D\u0014 A\u0000@A\u0000\u0000\u0011@A\u0000!A\u0001\u0014\u0014A\u0000D@A$\u0001@\u0000B\u0001\u0004\u0004@@\u0001\u0000\u0011\u0001D\u0001\u0011\u0010\u0014$\u0011D@\u0004 !\u0001\u0010A@D\u0004A@\u0001!\u0011\u0000\u0001\u0000\u0000\u0000\u0001$\u0000@!\u0012\u0000\u0000\u0014D@D\u0014\u0001\u0014B\u0000\u0011\u0001\u0001\u0001\u0010\u0000\u0012\u0000\u0010\u0011!\u0010\u0000\u0010\u0012\u0010\u0010\u0004\u0004\u0014\u0001\u0010\u0010@\u0011@\u0010\u0010\u0001\u0011\u0000\u0010\u0000@!\u0011\u0002\u0010\u0010!\u0014\u0010\u0000\u0010\u0002\u0004\u0001\u0001@\u0004\u0001\u0000D\u0004@\u0000\"\u0014!\"\u0012\u0001\u0011\u0004\u0000\u0010\u0001@\u0014B!\u0014\u0000B\u0010\u0011\u0002\u0014\u0014A\u0004DD\u0001\u0001\u0004@\u0014@\u0014\u0011\u0004!\u0010\u0010@\u0001\u0001DAB\u0014\u0010!\u0004\u0002\u0002\u0000 \u0004@\u0000\u0001\u0000\u0002@\u0014@\u0010D\u0014\u0010A\u0014\u0001\u0014\u0014\u0001\u0011\u0000\u0001\u0014\u0014\"@@\u0000@\u0004\u0011\u0000A\u0004\u0001\" A\u0014\u0010\u0010@\u0010 \u0004!\u0002\u0001A\u0004D\u0010B\u0014\u0000\u0000D\u0010D\u0000\u0000\u0001@\u0014\u0014@@\u0014BA!\"B\u0004AD\u0004@\u0010@\u0004\" !\u0004\u0014\u0010\u0001B\u0001\u0014\u0001A@\u0011\u0010\u0001\u0012\u0001\u0004\u0000B DD\u0001\u0004\u0010\u0004\u0000!\u0004\u0010\u0011\u0000\u0010\u0001\u0002$\u0004\u0004\u0000\u0012! \u0002\u0000@\u0014\u0000\u0004D \"\u0010\u0001D\u0004\u0001BD\u0004\"\u0000\u0002  \u0014 B\u0001\u0010\u0010\u0004\u0001\u0004\u0001 \u0001\u0001\u0002\u0010\u0000\u0012\u0002\"\u0011 \u0004!\u0010\u0002D\u0001 \u0012\u0012\u0000@ \u0004\u0002\u0012\u0000\u0004DD \u0000$\u0014\u0001\u0004@@\u0012 \u0012\u0000\u0001\u0001\u0000B\u0014@\u0000\"\u0004 \u0004333 \u0011B@\u0001DB\u0001\u0004 BD\u0001 D\u0001\u0004\u0004\u0000@\u0000\u0011\u0000D\u0001@@\u0000B\u0000\u0014\u0011\u0002\u0010\u0000A\u0010 @\u0000\u0000A\u0000\u0002ADD\u0001@\u0004\u0000\u0010\u0000\u0000\"\u0000\u0000\u0004\u0000\u0004@\u0010\u0010\u0000\u0011\u0014\u0004D\u0004@\u0000\u0010@\u0000@\u0010\u0002 \u0014\u0001\"\u0000\u0010A\u0010\u0004\u0000\u0010\u0014@\u0010@\u0010\u0004\u0011\u0001\u0014 \u0010\u0000\u0010\u0000\u0010\u0001\u0000 \u0002\u0012\u0000 \u0010\u0012\u0000\u0004D@\u0001DDA\u0014\u0010\"D\u0014\u0001\u0001\u0001\u0004AD\u0012A\u0001@ \"\u0014\"\u0001\u0001\u0010 \"\"\"\"\"\"\"\"\"\"\"\"\"\"\"\"\"\"\"B!\"\"\"\"B$!\"\"\"\"\"\"\"\"\u0012\"\"\"\"\"\"\u0011D\u0000 \u0002\u0004!\u0010\u0002\u0000DAA\u0010\u0002\u0014\u0000$\u0000DDD$DDBD\u0004\"BD \u0004\u0001 \u0000A\u0004\u0010\u0011\u0000\u0001\u0001\u0004\u0012\"B!\u0004A\"\u0014\"\u0010$\u0010\u0001D\u0014\u0010@@\u0001\u0000\u0010@ D\u0002@@$B\u0002A\u0000B\u0010\u0001@\u0001\u0012B!A\u0012\u0004\u0014  \u0002\u0000\u0010\u0001\u0014!\u0010\u0011\"\u0014!D\u0004\"B\u0011\u0010\u0001\u0011@!B\u0002\u0014\u0011\u0011!\u0012DD\u0014D$DD$D\u0014ADD\u0014A\u0014D\u0014\u0014\u0010\u0010D\u0014!AD!\u0011\u0011A\u0014D\u0014!\u0014\u0004@\u0011B\u0011\u0004\u0012@\u0004\"\"D$DDDDD\u0004@D\u0014\u0000\"B\u0011\u0004\u0001\"\"\u0014 \u0004$D@  \u0000  \u0001 A\u0010\u0000@\u0000\u0000\u0000@!\u0000!\u0000\u0000@ AD\u0014\"\"\"\"B\u0014\"\u0011\u0011DA\u0011D!\"\"\u0011\"\"\u0014!\u0014\"B\u0014\u0012!\"\u0014\u0014\u0012!D\u0011!\u0004\u0012\"\u0012\u0012\"\"\u0012\"\u0004\u0002\"!\u0001\u0011\u0002A\u0011\u0000DA\u0001\u0014D\u0010!\u0000\u0013\u0001@ BD! \u0011 \u0011\u0010@@\u0001 \u0011\u0011A@ \u0000\u0001\u0010D\u0014\u0001@\u0000!\u0004\u0004\u0014\u0000! \u0010\u0014D\u0000\u0001\u0001\u0010\u0010\u0001\u0001\u0000\u0011\u0014A\u0000\u0000 B\u0014BA\u0014\u0014\u0011\u0004@\u0000\u0000\u0002\u0010\u0004\u0000\u0000$\u0010@\"\u0001A\u0011A\u0000\u0010\u0010\u0014\u0011 A\u0010\u0011\u0001$\u0011\u0010\u0001\u0004 \u0010\u0001 A$\u0014\u0000\u0000\u0000\u0011\u0011\u0000\u0010\u0014\u0000\u0012\u0011\u0000\u0000\u0001\u0011\u0010\u0002\u0011\u0011\u0012\u0010\u0004\u0001\u0014 \u0010\u0001\u0010A\u0004\u0012\u0001@\u0000\u0001A\u0010\u0010\u0011\u0012\u0011\u0004@\u0001\u0001A\u0010@\u0001\u0001\u0004\u0010\u0011A\u0001\u0014\u0001\u0014\u0011\u0010\u0002\u0011\u0001\u0012\u0002A\u0010\u0011\u0014\u0011\u0014\u0001A \u0011@!A@\u0012\u0011\u0000!\u0014 \u0000\u0002\u0001@!\u0002\u0001\u0004\u0001B\u0000\u0001\u0011\u0004\u0004\u0010\u0012@\u0011@\u0010\u0010\u0000@A\u0011@ \u0000\u0001\"\u0002\u0004\u0010!A\u0014\u0002\u0004\u0002\u0014\"\u0010\u0000@\u0014\u0010\u0004\u0002\u0011\u0000\u0001\u0000\u0002\u0004 \u0014@@\u0010\u0001\u0000\u0000\u0014!\u0000\u0010\u0014!D\u0010\u0001\u0000D\u0011\u0000\u0001\u0010 \u0012\u0014\u0001\u0001\u0000\u0011\u0014!\u0010\u0010\"\u0002\u0001\u0010\u0000\u0000\u0001\u0010\u0010\u0010@\u0010\u0000\u0014\u0011\u0010\u0010\u0001\u0011\u0011\u0000\u0001@\u0000\u0010!!\u0000\u0001\u0011\u0000\u0000\u0010\u0010\u0010\u0010\u0011\u0000@ \u0010\u0000\u0004\u0004\u0000\u0011\u0001\u0004\u0011\u0001\u0011\u0000@@\u0010\u0010\u0010\u0004\u0004D\u0011\u0000@\u0011\u0010@\"\u0014\u0001!\u0000\u0004\u0001\u0004\u0011\u0001@\u0014\u0010!\u00040D\u0000$\u0014A\u0011\u0011A@\u0011\u0001\u0000\u0010\u0004@\u0014\u0014\u00140\u0011D\u0004B\u0014\u0000!\u0011@\u0014@ \u0001\u0001!\u0000\u0000\u0000\u0001\u0001\u0000@D\u0010@  \u0011\u0000\u0001\u0001\u0004@!\u0010\u0010\u0000\u0014\u0001@D\u0000@\u0000 \u0012\u0002\u0010 \u0004\u0010 B\u0001\u0014\u0001\u0011\u0001\u0004\u0001DD\u0010\u0010 \u0000\u0004A\u0010B@\u0011\u0014D \u0004 !D\u0010\u0000\u0014\u0014\u0014\u0014D\u0011D\u0014\u0001@A\u0004\u0011\u0004 \u0011\u0000\u0011\u0001\u0000\"\"\u0001DA\u0001D \"\u0004AD\u0001\u0014\u0000D\u0004\u0004\u0004DA\u0011D\u0014\u0012D@$D\u0010@\u0002@\u0004A\u0014A!B\u0001\"\u0002DAA!\u0012\u0000\u0004D\u0004\"\u0004!D@\u0014D!\u0014D\u0001!AD\u0014AB\u0002$\u0001@\u0002\u0012AD\u0014\u0004\u0010\u0000 A\u0004AAAAA\u0004\u0004\u0001\u0000\u0014\u0000\u0014@!!A\u0000! \u0011\u0001\u0004\u0014@\u0004\u0010\u0000\u0000D\u0000\u0004\u0010!\u0004 \u0011 \u0002B\u0000A\u0001@\u0011\u0001\u0001\u0012\u0010\u0014\u0011A\u0014A\u0011\u0001\u0011\u0001\u0010\u0010\u0010D\u0011 D\u0001\u0010\u0010\u0012\u0014DBB\u0002\u0010\u0001\u0014ADAD\u0010\u0002\" \"B!\u0000@ \u0014\"\u0014$\u0010\u0014\u0012\u0010B\u0001\u0001\u0004\u0011\u0014\u0004\u0011\u0014\u0014\u0001\u0014\u0002B\u0002A@\u0012 \u0001\u0012\u0001\u0004\"!\u0002\u0004\u0004\u0004\u0001\u0004A\u0000\u0010A\u0001\u0014B\u0010DAD@A@\u0010\u0004\u0000A!\u0004\u0004\"\u0012\u0000B$\u0000\u0004@\u0004@@\u0004\u0000\u0014\u0011\u0000DB\u0001!\u0011AA\u0004\u0014\u0002@@!\u0004A\u0001A!D\u0011\u0014D\u0001\u0014D\u0001@\u0001\u0014\u0004\u0014\u0012A!\u0001\u0001\u0001\u0004D@\u0000\u0002@\u0004\u0004\u0004\u0004\u0000@\u0000B\u0010\u0001\u0002\u0011B@\u0014\u0002\u0000D\u0000\u0014\u0000\u0011A\u0004\u0011\u0001@\u0000\u0010\u0002A\u0011D\u0010\u0000\"\u0011!A!\u0011\u0011\u0000A\u0001!\u0004\u0012\u0001\u0011\u0014\u0000 \u0010\u0010\u0000\u0014 \u0011\u0011\u0004\u0011A\u0001\u0011@ AA\u0004\u0001\u0004\u0014D!A!\u0001A\u0004\"\u0014\u0004\u0001\u0014!\u0014\u0014\u0014B\u0014\u0014B\u0012D\u0001D \u0004\u0001\u0004\u0000\u0004@\u0000\u0012@D\u0000\u0004\u0000\"\u0014 \u0002\u0004\u0000D\u0004BADA\u0010A\u0004@\u0004\u0010A\u0004\u0000AD\u0000D\u0000\u0014A\u0001\u0004\u0001\u0001DA$D\u0001B\u0001\u0004\"\u0011\u0010\u0000BD\u0004!D DDDDD\u0004@\u0000BD\u0011\u0010\u0000\u0012\u0010D\u0002\u0010\u0002\u0004 \u0014D$\"@\u0014\u0014A\u0000DDA\u0004\u0001 \u0000\" \u0001\u0004@\u0014\u0000\u0004\u0000\u0011\u0000\u0010\u0000\u0010\u0004\u0010\u0010\u0010\u0010\u0010\u0001 @\u0002\u0010\u0010\u0000A@\u0004\u0011\u0000\u0001D\u0001\u0001\u0004\u0010\u0010\u0001A\u0010\u0010\u0012\u0004\u0000\u0000\u0000\u0000\u0004\u0004\u0012\u0004\u0001A\u0000B\u0012\u0001\u0004\u0001\"\u0012DDB$D!A!\u0000D\u0012\"\u0014\u0000\u0014\u0014\u0004\u0004DBA\u0001@BA\u0011D$D$D@@\u0004\u0004\u0011\u0010\u0000\u0010  !\u0010A@\u0004\u0004\u0001!\u0004AA@\u0010\u0001$B\u0001\u0011\u0012!\"DDA@@A\u0010AAA\u0001D\u0000B@D \u0014\u0010\"\u0012\u0001\u0000\u0001@\u0010\u00040\u0004D$\u0011\u0001\u0004A\u0000\u0004\u0001\u0004A@@\u0010\u0011D\u0004\"\u0004DD@ \u0001\u0001\u0014\u0010\u0011\u0001@\u0011\u0001@ BBA B\u0001A@DDBDDD\u0001\u0000 \u0000D\u0010\u0004\u0000\u0000D\u0004\u0001\u0004BB\u0000\u0004\u0004D\u0000D\u0001\u0000\u0010\u0000\u0004\u0004\u0000@\u0001\u0001!\u0014\u0011\u0010\u0004\u0011\u0004D\u0000A\u0014$@\u0000\u0012\u0000\u0011\u0011\u0001!AD\u0010\u0001\u0001\u0014\u0010\u0000D\u0001\u0000\u0000\u0014\u0014\u0000\u0011\u0014A\u0011\u0000\u0004\u0001\u0000\u0004\u0004A\u0000D\u0000\u0000\u0000\u0001\u0014\u0000\u0014\u0010\u0010\u0011!\u0004\u0004\u0011\u0001\u0004A\u0011\u0010\u0012\u0002\u0001\u0001\u0004!\u0000AD!\u0001\u0011D\u0000\u0014\u0002\u0014\u0014\u0011\u0000A\u0011@\u0000\u0012\u0004\u0004\u0004\u0010B\u0010\u0011\u0014\u0014$\u0014BD@D@@D\u0004AD\u0014\u0001\u0014D!\u0004A\u0004\u0010\u0004\u0011@\u0001\u0004\u0004\u0001\u0010\u0014\u0004\u0014@\u0010\u0001\u0012\u0014\u0010\u0012!@\u0001\u0010\u0004\u0001\u0001\u0014@AD \u0011D\u0011B\u0011\u0000\u0011\u0004\u0011\u0001\u0014\u0011@\u0010\u0000\u0011A \u0004!@\u0014AA \u0010\u0014\u0001\u0014\u0004\u0014\u0004\u0014B\u0011\u0010!B \u0002\u0001B\u0002B \u0004!\u0002\u0010\u0010A\u0010\u0011@\u0011A\u0000\u0000\u0014\u0010@\u0001\u0011\u0004DD\u0014\u0001\u0000\u0002\u0014\u0000\u0014A\u0000\u0010\u0010\u0012\u0004\u0010\u0004\u0001\u0000\u0004\u0000\u0000\u0004\u0000\u0004\u0004\u0004\u0000\u0004\u0001\u0002\u0014A\u0014\u0004\u0011\u0001\u0011A\u0010\u0011\u0010\u0000\u0010\u0014\u0004\u0014$\u0012\u0011A\u0011D@DA\u0014\u0011B\u0001D@$\u0014D\u0001\u0001A\u0012DA!\u0002\u0011\u0014@\u0000A\u0010ADD\u0000\u0014\u0000\u0001D\u0001\u0001\u0014\u0000\u0010\u0011 D\u0004\u0010\u0010A\u0000\u0004\"\u0004\u00010\u0014\u0004\u0001D@D\u0004\u0011@\u0010DD\u0000\u0010\u0010D\u0001B\u0014\u0004\u0002D\u0011\u0011@\u0010\u0010\u0010\u0002@A\u0001\u0001\u0014\u0000A\u0014\u0000\u0010\u0000\u0001\u0001\u0010\u0004A@\u0014\u0000\u0002B\u0001\u0001\u0004@\u0004\u0004\u0000\u0014B\u0001\u0000\u0010\u0001\u0011\u0001DD\u0014DD\u0014\u0014\u0001@ D@@AA@\u0010\"\u0002B\u0001@B\u0004\u0001\u0002\u0000\u0001\u0014\u0011\u0001\u0014\u0010\u0011\u0001\u0010\u0000D\u0010\u0010\u0000\u0014B@\u0001B\u0001\u0010\u0010\u0004A@\u0000\u0014\u0004D\u0000B A\u0004\u0001@\u0014\u0000\u0010\u0010@DD\u0000\u0002\u0001DB\u0004B@\u0001\u0004\u0003B\u0004 \u0002B$A@A\u0014@\u0010DD!\"\u0014\u0014@A@ \u0000\u0011@@!\u0014\u0014!\u0004\u0001\u0001A\u0000\u0002\u0012\u0004A\u0004\u0001D\u0014\u0010\u0011D @\u0001$ B@\u0000\u0000BD\u0014\u0004\u0000D@\u0014DD!\u0004\u0004\u0000\u0004A\u0010\u0001\u0000\u0011\u0001\"BAD\u0011\u0010\u0002\u0004B D\u0010@@@!\u0002\u0011\u0000\u0001\u0000@A\u0010!\u0001\u0000\u0002B\u0004A\u0001ADB\u0001\u0002@\"\u0002\"\u0002$@\u0000\u0004\u0000@D\u0000@DA\u0004\u0011\u0001\u0011D\u0000\u0004@\"\u0000A\u0000\u0010$\u0000\u0010\u0010\u0001\u0010\u0004\u0010 @\u0000\u0000\u0011D\u0001\u0010\u0004\u0004\u0000A$@\u0011\u0000\u0011 \"\u0004@D$D\u0002D@\u0000\"B@@\u0014\u0010\u0014\u0011\u0001\u0004@\u0010\u0001\u0010\u0010!\u0012\u0014DD@\u0011AA!DAA\u0014\u0012@@\u0010B\u0010@A\u0000\u0012\u0000@D\u0004@\u0000@D\u0000\u0004 \u0010@\u0000\u0000\u0000@\u0001\"\u0010\u0011\u0002\u0011A\u0011 \u0014\u0012\u0010\u0011\u0012\u0011\u0011\"\u0011\u0012A$ @\u0004\u0000\u0000B$\u0010\u0001!\u0001\u0001\u0014\u0000\u0012 B\u0001\u0004A@D\u0010\u0014\u0004@@\u0004\u0001\u0011\u0000A\u0014\u0010\u0001\u0000\u0011\u0001\u0001\u0000B\u0010\u0011\u0010\u0000A@\u0000\u0011 \u0010\u0010\u0010@\u0010\u0001\u0001\u0010\u0014\u0014\u0010\u0000\u0001\u0014BA\u0002\u0001\"\u0001@\u0011A\u0001AB\u0001B\u0014@\u0001\u0004\u0012!!\u0000!\u0001B\u0014\u0001\u0014\"\u0010A\u0011@\u0010\u0014\u0010\u0012\" AD\u0011\u0010\u0004\u0010D!\"AD\u0001 A$A$\"@\u0014\u0010 B@ D\u0004@@\u0000\u0014B\u0011\u0010\u0001@\u0000BDA@\u0004\u0012 \"B\u0004\"B\u0010 \u0004\u0000 D@ \u0004\u0000\u0001\"@\u0000 \u0012\u0004\u0000\"D !\u0000\u0004BD $ \"@ B \u0004AD\u0011\u0010\u0014B!A\u0000\u0014\u0012DDD D\u0014D\"@\u0000$\u0004\u0014$ \u0010\u0012\u0014@\u0010A\u0010@$\u0001\u0014\u0000\u0014\u0014B\u0011A\u0001@\u0014AA\u0001\u0001\u0000\u0000\u0011A\u0000A\u0000\u0014\u0002 \u0002B@\u0014 \u0004$\u0000\u0011D\u0010\u0002\u0004\u0001\u0010 \u0010@\u0010\u0002B\u0001 \u0014\u0011\u0011\u0010\u0000\u0014D!!D\u0012 D!@A\u0004\"\"\"\"\u0001B!@ @A\u0011\u0001\u0011\u0014\u0002@@\u0010\u0004\u0010D\u0010!$\u0012\u0004AD\"\u0010$\u0000\"!\"\u0004 \u0000\u0011A\u0000\u0004@DD\u0004D\"\u0004\u0001$D@\u0004\u0002\u0001\"B@ !\u0002\u0014\" \u0012!\u0004\u0010$\u0001A\u0011\u0012\u0002@\u0000\u0004\u0011@@\u0000B@\u0002@@\u0014\u0004D\u0011\u0010B\u0010B\u0011@\u0000@\u0010\u0000\u0014\u0000\u0001\u0001\u0001\u0011\u0014!D!\u0000\u0011\u0001\u0014 A\u0010@A!@D@D!\u0004\u0004\u0010\u0000@\u0004A\u0010\u0012@A\u0000A\u0010\u0001$\u0011\u0010\u0004@ !$\u0014\u0010D\u0000\u0004@\u0004\u0014\u0010\u0001\u0010\u0010\u0001\u0000\u0014D\u0000\u0004\u0004\u0014\u0004 \u0002\u0012\u0011\u0011$\u0014A\u0010\u0010\u0011\u0001\u0000\u0011\u0001\u0011\u0014AA\u0000\u0011\u0001@@\u0010\u0004D@@\u0004\u0010\u0000\"@\u0000D\u0000D\u0004\"\u0004\u0000DA\u0002\u0004\u0000AA$@A\u0011@\u0014A\"A\u0011\u0002 \u0010A \u0010\u0000\u0010\u0014AA\u0000\u0011\u0001\u0001\u0014\u0001AD$\u0004\u0004A\u0000\u0001\u0004$\u0014@\u0004B \u0002@\u0004@DA@$!D\u0002\u0004B\u0004\u0010\"A@\u0000@\u0010\u0002\u0014\u0012\u0002\u0001\u0012 \u0010\u0011\u0011\u0004!\u0002\u0014@D\u0010\u0001A\u0000BD@DA@A\u0014\u0010\u0002\u0004AD\u0010DD\u0010\u0010A@\u0012B@\u0000!D\u0014\u0004D!D\u0000\u0012B\u0001\u0010A\u0000\u0000\u0000\u0002\u0012@\u0001B$\u0002\u0004A!BBA$!D!\"\u0004B\u0010\u0002D\u0014A\u0001\u0014@DD\u0010\u0004\u0001\u0001D\u0014!\u0014\"D!! \u0011\u0011\u0011!\u0011\u0012\u0011\u0011D\u0014!A\u0014ADDDD\u0014AA\u0014\"B\u0014\u0014DA\u0014D\u0014AD@\u0001\u0014DD\u0011DB\u0001D$\u0014\u0014\u0014\u0014AD\u0001@A\u0011\u0002\u0001A\u0001\u0014DAD@\u0011\u0014\u0010$\u0000\u0014@\u0004\u0000$ \"\u0002\u0000\u0000\u0004\u0000\u0010\u0012@BA!\u0000\u0014\u0014\u0004\"@\u0002D@D\u0004\u0002$D\u0004\u0014\u0004D@A\u0012\u0000ADD \u0010A!\u0004\u0010\u0004!\u0001@\u0000\"\u0011\"\u0010\u0001\u0001\u0011\u0004\u0000\u0000\u0010\u0000\u0004\u0000\u0001\u0014\u0001\u0010\u0000\u0010 \u0000\u0001@DA@AD\u0012\u0010\u0000\u0012\u0011!\u0002\u0001\u0000D\u0001\u0000BD\u0001\u0010\u0014\u0004\u0014\u0000\u0011\u0001\u0000\u0011\u0000\u0014\u0004\u0004\u0004@\u0000@\u0011 \u0011D@\u0004A@\u0014\u0004\u0002\u0004@\u0014\u0000\u0002\u0000D\u0010\u0000\u0012BA\u0004B\u0002\"D\u0012@\u0004\u0004\u0004\u0004\u0000\u0004A\u0000A\u0004\u0014\u0004\u0012@\u0011\u0001\u0000!B\u0004\u0014\u0010\u0014\u0002\u0001A\u0000\u0001@\u0002\u0010\u0014\"\u0012\u0014\u0014\u0014\u0004\u0012\u0010\u0012\u0012\u0011\u0001\u0010\u0014\u0014D\u0014\u0001\u0001D\u0004D\u0010\u0002\u0001!\u0004A@\u0000\u0004\u0000\u0001\u0004\u0004$\u0010\u0002$\u0011!\u0011\u0004B\u0011\u0004\u0011\u0000C\u0011\u0001\u0010\u0011\u0000\u0011\u0000@@\u0014BA\u0012\u0010\u0000B@\u0014A\u0012\u0010\u0004\u0011A@\u0011!@\u0010\u0001\u0002D!A\u0001A\u0001!@\u0010@\u0004@\u0011\u0010\u0001\u0001 \u0002\u0010\u0014\u0010\u0011\u0001\u0010@\u0001\u0011\u0011\u0010@\u0004\u0002\u0014@\u0010\u0011\u0011\u0001\u0000\u0010D\u0011\u0004\u0012\u0000\u0002A\u0010\u0004\u0004\u0000\u0000@\u0000D\u0004AA\u0000\"\"\u0001\u0010\u0010\u0011\u0010\u0010\u0001 \u0011\u0010\u0004 @A \u0011\u0014\u0000\u0011 \u0000\u0001\u0014\"\u0011\u0000!@\u0004A\u0000\u0010D@  \u0001\u0002 \u0010\u0001!\u0011\u0000\"B\u0001\u0011 \u0011\u0010@AAA\u0014\u0000\u0000 @\u0001! \u0004\u0011\u0012\u0001\u0011\u0000B\u0001\u0011\u0004\u0000\u0000DB\u0010\u0000\u0011\"\u0001\u0001B\u0014\u0011\u0014\u0014\u0002\u0001  \u0004\u0001\u0014D\u0014DDD$DA!DD$DDDA\u0001DBDD\"\u0012\u0012A\u0014\"!!A\u0010\u0010\u0014\u0011\u0012\u0004\u0001\u0014\u0010@\u0001\u0011\u0010@\u0000\u0010\u0001A\u0010\u0010\u0004DA@\u0014\u0004B\u0010\u0004\u0011\u0011\u0004\u0001\u0010\u0010\u0000D\u0001\u0014\u0014\u0011\u0011\u0001\u0004\u0004\u0004\u0001AD@\u0000\u0010D\u0010\u0014\u0014\u0014\u0001\u0001\u0011@\u0000\u0014!@\u0014\u0011\u0010A@\u0011\u0010\u0004$@\u0001D\u0000\u0000\u0001\u0004$@\u0001\u0000\u0004\u0002A\u0004\u0000\u0004\u0010D@\u0004D\u0004A\u0004 \u0010D\u0004AA\u0010@A\u0014!\u0002\u0004\u0001\u0001\u0001\u0000\u0000\u0012\u0004\u0001\u0011\u0011D \u0014\u0001\u0012\u0011\u0000\u0004\u0004D\u0010\u0014\u0004\u0011\u0000AA@\u0004\u0001B\u0014\u0010\u0002\u0014!\u0011B\u0011\u0010\u0010\u0000\u0001\u0001\u0011\u0010\u0010@\u0011@\u0011\u0001\u0014\u0000A\u0000\u0000\u0000\u0004\u0001\u0001\u0001D\u0004\u0001\u0004D\u0000\u0011@\u0014A@@A\u0000A\"@\u0012A\u0011@$!\u0001\u0004\u0010\u0010\u0014\u0004\u0014$A\u0001A@\u0011\u0012@\u0010\u0000\u0000\u0010\u0011\u0000!\u0012\u0001\u0014\u0011\u0014\u0000\u0001\u0001\u0001\u0001\u0014\u0011\u0001\u0011\u0001\u0010!\u0000!\u0010D A\u0000\u0004@\u0011D\u0010\u0011\u0010$\u0010@\u0001\u0014\u0001\u0001\u0001\u0011\u0010A\u0000\u0010@\u0004\u0011\u0010!\u0011@ \"A\u0014\u0001\u0002\u0001\u0014\u0010\u0001\u0001\"\u0004\"\u0001\u0011D\u0004\u0004\u0001BA\u0000\u0004\u0011A \u0014\u0011\u0004!\u0010\u0004D\u0001\u0000\u0011\u0001\u0011\u0010\u0000\u0004\u0014!\u0014\u0011B\u0001\u0001D\u0001A\u0011\u0011\u0000\u0010\u0002\u0004\u0000!\u0001\u0001\u0002\"\u0001D\u0010\u0014\"DADAA!B\u0004$B\u0014\u0014DDDB\u0002\u0004BDD\u0001\u0014\u0001\u0011A\u0014\"D\u0011A!\u0004D \u0000\u0000@\u0010 \u0011\u0002\u0001A\u0001\u0010 A\u0000\u0001A\u0001\u0000D\u0000@\u0011\u0004\u0004 \u0000D@\u0002A\u0010\u0002\u0011\u0002\u0001\u0004\u0012\u0010\u0014 \u0011A\u0000\u0004\u0011\u0002!\u0012A\u0014A\u0010\u0000B\u0004D\u0014\u0000\u0010\u0000\u0014\u0010\u0001\u0011\u0000\u0002\u0001\u0001\u0010@A@\u0000\u0001\u0000 \u0012\u0004\u0000\u0001\u0001\u0011\u0001\u0004A \u0000\u0000D \u0014\u0000@\u0014\u0014\u0001@\u0001\u0000@A\u0011@@\u0000!@\u0004\u0001\u0000\u0011\u0001\u0001\u0002 \u0004\u0010@\u0004A\u0004@\u0010\u0004\u0004 \u0000\u0000\u0004\u0010\u0010@\u0010\u0001AB\u0000@DDD\u0010AD\u0014\"B!\u0012\u0014A@\u0000\u0014\u0010\u0000\u0014\u0010D\u0010\u0000\u0004\u0000\u0010\u0010\u0002\u0002A \u0000\u0004D\u0010@\u0010\u0010\u0011@\"@\u0004!\u0010\u0002B\u0004\u0001\u0001\u0001\u0011A\u0014 @\u0001\u0000\u0014\u0002@\u0000\u0004\u0004\u0001\u0012!\u0011!\u0001\u0010\u0011@\u0000@A\u0010\u0000\u0010\u0000B\u0010!\u0011\u0000\u0011\u0011\u0010A\u0010\u0010\u0000\u0010\u0010\u0004D\u0014\u0002\u0000\u0000DD@ D@\u0004\u0000D@ \u0004B\u0000\u0001D@A\u0001\u0001\"\u0010\u0011\u0011\u0011BD\u0001D!\u0014@@\u0001D\u0011\u0002\u0002\u0012\u0010\u0004\u0004\u0000\u0011\u0004\u0011\u0011\u0001\u0014\u0000$\u0001\u0010\u0014\u0014\u0014\u0012\"\u0011A\u0014D\u0014\"D\u0014\u0001\u0011\u0014DAD!\u0000@D\u0000DD\u0001\u0004\u0004\u0004DA@\u0011A\u0004\u0000\u0014 \u0004\u0004!\u0004\u0004B@@D\u0001\u0001D\u0011@\u0014\u0000@D\u0001D@\u0000\u0014\u0014@\u0014\u0012@\u0004\u0004D\u0011\u0010\u0000\u0000\u0001\u0014D\u0001@A\u0014\u0004\u0011\u0001@\u0001\u0000\u0000\u0000!A \u0004\"\u0012\u0001@@AA@\u0010\u0002\u0000\u0014\u0000\u0000\u0010\u0002@\u0001\u0000\u0001\u0000\u0014\u0010\u0004\u0011\u0012!\u0000\u0010!\u0010\u0011\u0001\u0010\u0001\u0011A\u0004\u0011 \u0000\u0000D\u0000\u0001\u0000D\u0001\u0014\u0011\u0000D\u0012\u0000\u0001\u0014\u0014@\u0010\u0010\u0004\u0010@\u0001@@@\u0011B\u0010\u0014A\u0010\u0001\u0010D\u0004D@\u0010\u0011\u0001\u0011@\u0010\u0000!\u0014 \u0004\u0001\u0000\u0000\u0010A!\u0000@B\u0014\u0014\u0010\u0011\u0014D\u0010\u0004\u0004\u0011\u0004\u0011$\u0000\u0001\u0014!A@\u0002A\u0004\u0004A\u0001\u0004\u0001DB@\u0011\u0012B\u0001 \u0004#\u0004\"\u0001@\u0010 \"B\u00100\u0000A\u0010AD!\u0010\u0000\u0001@\u0002\u0012@ @\u0004\u0012\u0000\u0010\u0010\u0001\u0004\u0004@\u0000\u0001\u0000$\u0002\u0011\u0002\u0011D\u0011\u0000\u0011\u0000\u0001\u0011\u0004\u0010\u0011\u0011\u0004\u0001D\u0011@\u0000\u0000A@\u0010B \u0010DA\u0004D\u0011D\u0001A\u0001\u0001!\u0014\u0010 \u0011\u0000@\u0001@D\u0014DA@ $\u0004\u0004B\u0004@ B!B!A\u0014\"A@ \u0011\u0014\u0010!\u0011\u0000B@\u0010\u0004\u0002\u0014\u0001\u0014 \"\u0004\u0002\u0010\u0014@ @@\u0011\u0014\"\u0011\u0001\u0014\"\u0002\u0012\u0011A\u0014\u0011\u0011\u0002\u0011\u0010\u0011!\u0011!\u0001\u0000\u0000\u0002\u0010DA\u0010\u0001\u0000A\u0001\u0014DD\u0004\u0004@\u0001\"\u0011\"B\u0002\"\u0011\"\"\"\u0001\u0010\u0002!\u0012!\"\u0014\u0001\"\"\"A!\u0014\"\u0002\u0001\u0001\u0014\u0011\u0011\"\"\u0012\u0000\u0011\u0002\u0001!!\"\"\u0002!\u0011\u0011\"\u0001@\u0010\"\u0011!\u0012!!\u0011\"B!\"\u0014\u0012\u0011\u0012\"\"\u0001\u0001AA\u0011\"\"\"\"\"\" \"\u0010\u0004@!\u0004\"\"BB\u0011\u0000$BD\u0004\"\"\"B\"D!\u0012\u0010\u0000$\u0001\u0000A!B\u0004D\u0001\u0004\"\"\u0010B\u0001\u0000\u0012B!@!\u0004\u0004!\u0004\u0011AD@\u0004\u0012 \u0001\u0004\u0014@D\u0000B\u0012\u0004\"D\u0004\u0002\u0004D@\u0004\u0004\u0004\u0000\u0011\u0001\u0001\u0011\u0012\u0000\u0010\u0014D\u0010@\u0011\u0001\u0000\u0014\u0014A!\u0001\u0001DA@A@\u0001\u0004A\u0014\u0014BA\u0004\u0012\u0000!\"\u0004\u0011@A\u0011\u0011\u0001\u0001\u0010AD\u0011 \u0011\u0000 B \"B \u0002 \"\u0012\u0000\"\u0002 \"\"\"\"\"\"\u0004\"\u0002 \u0001\u0011A!\u0002\u0004\u0001\u0014\u0014A\u0000D@ B@ $\"\"\"\u0011@  \u0014BAA\u0011\u0011\u0012\u0011\u0014A\u0011DD$\u0014D\u0014\u0011\u0010\"\"\u0002\u0014A\u0011\u0011D\u0000A@!\u0012\u0011\u0002$AD$\u0014@ \u0002 D\u0001\u0002\u0000\u0002\u0001@\u0000\u0001\u0010\u0000\u0002\u0000B\u0000@\u0000\u0000\u0004D\u0000BD\u0010\u0001 \u0012A\u0010B\u0011\u0011A\u0012\u0012\u0001D@\u0012B\u0004D\u0000\u0001\u0014\u0010AA\u0001\u0011!\u0011\u0002\u0012\u0002D\u0000\u0000\u0001\u0000@\u0004\u0012@A\u0000B\u0000@\u0000\u0000DA\u0000!\u0000A@\u0004\u0000\u0000@ \u0002\u0000\u0001 \u0000\u0004\u0001@\u0000\u0002\u0002\u0014 \u0001B\u0010\u0000\u0011\u0004\u0010\u0012 \u0002\u0010\u0012!\u0011\u0004\u0002\u0001\u0012\"B\u0004\u0001\u0014@@  \u0001\u0000\u0014 \u0014\u0014DB\u0004A\u0010\u0000\u0000\u0014\u0010\u0004\u0002\u0011@A\u0014\u0010\u0000\u0011D!B\u0014AA\u0014!D\u0004\u0011\u0014\u0014\u0014\u0011$\u0011\"\u0011!\u0012\u0011!\"\"\"\"\u0014\u0014\"\"@AB$A\u0000\u0010\u0014\"B \"\"\"B\u0011$\u0011\"\u0004 \u0011\"\u0012\"\u0014\"\"\"\"B!\"\"\"\"\"\"\"\"\u0012!\u0014\u0014!\"\"!A@\u0012\u0010\"\u0012\u0012\"\"\u0014\"\"\"\u0014\u0014\"\"\"\"\"\u0011\"\"\"\"\"A\u0004\u0012\"\"\"\u0012!\"\"\u0011\"!\u0010\u0012\"A@A\u0010\u0001A\u0000\u0010A\u0010\u0001@\u0001\u0004A\u0001!\u0004\u0000\u0002\u0012\u0000\u0000\u0014\u0014\u0011\u0000\u0004\u0000\u0002\u0001\u0011\u0000DD@\u0004\u0012\u0000\u0014\u0004\u0002\u0000\u0004\u0004\u0011\u0011\u0004\u0000\u0001@\u0014A \u0014\u0014\u0001\u0011\u0014\u0001D\u0010DD\u0011\u0002DD\u0011A\u0011\u0012D\u0014\u0014A!AA\u0014A!\u0002\u0011\u0011\u0012A\u0011\u0011\u0004\u0000!\u0004$@\u0000D\u0001B\u0001\"\u0012\u0004\u0002\u0001\u0014\u0004BA\u0004D\u0000\u0011\u0002\u0000\u0012\u0011\u0001DA \u0000D!\u0002\u0012\u0010!\"\u0011\u0002\u0004D\u0000D\u0000\"B\u0010\u0001@D\u0014B@\u0010\u0014\u0012\u0011AD\u0014\u0010D!\u0014\"A B\u0004\u0002@\u0001\u0014\u0000A!\u0012\u0014\u0014\u0011\u0011\u0011!\u0000\"\u0001\u0000@B\u0002\"\u0004\u0000\u0002\u0000$ \u0012 $ \"D\u0014\u0004\u0012\"!\"B\u0004\u0000\u0000 \u0001\u0011\u0000!\u0004\u0012\u0012\u0011@\u0014B\u0000\u0000B \u0012A\u0011\u0001 \u0001@@\u0001\u0004\u0001\u0001\u0000\u0004\u0001D!\u0000 \u0010 \u0010\u0001\u0000\u0004\u0000\u0000\"@\u0000\u0001\u0000\u0000D\u0004\u0000\u0010\u0010\u0004\u0002A\u0010\u0010\u0010\u0000 \u0014  @\u0010\u0004\u0001\u0000\u0004A\u0001B\u0001A\u0001A$\u0004A\u0014\u0000$\u0000\u0010@@@\u0002$\"!\u0000D@\u0000@\u0010AD@\u0014DD\u0004\u0004\u0014\"A$@\u0000\"\u0001\u0004\u0000\u0010BA\"\u0002\u0010!\"\u0000!\u0002\u0010\u0012\u0004\u0000\u0012\u0010\"\u0014D\u0012\u0001\u0010\u0000\u0001B\"\u0010\u0004\u0001\u0010!\u0001\u0011\u0012\u0010\u0010\u0010\u0001\u0014\u0000AA\u0014\u0000\u0000\u0010D!\u0001\u0002A\u0010A!\u0001\u0001\u0012\u0000\u0011AA\u0000D!\u0011\u0001\u0011\u0010\u0004D\u0004@ \u0012\u0011A\u0010A\u0014\u0014DA\u0014B@\u0014\u0011!\u0010\u0014\"\u0011\u0011\u0014ADDDD\u0014@D\u0014\u0011\u0014\u0014\u0001\u0001\u0014\u0014\u0001\u0000\u0011D\u0000\u0010@@\u0001\u0001\u0011\u0000\u0014@\u0004\u0001\u0000\u0001\u0002\u0014@\u0002\u0012\u0004\u0000BD \u0001@D\"A\u0001\u0014\u0000\u0011D@A\u0010\u0000\u0004\u0010\u0011@\u0004\u0010D\u0011\u0011\u0012\u0004D\u0001D\u0004\u0004!\u0001D\u0004BA\u0001$!D\u0004\u0004B\u0010D\u0011@\u0010\u0001\u0004@A\u0010\u0001\u0000\u0012B\u0011BA\u0014\u0004 \u0004\u0000\u0010\u0004\u0014\u0000\u0004\"B \"\"B \"\u0000\u0000B \"\"\"\"\u0001\u0001\"\"\u0002 \u0004\"\"\u0012\u0000 \"\"\"\u0002 \u0010\u0000 \"B\u0000\u0002B\u0011!D\u0014DB\u0001\u0010A\u0010\" \u0001\u0011\u0000 A @D \u0011\u0010@\u0001\u0010\u0014\u0004A\u0004\u0004@\u0001\u0000\u0001\u0010 \u0001\u0010\u0011\u0001 \u0001@\u0010\u0004\u0000A\u0000@\u0001\u0014\u0011!\u0014\u0000\u0004\u0010\u0000\u0000 !D\u0011\u0012\u0004AA\u0000\u0004\u0001@!D@\u0010 \u0014DD\u0002 \u0012\u0011A\u0000\u0001\u0001!\u0010\u0004\u0012@\u0010\u0001\u0002\u0000\u0011\u0000\u0000@ \"A\u0001\u0000\u0014\u0004@\u0004\u0014B\u0000\u0014\u0000\u0014$\u0004\u0000B\u0000\u0004\u0000\u0000D@\u0004D\u0014\u0000@\u0001\u0000 \u0004\u0000 @A \u0001\u0004\u0004\u0004\"\u0002@\u0001\"\u0004\u0002$@\u0011!D@\u0004\u0004\u0004D\u0004D\u0001B@D\u0010@\u0000\u0004A\u0011\u0004\u0014$@\u0000\u0004\u0001A\u0014D @\u0002\u0011\u0004\u0010\u0004B\u0010\u0014\u0010 A\u0011!@\u0010\u0010@$@\u0010@\u0010\u0011\u0010@B\u0014BDA\u0011A\"\"\u0012!\u0012!\"\"\"\"B!\"B\u0001!BA\u0014BDDB\u0014D!B\u0014\u0014D\u0011@\u0000\u0010\u0004\u0004\u0004A B\u0011\u0011\u0004ADD\u0014BA\u0011 \u0004D\u0014A\u0014\u0004\u0010ADA\u0001\u0001\u0004DA!\u0014AD\u0004\u0004AD\u0014\u0004\u0004\u0004BD@@\u0010A\u0004D\u0004\"D \u0004B\u0001\u0004D\u0014\u0011BD\u0001D!@\u0011\u0002\u0001\u0001\u0011\u0000\u0000\u0001\u0011\u0001\u0011D\u0010\u0004\u0011\u0011@\u0012\u0004!\u0004!\u0014\u0010\u0014A\u0011@\u0002\u0004\u0014D\u0011\u0012\u0014\u0010A\u0011DA D\u0014\u0011\u0012BD\"A\u0014\u0014A\u0014DAD\u0011\u0014\u0011\u0014@@\u0001\"\u0012D\u0010A@\u0010\u0010!\u0011\u0014B\u0014\u0014\u0011A\"\u0011\u0011B\u0004\u0014A!\u0014\u0010\u0010\u0010$\u0001\u0012\u0001B\u0011D\u0002\"\u0012\"\"\u0001!\u0002\"\u0001\u0012\u0002\u0010\u0002!\u0000\u0001!\u0002\u0000\u0011\u0002\"\"\u0002\u0004\u0000\u0014\u0000B!@A\u0010\u0001\u0010A\u0000A! !\u0002\u0001 \u0000\u0004\u0004@ AD \u0001\"B\u0014\u0012\u0012A\u0001B@DA@\u0001!BDADAA\u0011\u0014\u0014\u0014D!\u0014DDD\u0012\u0014\u0011\u0010\"\"\"\u0014\u0014A\u0012\u0002\u0014$\u0001\u0001BB\u0014\u0011BD\u0011\u0014\u0001A\u0011\u0010A\u0014\u0011B\u0011\u0010$!D\u0014\u0011A!B\"\u0002!A!$\u0010!B!\"\u0002AA\"\u0014\u0014\u0010D$D B\u0010!D$@A\u0014B@\u0011D\u0014\u0001\u0014\u0014B\u0011\u0011B\u0014$\u0011\u0014\u0011\u0014\"B!$ B\u0011\u0014\u0004D\u0010AADA\u0011\u0011\u0012DA!\u0011\u0012$\u0011$A\u0011\u0001\u0004B\u0000\u0010\u0010\u0001 \"\u0001\u0004\u0012\u0001@A\u0010\u0004DD\u0001BA\u0010\u0014\u0014\u0002 \u0001A\u0004\u0004\u0011\u0000\u0004\u0000!B@\u0014B\u0014A\u0011\u0001\u0010\u0002\u0001\u0014D!B@@ \u0002\u0000D\u0014\u0012\u0001@D \"D\u0011\u0001B\u0014BA\u0010\u0004\u0004\u0012\u0004\u0000\u0010\u0004AA\u0010@\u0011\u0010\u0011\u0001\u0011\u0000\u0004\u0012\u0010\u0000D\u0014 @\u0000\"@ \u0004\u0010\u0010\u0010\u0000\u0001\u0010\"\u0010D\u0004D  \u0000A\u0001\u0004AB$\u0000\u0011\u0000\u0001\u0010A\u0000\u0000\u0010\u0004\u0011!\u0001@\u0000\u0001\u0011\u0014\u0014\u0004\u0004\u0011A\u0000\u0004\u0001\u0011\u0010\u0010\u0014\u0010A\u0001B\u0000@\u0004\u0014A@\u0000D\u0002\u0011\u0010\u0000A\u0000\u0000  \u0002@A$D\u0000D\u0004\u0011A\u0001 D\u0004A@A\u0010\u0011!D\u0000\u0000D\u0001\u0012@A\u0010\u0011\u0000\u0001C\u0000 \u0012\u0010!\u0000D \u0004A\"A \u0011\u0014\u0000\u0004@\u0010\u0004\u0004\u0012\u0001\u0002\u0001\u0001\u0000B\u0001\u0000\u0011A\u0001@D\u0014A\u0002D \u0002\"\u0004\u0000\u0002\u0004!D\u0004\u0014\u0004\u0011@\u0000\u0004B@\u0010\"\u0004\u0012 \u0001\u0001\u0010\u0011B@\u0000A\u0014\u0014\u0014AA\u0001 !\u0010\u0014\u0000B@\u0004D\u0002\u0002A\u0011\u0000\u0004\u0010\u0011\u0000B!\u0014D\u0001\u0001\u0014\u0004\u0001A\u0001\u0002\u0002@\u0011D\u0001 \u0010\u0004\u0000\u0004\u0012 \u0001\u0000\u0000D\u0014\u0000@\u0001\u0001\u0000\u0011\u0001\u0004\u0000\u0011\u0010\u0014\u0010\u0010\u0010\u0004B\u0001\u0014\u0011\u0010A@\u0014AD \u0004@@\u0000D\u0004\u0004B\u0011 D@@@\u0002\u0014\u0000\u0001D@A\u0001\u0014\u0000\u0001DA\u0010\u0001\u0001\u0014A\u0004 @A\u0001A\u0014@\u0001\u0001B!\u0011 !@\u0011@@A\u0000A\u0012A\u0000D\u0010\u0001!\u0010\u0014\u0011\u0014\u0001\u0012\u0014\u0014\u0004\u0010\u0000\u0010\u0001\u0011@!DA\u0000AAA\u0010\u0004\u0010$\u0010D@D\u0000\u0011\u0001\u0001@\u0004\u0011\u0011\u0001\u0001\u0010\u0000\u0001BA\u0001\u0010\u0000D\u0001\u0014$\u0001\u0000@A\u0000\u0004A\u0014\u0000\u0014\u0011\u0002 \u0011\u0010\u0012A\u0001\u0001\u0000\u0010\u0011!\u0010D\u0014\u0001!\u0002\u0004A@\u0014\u0010!\u0002\u0014A\u0014!\u0001\u0004\u0004\u0000A DD\u0010\u0010\u0014\u0012\u0001@\u0011\u0001\u0002\u0000\u0000 \u0011\u0001\u0010\u0004\u0010B \u0014\u0000\u0004\u0000 DD\u0004D A\u0001\u0000\u0012@\u0004AA\u0014\u0004@\u0010@D@ A\u0014\u0000A \u0010BD\u0001\u0012\u0002\u0014\u0010\u0011\u0001$@D!@D@DB\u0001A@\u0004\u0011A\u0001D\u0014\u0004\u0014\u0004D!\u0014\u0012\u0011AD@\u0011$D@\u0001DA\u0000DD\u0004\u0000\u0012D!A\u0014@D\u0011\u0004\u0011\u0011A\u0001DDD@\u0011DD\u0000$\u0014\u0011\u0004D!@\u0010\u0000!\u0004\u0012D@\u0011DDD@\u0014\u0014\u0014ADAD$A\u0011@A\u0001D!B\u0004\"\u0004!\u0014A\u0010D\u0014\u0000D A\u0014A\u0014\u0014\u0014\u0014\u0000\u0010DBA@\u0011\"\u0004$\u0012\u0004D\u0004A\u0004\u0001\u0001\"\u0011\u0000A\u0000D!D\u0001\u0011B@@@@\u0002\u0004@\u0010\u0001@\u0000\"\u0002B\u0010\u0004\u0011D\u0011\u0012\u0002\u0000A\u0014\u0000\u0014\u0001\u0012\u0012\u0011\u0014\u0011\u0011\u0014\u0011\u0010\u0011D@BDD\u0011\u0011\u0004DD@\u0001\u0014D\u0014\u0004\u0001\u0010AA\u0011\u0014\u0001\u0004D\u0001D@\u0001D\u0012\u0001\u0010\u0011\u0011\u0014\u0010\u0011@$\u0001@\u0004\u0001\u0004D@D\u0014D@@!\u0014\u0004\u0002@\u0000\u0001\"\u0004@\u0010B@D\u0004\" \u0002\u0001$\u0000A\u0010\u0001\u0001\u0004\u0014D\u0004\u0014\u0004\u0010\u0001\u0004A@\u0000D!\u0002\u0004\u0010\u0002A\u0000\u0010\u0004\u0010\u0004\u0010\u0002\u0000D\u0010D\u0001\u0011@@ \u0002\u0010\u0010@\u0001\u0004\u0002@ \u0004\u0012\u0000A0C\u0000\u0010\u0004\u0004\u0000@!\u0010\u0001AA\u0001\u0011\u0014\u0001D\u0004\u0014DA!D\"A\u0010\"\u0010@\u0014@ @\u0001@D\u0001@ @ \u0001D\u0014D$D\u0011\u0000\u0000\u0000@@\u0000\u0010\u0000 \u0004\u0010@\u0001 \u0010\u0010\u0010\u0000\u0000\u0001@\u0002\u0001\u0001\u0011\u0012\u0001A\u0010@@\u0001\u0004\u0014\u0014\u0011@\u0000!\"\u0012\u0011!\u0010\u0001\u0001D\u0014\u0014D \u0002\u0014@\u0004D$\u0011\u0001B \u0001\u0014\u0012@\u0010A\u0002@D\u0001!\u0000\u0002\u0000\u0014A \u0001\u0001\u0001A\u0010\u0004\u0014 \"\"\u0001\u0001\u0011@\u0010\u0000@\u0004\u0004\u0014\u0000\u0000\u0010@\u0014D\u0014B\u0011\u0012!\u0014\u0001\u0000A\u0004\u0014\u0014\u0000\u0011\u0010\u0001\u0004\u0001\u0000\u0014@\u0004\u0000\u0000\u0000\u0010\u0010$A\u0001\u0010\u0004\u0014A\u0014\"\u0014\u0004A!\u0000@@\u0011 \u0004@\u0001D@A \u0001\u0002A\u0011A@\u0010@\u0010\u0014\u0011 !DD@\u0011\u0010 \u0014\u0014A\u0001B@!\u0012\u0012\u0012\u0014@\u0010\u0000\u0000\u0011\u0010$\u0010A@D\u0004@@D \u0004\u0012B@A\u0010\u0002B \u0000A\u0004\u0000\u0001!\u0010\u0011 \"\u0012\u0014\u0011\u0000\u0001\u0000@\u0000\u0010\u0004B\u0000@\u0004\u0010\u0000\u0011\u0014\u0010\u0000\u0010\u0011\u0004\u0011 A\u0010\u0010\u0000\u0000\u0011\u0010A\u0001\u0000\u0000B\u0010\u0000B\u0010\u0000 \u0014\u0000\u0001\u0000\u0001\u0001\u0011 A\u0011\u0010\u0010A\u0010\u0001\u0001\u0004\u0010\u0001\u0012D\u0004\u0001\u0010\u0000\u0010\u0010\u0011\u0010\u0001\u0011\u0010\u0014\u0000\u0011\u0011\u0010 \u0001\u0001!\u0012\u0001A\u0004\u0010 \u0001\u0001A\u0010\u0014\u0011\u0012\u0011D\u0011\u0001\u0011\u0014\u0001\u0014\u0000A\u0001\u0004\u0004\u0000\u0011\u0010\u0014@\u0004DD\u0001\u0001A\u0004@\u0014\u0000\u0002\u0001A\u0011A\u0004\u0001\u0001\u0014\u0014\u0014\u0010\u0001@\u0011AA\u0011\u0000\u0014\u0010\u0011\u0002@\u0001 \u0004\u0002\u0010A\u0011\u0014\u0011!A\u0011$A\u0011\u0011\u0014@\u0001 \u0004\u0004\u0011\u0001\u0011!\u0000\u0000\u0000\u0001@\u0010B\u0010\u0001@\u0004D\u0001D\u0014\u0004\u0011\u0011\u0001\u0011D\u0004\u0000A\u0014\u0004A\u0004\u0001\u0012\u0001\u0001\u0010 \u0010\u0002\u0011\u0000\u0000D\u0004@A\u0001\u0014D\u0010\u0000\u0010\u0010!\u0010@\u0014\u0001\u0000@A\u0011!\u0001\u0004D\u0010A\u0001\u0001\u0000\u0014\u0004D@ \u0011DD\u0014!BA\u0001ADD$B$@B\u0014DD$DBDDAA\u0001!\"\u0012B\u00010\u0001\u0002@\u0000\u0002\u0010D\u0004\u0014\u0004\u0000\u0000\u0002\u0010\u0010\u0010\u0011\u0004\u0001B\u0014\u0001\u0001!!\u0014\u0014\"B\u0012\u0004@\u0001\u0011\u0012B\u0004\u0000B\u0012\u0014\u0010\u0000\u0012\u0014D\u0001\u0004@\u0004\u0001DAA@\u0010\u0010\u0002\u0001\u0001D\u0011\u0000\u0001\u0014A\u0010\u0014\u0001D@\u0001\u0001\u0004B\u0000\u0004\u0000BDA AA\u0011\u0014\u0012\u0001\u0011\u0010\u0010\u0001\u0011\u0011\u0000\u0011A\u0001\u0010A\u0000\u0011\u0000\u0000\u0011B\u0011\u0004@B\u0001\u0012\u0010!\u0014\u0010\u0011\u0001\u0014D\u0010@\u0014\u0004\u0010D\u0001BA\u0011!\u0010\u0014\u0012\u0014\u0010\u0000\u0010\u0011\u0004\u0000\u0014!@DA\u0014\u0004\u0014\u0001\u0011\u0004\u0004$\u0002\u0011\u0000@@\u0004@\u0010\u0011\u0000\u0000\u0000\u0001@\u0000\u0014\u0014@D\u0004@A\u0000A\u0011\u0002\u0011A\u0010\u0000\u0004$\u0002\u0002\u0004\u0001\u0010!\u0011\u0004\u0004\u0010\u0000\u0000\u0004\u0004\u0012\u0002\u0001\u0011A\u0011\u0011\u0011\u0000 A\u0001A\u0000@\u0001\"\u0004\u0004#\u0004D\u0011@D\u0011\u0004\u0002\u0001A\u0004\u0004\u0001\"\u0014\u0002\u0014B@\u0001A\u0004 @DDD\u0004\u0011@D\u0000\u0004\u0001\" \u0012\u0000\u0004\u0001\u0011 \u0010\u0004\"A \u0004\u0000\u0004\u0004\u0012@ B@\u0010@\u0000@\u0010\u0010\u0010\u0000\u0004\u0011A\u0001\u0000\u0000B\u0010\u0004@\u0004\u0000@@\u0001\u0014@\u0000@D\u0014B\u0014\u0014\u0000@@@\u0002B\u0000 \u0010 A@\u0004D\u0000\u0001\u0014\u0000\u0001A\u0000\u0004\u0011\u0014\u0004@AD@!B\u0012\u0014B\u0011\u0014\u0014D$A\u0012BA\"D!\u0001\u0000\u0010A\u0014A\u0010\"$A\u0002\u0000\u0002 \u0004\"\"D\u0010 \u0004\u0011\u0011\u0004\u0011A\u0004@@ \u0012\u0000\u0001\u0000\u0001\u0011\u0014\u0002\u0000\u0000\u0011\u0011\u0001\u0002\u0002@\u0000A\u0011\u0000\u0001B\u0000\u0000\u0001\u0000A!D\u0001\u0011\u0004!\u0010\u0011\u0012\u0002\u0011\u0011\u0000\u0014\u0000\u0011\u0002\u0010@ \u0002A\u0000B\u0001\u0004\u0001\u0004\u0002\"B@\u0000 \u0004BD\u0011\u0001D\u0014@\u0002\u0010 \u0011\u0000A\u0010\u0014\u0010\u0000\u0000!\u0002\u0000\u0004A\u0000\u0011\u0010\u0001\u0000\u0000\u0000\u0004\"\u0010\u0001\u0014!DAAA@D\u0004\u0001\u0000\u0014\u0004D\u0000\u0001\u0012D@\u0000@\u0001\"\u0002\u0002B\u0004@\u0001\u0004@\u0014\u0011\u0004\u0010\u0000\u0001\u0004@\u0001\u0000\u0002@\u0000\u0002\u0004\u0001\u0010\u0001\u0011\"\"\"\u0000\u0000\u0010\u0000\u0000$\u0010A\u0000\u0012\u0011\u0002\u0001\u0002\u0001\u0001\u0014\u0000\u0011\u0004\u0011D\u0011\u0000\u0000@!\u0010@D\u0000@@\u0000 @\u0012\u0000\u0014D@\u0011\u0012\u0000 \u0004\u0004\u0000$@DD\u0000\u0000\u0004\"\u0002\u0000\u0004\u0014\"\u0010\u0000\"\"\u0000\u0004DD\u0000DDD\u0014D\u0014DDBADD\u0014$@\u0001BD\u0011!DDB\u0014D$DD\u0014DDDD!D$A!\u0012D\"\"BD!\"\u0014\u0014\u0014\u0002@D\u0004\"\u0004\u0004\"\u0004\u0002\u0000\u0004\u0011\"\u0004BD\u0014 \u0004\u0001\u0001\u0012 \"AA\u0014\u0014@\u0004\u0012\u0010D\u0002\u0004\u0000\u0001\u0011!DD\u0001A\u0014\u0014\u0014D@\u0004@D@\u0004!\u0004\u0001D\u0014\"\u0012!\u0014@\u0010A\u0010D \"\u0002\u0010\"\u0002!\u0011\u0014BA\u0014\u0001\u0001DD\u0014B\u0011\u0011!B!\u0011DD!\"\u0002\u0011\"\u0010\"A\u0010$\u0012\u0010\"\u0010\"\u0011B\u0001\"BBDB@D\u0000A\u0011\u0014@B$@D\u0011$\u0012\u0001\u0014\u0002A\u0010D\u0014\u0001\u0001\u0000$\u0010\u0010@\u0010B\u0014A\u0010\u0012@B\u0000\u0000A\u0010\u0004\u0001AA\u0004\u0002\u0000\u0000\u0000\u0002!@!\u0014D\u0004DA\u0004D\u0000A! \u0004\u0004@D\u0011\u0010B!@@DD\u0000\u0014\u0011AD\u0000DD\u0000DD\u0011AAB\u0014\u0001\u0012\u0010\u0000@\u0010@\u0010 \u0014\u0010\u0000!\u0004\u0000\u0000\u0001\u0004\u0000\u0002\u0001\"@\u0010\u0001\u0000!\u0014!\u0000@\u0000\u0001\u0002\u0001@\u0014\u0000B\u0000\u0000\u0010\u0002\u0004\u0002  @ D\u0004@ A\u0014\u0000\u0010\u0011D!\u0010\u0004\u0002A \u0012 \u0012D\u0010B\u0004\u0014\u0001 \u0011A@\u0012\u0014\u0014\u0014A\u0004@\u0012\"\"\u0012\u0004\u0001B\u0004A\u0010@\u0010\u0004\u0004\u0001\u0010\u0004\u0011\u0004\u0010\u0010\u0004\u0011D\u0004\u0011\u0002\u0011A\u0011\u0001\u0014\u0014\u0010B\u0011\u0014\u0010\"\u0002!\u0014\u0001\u0004\u0000\u0010!\u0011\"\"\"\u0010!!\"\u0014\u0000\u0001@\u0012\"\"\u0012\u0012\u0001\u0001A\u0011\u0002\u0001 \u0004\u0014 \u0001\u0001\u0000\u0001\u0000\u0001\"\u0010\u0004\u0011\u0000\u0004\u0011\u0010 A\u0000\u0002\u0001\u0010\u0004\u0004\u0001D\u0001A \u0014\u0000@B\u0004 AA\u0014A\u0014D\u0001\u0002\u0010!\u0001\u0004\u0001@\u0011\u0010!A\u0000\u0011\u0014\u0000\u0011\u0000\u0001D\u0000\"\"\u0010!\u0011\u0001A\u0001BD\u0014 B\u0000@@@\u0010\u0001A\u0010D@\u0000@D\u0004\u0004\u0004\u0010\u0010@@A\u0010A\u0000\u0000\u0014@ \u0010\u0004\u0004\u0001\u0010@\u0000\u0000\u0004\u0001\u0001\u0002\u0004\u0004 \u0004\u0014\u0004D\u0001\"\u0004D\u0000B@BD@DD  @@@\u0000@\u0004\u0014!\"\"\u0000A\u0000\u0014\u0010@\u0014A\u0001\u0002 D\u0001\u0014@A\u0001\u0012@\u0014A!B@\u0001D\u0014\u0014A\u0000@\u0004A@\u0000\u0004\u0001\u0004\"\u0014\u0002@\u0002\u0004 @AD\u0014D@ABDD$@A\u0004\u0001\"A\u0004\u0001\u0004\u0014\u0002@@\u0004\u0004D\u0014\u0004A\u0000@\u0000\u0000\u0000\u0011\u0014\u0000\u0001A@DD\u0000D\u0011D\u0004\u0001!\u0000B\u0010\u0004\u0000\u0012A\u0004\u0001\"\u0004\u0011@\u0014\u0010\u0001\u0011\u0011\u0001A$A!D\u0000!\"B@$\u0004\u0014\u0012\u0014D$!AD\u0004\u0010A$DDBDBA\u0004\u0000D\"\"BDDBD\u0014 \u0014D\u0014DD\u0010!ADDDD\u0014\u0001!\"\"A\u0011\u0014$!\u0011D\"\u0014\u0010$D@D$\"\u0014DD\u0004\u0010\"\u0000\u0014\u0004\u0012@\u0010\u0002\u0001\u0011\u0001\u0011\u0004@\u0011\u0000\u0000\u0014A@\u0014\u0001\u0011\u0004A@\u0001\u0011\u0000A\u0004A\u0014\u0014B\u0004\u0010@ \u0010\u0000\u0001\u0014\u0001!\u0011\u0001B\u0011DD\u0000\u0002\u0011\"\u0012\u0000@A\u0010A\u0011@D\u0002 \u0010\u0000BD\u0000\u0001\u0011 \u0002B!\u0000DB\u0011@A\u0001\u0001\u0011\u0010\u0010$!$\u0014\"\u0000\u0004A\u0004\u0004A\u0001\u0001\u0010\u0010D\u0014\u0011@\u0001\u0010@\u0000\u0002\u0010@\u0001!@$\u0000\"@\u0004D\u0002A\u0004\u0004D\u0000\u0004\u0002AD\u0014\u0014\u0002\u0010\u0004\u0004\u0004\u0002\u0004B@\u0000\u0014B\u0004\u0011\u0001\u0014\u0014 \u0004\u0010\u0004\u0011\u0014@\u0011\u0001\u0010\u0001\u0001\u0011\u0001\u0010\u0000\u0001\u0014@D\u0014\u0000\u0001!D\u0011\u0011\u0000\u0000D\u0004\u0004@D\u0000@\u0011\u0001\u0001\u0000D\u0000\u0011BD\u0010\u0004\u0004 @\u0001\u0014\u0010\u0014D\u0004\u0010\u0002D@D\u0001\u0012A\u0000AD\u0001\u0001@\u0014!\u0004@ D\u0004\u0004$DBDBA@$\u0001D\u0004D\"\u0002\u0014D\u0002A\u0014DDD@!\"A\u0001!\u0004\u0010\u0012\u0011@D\u0014\u0001@DA\u0010AD\u0010@\u0014B\u0011D\u0010\u0004\u0010\u0014\u0014@\u0014\u0011\u0010\u0011\u0001\u0010\u0011DA!@\u0011B\u0010@AD\u0000\u0010\u0012\u0011B\u0011\u0011A\u0010\u0000\u0011\u0010\u0001@D\u0000D \u0001\u0004\u0004\u0001\"\u0012\u0002\u0014\u0004D@\u0014@\u0004AA\u0011A!D\u0010\u0014DD\u0011DDD\u0010\"D$B\u0014\u0014\u0010D\u0010B\u0011@\u0014\u0010\u0002@@\u0001\u0014\u0000\u0000\u0011\u0011\u0001\u0000\u0011A\u0001B\u0001\u0004\u0011@\u0001\u0004A\u0010\u0010\u0001\u0003\u0014\u0010\u0000\u0010A\u0011\u0010\u0014A\u0011\u0004\u0000AA\u0010\u0000\u0011B\u0000\u0001\u0010\u0014A\u0011\u0000\u0014\u0011\u0000\u0010\u0011\u0014\u0004\u0011\u0010\u0011 @@ @!\u0000\u0001\u0000A\u0000\u0001\u0011\u0010\u0014\u0012 \u0011\u0014\u0011\u0011\u0001\u0004@\u0012\u0004D\u0014D\" BD\u0011DDDD$\u0012\u0014D@\u0014\u0001A \u0000\u0011A\u0011\u0000\u0014@\u0004\u0014\u0000\u0012A\u0001\u0001\u0001\u0004\u0014\u0012\u0000\u0001A\u0000\u0014\u0000D@D \u0004D\u0000@@\u0000 \u0000@\u0010\u0000\u0004\u0001\u0001\u0001\u0000@\u0011\u0001AA@\u0010\u0014\u0004\u0001DDB\u0014@\u0010\u0010\u0002\u0014@A\u0000\u0004\u0014\u0014\u0014@\u0000D\u0000\u0000\u0011\u0010DAD\u0014\u0001D\u0000 \u0001\u0004A\u0002D\u0011\u0004@\u0001B\u0002AAA\u0004\u0004\u0010\u0010\u0004AD\u0000D\u0004\u0001D@@DD@@AAD\u0000D\u0010\u0014DD\u0004\u0014\u0004D\u0010A\u0011D\u0011\u0010\u0014\u0014\u0000\u0004A\u0014BA\u0014A\u0011AD\u0014D!\"DAA\u0014$AA\u0014\"\"\"\"B\u0014B\u0014\u0014D\u0014D\u0012\"\"\"\u0014BDA$B\u0014\u0011B\u0012!!\u0011DDA@D\u0010\u0014\u0014ADD\u0004\u0010\u0014D\u0010\"D\u0004\u0010@DAD\u0014\u0002\u0010 \u0000\"A\u0000\u0002D\u0004A\u0001\"\u0014\u0014\u0004@DD\u0000\u0004\u0004\u0012 B\u0011D$\u0001\u0004\u0001\u0011 A\u0000\u0010\u0000@\u0014\u0000B\u0011@@A\u0001 B@\u0000\u0001 \u0014@ \u0010\u0004D!@@ \u0002@@\u0001A\u0010@\u0004\u0004\u0011\u0001\u0000\u0000\u0004@@AD\u0010\u0000\u0001\u0004\u0010\u0000\u0001\u0004\u0001\u0010 \u0004B!D\u0001D\u0002\u0014\u0014\u0011A\u0000@@\u0014\u0004\u0004AA\u0014\u0014B@\u0004\u0010\u0014A\u0014 \u0011@\u0004\u0010BD\u0014D\u0010!\u0012\u0012@@@\u0004 \u0011\u0004@D\u0000 \"BD$\u0001$ \u0001\u0004$\u0010DA\u0001\u0000\u0014\u0011\u0002\u0010\u0010\u0004\u0000\u0004\u0010\u0010\u0010\u0004\u0000\u0014DD\u0010\u0014DD \u0010@\u0010\u0014 A\u0011@\u0014\u0011\u0000\u0000\"DD\u0001\u0001\u0000\u0000 \u0004\u0001$\u0001\u0014\u0000\u0014\u0004\u0000A\u0000 \u0001\u0002\u0004\u0004AA\u0004\u0001\u0004\u0000\u0014\u0014\u0010@ \"\"\u0012\u0014@\u0001DDA@@A@D\u0001D\u0010BA\u0014\u0010\u0001\u0004\u0012@\u0001\u0011\u0010\u0014AA\u0010 A\u0011\u0011DA@D\u0004@@@\u0014\u0004D!\u0010\u0000\u0004\u0000\u0001\"\u0004\u0000\u0000B\u0014!BAAD!\u0014B\u0001\u0011\u0011\"\u0001 \u0000\u0000\u0010DD\u0004\"D@@\u0014\u0014\u0011B\u0014\"D\u0014BD$\u0014B@@@A!\u0001\u0000\u0001@@\u0000\u0004\u0001B\u0004\u0010DD\u0011\u0014@A\u0010@@$DD\u0000D\u0000\u0004B@\u0000\u0004\u0014$\u0001A\u0001\u0014\u0004\u0001\u0011\u0011\u0011\u0014B\u0010BAA\u0011\u0010\u0010@\u0001\u0011AD\u0010\u0010\u0014\u0001A\u0010D$\u0004\u0002\u0004A\u0011B@B \u0010\"BD$\u0014\u0011\u0001A@ \u0014\u0014D \u0014\u0004!\u0014\u0001@@@A\u0004A@\u0001\u0001A\u0010\u0002D\u0000\u0002BD\u0000@\u0004\u0001!\u0004\u0001\u0010\u0004A\u0011\u0014@\u0014\u0010@\u0001\u0000\u0001\u0000\u0010DA\u0011@D\u0004A\u0004\u0004@@\u0004\u0004B@ @\u0001\u0000\u0000\u0001\u0014\u0000A\u0001 \u0011\u0001 \u0004 \u0000@DD D \u0012\u0000AA\u0000\u0001\u0004D\u0010\u0000D\u0004\u0004\u0014@\u0000A\u0004D B \u0001\u0014\u0004\u0014\u0012\u0014\u0010\u0001\u0004\u0000\u0002\u0001\u0004\u0004\u0004\u0001\u0001\u0011 \u0001A\u0011@\u0004\u0000D\u0010\u0010\u0004\u0010\u0000\u0001\u0001@A\u0010\u0001\u0011\u0010\u0001\u0004A\u0001\"B\u0010\u0014\u0010\u0004\u0001\u0002\u0010\u0000\u0010\u0004\u0004!\u0011\u0004\u0001\u0000\u0011@\u0004\u0004\u0000\u0000\u0000 \u0004D\u0000@\u0010A@$D\u0011\"\u0001\u0002@\u0010DAD\u0001\u0014\u0001@\u0001A$\u0001\u0010\u0014BA\u0011!\u0011\u0000\u0004BDDD\u0011\u0004\"\u0012\u0011@\u0012\u0001\u0000AA\u0011A\u0011\u0014A\u0012DA!\u0011$\u0014$!\u0004D\u0001D\u0014\u0001!\u0014D\u0010@D\u0000D0\u0004\u0004\"$\"DD\"D\"@\u0000D\u0014@!@D\u0002D@@\u0004\u0010D$B\u0004\u0011\"\"\"\u0011\"\" \u0012@\u0010\u0011\u0014\u0001D\u0014$A!B\u0004!D\u0014D\u0004\u0012@\u0010D\u0000\u0011D\u0001\u0004B\u0004B\u0004\u0012@\u0010 D@\u0012@\u0000@\u0002\u0002A\u0011\u0014 \u0012AA\u0014\"\u0014\u0012\u0001\u0001\u0012DA\u0004D BD\u0010@@\u0001\u0010\u0011\u0004\u0000\u0012\u0010$!\"\u0011\u0010B\u0000\u0011\u0001\u0001\u0014\u0011@!\u0001!\u0002\u0000\u0014B\u0011@\u0011\u0004!\u0001 \u0004\u0004\u0004\u0010@D@A\u0014BDAA\u0004\u0014\u0002\u0004\u0001@B\u0001\u0002A\u0004\u0001\u0004\"\u0014\u0004!DB\u0011\u0000\u0010\u0001A\u0011\u0004\u0004\u0000D\u0001\u0014\u0014\u0000\u0014\u0012@\u0000\u0002\u0002\u0000\u0000\u0000\u0001A\u0000\u0001\u0014\u0010\u0014A \u0004\u0003\u0014@A\u0004\u0004\u0000\u0004\"\u0004\u0004\u0014\u0004@\u0000A\u0011 \u0010D@ !\u0011\u0000\u0001D\u0000! A\u0004\u0000@\u0000\u0000@\u0011@@\u0014\u0014A\u0011\u0004\u0004\u0014\u0014\u0010\u0011\u0011\u0014!\u0014!\u0014\u0001\u0011\u0012A\u0010\u0004\u0004 @\u0000\u0011\u0004\u0001 \u0001\u0001\u0001\u0014\u0000\u0011B\u0000D@@@A\u0010DD\u0000 \u0004\u0004\u0000\u0014@\u0010\u0004\u0001AD\u0000\u0010A\u0004 @@ \u0011\u0000\u0010\u0010\u0000$@AD\u0014\u0004\u0000 \u0014\u0010\u0001A!D\u0014\u0014D\u0012\u0014\u0000\u0014\u0004\u0001\u0000D\u0014@\u0010\u0001@@\u0001\u0004\u0001D@ \"\u0001\u0000\u0000\u0004B\u0001AA@\u0011\u0000@\u0014\u0004\u0012\u0010@\u0011\u0011B !D\u0004\u0000B @\u0000@\u0000\u0001\u0001 \u0002A\u0000\u0010\u0001!\u0012\u0011D\u0000\u0000\u0014A\u0001@\u0010\u0004\u0001@!\u0000\u0012\u0010\u0002@\u0001\u0012\u0010\u0010 \u0010\u0004\u0014\u0000\u0014\u0011\u0002 D @\u0001\u0010\u0001\u0011\u0010\u0011@\u0000\u0001\u0011\u0000!\u0001\u0010\u0014\u0000\u0001@@\u0004\u0004D\u0001B@ A\u0004A\u0004D\u0004\u0014\u0000\u0011\u0001\u0014\u0004\u0010\u0001\u0011\u0011$A@\u0011DD\u0004AD\u0002BD\u0011\u0014AD\u0010\u0014\"\u0000\u0000A \"B\u0011\u0010 !\u0010 \u0001\u0012D\u0010\u0000\u0004\u0011@\u0000\u0001@@\u0001 A\u0010\u0000\u0004\u0000\u0010@D\u0011@\u0011\u0010D\u0011\u0004\"AD\u0011A@\u0000\u0001!BD\u0014B!\u0004@\u0014\u0004\u0001DDD\u0000!\u0004\u0011\u0014BABA\u0001D\u0011\u0001 \u0010!  D\u0004@A@D\u0000\u0002\u0001D\u0000\u0014\u0001\u0014\u0010\u0010\u0000\u0010\u0000\"\" \u0012@ B\u0004\u0002\u0001\u0000\u0001@\u0010\u0012@@\u0000\u0011D\u0014D@\u0010\u0010ADA\u0004\u0001\u0001\u0001\"\u0014\u0002\u0000@@\u0000B\u0011\u0002 \u0012@\u0000 ! A\u0014\u0010\u0000\u0014BD$\"\"D\u0004\u0004@@@D B$DD\u0002\u0004D\u0004DA@\u0004B@\u0010@D\u0014A\u0002DB\u0014D\u0014@!B\u0010\u0002\u0001\u0001A@\u0011\u0010\u0014ADDD\u0000\u0004\u0012B\u0010\u0004\u0000\u0010\u0001\u0004\u0004\u0011\u0000AA@\u0004\u0004\u0001\u0001DD\u0004ADD\u0014\u0004D\u0011D@AA@\u0014\u0014\u0000D\u0000B\"D \u0010@D\u0010\u0011B\u0004\u0004@ \u0010D\u0000@\u0011\u0014D\u0011\u0002D\u0002\u0010\u0000\u0004D\u0001\u0014\u0010A\u0000\u0000\u0010\u0000D \u0000\u0011\u0011\u0010\u0000@\u0001A\u0010@\u0000\u0000D\u0000DA@@\u0004#\u0004 \u0004\u0014\u0004\u0002@\u0000\u0002A\u0011@\u0000\u0004\u0000\u0004\u0001\u0010!\u0010\u0014\u0011A\u0014\u0004\u0001\u0000\u0001 \u0010@D\u0010 DDAAB$\u0014 \u0004B$D\u0000\u0014B\u0000D\u0004DD@BABD@D\u0012DA\u0010\u0004\u0010D@DDAD0\u0004\u0004\u0004\u0002D\u0004\"C\u0010@\u0000\u0000\u0001\u0010\u0000\u0014DD\u0000\u0002\u0011\u0000 !\u0014A\u0002\u0010\u0000\u0000\u0002\u0004\u0014\u0002\u0012\u0011D\u0002\u0012! \u0014\u0001\u0002\u0011D@\u0004!\"\u0004\u0004\u0001\u0000\u0001\u0000@\u0004\u0010B\u0014\u0002\u0010@AABD\u0000\u0001AA\u0001\u0014\u0011!\u0014\u0004\u0004\u0014\u0014@\u0010@\u0001D \u0000\u0010\u0000A\u0000\u0000\u0011A\u0001\u0004A@D\u0010\u0004@@A$\u0002 \u0014$\"@!\u0014\u0010\u0014$BD\u0001A\u0011$\u0004\u0010@A\u0001\u0004\u0010\u0000A\u0014\u0004@\u0001D@\u0001D\u0010\u0014@\u0010@@\u0004\u0014\u0004@\u0004B \u0001D\u0004\u0002A\u0001B\u0014\u0002\u0010B\u0001@\u0000\u0010\u0000\u0000\u0010\u0010DA\u0004\u0004D\u0000D\u0000\u0014D\u0014@\u0014\u0010@\u0004\u0001\u0004\u0000\u0000 \u0011\u0010\u0014\u0004\u0011\u0002!\"AA\u0010D@\u0001\u0000\u0014\u0004\u0000\u0010\u0002@\u0000\u0001\u0010\u0014A\u0001\u0012\u0004A\u0004A@\u0004\u0001A\u0010 !\u0004A\u0014\u0014BDAD!$B\u0010DD\u0011D\u0001ADA$DDDA\u0004A!\u0011\u0004D\u0014\u0014\u0004\u0004B\u0014 \"\"\"\u0004\u0014\u0011\u0012@@\u0001\u0011\u0014DDA\u0004\u0004$\u0012\u0002\u0002A A@$\u0010\u0001\u0001\u0010@D\u0000D@\u0004\u0011\u0010D@\u0000A@\u0000\u0004DD\u0004\u0010B\u0014@\u0011\u0004\u0014@ \u0004\" \u0002\u0002@\u0014\u0010!\u0000D\u0000\u0011\u0011\u0014\u0001\u0014\"\"\u0011 B\u0011!\u0011A\u0014\u0004\u0011DA!B\u0014\u0014$A@\u0014\"D@\u0004D\u0011\u0010\u0014@\u0011@\u0000\u0011\u0001\u0001\u0014\u0014D\u0014!B \u0001B\u0004\u0004D\u0001D\u0004D\u0004\u0004\u0004\u0004D\"\u00020\u0011\u0011\u0010A\u0014@\u0014@!\u0001\u0001\u0012\u0004 \u0010\u0011\u0000\u0001\u0000\u0001\u0014@\u0000D@\u0002\u0011\u0014@$\u0000\u0010\u0004\u0002\u0010\u0001\u0011\u0000D\u0014\u0014\u0010\u0014\u0000@DD@D\u0004A@!\u0014\u0002\u0000A\u0010@DA$\u0014A\u0014D\u0004!\u0010D\u0001\u0011\u0004 \u0010 \u0010\u0014\u0000A\u0004\u0010\u0004!\u0000@\u0004\u0011 \"\u0004@\u0001\u0010 \"@\u0010\u0001\u0000  \"\u0000\u0010 \u0004\u0000\"\u0000\u0011\u0001\u0001$\u0004A@@\u0010\u0010\u0010\u0014\u0014\u0000!\u0000\u0012\u0000\u0010A\u0004A\u0004\u0000\u0000\u0002\u0011\u0000@@@\u0014A \u0014\u0010\u0010\u0010!@\u0011\u0010@\u0000\u0001\u0002\u0010\u0004\u0004@\u0001\u0011\u0010\u0014\u0000\u0004\u0001\u0001\u0014@\u0004\u0001\u0004\u0010DD\u0004@\u0001\u0012\u0012\u0004 @!\u0000\u0012DB\u0014@\u0001\u0010\u0004\u0004\"\u0001@\u0004ABA\u0011\u0000\u0014A\u0011\u0011\"DA\u0011D\u0000A\u0010\u0002D!\u0000\u0004\u0010\u0004@D!\u0010BA\u0004 D@\u0010\u0010\u0001\u0001D\u0000\u0014\u0000\u0000\u0011\u0010\u0001\u0010\u0010\u0000\u0011\u0012\u0014AD$\"\u0011D\u0010\u0010@\u0011\u0010A\u0004@\u0014\u0010\u0010\u0014\u0011\u0011\u0011\u0011\u0001\u0014@DA\u0004@\u0001\u0011\u0014\"@\u0010\u0004D@\u0011\u0010\u0010@@\u0001\u0001A@@A\u0001\"\u0014@A\u0004\u0004D@\u0010AD@\u0001\u0014DDDBA\u0014D\u0014\u0000B \u0002 \u0000\u0002\u0002\u0011\u0001 \u0002\u0010\u0001\u0000\u0000\u0011A\u0004\u0002\u0004\u0002\u0014\u0002\u0011DA$\u0011\u0010\u0011\u0010\u0011D$DD\u0014\u0014ADDD\"A\u0014AD\u0014D\u0000\u0001!!\u0002\u0001\u0011\u0004AD\u0010\u0014\u0004\u0012@D\u0001A\"AD\u0010DAAAAAAD@\u0010\u0010A!\u0012@A\u0000B\u0000\u0012D\u0011\u0012A\u0010AA\u0001\u0010\u0000\u0010D!\u0000\u0000\u0004@\u0004\u0011\u0002\u0014D@D@\u0001B\u0010AA@\u0010DD\u0010!\u0000\u0001\u0000\u0012@\"\u0011\u0014\u0000\u0014DA\u0000\u0011\u0010\u0000\u0001@D\u0010@@\u0010 \u0000\u0001\u0001\u0011!\u0004A \u0000\u0011\u0012\u0002\u0004\"\u0011\u0002\u0001 $\u0000 \u0010\u0001\u0012\u0000\u0004A  \u0010 \u0004\u0004A\u0010\u0010\u0004\u0004\u0001\u0010\u0010\u0011\u0000\u0011\u0001\u0004\u0014BA\u0011@ A\u0010DD\u0004\u0014AA@\u0001\u0004!!\u0004\u0012\u0012\u0001@\u0011D\u0001\u0010\u0014\u0001!!\u0011\u0014A\u0011BDA\u0010D\u0004\u0011\u0000!\u0014\u0010\u0014\u0011 A\u0012\u0002\u0000\u0002\u0014\u0012\u0014 \u0014D@\u0001\u0012\u0004B\u0014AD\u0010\u0004\u0000\u0000A\u0014AA\u0014\u0010A@@\u0000@@D@@ \u0014@\u0004@D\u0004\u0004\u0002B@\u0000D@\u0000D\u0004\u0014\u0000B\u0000D\u0004\u0012 \u0012 \u0000\"\"\u0012\u0000\u0002\u0004\u0000 D\u0001\u0000\u0004\u0004B \u0002\u0004 \u0004\u0004\u0011D\u0000\u0000$\u0000D\u0012\u0002\u0000\u0012\u0000\u0000D\u0001\u0014\u0014DD\u0011\u0014D\u0001DA\u0014!ADA\u0004\u0002 B\u0001AD\u0004@\u0014\u0014D@\u0004\u0001\u0001B@A@\u0000A\u0010!\u0014\u0014\u0000\u0001\"\u0014\u0014\u0000$\u0010D\u0011\u0010\u0000DA\u0001@\u0011\u0004 \u0012\u0004D\u0010@\u0004\u0004B\u0000\u0014A\u0000\u0000\u0004\u0000\u0010DAD\u0010\"@\u0014\u0014\u0001\u0014 \"\u0002\u0002B\u0001A\u0010\"@A\u0010\u0010\u0014\u0014\u0004\u0014A\u0012\u0000\u0012\u0004ADDA\u0004\u0004DB\u0010\u0010\u0004\u0014\u0002D@D\u0004D\u0010\u0001\u0002 \u0014D@\u0000\u0014\u0004\"\u0004\" \u0014@\u0004D\u0004\u0000\"\u0014$\u0012D\u0004!!\u0002\u0004\u0014\u0001A\u0004@D\u0000 B\u0000\u0002\u0002$B\u0000\u0001\"\"\u0004\u0011 BA@D A!\"\u0011\"\u0010\"\u0010 D\u0000D\u0004\u0001A\u0004@A\u0000\u0014\u0011B\u0000\u0004\"B@\u0000 \u0001\u0010A\"\u0001\u0000\"\"\u0001A\u0000\u0004D@ \"\u0011\u0004\u0000@\u0001\u0001\u0000\u0000A\u0004!\u0010\u0014\u0011\u0010\u0001\u0011A!\u0011\u0001\u0000D\u0010\u0000\u0010D\u0004\u0012\u0004A \u0001@\u0004\u0010 @@\u0010\u0010\u0014\u0001\u0011\u0011\u0011\u0012D@@D\u0014!\u0014D\u0010\u0004\u0011\u0014\u0001B\u0004\u0001\u0000\u0010B\u0014\u0002DA\"BD\u0002D!A \u0004\u0004\"\u0004\u0004\u0012\u0004D@\u0002\u0000\u0000@$@D\u0000\u0014\u0004\u0011\u0014\u0010\u0011@AAD\u0014D\u0014D$\u0011BA\u0010!D\u0011\"AA@\u0000\u0014 \u0010D\u0004D\u0000D\u0001\u0001A\u0014A\u0001\u0011\u0000B\u0002!A\u0004\u0000\u0002\u0001   \"\u0000\"\"\"\u0002\"\u0010 A!\u0010\"\u0014!@D@A!!\u0000\u0000\u0001\u0001\u0000\u0010$\u0001\"A \u0001\u0004\u0004\u0010\u0000A\u0010B\u0010\u0010\u0011\u0014\u0001\u0011\u0014\u0001\u0014\u0014\u0000D\u0004\u0011\u0014\u0011\u0010\u0004\u0001A \u0000 \u0001\u0010\u0000\u0011\u0002\u0004A\u0011\u0011A\"\u0011\u0000\u0002\u0011\u0001\u0000\u0010\u0001!\u0004DA\"\"\"\"\"\"\"\"ABBDD!\u0014\"\"\u0014\"\"BD\u0014\"\u0012A\u0011D\u0014\u0002!\u0014\u0011\u0014A!ADA!\u0002\u0014D\u0001DD!\"\"\u0014D!\u0014!D!\"\"\"D\u0004\u0004\u0010\u0004B@ \"\u0000\u0004\"A\u0004\u0002 \"\"\"\"\"B \"B\u0010@D \u0001\"B\u0000\"\u0004D\u0004\"\"D\u0001B B\u0004D\u0001BD\u0004\u0004\u0002\u0001D\u0010\u0004\u0012\u0000B\u0014D!\u0010\u0001\u0001DD\u0012D\u0004A@@\u0000@!A\u0011A \u0011A\u0010\u0014@ \"\u0001 \u0012B\u0000A\u0000\u0001A\u0010\u0004$\u0000\"\u0001\u0001A\u0001\u0000\u0004\u0004AD\u0010ADD!BA\u0011\u0011\u0014\u0004A\u0004\u0000\"\u0004\u0004D\"\u0004AD$\u0002\"@\u0004\u0000 \u0004\u0000D!\u0004AA\u0001\u0010\u0011DA\u0000D\u0010\u0010\u0001ADA\u0010A\u0010\u0014A$ \u0014\u0004\u0014\u0012\u0012D\u0011!\u0014\u0014D\u0014\u0011D$@\u0000\u00042\u0013\" \u0001B0\u0003 \u0004@@\u0004 \u0014\u0001@D\u0010A\u0004\u0004\u0014$\u0002A\u0001\u0014\u0012D\u0014\u0002\u0002\u0000\u0011\u0001A\u0001A\u0004\u0000AD\u0000!@!\u0010\"AA\u0011@!!\u0001\u0004\u0004\u0004@\u0011\u0000\u0001A\u0010\u0001!\u0012\u0010\u0014\u0010\u0001\u0004!D!\u0000\u0010D @\u0001@\u0001\u0004D\u0004B@\u0014\u0001\u0000\u0001\u0014\u0001\u0011\u0010\u0014\u0000\u0014\u0001\u0010\u0004\u0004\u0011!\u0010\"\u0001\u0000\u0011\u0014\u0001 \u0011\"\u0014!\u0011\u0011\u0011\u0012A\u0011\u0010@\u0014\u0014A\u0001\u0012\u0014\u0010@@\u0010\u0002D\u0011\u0001\u0011@DDD\u0001\"\u0012A\u0014\u0014\u0011 DA\u0014D\u0004A\u0001\u0010\u0014\u0014\u0011\u0000\u0010\u0000\u0000D\u0004\u0000\u0000\u0014\u0011\u0010D\u0014\u0004D\u0001 !\u0002\u0010\u0000A\u0000\u0011BBA\u0000\u0002\u0011\u0014@\u0004D\u0012\u0011A\u0010\u0000\u0000\u0011\u0010\u0000B\u0000\u0014\u0014B\u0011\u0001\u0001\u0001\u0001\u0000\u0012\u0004\u0002\u0010A\u0004\u0001DD\u0000@\u0004\"DA@!\u0000\u0014\u0014\u0001\u0000\u0002 \u0000\u0012\"\u0014\u0010\u0012\"DA!BD\u0014\u0014\u0004\u0014 \"\u0004\u0000\u0002\u0000\u0000\u0000@\u0001\"B@\u0001\u0010\u0000\u0001\u0002\u0004A\u0001\u0000 A\u0001\u0002A\u0004\u0004\u0001\u0001\u0014\u0002 \u0012\"\u0001\u0000 \u0012\u0014A\u0004\"\u0000 \u0014\u0004@!\u0011\u0004A\u0011\u0010\u0010\u0011\u0014A\u0000\u0011\u0002\u0010\u0001\u0011\u0010\u0010\u0011@\u0000@@\"!\u0010B\"\"\u0011\u0011\u0014!D\u0014D@\u0010\u0004@\u0004B\u0001\u0010B\u0000\u0010\u0000\"@D\u0011 \"\"D B \u0012D\u0000\u0004\u0004\u0001D\u0012A\u0001\u0011\u0011\u0004\u0004\u0010\u0000\u0000!D!\u0012A\u0001\u0004\u0000\u0004D\u0002D\u0011\u0001\u0004\u0001\u0014\u0004\u0000\u0014D\u0010 $@\u0011B@ \u0000BD\u0011D\u0001\u0014D \u0004\u0014\u0010\u0000D@\u0000\u0011\u0014!\u0000\u0004\u0004D@\u0004$\u0000B\u0012 DA!\u0004B\"\u0004DB \u0014DDA\u0014B @\u0010\u0004\u0000\u0001B\u0010\u0002\u0004\u0012\u0002\u0012 BA$\u0010\u0002\u0014\u0002\u0010@@\u0012\u0014 !\"B\u0004\u0000\u0004\u0004!\u0000\u0000A\u0000\u0004D\u0000\u0014B\u0004A\u0010\"\u0014\u0011A\u0011\u0004D\u0004 A\u0000D\u0004D@D\u0000$\u0010\u0014\u0002\u0010\u0010A@\u0004\u0010@\u0004@ !\u0011BAD!\u0004\u0004AA\u0001\u0010 \u0000@@\u0002D@@D\u0001\u0010\u0002@@\u0001\u0001\u0011@\u0000\u0010\u0001\u0010\u0011\u0010!\u0000\u0011\u0001B\u0000!\u0011\u0011A@\u0004\u0001\u0014B\u0011\u0011\u0010\u0012D@DD\u0001D\u0010 \u0011\u0011\u0010\u0014\u0011\u0014\u0000\u0001\u0011\u0014\u0014A\u0011\u0004BA\u0014A\u0000\"!!\u0010\u0010\u0014\u0010\u0011\u0010DD\u0014\u0011A!\u0011A!\u0010\u0002\"AA@B@AD$\u0002\"\u0004\u0011\u0000\u0000AAD\u0011\u0014\u0014\u0004\u0010\u0000\u0000A\u0000AAA\u0004D\u0011\u0014A\u0014$D\u0014 D\u0000A\u0000\u0004\u0004@@\u0000 $D\u0004A\u0004\"\u0002\"\"\u0004\u0001\u0004D \"\u0001\u0001\u0004\u0000D\u0000BA\u0000@@!\"\u0014\u0011!\u0002\"@@\u0000\u0000\u0004\u0011\u0001\u0010D \u0014D@\u0000\u0002\u0014@\u0010\u0010 \u0012A\u0001!\u0004AD!@\u0000\u0010B B\u0014\u0004\u0000\"\u0001\"\u0010\u0000\u0001\u0011A\u0001\u0004\u0000\"\u0001\u0002\u0004\u0012\u0011\u0002\u0004\u0011D\u0011\"B\u0014\u0002A DA B \u0012  $\u0010DDA$\u0001$\u0002\u0011\u0014!B\u0010\u0011A\u0001\u0000\u0000\u0000\u0004\u0010\u0000\u0000\u0000\u0010\u0004@\u0000\u0001\"\u0004\u0004\u0002D\u0001B \u0014\u0004\u0010A\u0000!!@\u0000\u0010\u0000\u0001\u0014\u0010\u0011\u0000 \u0000\u0001AA\u0010\u0000\u0000\"\u0010DD\u0000\u0004\u0011A\u0001\u0000\u0000  \u0002\u0001\u0000\u0002\"\"\u0002\u0002  \"\"\"\u0002\u0000\u0001!\u0000\u0004\"\u0012  !\"\u0010\u0001\u0001! \u0012 \u0001\"!\u0000\u0000 \u0000\u0001! \u0001!\u0000\u0001\u0012\u0002 \"\"\"\"!\u0002\u0000\u0000 \u0001\u0001\u0012 \u0012 \u0000\u0002\u0000\u0000 \u0011\u0002!\u0011\u0004\u0002!\"\"\u0001A DD\u0004\u0010 \u0011 \u0004\u0012\u0010\u0000\u0010\u0000\u0001\u0001\"\u0012\u0000 \u0000\u0002 \u0002\u0000 \u0000\u0000\"\u0000   \u0000\u0012\u0001\u0001\u0004\"B$0\u0000!@ \"\u0002D\u0004\u0000\u0000\u0012\u0011\u0002\u0000\u0000\u0004@@DA\u0010\u0010\u0014\u0014@\u0014\u0011\u0000!@\u0000\u0001\u0010\u0010 \u0014\u0000\u0001A\u0014\u0004\u0004D\u0011\u0010\u0014\"\u0010\u0014\u0014@D\u0014\u0011A\u0001D\u0004!A\u0001A\u0011\u0014\u0000\u0004\u0001DA\u0010\u0011\u0014\u0002D\u0000$\u0001A\u0004A\u0014DD\u0011B\u0011\u0004AD@D\u0001\u0014D\u0004\u0000\u0010\u0001\u0000\u0001\u0000$\u0010\u0002B@!\u0001@\u0001\u0010\u0011D\u0000\u0004\u0011 \u0014@\u0001\u0001\u0011A@\u0010\u0011\u0000\u0001\u0000D\u0010\u0001\u0004\u0010\u0011\u0011\u0002\u0001\u0010A@\u0014A@@D\u0014D\u0014D\u0011D\u0014D\u0010\u0000\" \u0004\u0014\u0000\u0010D\u0000\u0000\u0014\u0004B\u0010\u0000!\u0014\u0014\u0001\u0010 \u0000A\u0014\u0004BD\u0004 \u0004\u0012\u0014\u0010\u0011\u0011DA\u0010\u0014\"!DDA\u0004D D\u0004D!DAD\u0014A!B\u0014\u0014\u0014DD$D!DB@\u0001\u0014D\"B\"@@\u0000\u0014D\u0010\u0000A\u0001@!D \u0010!\u0000\u0004! \u0010\u0012\u0010\u0001\u0014\u0000\u0000DA\u0001\u0001D\u0014\u0010DDAAAD\u0011BD\u0011\u0014\u0001D\u0010\u0000\"A\u0004!DA\u0000\"\u0004\u0004B!\u0011\u0002D\u0004A\u0000\u0001\u0012\u0014DDD@@\u0014\u0014\u0014\"\u0004\u0012D\u0004!@!\u0000\u0011\u0014B\u0014A\u0010\u0014\u0010\u0002\u0004\u0000\u0010\u0002\u0014\u0004\u0010\u0000A\u0014!\u0002\u0014\u0002\u0014\u0010\u0014 \u0014\u0011\u0002\u0010!\u0012\u0004@\u0001BA\u0011D@A\u0010A\u0004\u00120\u0001\u0014\u0010\u0011D\u0000\u0014\u0011\u0010\u0004!A\u0000\u0004\u0004!\u0001\u0004\u0010\u0001A\u0001\u0011A\u0010\u0011\u0001\u0011\u0001$\u0000@\u0004\"!\u0004!\u0000\u0001\u0000\u0010 \u0011\u0010\u0000\u0011\u0004\u0014\u0000\u0010AD\u0010\u0010A\u0011\u0010D\u0001\u0011\u0011\u0011@\u0012 @\u0011\u0000\"\u0000\u0014@\u0001A\u0011\u0000\u0002\u0014\u0004@\u0011@A\u0001\u0010\u0000\u0001\u0012\u0001\u0010\u0010A\u0001AB\u0004A@\u0004D\u0011\u0001\u0004@\u0004\u0012\u0011\u0011A\u0010\u0000\u0001\u0000\u0012D\u0014\u0010 \u0013\u0014\"\"\u0010DD\u0000\u0000!D\u0000\u0014A\u0001\u0010D\u0000\u0014\u0000\u0004DD!\u0010\u0011AA@\u0004\u0014\u0000\u0010\u0010AAADAA\u0001\u0004!\u0014\u0000\u0001\u0001\u0000\u0011@\u0014\u0000\u0011\u0001!\u0000\u0010DA!!\u0011\u0000\u0000!A\u0011\u0001B\u0011\u0010\u0014D\u0010@\u0012B\u0001\u0010\u0010\u0010\u0000\u0001\u0010\u0010\u0001\u0010\u0012\u0010\u0000\u0014\u0004\u0011!\u0014B\u0004\u0001@\u0000\u0011\u0001\u0000\u0000\u0000DA\u0004\u0012\u0011\u0000\u0001\u0011A\u0014\u0001\u0010B\u0011@\u0011\"@D!@\u0014\u0014\u0004B@\u0004BDBA\u0001A!\"D@AD\u0004DD$D$ \u0014$@\u0014\u0004D\"\u0002$ \u0004!@\u0010\u0002D !B\u0014BD\"\u0004BD\u0010 !\u0004\"$\"\"\u0010B\u0014DD$@@D!@$\u0010@ \"B\u0010\u0010\u0002\u0004 \u0004AD\u0004B !A\u0000@DD\u0004!\u0014\u0004\u0010@!\u0014\u0014@\u0004\u0010\u0010B\u0004\u0014\u0002\u0001\u0012 \u0000@\u0014 D\u0014\u0011@\u0000\u0011\u0001 DA\u0004DA\u0004\u0011D\u0014\u0004\u0004\u0002A@@A\u0001 A \u0001\u0001\u0012\u0000!\u0001\u0000\u0010@D!\u0000!\u0001\u0000\u0010\u0014\u0010DD\u0010\u0001\u0014\u0012\u0014\u0011\u0010\u0011\u0000\u0010\u0010D\u0004!\u0000A@\u0000\u0001\u0014\u0000\u0001A\u0004D\u0001DA\u0004\u0011 \u0001D \u0004\u0012A\u0010 \u0014\u0012\u0000\u0014\u0000\u0000\u0000\u0010 @ D \u0012\u0002A\u0001\u0011AA\u0001\u0010\u0004!@@D!\u0010BA\u0001\u0010@ B@A\u0014D!BA\u0001\u0011\u0000A@\u0004\u0012\u0004\u0012\u0011\u0004\u0014\u0004\u0001\u0004\u0004\u0012 \u0001\u0012D\u0012\u0011@ D\u0010!\u0002\u0011@DAADAADDD\u0011B@D\u0014D\u0004\u0011A@\u0000\u0011\u0010!\u0001\u0014\"\u0001\u0010\u0001\u0000\u0004@\u0010\u0012D\u0001D\u0001\u0011A@\u0001!B\u0011\u0011\u0012\u0011\u0011\u0004\u0004\"\u0014\u0014@\u0004\"\"\u0012\u0010D\u0012\u0000A\u0004\u0002A\u0004\u0014\u0000B\u0001@\u0001\u0014\u0010\u0014B \u0012\u0004\u0011\u0011B\u0014!\u0002\u0004\u0002\u0010\u0000\u0014AA@\u0014\u0004D\"A\u0002B$\u0014\u0001\u0012\u0014\u0001\u0001D\u0001\u0000\u0010\u0000\u0000@@\u0010\u0011\u0012\u0010\u0010A@D\u0010\u0011\u0014DDD\u0001\u0014 \u0000@\u0011\u0014\u0001\u0001\u0011B \u0011DD@\u0014D\u0011D\u0011!\u0014\u0014\u0002\u0010\u0012\u0000\u0011\u0000\u0000 \"B \"\u0002\u0000\u0011\u0014\u0000D\u00140\u0004D@\u0004\u0011\u0014\u0012@\u0001\u0001\u0001 \u0010\u0012 D\u0010@\u0000\u0000@\u0010\u0011\u0011\u0011\u0002\u0014\u0001A\u0014D\u0014\"\u0011\u0010\u0011\u0011A \u0010\u0001\u0002\u0001\u0001\u0002A@\u0011@\u0004A\u0014\u0004@\u0004BA\u0000\"\u0004\u0014 \u0014\"\u0012\u0002\"\u0004\u0001B\u0001\u0004\u0002\u0001$\u0002BAD\u0001\u0001B\u0014ADD@@\u0010\u0000@@\u0014@ B@\u0004\u0014\u0001B\u0001\u0014AD\u0014\u0014AD\u0004D\u0014\u0014D\u0004@ \"0\u0004\u0014@A D@\u0014D\u0001\"\u0014DA \u0014\u0010\u0002\u0014D\u0014B\u0000AD\u0001\u0004\u0004\u0014\u0011\u0002AAA\u0014\u0012DAB\u0011\u0011\u0011\u0014\u0012!\u0001AA\u0010$\"\u0012DA\u0004AA\u0014!\u0004B\u0002D\u0014@D\"DA\"A\"\"\u0011\u0004\u0012AD\u0011$\u0010\u0014A\u0001\u0011D!A\u0011!\u0014DD!!\u0010\u0014 $ \u0001\u0010 \"$@\u0012\u0000\u0012\u0004\u0000\u0014\u0014 B\u0004!\"\u0012!\"\"\"\"\"\"\"\"\"\"\"\"\"\"\"\"\"\"\"\"\"\"\"\"\"\"BA!\u0014!\u0010A!\"\u0014\u0011D!!\"B\u0004 \u0011@\u0004\u0004D\u0014\u0000@D$\u0012\u0004\"D \u0011\u0011@D\u0014@\u0004\u0014\u0004D@\u0014\u0002\u0001B@\u0014\u0004D\u0010\u0014\u0011@\u0002\u0011A@D@A\"\u0011D@\u0011\u0010\u0014A\u0004B\u0014\u0000A\u0010A\u0010\u0001D!\u0001\u0014\u0010\u0014 D\u0001\u0002!@\u0014B\u0001\u0002\u0001\u0011\u0011\u0014@@A@\u0004\u0004\u0004A\u0002DD$ \u0010B\u0014 \u0004\u0010\u0010!D!\u0004\u0011BDDD\u0004D\u0000\u0014\u0002D  \u0000\u0004\"\"\"\"\"\u0012 \u0004\"\u0004B \"\u0001\"\"\u0002\u0001\"\"\u0000\"\"D D\u0004\u0014\u0002@\u0014D\u0004\u0011\u0000\u0001\u0010\u0004@\u0010\u0010A\u0011\u0000  !\u0002\u0011\u0010\u0000\u0011\u0001\u0001!\u0010\u0011D\u0004\u0000\u0014 B\u0011\u0011\u0010\u0012\u0010\" \u0011\u0014!B\u0010B\u0011\u0002\u0011\u0010\u0014\u0000\u0010@\u0004@\u0011\u0011\u0010\"\u0004D\u0011\u0001\"B@\u0002\u0004\u0001B !\u0011\u0004B\u0011\u0000\u0010\u0004!\u0010\u0010 \u0011!D@BD@\u0002\u0004D\u0012D$\u0001@\u0014DDD@ \"\u0000\u0014\u0012\u0000\u0011\u0000\u0000\u0014\u0011@A@\u0010@\u0010DA\u0014!\u0004\u0014\u0011\u0012\u0010A\u0014\u0014\u0014\u0002\u0001@\u0014\u0014\u0001\u0011AA!\u0011\"\u0014\"\u0014\"B\u0012!!\u0012!!!\u0000\u0012!\u0010\u0010B\u0014\u0010!\u0000\u0012\"\u0001!\"\"\"\u0011\u0002\u0012\u0012\u0012@!\u0002\u0001\u0001\u0001B\u0001\u0004\u0004\u0000\u0014\"\u0002!\u0002\u0010\u0014\u0000\u0014\u0001 \u0012\u0014\u0004 \u0000\"\u0012B \u0010 \"\u0001\"\u0004@\u0004\u0011\u0004B\u0004D\u0010\u0000\u0010\u0004\"BA\u0004B@\u0000\u0000\u0000\u0011 \u0011@AD\u0011\u0014D\u0010\u0000A\u0004\u0002\u0004A\u0014\"\u0011\u0001\u0010\"\u0014D\u0001\u0010D\u0014\u0001\u0000AA\u0004\u0010\u0014\u0012\u0001\u0004\u0012AAA!\u0014B\"\"@\u0010D@AD\u0004B@\u0001\"\u0001B\u0014D\u0011\u0010\u0004\u0001AAAD\u0004!@AA\u0000\u0002\u0010 \u0004\" B \u0001\u0012@ $\u0004@BA@\u0014BA\u0014\u0012D!D!\u0014\u0014\"@D\u0014\u0014\"\"\u0014\"\u0002A\u0011!D\u0011\u0004\u0011\u0001\u0014\u0014\u0014\u0011\u0011DDA\u0014\u0012DBA\u0011\u0001\u0011\u0001DA\u0012BB\u0004AA\u0001\u0014\u0002A\u0010\u0002@\u0011\u0014\u0010\u0012A\u0014\u0011A\u0001A \u0004\u0011\u0011@\u0014\u0004\u0000 \u0004\u0010\u0004B@\u0000\u0000\u0004\u0002\u0001\u0001\u0004 \"@\u0004A\u0000\u0004A\u0000DD\u0000\u0014\u0004A\u0000A\u0011\u0002D\u0001\u0012\u0010AD\u0004\u0014DD\u0014D\u0001A\u0001\u0004A\u0014\u0011D\u0011\u0004\u0001A\u0010\"\u0002\u0001\u0011D\u0014\u0002\u0002\u0014\u0010\u0001\u0004A\u0001\u0012\u0000\u0000\u0000\"\u0014\u0000\u0002A\u0010\"\u0014\u0001\u0001\u0000A\u0000@@!\u0014 \u0011!@A\u0004\u0000\u0001\u0002\u0012@ !\u0014 D\u0001\u0011@D@D@@\u0010\u0001!\u0010\u0001\"D! \u0001\u0010\u0014@\u0001\u0002\u0010\u0002\u0011\u0000\u0011 A\u0001 D\u0004\u0000\u0004\u0011\u0000\u0014\u0010@\u0000\u0004B\u0001\u0014D\u0004D\u0004\u0004DB@D D@\u0014A\u0004\u0014\u0014\u0014\u0004\u0014\u0014@\u00003\u0014\u0010\u0010\u0014\u0014\u0000\u0010\u0004\u0010\u0011\u0001\u0011\u0000AD\u0010\u0000\"\u0001\u0000\u0002B \u0014A!D\u0014\u0012DA\u0014D\u0014D\u0010@\u0011@@\u0000 @\u0000\u0010\u0001\u0001\u0012\u0000D\u0014D\u0014\u0014\u0002D\u0012@D\u0001DA\u0010\u0010D@ \u0001\u0012 \u0004@\u0014\u0012\u0014 B\u0004\u0004\u0011D\u0011\u0014D$DDDDAD \u0010D!D D\u0004!\u0014\u0014\u0014D\u0014\u0014\u0011DADADD!DD DD\"\u0001\u0014D\u0004D\u0014$\u0000B\u0004DD@ D@D@\u0004\u0004\u0004\"\u0014BD\u0014D\u0014DADB@\u0004A@\u0004A\u0014AD\u0000\u0004D\u0000A\u0000\u0000B\u0014DA\u0004AD\u0010D\u0010\u0004!\u0004\u0012\u0000DA\u0000\u0014\u0004\u0001\u0004\u0000@\u0004\u0004@\u0014 A\u0004@@\u0004D@0\u0000\u0012\u0012\u0011\u0014\u0010D\u0011\u0002\u0002!B\u0014\u0000\u0004\u0000\u0000\u0001D\u0001\u0001\u0010@\u0010@@\u0000\u0004\u0002$\u0001BAD!\u0011D\u0001DD\u0001D!B\u0001\u0014\u0010\u0001\u0010\u0004A\u0010\u0014\u0002\u0001\u0001@@\u0014\u0011\u0014@BA\u0010@\u0004 @\u0004\u0001D@@\u0010\u0010@\u0001\u0004\u0000 \u0000\u0014B@\u0014\u0012DA\u0004\u0004!A\u0012\u0012DD\u0014D\u0014DDAA\u0011\u0010\u0011DADDA\u0011DA\u0011\u0001\u0011\u0001\u0004\u0000\u0002 \u0012\u0010\u0004\u0000A\u0010 \u0014@\u0001\"!\u0010\u0000\u0014\u0014@\u0011\u0010\u0001\u0000\u0010\u0004\u0011DDD\u0011D\u0014\u0000\u0004\u0014A\u0011DD\u0001\u0000\u0010\u0012\u0004\u0004\u0014\"\u0011!@\u0010D\u0011\u0010\u0000\u0001\u0001\u0001\u0000\u0001\u0014\u0000\u0010\u0010\u0004\u0001\u0004\u0004BDB\u0004BDA@ BD\u0004@\u0000D\u0000\u0014B\u0001\u0004\u0000\u0002\u0011\u0002 @\u0010\u0001D!\u0010$ \u0001\u0004\u0001\u0000\u0002\u0004 \"\u0001\u0000\u0000D\u0014@\u0001\u0004\u0010\u0010\"\u0000A DD\u0001\u0002$\u0004\"D@\u0002\"\u0001\u0001DAA\u0011\"B\u0011\u0014A\u0014\u0014AAD\u0001\u0014A\u0014A \u0011!\u0014\u0014\u0002!\u0014@D\u0001A\u0001\u0004@@D\u0014\u0001\u0004\u0001 !B\u0010@A\u0010@A\u0001B\u0004\u0001 \u0014A\u0004\u0011\u0014\u0011A\u0001!\u0014 \u0001@D\u0000A\u0014D\u0012D\u0004\u0004\u0004DD\u0004D@@\u0004DDD@B\u0004B\u0002\u0004\u0004\u0004$\u0000\u0000\u0010\u0001@A\u0000\u0000\u0002@DA\u0000 \u0004@@\u0010\u0000DA\u0014\u0004\u0014AA@@\u0004\"D\u0014@\u0004D\u0004@\u0004\u0010\u0002A@\u0011 \"\u0010AA\u0004\u0001\u0010\u0001 \u0004\u0002\u0002\"$ @D \u0000\u0012\u0010\u0010 D\u0000\u0000A\u0001\u0002\u0010A\u0004D\u0014@A!\u0001$\u0000A\u0010\u0004\u0012\u0011\u0012\u0000\u0004\u0002\u0010\u0014B\u0004\u0010BA\u0004D\u0014B\u0004\u0012\u0002D\u0011B!DA\u0011\u0014B\u0014\u0011D\u0011\u0001 \u0000B\u0014\u0002\u0014\u0011\u0011\u0010AA\u0011A\u0010A@\u0014\u0014\u0001\u0001@B\u0001\u0001A@A\u0010\u0010\u0014D\u0000\u0004A@@D@\u0004\"D\u0014$\u0014DDB\u0014\u0011D\u0010\u0004AADDAD\u0010\u0001\u0010\u0001\u0011BA \u0010\u0012@\u0014@\u0014\u0010\u0010\u0004B\u0000A\u0010\u0004\u0012@\u0014\u0010\u0011\u0014\u0010\u0011\u0014\u0001\u0004\"\u0004\u0011\u0000@\u0000\u0011AA\u0000\u0000\u0014\u0001\u0014\u0000A@\u0004\u0002\u0011\u0000 A\u0010\u0001\u0000\u0000\u0000\u0004\u0002\u0010\u0011\u0010\u0004\"\"D\u0004! \u0004A\u0004\u0010A@\u0001\u0011\u0011\u0000\u0010D\u0010\u0010\u0004@A A\u0014 @\u0000\u0002\u0001@\u0001\u0001\u0011\u0010\u0011\u0004!\u0011A\u0011\u0004@\u0004\"\u0014\u0014\u0014\u0014B\u0000AB\u0010BD\u0014D\u0014A\u0004\u0000@\u0010A@\u0010AAA\u0014@DDAA\u0014AD\u0014\u0014D\u0001AD \u0010\u0014\u0004@\u0000\"\u0002@\u0004\u0001\"\" \u0004\u0011!\u0010\u0004\u0011\u0004\u0002\"\u0000\u0001\u0004\u0014\u0004\u0001B\u0010\u0001AA\u0000B\u0000A\u0004@DAD\u0000\u0011A\u0010A!\u0014\u0001\u0004\u0004\u0011\u0011D\u0011\u0001\u0004\u0000A\u0001\u0004\u0014\u0011\u0010B\u0002B\u0000@\u0010\u0012\u0011B\u0011!AD\u0014\u0011A\u0011\u0014\u0011\u0012\u0012A!A\u0014DA\u0001\u0014\u0012A@\u0010\u0004\u0010\u0004@\u0000\u0002A\u0004@\u0000@\u0004\u0001\u0004\u0004C\u0014\u0011\u0000\u0011@\u0011$\u0004\u0001A\u0011\u0002\u0000\u0001\u0001\u0001\u0001@A\u0001\"\u0002\u0000 \"\"B\u0004\"@D\u0004\u0004A\u0002\u0014DDD@\u0010\u0004B\u0004\u0002C@D D\u0010\u0004D0\u0004D@\u0014B!\u0000\u0010\u0011A\u0014A\u0010\u0014\u0011\u0010\u0014@A\u0014@D\u0004\u0004AA\u00100\u0014\u0000\u0014\u0014\u0010@\u0001$A\u0010\u0012\u0011\u0011@\u0000 D@\u0014\u0001\u0004\u0004\u0010\u0010@ A\u0000\u0014D@\u0000\u0001\u0001D\u0001\u0004\u0002\u0002\u0014\u0004B\u0010!\u0004\u0010AA\u0014\u0014A\u0014\u0011\u0014D\u0014\u0012\u0014@\u0011\u0010 \u0004 \u0001\u0001\u0014\u0004\u0004@\u0004\u0004AD\u0001\u0010D@\u0010D\u0010\u0000\u0001\u0000\u0004\u0004\u0014\u0014\u0000DD\u0004\u0000A\u0002\u0012\u0001B\u0000$B\u0000A@@\u0004A\u0010\"D\u0014\u0004\u0000A D\u0001\u0004\u0010@D\u0011!\"DA \u0004\u0004BD@@\u0004A\u0010D\"B\u0014\u0014\u0011\u0014\u0014DDDDA$D\u0010A\u0014@D!BD\u0014A\u0004DA\u0001D\u0001D\u0010\u0004\"DDD DD \u0004$BA\u0010\u0014\u0014\u0014\u0010D\u0014\u0002\u0000DD\u0014DA!D\u0001@@@\u0004!\u0004DDA\u0014\u0012\u0001DAD\u0014\u0004\u0004\u0001@@@\u0004 \u0004DD$@D\u0004\u0012\u0004\u0000\u0014DAB\"\u0002\u0004$AD\u0011D$A\u0002B\u0014\u0004D\u0010\u0000\u0001 \u0011\u0001\u0014A\u0000\u0004D@\u0011B\u0001\u0014@\u0001\u0010! \u0010\u0014\u0011\u0001\u0012\u0000\u0004\u0004\u0004\u0014\u0014\u0001\u0000D\u0010A\u0001\u0011\u0010\u0010B@\u0000\u0000 D@@\u0004\u0004\u0004@\u0004D\u0004\u0014D\u0001 \u0001\"\u0000\u0014D\u0004D@@AD\u0014\u0004@ @\u0010\u0000\u0011\u0001\u0000A\u0010A\u0001\u0011@\u0000\u0011@\u0001\u0010\u0001A\u0014\u0000!B\u0000\u0004$\u0004A\u0014@D\"\u0014\u0004\u0012\u0014@ADB\u0014@!\u0000AD\u0011\u0001\u0010\u0014\u0014B\u0011\u0011\u0000\u0004\u0001AADA@!D!BD @\u0010 \u0000\u0010A\u0000\u0004 \u0011\u0004B\u0004\u0010\u0014\u0000A\u0004\"\u0002\u0000\u0010\u0011\u0001\u0004\u0011!\u0000\u0001\u0001\u0010\u0004B\u0010\u0014D!\u0010DDD\u0000\u0001D\u0001\u0004\u0011\u0014D\u0010$\u0012\u0011\u0014@@\u0001\u0010\u0010DDD\u0010\u0014AD\u0000@\u0010\u0004\u0001\u0001\u0014\u0011 \u0001\u0002\u0004\"D\u0014 \u0001D\u0000\u0011\u0000\u0004!\u0000\u0000\u0000\u0010@\u0000\u0012DDA\u0000\u0011@!\u0011D\u0001\u0000\u0011@\u0010\u0004DD\u0004!\u0010\u0004B\u0001\u0014\u0001\u0004\u0002\u0010\u0014\u0014B!B!\"\u0011\u0014\"\"\"BD DDD\u0004\u0004\"\u0001\u0002\u0001\u0011D D0D\u0000\u0011 \u0004D@@\u00042D\u0004AD\u0000\u0001B\u0001\u0004AD\u0004DD \u0012 @D@DD D \"\"A\u0001\u0002D\u0010\u0004\u0002D@\u0014\u0010\u0014\u0002\u0014\u0012 !\u0014\u0010!\u0014D\u0014\u0014\u0014\"\u0010DD\u0014\u0014\u0001\u0010 A\u0011\u0004A\u0000D\u0000@\u0011\u0004\u0004\u0013\u0004\"B\u0004A\u0000A\u0011A\u0004\u0014\u0010\u0010@D@@@\u0001\u0001@D\u0000\u0010\u0001\u0000DA@\u0010@\u0011D\u0000D\u0004D\u0000\u0010\u0014\u0010\u0000\u0001\u0010A\u0000A\u0000\u0004\u0004\u0011@\u0010A\u0000@\u0001A@\u0010DA\u0004A@\u0001A\u0014\u0000\u0004!@\u0001\u0004A\u0000@\u0004@\u0001\u0014\u0000\u0004\u0000\u0004\u0011D\u0010\u0014\u0002A\u0001D\u0014@\u0004\u0014\u0004\u0001D\"@\u0000\u0004\u0014BA\u0010\u0004\u0001\u0004D\u0000@@@@\u0001\u0001\u0011\u0000\u0012\u0000\"\u0011\u0014\u0010 \u0001\u0014\u0001\u0001\u0001@@\u0000\u0010A\u0001A\u0004\u0014\u0001@ \u0004$D\u0000\u0010\u0014AB\u0014\u0010\u0011\u0000\u0002\u0014\u0004D\u0014\u0011\u0014\u0014A!\u0001\"$\u0014\u0014\u0014@A\u0004A\u0010\u0010\u0004\u0001\u0000D\u0010\u0004A\u0001A\u0010\u0004\u0004\u0010@!D@A\u0002D\u0004\u0004A\u0004\u0002\u0000DD\u0001\u0014D\u0001\u0010\u0010\u0000\u0014@\u0014\u0014D\u0014\u0014\u0004 \u0014@D \u0011A \u0012BD!BD\u0000\u0000@A\u0000\u0002\u0001\u0011D\u0014@\u0012\u0014A\u0004\u0004\u0014B\u0010\u0010$\u0011\"\u0011\u0001\u0010\u0004\u0010\u0011@\u0011@\u0001\u0002\u0004\u0001 \u0004\u0010\u0004\u0014AA D$\u0010\u0004D@DD\u0004\u0010DA@\u0001\u0010\u0010@\u0011 @DDA\u0014\u0002\u0010 \u0004ADDDDAA\u0004\u0004\u0002D\u0001\u0004BADD\u0000\u0002\u0004\u0004 D@@\u0000\u0000\u0004\u0001\u0004\u0011\u0010\u0010\u0012\u0011\u0001DD\u0010\u0014A\u0000\u0002AD$B\u0001D\u0014\u0014\u0014D\u0011ADA!B\u0004\u0010\u0002\u0011D\u0012A\u0010D\u0011@\u0010\u0011\u0014B\u0001DAD\u0010\u0014A\u0011B\u0010BA\u0010AA \u0011!B\u0001A\u0011\u0014\u0014D \u0002\u0000D@A\u0011\u0010\u0000\u0014\u0004\u0011\u0011\u0014D\u0004\u0002\u0001\u0000\u0000@\u0014AD! D\u0011D\u0014\u0014DA\u0014D\u0004AD@ \u0004DA\u0014$\u0004AAA@A@\u0004\u0002\u0014D\u0004D@\u0004DA !\u0000BD@\u0010D\u0000\u0001D\u0014!!!\u0014A\u0004\u0001DA\u0011\u0004\u0014\u0010\u0011D\u0001!\u0011\u0014  \u0011$\u0001\u0001@\u0014\u0012@\u0000@D\u0004\u0010\u0000\u0001\u0000\u0004\u0014\u0001\u0011\u0001\u0010D\u0000D\u0000\u0010\u0000\u0010DA\u0000\u0002\"\"@@\u0004$\u0004\u0004AD\u0004D\u0014\u0004D\u0000A\u0000\u0004ADA\u0001AD\u0004@\u0004@@\u0011\u0004\u0001\u0004!@A@\u0014@\u0000BD\u0001\u0010DDDAD@D\u0000\u0004\u0012\u0004\u0011@@\u0001\u0014\u0004D\u0010 BD!D!\u0014\"\"\u0002\u0001\u0011\u0000\u0001\u0001\u0004\u0011\u0001\u0004\u0011@B!\u0010\u0000\u0004 \u0004\u0004A\u0010\u0010AAA\u0014\u0010\u0000\u0004\u0014BD\u0001\u0000\u0000\u0011\u0010\"\u0010\u0000@D\u0010\u0014\u0014\" \u0004!\u0010\"\u0012@\"\u0004D\u0004DBDD@AD\u0014DD@$@@\u0004BA\u0004A\u0010DBD \u0012 \u0004\"\"B \"\"B \"!\u0002\u0014\u0014 \u0012\u0014 \"!@\u0014 \u0012\u0010\u0002\u0000B\u0000\u0010\u0014@A\u0014\u0012ADA!\u0014AAABADA!AD$D$\"BBADD$DBD\u0011@D\u0014\u0001\u0002A\"A\u0014\"\u0012\u0014\u0010D\u0000BDDD\u0014A\u0014\u0014D\u0004D\u0004BDD\u0014\u0002AD\u0001\u0012AD\u0014\u0001\u0001\u0002\u0012!D@A\u0001\u0011\u0014\u0012\u0010 \u0001\u0000\u0004\u0000DB\u0000\u0004\u0004\u0010A\u0011\u0010@\u0011\u0001\u0000\u0010B\u0010\u0001A\u0012\u0004@ @@A@D@AA \u0004\u0004BA\u0004\u0014\u0014\u0014\u0010DDDA\u0014DDAAD\u0014\u0010\u0001A@A\u0004\u0012\u0000\u0010@\u0014\u0010\u0000\u0011\u0010\u0014AD\u0004B\u0001\u0001B\u0001\u0000\u0004A@\u0010@\u0004\u0011@\u0001D\u0000\u0010\"AA \u0001B\u0010A@B\u0004B@\u0004B\u0004A\u0010\u0000\"\u0011D\u0000\u0004\u0004\u0010\u0002\u0004\u0004\u0001@\u0001D@A\u0010D\u0014A\u0001\u0001AA@@\u0004\u0010\u0001@DA\u0004!D\u0004\"\u0012\u0004D\u0000\u0000@\u0000DD\u0000\u0010\u0000\u0010\u0011 \u0011A\u0004\u0001!!\u0004\"D@\u0010\u0011\u0014\u0001\u0014@@\u0001\u0014D\u0001\u0014 D\u0011@\u0004\u0000\u0001\u0010\u0014\u0001\u0002A\u0002D\u0004\u0014A\u0004\u0000@A\u0004\u0001\u0000\u0004!\u0002\u0014\"B\u0011\u0004D$\u0004\u0000 \u0004\u0011@DD\u0004A\u0004\u0010@\u0001\u0014\u0011\u0014\u0010\u0010@\u0010A \u0014D@\u0001A\u0002$!\u0011\"\u0010\"\u0002\u0001\u0012\u0014DD!@!\u0002\u0010D\u0000\u0001D\u0000BAAA\u0002 D\u0000@D\u0000\u0010\u0004\u0012B\u0012\u0010\u0001\u0012 \u0000@ @\u0000\u0000\u0010@@@D@\u0010\u0001!\u0002D\u0010\u0001@\u0004A@\u0004@\u0004D@\u0014A\u0001@\u0000\u0002@\u0001\u0000\u0001A\u0010@\u0010\u0010\u0000D\u0011A\u0014\u0011\u0004\u0001\u0000\u0000D\u0000B\u0000\u0011\u0002\u0001\u0004\"\u0014D\u0000@\u0001@D\u0010\u0001\u0011@@!\u0011\u0014\u0011\u0012@\u0014A@A$\u0012@\u0001\u0010@\u0001B\u0000\u0010@@\u0001A\u0002DD\u0000\u0004\u0000!\u0010\u0010\u0002AAD\u0014\u0000\u0001\u0001\u0001!A@A \u0002\u0014\u0014A\u0010@ \u0011\u0010\u0010\u0012@\u0000!\u0010\u0004\u0011\u0000\u0004\u0011@\u0011\u0004D\u0010A\u0000D\u0001\u0000D\u0000\u0011\u0011\u0001\u0001\u0002\u0001\u0011A\u0001\u0002\u0014 \"\u0012D@\u0004\u0014\u0010\u0010\u0001\u0010\u0014A\u0000\u0004\u0011\u0004!\u0011!\u0002A!\u0014\u0012B$\u0001!D@\u0000\u0000!\u0001\u0002A\u0014\u0014\u0002\u0004\u0012D@\u0002A\u0011\u0001\u0011\u0004\u0010\u0011\u0004\u0014@\u0001\u0010\u0010\u0011\u0012@\u0000\u0010D\u0000@\u0000\u0010\u0011\u0014\u0014\u0002!!\u0004\u0000\u0011!\u0001!\u0014\u0002\u0004\u0001B\u0000\u0014\u0002\u0010D\u0010\u0000\u0010\u0010@@@D\u0000\u0001\u0010\u0010@\u0000@D\u0000$\u0014\u0004\u0001@\u0001\u0014@A\u0011A\u0010\u0010\u0001\u0010\u0004\u0001\u0011\u0010\u0001\u0001\u0004A\u0011\u0010\u0001\u0012\u0010A\u0010D@\u0004\u0011\u0002\u0010\u0014A@\u0000\u0001\u0014!$\u0011\u0000\u0001\u0000\u0004@\u0011\u0011\u0011\u0001 \u0000\u0000\u0001 \u0002\u0011\u0004 \u0011\u0011\u0000\u0002\u0010\u0001\u0004\u0001\u0001\u0010@\u0001\u0011\u0014\u0010\u0010@\u0000\u0000\u0011\u0004\u0000!\u0004\u0014\u0001\u0001\u0000\u0000\u0000A\u0000\u0014\u0012D\u0000\u0000D\u0001\u0001@\u0010\u0002\u0010 @D\u0010\u0004\u0010\u0011D\u0011\u0014D\u0011\u0004\u0011D@\u0004D B\u0010D\u0010\u0014\u0011@\u0004D@\u0002\u0014\u0001\u0000\u0000\u0001\u0001\u0000\u0000\u0001\u0001\u0001A\u0004\u0000DD@@\u0000A\u0004A\u0004!\u0004A\u0001\u0012D\u0004\u0000\u0000D@\u0014\u0014\u0014\u0001\u0000@\u0014\u0010\u0004\u0004@\u0001\u0001\u0001\u0001\u0001@\u0000\u0001\u0011 \u0014D\u0000\u0004@\u0001\u0010@\u0000\u0001\u0001\u0000\u0000\u0002\u0004\u0000\u0001\u0004\u0014\u0014\u0014D\u0014ADA\u0001A\u0000\u0000A\u0010\u0010\u0010\u0011\u0011\u0001\u0004\u0000@\u0011\u0010\u0014\u0011\u0001\u0011 A\u0010\u0002\u0002\u0000!@\u0012!B\u0002!\u0002\u0000D\u0004!D\u0010\u0000A\u0014\u0011A\u0004\u0001\u0000\u0001\u0010\u0004\u0000\u0010\u0000\u0014\u0011\u0014\u0010A\u0004#\u0011\u0004\u0000$\u0014@\u0000!\u0010\u0004\u0001\u0014A@@A\u0000\u0004\u0004\u0011D\u0000\u0000\u0000@\u0011\u0010\u0014\u0000B \u0014\u0001\u0010\u0011\u0011\u0010\u0011\u0010\u0000\u0004@\u0001\u0014$\u0000!\u0010\u0010\u0010D\u0010\u0011\u0004\u0010\u0010\u0010\u0000\u0000\u0001\u0000\u0014\u0001\u0002\u0014\u0014A\u0000\u0011\u0000\u0000AA\u0000\u0001\u0011\u0001D\u0011@\u0010\u0000\u0010DAD\u0004\u0011\u0000\u0001B B@\u0004\u0002DD\u0004\u0004\u0002\u0004\u0000\u0010\u0010D\u0010\u0004A\u0001\u0010@\u0000D!A@\u0002\u0010\u0002\u0002\u0010\u0001\u0010\u0000D@\u0001\u0010!\u0000A\u0000D\u0010\u0000\u0010\u0014@\u0010\u0001\u0014\u0002\"\u0001\u0014\u0011$ \u0010 $@$DD \"!\u0014@\u0001@\u0000@\u0010!\u0004@\u0010\u0011\u0012\u0002A\u0010\u0002A@!\u0000A@AA\u0010A\u0001\u0014DD\u0000@\u0010\u0012 @ \u0014\u0000\u0010@\u0000D\u0001B$D\u0011@\u0000\u0001\u0001\"\u0000\u0012\u0001@D\u0000@\u0000A\u0000\u0000 B\u0002D\u0001\u0010\u0004\u0001\u0004A!\u0014\u0004@\u0014\u0004D\u0011\u0010@\u0011\u0002\u0014\u0012@\u0014\u0011\u0000\u0012\u0012D\u0001\"\u0001@\u0001D \u0002!\u0014\u0010D@\u0000\u0004AD\u0004D\u0004\u0002\u0004\u0012\u0010\u0010B!\u0004\u0004\u0012\u0011\u0011\u0014\u0000\u0012\u00013\u0014\u0010AAD\u0004DDBB\u0004D\u0000D\u0004@ DA\u0014@\"A $A\"\"\u0002\u0014D@@$\"\"\u0012$A!\"$AA\"\u0004$B\"B$\"\u0004\u0004DB\u0004\u0014$D$\u0012\u0004\" \u0001\u0010D \u0010\u0010\u0010A\u0011@\u0014D\u0001\u0014DA\u0014\u0011\u0000! \u0004\u0014D\u0011\u0004\u0004\"\u0001\u0001\u0004A@\"\u0000B\u0011DA\u0004@@\u0002AB\u0004A\u0012\u0011\u0014D$D@\u0002@\u0010\u0014@D@\u0010\u0004@DBD !\u0002\" \u0000\u0000\u0010@   \u0002\u0004B \u0012\u0004\u0001\u0014\u0002\u0004\u0001B\u0001\u0012\"\u0002!\u0002\u0010B\u0010\u0000\"B \"\"\"\"\"\u0012   !\"\u0014B\u0004\u0004\"\u0014 A \u0001\u0001\u0014\u0000\u0004!\u0011\u0004@ \u0000$\u0010\u0010 \u0014DDDDA \u0014\u0014\u0014\u0011\u0010A\u0011\"B$\u0010\u0012AD\u0014\u0004AAA\u0011 \u0004\u0001!\u0012\u0010\u0001\u0014\u0004@@@ B\u0000\u0000D@\u0001@!\u0014@\u0004\u0001\u0004@\u0014\u0001@\u0004\u0001@\u0001\u0004\u0001\u0001\u0012D@A\u0001\u0010\u0002D@DD$B$ \u0004\"\u0011\u0004B@@ \"\u0001!@\u0001  \u0000D\u0004D B\u0012\u0001@A @A\u0002AD\u0000\u0010A\u0000\u0001AA@\u0011\u0011\u0011D@D\u0010!\u0011 !\"\"\"\u0014\"\"\"B!\" \u0012\u0014\"\u0004D\u0014\u0004\u0004@\u0014\u0004\u0010D\u0010\u0014\u0000\u0000\u0000\u0004\u0010\u0002\" \"\"\u0002\u0012 \"B   \u0012\u0014\u0010\u0010\u0002! \u0001A\u0010\"\u0010AA!\"\u0002\u0012\u0002\u0000\u0001!\u0012!\u0012\u0004 \"\u0004$ \u0004B\u0001 @\u0000 B\u0010@\u0002\u0004\"\" \u0000\u0004\u0004$@ \u0000\u0004\"\u0002\u0002\u0000\"A\u0002\u0004\u0004\"B @@@@@ $\u0004\u0001@\u0004D\"\u0002\u0004 @\u0014\u0010D@AD\u0000AA\u0010\u0011\u0010\u0011\u0002A@D\u0011\u0012\u0004DD B@\u0002A\u0000\u0000@\u0004\u0000\u0010@@D\u0004\u0010\u0000\u0001A@D\u0001!B!\u0000AA\u0004\u0004 \u0001\u0010@\u0014\u0012\u0001AA\u0000\u0011\u0014\u0001\u0002\u0001\u0014\u0011\u0002D\u0004D\u0010@\u0001@A\u0000\u0014DD\u0001A \u0001@\u0004 \u0004\u0001@\u0004AD\u0001 \u0011\u0012\u0000A\u0001A\u0011\u0011\u0011\u0012\u0014@\u0011\u0014\u0010@\u0004\u0004\u0004 \u0000\u0000A@\u0004@\u0000B\u0004AA\u0000\u0002\u0014\u0000@\u0010D\u0004\u0011BD\u0014\u0010\u0014\u0000\u0012\u0000D@@0\u0010\u0010\u0001\u0000\u0014@\u0004!\u0000D\u0000B\u0004!D\u0000\u0014!\u0010\u0010\u0010B\u0004D\u0014\u0001@\u0004\u0001 @\u0000@A\u0000\u0011@D@ D \"@\u0011\u0002\u0011\u0004$\u0004\u0000\u0004\u0001\u0012DA$\u0001D\u0000\u0014\u0014D\u0010\u0012\u0010B\u0004\u0011ADAAA!B\u0011\u0010\u0001\u0011$\u0014\u0011\u0000\u0012A\u0010\u0000\u0011\u0000A@\u0000@\u0000\u0004A\u0000\u0011\u0014  \u0010\u0000\u0010A\u0001\u0010\u0012\u0001\u0004\u0000\u0004A\u0010\u0014$@\u0000\u0004\u0001A\u0002\u0004\u0014@\u0011!D\u0014ADA$A\u0010@\u0010\u0011\u0001\u0014 \u0014\u0001\u0014!\u0014D!D\u0014\u0001DA D@\u0010\u0001D@@A B\u0014\"D@ \u0001\u0014A@D\u0014D\u0004\u0010@ \"\u0010A\u0014\u0000\u0004\u0014\u0001\u0004\u0004\u0001\u0011\u0014\u0000\u0001AA\u0001\u0004\u0010\u0014\u0011\u0014B\u0014\u0001\u0011\u0014\u0010\u0004\u0012\u0014!\u0010\u0001\u0001\u0012\u0011\u0000B\u0001\u0001\u0010\u0011\u0004\u0012@\u0014\u0000\u0000\u0000\u0010\u0000\u0011@\u0000\u0004\u0014\u0001\u0001\u0000DD\u0004\u0011\u0004\"A\u0014$AA!\u0000\u0010\u0000\u0004\u0004\u0011A@\u0010\u0001 \u0011\u0010\u0001\u0004\u0012\u0000A\u0004\u0001D\u0011\u0004 \u0010@\u0001A\u0014\u0000\u0004D$A\u0001\u0001A\u0010\u0014\u0010DDD\u0014\u0011AA\u0000\u0001\u0004\u0011\u0001A\u0010@@\u0001\u0001\u0002\u0010\u0010\u0004\u0011 @A\u0010 \u0010\u0010\u0004! \u0010\u0011D\u0001\u0014\u0000A\u0000\u0001\u0010\u0011\u0011@\u0001$\u0000\u0004\u0010@!@\u0001B\u0014\u0000\u0001\u0010\u0014A D\u0010\u0010\u0004\u0004\u0000DD\u0014\u0001\u0014\u0000D\u0000\u0002 A\u0000D\u0004 A\u0000@\u0000\u0014@\u0000\u0004B\u0004\u0000 A!\u0004@\u0000@\u0000\u0014$D@\u0010A\u0000\u0014D\u0001\u0011\u0014\u0004@\u0014\u0011\u0010 \u0014@\u0014\u0011@\u0000\u0014D\u0000\u0000DA!A\u0011$\u0010A$\u0011\u0004!D!DA\u0014\u0014\u0010\u0011\u0014\u0004\u0014A\u0004\u0004\u0001 \u0011B\u0000\u0012AD\u0000\u0010\u0011 \u0004\u0011\u0011!\u0010\u0000\u0011\u0014\u0000@\u0004A@D$\u0004A\u0010D\u0004\u0002\u0014\u0000!\u0002\u0010@\u0010A@\u0010\u0004\u0001\u0011AAAA\u0010D@\u0001\u0011\u0000\u0000@\u0014\u0004B\u0004\u0012\u0010A\u0004\u0014\u0002\u0004@D@DD\u0001A\u0004D\u0014@@@B\u0010\u0010\u0010\u0014\u0000@ \u0001$\"\u0011$\u0004\u0001\u0012\u0004AA\u0014\u0011@\u0010$!\u0014@A\u0014\u0014\u0011\u0014\u0002\u0000\u0014\u0011\u0012\u0011$ \u0014B\u0011\u0000 \u0010\u0014\u0000\u0002\u0014A\u0002\u0014D\u0010AA\u0004\u0014@DDA\u0004DA@DD@\u0001\u0011\u0004\u0004\u0004DA\u0000D\u0004\u0014AA\u0001\u0004D@D\u0004B\u0010@A!\u0010B\u0011\u0004@\u0010\u0000\u0011\u0000\u0000\u0010\u0004\u0001\u0014A\u0000\u0001 \u0001!\u0014\u0011\u0001@\u0011\u0004A\u0004\u0014DD\u0014\u0001\u0010\u0001@\u0004\u0010\u0001\u0000\u0000\u0010\u0000\u0001\u0011@\u0014\u0004DA\u0014\u0014\u0002\u0001\u0011\u0000A\u0004\u0012\u0010\u0004!\u0001\u0000\u0014\u0010!\u0011 \u0011\u0004\u0002\u0012\u0000\u0001\u0001\u0004\u0001D\u0014 @\u0004\u0000\u0014\u0001DBD\u0000\u0000\u0004\u0014AAD\u0014\u0000\u0000\u0014\u0010DD D\u0000!\u0004A\u0010\u0001B \u0010 !\u0000\u0000\u0001\u0000\u0001@@\u0011 \u0011\u0014\u0000\u0014D\u0010DDD\u0014 \u0004DAD\u0004\u0014D\u0000\u0014A!D\u0010@\u0001\u0014\u0014\u0014\u0000B\u0004\u0011DA\u0014\u0012$\u0002D\u0000A\u0010\u0000\u0001\u0010A \u0014@@\u0014\u0004\u0000\u0000\u0004AABA\u0001\u0010DA\u0001\u0001\u0012\u0002\u0000!\u0002\u0014\u0010\u0012\u0004@\u0002\u0010\u0000\u0000\u0010\u0000\u0001\u0010\u0000\u0010 \u0000@\u0001\u0004@\u0001$\u0000D\u0001\u0004!\u0014\u0010D\u0001D!\u0004\u0014DA\u0014\u0004\u0000\u0004\u0004\u0004\u0000\u0004\u0004\u0004\u0014A\u0010\u0001\u0011\u0002\u0001\u0010\u0014D \u0010\u0000\u0001\u0002DD\u0010\u0014\u0000 \u0000D\u0010\u0011\u0011 \u0010D\u0001BAD\u0014A\u0014!D\u0014\u0000AAAAA\"@\u0014@\u0000\u0001A\u0001A@\u0010\u0004@!D!\u0000@D\u0014D \u0014@!\u0000\u0010A!\u0011\u0000D\u0014\u0004\u0010!\u0011\u0010\u0012\u0000\u0000@\u0010\u0004\u0011\u0000A\u0001!!@D\u0004\u0001\u0012\u0001\u0001@\u0014@A\u0014\u0010\"\u0012\u0004\u0014\u0001\u0014@\u0001\u0002\u0004B$\u0001A\u0004\u0000\u0000\u0010A@\u0000\u0004D@D\u0011 \u0011DA\u0000\u0004\"\u0014\u0014\"\u0014\"\u0014\"D\u0010\"B\u0011B\u0011\u0011A\u0010B!\u0011\u0010\u0011\u0011\u0014\u0010B\u0010\u0002\u0004A\u0000A\u0010\u0004D@A@\u0010\u0014@\u0001\u0014 B@\u0010\u0010\u0000\u0001D\u0014\u0004\u0004\u0014B\u0004\u0001\u0014\u0004\u0014$\u0001\u0000\u0004\u0014\u0001\u0000@D\u0010\u0004\u0010@DD\u0000\"\u0004D\u0010A\u0000\u0011\u0004D@DD@\u0010@!ADB\u0014\u0004D\u0000\u0004D\u0014D\u0011@@\u0004\u0014@B\u0012D\u0004D@@\u0010$@\u0000\u0004\u0000\u0001\u0001\u0001\u0014\u0001\u0001\u0004\u0011@@A\u0004\u0012\u0004\u0004\u0012A\u0001D \u0000\u0000\u0012\u0014\u0001 \u0001A\u0000\u0010\u0011\u0001D@A\u0011\u0012\u0004\u0000\u0011@@\u0010\u0000\u0001\u0011\u0004 A\u0011D@\u0011\u0014\u0001$D\u0011D\u0011\u0014\u0012\u0004!\u0014D \u0014A \u0012B\u0004@\u0000\u0014\u0004\u0004\u0004\u0001\" A\u0012D\u0014$A\u0014\u0014\u0004\u0011\u0014\u0001A\u0014\u0014BDD\u0011\u0012BD\u0010 \u0012D\u0010DDAB\u0010@\u0004DB\u0014B\u0010\u0010\u0002\u0010\"\u0000D\u0011\u0014\u0004\u0001\u0012\u0000\u0004\u0000D$D\u0011\u0000\u0001\u0011D\u0011@\u0001\u0004\u0012\u0001@\u0004\u0011\u0014DA@\u0004@\u0010 A$AA\u0001\u0010!\u0004\u0011\u0010\u0010!\u0010\u0000\u0000\u0011A\u0001A\u0014D\u0012\u0010\u0012\u0000A\u0011\u0014\u0004\u0001\u0004\u0012\u0000\u0000A\u0011\u0010D\u0001D @\u0010\u0002D@\u0014\u0000@\u0001\u0000\u0004\u0011@\u0014\"\u0011A\u0010\u0014\u0000\u0001DA@\u0000D\u0014D\u0001A\u0002\u0010\u0011D@\u0004\u0000D@\u0010 \u0014@\u0001\u0010\u0010\u0010\u0010\u0001B\u0011\u0011\u0002@D\u0002A\u0014\u0010D\u0001\u0001A@\u0004\u0010B\u0000@ \u0004\"\u0001\u0011@DAD\u0000\u0010$\u0001A\u0001\u0004\u0000\u0001\u0000\u0012\u0004\u0004\u0014D\u0000D\u0004\u0001@\u0014\u0010!\u0004A\u0014\u0012\u0011\u0011\u0011\u0014A@\u0001\u0002\u0011\u0011\u0000\u0011DD\u0014\"\"\u0010\u0010D\u0004\u0014\u0014\"\u0010DDB!\u0002A\u0010@\u0011\u0014\u0001\u0011!\u0012\u0011\u0004\u0000\u0011\u0014\u0011\u0001D\u0011\u0001A\u0010A0\u0014\u0014D\u0001\u0011@ \u0001\u0001\u0011\u0000\u0004\u0011A\u0014\u0014B\u0001D\"A$\u0010D\u0011@\u0002$A\u0002\u0010DD\u0014\u0011@\u0010\u0004\u0012 A\"\u0012\u0004\u0010A\u0004\u0011D!\u0012\u0000A\u0001\u0004\u0012@\u0001\u0014\u0004\u0000\u0001\u0004@\u0001B\u0004\u0010\u0011\u0004\u0010@ \u0000\u0004DA@@D@\u0000@D@D\u0014\u0004D\u0014\u0004!\u0002!\u0002\u0000\u0010\u0004@\u0014B\u0014AD\u0011\u0000!\u0002\u0010 \u0011\u0000A\u0000\u0010\u0011\u0000@@\u0000\u0004A \"B\u0004DD\u0001@AD\u0010\u0000\u0010A \u0012\u0001\u0011@\u0010\u0014\u0014\u0001\u0011\u0004DD\u0012\u0004D\u0000\u0004\u0001A\u0004\"\u0004\u0000 \u0004\"\u0000\u0004\u0012\u0004 \u0012@A\u0000$DD\u0014A\u0014\u0004\u0010\u0000\u0004\u0004\u0014\u0001\u0002\u0011\u0004D@\u0001\u0014AA\u0000\u0004@\u0001A\u0000\u0001\u0001\u0001\u0004\u0014\u0001\u0014\u0000\u0000 \u0014\u0001\u0002@\u0000A\u0001\u0011A@$@\u0010\u0001\u0001\u0001\u0000\u0000\u0000DD\u0000D\u0004A\u0010\u0014AD\u0014D\u0004A\u0004\u0010\u0004\u0011\u0000D\u0014\u0010!A\u0011D\u0000\u0004\u0014\u0001\u0011\u0000\u0001\u0000\u0011\u0001\u0014\u0000\u0014\u0004\u0002\"\u0004\u0012\u0000\u0002\u0000\"\u0000\"\u0000\u0000 \u0000\"\"\u0004\"\"\u0000B \u0000\u0000\"\u0004\u0010@!\" B \u0012@!\u0000!\u0010\u0010\"\"\u0002\u0002\"B \"B \u0012 \u0000\"\u0001\u0001\u0011\u0012\"\u0014\u0012B\u0014\"\"\"D!\"\"\u0010!\u0004A!\u0012 !\u0014!\"\"\u0011\u0002\u0002\"\u0014AA\u0004\u0011\u0004\u0001C@\u0010\u0011D@\u0011\u0010A\u0000\u0010\u0004\u0004\u0004\u0000\"\u0010 \u0004AA\u0001DA\u0011\u0014\u0000\u0010\u0001\u0011\u0000\u0002\u0004\u0004\u0001A\u0011\u0010\u0010\u0000\u0010\u0004\u0001\u0011\u0010D\u0010\u0014\u0010AD\u0011\u0002\u0000\u0010\u0001A\u0000\u0011D\u0011AA\u0014BA\u0004\u0014\u0014A\u0010A\u0011\u0014\u0011!\u0000AA\u0014B!\u0010@D!A\u0014@\u0000\u0002\u0004\u0004!A\u0001AA\u0010\u0000\u0011\u0014\u0014\u0010\u0011DA\u0000DD\u0014D@AA\u0014\u0012D\u0004B\u0001\u0004\u0000\u0014\u0012\u0010\"\u0000\u0011\u0010A\u0001\u0002\u0014\u0010\u0004\u0001\u0001\u0001\u0010\"\"\u0010@A\u0001\u0011\u0000\u0000\u0000\u0004\u0004\u0004 B\u0000\u0012\u0010\u0014\u0001\u0014\u0011!\"\"A\u0010\u0014A\u0001\u0002\u0004\u0014\u0004D\u0010D!\u0004D\u0000!\u0004\u0010\u0001\u0000A\u0010 \u0000\u0000D!\u0000\u0002DA\u0010@A\u0000@\u0004D\u0011\u0004\u0011\u0014\u0011\u0002\u0000AD\u0010\u0011 \u0004\u0011\u0014\u0004D\u0014\u0011B\u0014\u0010\u0010A\u0001\u0011\u0004D\u0001@\u0001B\u0004\u0001\u0001DDD@BA\u0000\u0000@\u0001D\u0004D\u0004\u0010 A\u0011A!\u0014\u0014D\u0000\u0014D\u0000\u0004\u0004\u0001\u0000\u0010\u0001\u0001\u0011\u0000\u0001@\u0011!\u0001\u0001\u0000\"\u0001B\u0011D\u0014\u0010@\u0000A\u0000\u0004BDD@A\u0010\u0004\u0014\u0004@\u0004\u0001\u0014\u0004A\u0014\u0010\u0000D\u0010\"\u0001\u0004\u0014D\u0001\u0010\u0000\u0000\u0014\u0002B\u0000\u0012 \u0012\u0000\u0004\u0004 AD\u0014\u0004\u0014\u0011\u0001@D\u0014\u0010@\u0000\u0001D\u0014\"!\u0012\u0000AA\u0004\u0011@@\u0014\u0004\u0000D$\u0002\u0004\u0012D@\u0001@@\u0001\u0000\u0001\u0004\u0002A@\u0014\u0004\u0010\u0011\u0011D\u0010\u0014AD\u0004\u0004\u0002\u0004\u0012\u0004A \u0004\u0004\u0002\u0000D\u0001\"\"\"\u0000\"\"\"\u0000\"\"\u0001A\u0011\u0004@\u0011\u0010\u0004\u0014B\u0001\u0012\u0011B!\u0002\u0011\u0014\u0010\u0001\u0011A@DA\u0011\u0014A@A\u0001\u0000D\u0010\u0001\u0004 D!\u0002\u0001\u0012\u0004@\u0001$!\u0002\u0014\u0001\u0012\u0000\u0014\u0001\u0001\u0010@\u0004\u0010\u0004@A\u0004\u0014B\u0014\u0001 \u0012$\u0000\u0001A \u0011AA\u0001!A!\u0010\u0002A\u0014\u0011\u0010\u0001 \u0000\u0001\u0014\u0010\u0001\u0011\u0010B\u0000D\u0001\u0011A\u0010\u0012 \u0014\u0001\u0014\u0001\u0014\u0011A\u0010\u0011\u0011@A\u0010\u0002\u0010\u0010@\u0000\u0004@@\u0011DA\u0000\u0004\u0014D@A\u0000\u0001A\u0000@\u0011\u0011D\u0011@\u0004\u0010A\u0000@A@\u0014\u0004\u0012\"\u0014\u0001D\u0014\u0000\u0011A\u0011\u0002\u0011@\u0001\u0010B\u0014\u0014@@\u0010D\u0014@\u0000\u0001A\u0001\u0001\u0010\u0011B\u0010\u0000\u0014\u0010A\u0014\u0010\u0014DAD D@ \"\u0001\u0004\u0001\u0000\u0010@ \u0002\u0000\u0002\u0011\u0014\u0004!\u0004!\u0014AAAD\u0011D!DD\u0014A\u0004\u0012DA@\u0004DDA\u0004AA@\u0004D\u0010\u0011D\u0001\u0010\u0001\u0004\u0014A!\u0001\u0011\u0004\u0010\u0004\u0001\u0011\u0011\u0010@\u0010!!\u0001\u0011@\u0011\u0014\u0010\u0001A\u0004\u0010\u0010\u0014D\u0014A\u0000\u0011D\u0001\u0014@@D\u0001\u0004\u0000\u0001\u0004\u0004\u0014@\u0014@\u0004\"B\u0001D!B\u0010\u0000\u0001\u0000\u0010@@D\u0000\u0001\u0001B\u0014\u0014\u0002\u0000@\u0001@ \u0002@\u0011D\u0004B\u0001\"\u0014\u0004$\u0011DAA$@A\u0010\u0004\u0004\u0011\u0004DA\u0010\u0004\u0004\u0001D\u0011AAD\u0004AA\u0004\u0011\u0000D \u0001A\u0000\u0010\u0010\u0000D\u0011\u0010\u0014\u0000\u0001\u0004\u0010 DA\u0010\u0001\u0004 \"\u0014\u0014\u0001\u0010\u0001\u0012A\u0012 \u0002B\" \u0010\u0000D\u0010\u0011$\u0010!\u0014\u0011D\u0000\u0014A\u0004\u0010\u0014@\u0001@\u0011\u0014\u0001A\u0010\u0010\u0010\u0000@\u0010D\u0014\u0014D\u0001\u0014A\u0010\u0001\u0004 A\u0000\u0012\u0010\u0011\u0001 \u0001@@\u0001\u0001\u0011@\u0010\u0010@\u0010DD\u0004\u0014\u0000 @\u0004\u0000D\u0001\u0011\u0011\u0004!\u0004\u0004\u0014\u0000B!@D\u0010\u0002!\"@\u0014$DDD\u0000\u0004\u0004!A\u0010\u0004\u0000@@ \u0010\u0004\u0010\u0004\u0010\u0001\u0002\u0011AA@\u0010\u0000@\u0010A\u0000D\u0004\u0010\u0000\u0012\u0000\u0010\u0014\u0000A\u0000 \u0011@D\u0010\u0014\u0011\u0014B\u0004D\u0001\u0004\u0000\u0000\u0012\u0014\u0000\u0001\u0002AA\u0011!\u0010\u0012@\u0000\u0010\u0001\u0001\u0010\u0014D \u0011\u0002\u0004\"\u0011\u0004\u0014@$\u0002@\u0014\u0014!\u0012\u0004\u0001D\u0001AA\u0004\u0011!\u0014\u0001\u0010D\u0014D\u0011D\u0001D\u0001\u0011@\u0001\u0011\u0001$\u0004@\u0004 B\u0004D\u0001D\u0010\u0000\u0000\u0001B\u0010\"\u0001!\u0012 \u0010\u0012\u0010\u0000\u0011D\u0004\u0001D\u0010\u0011\u0000\u0011\u0014@@D\u0000@\u0010\u0004@\u0010\u0000\u0011D\u0000\u0001\u0004\u0001 $\u0014@\u0004A\u0001\u0011DAD\u0010AA\u0010\u0010\u0004\u0011A\u0010\u0001\u0002\u0010\u0001\u0000A\u0000\u0004D\u0010A@D\u0000\u0011\u0001A\u0011\u0002\u0014\u0004\u0001\u0001\u0011DADDDD\u0011@\u0001A@D\u0011@\u0010\u0010\u0001\u0010\u0010AD\u0010\u0001\u0000\u0014@D\u0002\u0002\u0004\u0004\u0010\u0014B@\u0014\u0012D\u0000\u0012A@\u0012A@A\u0002\u0014\u0000\u0000A\u0010\u0004\u0010B\u0004B@D \u0004$\u0000\u0001@@\u0012\u0004\u0004D\u0004\u0011\u0004\u0001\u0010D\u0004A\u0011\u0010\u0001\u0004DD@\u0000\u0004DDD\u0001D@\u0001\u0014!\u0010\u0001\u0004A AADA@ \u0011\u0002$ \u0014$\u0004\u0011 D\u0004\u0010\u0000\u0001 \u0000B\u0011\u0010\u0000\u0004\u0001\u0012\u0002@\u0001\u0002\u0010\u0001\u0000\u0000\u0002\u0001\u0011\u0004\u0000\u0010\u0004\u0001\u0010\u0004B\u0002\u0004\u0014@\u0000\u0000\u0000\u0000D\u0001\u0000\u0001\u0000\u0001\u0011\u0004\u0000\u0014D @\u0010\u0014A\u0001\u0001@@A\u0010\u0004 \u0010!\u0000\u0010\u0010\u0000\u0000\u0010@\u0001!\u0001\u0001\u0014@@\u0004\u0011\u0014\u0001\u0014!\u0001@\u0001\u0011\u0011@\u0011\u0010\u0000@\u0014\u0000\u0010\"D\u0014\u0011\"B\u0011\u0002\u0011B!\u0004\u0004\u0012\u0010\u0000D\u0000\u0000\u0004\u0004\u0011\u0014\u0010BA@\u0014D\u0014\u0012\u0014A\u0001\u0000B\u0001\u0014\u0000\u0004@\u0004D\u0011\u0011DDBD@DD\u0004$B\u0004\u0014\u0014\u0010\u0002\u0001D!DB@\u0004@ \u0000\"\u0010\u0000A$\u0012D\u0011\u0011\u0001\u0004\u0014D\u0001\u0000\u0001 @\u0001@D\u0014DD@B@\u0004@A\u0012A\u0001\"\"\"\"\u0010\"B@\u0010\u0000 \"\"\"\"\"\u0000\u0014\u0000\u0001\u0000\"\u0000\u0000@\u0010\u0001\u0004A\u0014\u0011\u0004D\u0004\u0001\u0001A@\u0012\u0014\u0011\u0004B\u0004A\u0001\u0004\u0014\u0004 \u0001\u0001\"\u0004D@\u0014 @\u0014$!D\u0001\u0004\u0011\u0000\u0001\u0014\u0004DDD@ \"\u0002\u0001AA\u0001\u0004B\u0014@\u0000\u0004AAA@@@DD\u0010\u0000D\u0010\u0010\u0000\u0000AA\u0014\u0010\u0001\u0000\u0010@ \u0011\u0000A\u0014\u0004DD\u0001\u0001\u0001\"B\u0004@A\u0010A\u0010D\u0001\u0011\u0004\u0014A\u0011\u0011\u0000D\u0010\u0014\u0010\u0014\u0001\u0011 \u0001!\u0011\"@\u0010\u0010\"\u0000\u0011\u0010\"\u0001\u0002\u0004\u0010\u0011\u0001\u0011@\u0001\u0011\u0010@!\u0001\u0001\u0000\u0000\u0010\u0001\u0004\u0001\u0001A\u0011\u0011DA\u0014\u0010\u0004\u0004\u0001 @\u0014\u0001\u0014\u0010\u0011@@\u0010D\u0000AA@\u0004\u0004\u0004BD\u0004\u0004B DD\u0010\u0014\u0004\u0010\u0000@@\u0014\u0011\u0004\u0001\u0010\u0010\u0000A\u0010\u0001\u0000\u0001\u0004\u0000\u0014 D\u0014\u0000!\u0011A @ D\u0000\u0004\u0010\u0001$\u0000@\u0004A\u0004@D@\u0011DA\u0004\u0001\u0004\u0001\u0010\u0010 \u0004\u0014B \u0011\u0002\u0014 \u0004B\u0002\u0012 \"\u0001\"\u0004\u0001\u0001D@\u0010\u0014\u0014D\u0000\u0011\u0014\u0010\u0001\u0011\u0011@A@\u0010\u0014\u0012\u0004\u0001\u0004BD@\u0004@@\u0010$@\u0014@!$@\u0010\u0010A\u0001A@\u0001\u0011\u0004D\u0011@D\u0010@\u0010\u0002A!\u0014\u0001\u0012\u0004\u0001\u0010A\u0004A\u0000\u0000\u0010\u0014D \u0014A\u0004\u0011\u0011\u0014\u0010\"\"\u0014\u0001\u0012\u0011\u0011\u0011\u0001\u0011\u0010\u0014 \u0011\u0011B\u0011\u0001D \u0001 \u0012@\u0001\u0010\u0011\u0014\u0011 \u0011 \u0011\u0011\u0000\"\u0004\u0001D\u0010\u0001\u0001\u0011@ADAD\u0010DA\u0001\u0000\u0000C\u0004\u0000A\u0004\u0012A\u0014\u0012\u0004\u0010\u0004\u0014\u0002\u0001\u0000 \u0012 \u0004@@\u0010\u0010\u0010\u0004\u0014\u0000\u0001!\u0011\u0002\u0011\u0011A\u0000B\u0010\u0014D\u0000\u0000\u0010A\u0001@\u0010\u0000 A\u0010A \u0004@\u0010\u0011 \u0004A\u0004\u0000\u0001\u0004@ \u0014@ \u0011@\u0014@\u0004A \u0000\u0010\"\u0002\u0004\u0010\u0010\u0001@\u0010\u0001\u0001@A\u0002 \u0000\u0012\u0012\u0014\u0010!A\u0000\u0014\u0004@\u0001\u0010\u0004\u0011\u0002\u0004\u0010\u0001\u0011\u0010AA\u0001\u0000\u0011\u0001\u0010\u0004B\u0004D\u0001\u0014A\u0004D\u0004DA\u0001D\u0001!\u0004D\u0001A@\u0011DA\u0004A\u0000\u0012!\u0014B\u0000@\u0011\u0000\u0010\u0011A\u0001\u0010D\u0011\u0004DA\"!\u0011!A\u0000\u0014\u0004\u0010@D\u0001\u0001@@\u0010\u0004\"D\u0004@\u0004\u0010 A@A\u0002\u0004\u0004@\u0010\u0010\u0010@\u0004\u0002@\u0011 B@\u0014@\u0000 \u0011\u0014\u0010@\u0011\u0004A!\u0012\u0004$\u0010\u0000\u0000@@D$B\u0012 \u0010\u0000\u0004\u0002@@\u0000 \u0002@@ \u0001@DD@\u0004\u0004!@DD\u0001D\u0000\u0012\u0000\"\u0001\u0001\u0004\u0001D\u0010\u0010\u0011\u0001AA\u0011\u0000\u0000\u0010\u0010@\u0004\u0001\u0001\u0000\u0004\u0010\u0000\u0001\u0010A@A\u0001\u0000\u0010\u0010\u0004\u0011\u0001@@\u0004\u0010\u0010\u0010A\u0011@!AA\u0000\u0010\u0011\u0000\u0004\u0004\u0000\u0000\u0011$\u0001@\u0011\u0001D\u0014@D\u0001\u0001\u0010B\u0002\u0001\u0010\u0012@\u0010\u0011\u0014\u0012\u0000A\u0011@\u0004A\u0000\u0004 \u0000\u0010@ \u0004\u0001\u0010\u0004\u0001\u0014@\u0011\u0000@@\u0000\u0002\u0011\u0001A\u0010  \u0011\u0004A\u0004B\u0000@\u0000D\u0001\u0001\u0004 DA\u0010\u0002\u0014\u0000D\u0004\u0014B@\u0014$\" BDADA!D@ \"D@A\u0001\u0014!\u0004AD\u0011\u0010\u0011\u0014\u0001\u0011\u0014A\u0011A\u0011\u0010\u0010\u0000D@\u0011\u0011D\u0004\u0001DA\u0010\u0014D@\u0014\u0011\u0000A@\u0001\"B\u0001D@\u0010A@\u0000AA\u0014D \"\u0001\u0012\u0004\u0014\u0001 \u0012\u0001\u0011\u0011!\u0001\u0010\u0011\u0012\u0001\u0001 @D\u0000D\u0004\u0010\u0010\u0002!\u0004BDD@@ \u0002B\u0014B\u0004\"$!\"\"D\u0014DDD\u0004\u0012D\"B$D\u0014\u0014\u0011D\u0014!!\"\u0014DAB\u0014\u0010\"\u0014\u0004@@\u0014\u0010\u0014\u0011A\"A\u0010\u0014AADD\u0014\u0011\u0010\u0000\u0004\u0014\u0014\u0010D\u0011@@\u0004D\u0010@\u0001!\u0000\u0000\u0004\u0004\u0004\u0001\u0004D\u0011!B\u0014\u0012\u0000A\u0014\u0002B\u0012$ \u0002\u0004\u0001D\u0000\u0012D\u0001$\u0004\u0004D@@\u0014DD\u0004D@\u0000\u0004\u0004\"@D@\u0004\u0002D@\u0001D\u0010\u0000\u0010@@\u0014\u0002\u0000!\u0014\u0002A\u0011@\u0011!\u0004\u0010A\u0001\u0011\u0010@\u0004\u0001\u0012!\u0014\"\u0012@\u0014\u0014\u0014DD\u0011\u0014A\u0014A\u0014\"$\u0010D\u0014!\u0011\u0014 \u0014\u0012\u0001$ C\u0000\u0000\"\u0000\u0001B@\u0011D!\u0012\u0011\u0004\u0004 @\u0014\u0000\"\u0002\u0014@\u0004@ \u0002\u0010\u0004\u0004\u0001\u0000\u0014\u0000\u0004AA\u0004\u0011\u0012\u0014\u0004\u0004@\u0011\u0011\u0014@\u0004A@\u0004\u0001@!\u0000\u0010\"\u0010@@\u0004\u0000\u0014\u0004\u0000\u0004!\u0010\u0010\u0014\u0011\u0010B!\u0011\u0011@!\u0004\u0000\u0000\u0001\u0004\u0004\u0004!\u0002\u0004\u0004\u0014\"\u0000\u0001\"\u0001\u0010@\u0011\u0000\u0010\u0001\u0011\u0010@@\u0010@\u0001\u0004\"\u0011\u0012A\u0001!\u0000\u0000\u0010\u0010A\u0002\u0001\u0004\u0004\u0000@\u0000\u0010\u0010B\u0001\"\u0002\u0002\"\"\"\"\"!@ \u0000B@@\u0010\u0002\u0011 !\u0014D\u0010@ \u0002\u0004\u0001\u0004D\u0004\u0014@\u0001D@$  A@\u0004D\u0000@\u0001\u0011@D!D\u0001\u0001\u0010@\u0004\u0000\u0000\u0011\u0014\u0014\u0011@\u0010\u0014\u0010\u0002\"!\u0000\u0011@A\u0014@DD@\u0011\u0000A@\u0004B \u0011A!\"\u0001AA\u0010!\u0001\u0011D\u0011\u0011\u0010\u0010\u0011\u0011\u0000\u0010\u0000@\u0011\u0004$\u0011\u0000$\u0012\u0004\u0000@\u0010\u0004\u0011\u0001@\u0011\u0011@\u0010\u0010\u0010\u0011\u0014\u0014\u0011\u0000\u0010!\u0001\u0010\u0001A\u0011\u0014\u0001\u0000\u0001\u0000\u0004\u0014@\u0004A\u0004@\u0014\u0000\u0001A\u0014\u0000A\u0011\u0000!\u0000\u0002\u0014@\u0010\u0000\u0000\u0001D\u0000\u0001\u0011\u0011\u0000DA\u0014\u0001\u0001\u0004D\u0004\u0004\u0000\u0014@\u0002\u0010 \u0004\u0000\u0000@ \"\" \u0002\u0011\u0014\u0001A\u0014\u0014\u0011\u0002\u0012\u0010 \u0001!\u0001@\u0001\u0000\u0004\u0001\u0004D\u0000\u0001\u0012$\u0001\u0004  \u0011A@AA\u0000\u0010\u0010\u0000\"\"\u0002\u0001BB\u0004\u0004@A@D\u0011\u0002\u0010\u0000\u0004A\u0010\u0010!@\u0010\u0010\u0011\u0000D\u0001@A\u0011D\u0000DDD$\u0000D \u0014\u0001B!\u0010D\u0011\u0002D\u0014BA\u0004\u0004 \u0011\u0001\u0002D@\u0001B\u0011D\u0004\u0000\u0000\u0000@!B\u0004AA\u0004D\u0014 \u0000B\u0000\"DD@\u0010\u0001BB\u0014\u0014\u0014DDDA!$\"!\u0002 @\u0011\u0014\u0011AD\u0001\u0010\u0004\u0010A!B\u0004\u0014\u0000 \u0010@\u0004\u0011\u0000\u0004\u0004 \u0000\u0014DA!\"\u0011\u0014D\u0011\u0012B\u0011\u0011\u0010\u0000\u0004\u0014\u0011\u0010\u0004\u0001\u0011\"\u0011\u0014\u0010DAB\u0014\"\u0010@\u0000D\u0011D\u0011\u0001!\u0012\u0001\u0010@D\u0000@ D @\u0000B\u0000@@\u0014\u0011\u0001@ $\u0011\u0010D D\u0014\u0014\u0011D\u0011\u0012\u0012B0AD\u0001\u0004\u0004\u0000 BA\u0000$\u0004\u0004!@\u0000\u0001\u0000\u0010\u0010\u0001\u0010\u0000\u0001!@\u0010\u0014\u00100\u0014D@A@AA\u0010@\"DA\u0014DA\u0001D\u0011ABDA\"DA\u0010D\u0011\u0014!\u0014\u0011\u0011\u0014!\u0014A!\u0011\u0002@A!\u0004A\u0010@!!\u0012\u0012\u0000\u0010\u0011@\u0011@$\u0001@@ D\u0011\u0004\u0012\u0000 !\u0000\u0010AA\u0014\u0011ADA\u0014DA!$\u0012D\u0001\u0004\u0004\u0010@\u0010\u0012D\u0004\u0014\u0012\u0012B@ BD\u0014@\u0011\u0010\u0011\u0014\u0011B\u0011\u0010AA\u0010\"\u0014D!\u0010\u0011\u0010\u0010\u0011\u0004DA\u0014\u0011\u0001\u0001\u0014\u0012\u0001@D\u0012@D\u0010\u0014\u0000\u0010\u0010\u0001\u0002\u0014\u0012A\u0004\u0010 \u0012\u0014\u0012D\u0004\u0010\u0010\u0014\u0010\u0004\u0004@\u0010\u0001\u0010\u0000\u0000\u0011\u0011\u0000\u0001\u0001A\u0000\u0010A\u0010\u0000\u0004\u0002\u0011\u0001\"\u0012\u0010\u0001\u0010A@\u0000\u0011\u0010\u0000$\u0004\u0010\u0000\u0010\u0010!\u0000\u0000\u0010\"@\u0000ADA\u0001\u0012\u0002\u0010\u0001!D\u0001@!!\u0011\u0000@\u0001@\u0000\u0014\u0004 A\u0010@\u0010\u0014\u0004A\u0004\u0001\u0001\u0004\u0014\u0001\u0012\u0014\u0001\u0001@\u0001\u0004\u0002A\u0001\u0001@ \u0004\"\u0001\u0001\u0001\u0011\u0010\u0004B\u0000D A\u0000\u0000\u0011\u0014\u0000\u0002\u0001$\u0011\u0001\u0010\u0011\u0011\u0001\u0014\u0011\u0001\u0014\u0001\u0000\u0010\u0000\u0004\u0001D!\u0000\u0004\u0001\"\u0002\u0011\u0004\u0011\u0001\u0004\u0004A\u0010\u0010$ \u0013\u0000\u0001A@\u0004C\u0000 \u0004\u0004 \u0011\u0004\u0004\u0010\u0001\u0004\u0012\u0000\u0000\u0001\u0004\u0010\u0010!$\u0000\u0000ADD\u0014\u0010!@\u0010\u0001\u0001\u0010\u0012B\u0011\u0001\u0004\u0001\u0001 @@ \u0000\u0000\u0010\u0012\u0000 \u0001\u0002\u0010!B\u0000@\u0000A\u0010\u0001\u0004\u0004!\u0010\u0002B \u0000\u0000\u0001\u0004@\u0001 \"@\u0010\u0000\u0012\u0004A \u0000B\u0000\u0014@\u0000D\u0014D\u0011\u0010\u0000\u0001@\u0000B\u0001B\u0002\u0010\u0000\u0001A!\"\"\u0001DDBD\u0014D\u0010@@\u0010\u0010\u0004D!B\u0001\u0000 A@@\u0010\u0004@\u0000@\u0010\u0010\u0002\u0000\u0001A\u0004\u0002\u0014\u0002@\u0012\u0000\u0011 \u0002@@@\u0010!\u0000\u0002\u0004\"\u0001 \u0001A\u0001A\u0001\u0010\u0014\u0000\"\u0012\u0012\u0014\u0014A\u0004\"\u0000\u0000\u0004A\u0000\u0014\u0001\u0000\u0010\u0014\u0004\u0000A\u0001\u0001@\u0010\u0000\u0011\u0004\u0010\u0000\u0004\u0011\u0011\u0000\u0004A$\u0000\u0010D\u0010\u0001\u0001\u0001D$\u0011@\u0010\u0014A \u0010\u0000\u0010D@\u0004@\u0004\u0001\u0014@\u0000\u0004 \u0011\u0000\u0004 \u0011\u0001\u0001\u0011\u0000\u0000BA\u0010\u0010\u0000\u0004\u0014\u0011!\u0000\u0010\u0011\u0011\"\u0000\u0004BD@\u0004\u0004A@ A\u0000\u0011\u0011\u0011\u0010A\u0011D\u0000!\u0010!\u0012DD\u0011\"\u0011\u0011 \u0000@B\u0001\u0001A\u0010@\u0011\u0010\u0010\u0010\u0010\u0000A\u0010 @ \u0004\u0014\u0000\u0011!\u0001\u0010\u0001\u0014@@\u0011\u0001\u0011\u0001\u0001@\u0001@\u0000\u0000\u0000@\u0014\u0011\u0001\u0014D\u0010\u0001\u0010\u0014\u0011\u0010!\u0004 \u0004D\u0001\u0010\u0010\u0004\u0011@\u0011\u0011\u0010\u0000\u0011\u0010\u0000 \u0011!\u0000\u0011\u0004\u0012\u0000\u0010!\u0001@\u0011A\u0002\u0004\u0010\u0010@D\u0014@D $!DB\u0014A\u0014\u0012\u0011\u0001\u0014\u0001AD\u0010A\u0010\u0011\u0000\u0000\u0002\u0011\u0014A\u0002\u0010\u0014\u0011\u0014\u0014!\u0011\u0014\u0004\u0012\u0014 A\u0000  \u0011A\u0002$@!D\u0011\u0010A!\u0001\u0001\u0014\u0012D@ \u0010\u0004\u0001B@A\u0000 \u0002\u0004A\u0014$\u0004\u00002\u0000D\u0001@\u0001 @ @\u0001D\u0014\u0004\u0004\u0002D!\u0000\u0000\u0010\u0000\u0001\u0000@\u0000!A\u0010\u0000@\u0004\u0004\"D\u0004\u0000\u0010\u0002\u0010@\u0000D\u0001B\u0004\u0000\u0014\u0000\u0000\u0001\u0000\u0001A\u0011\u0014!B!\u0011\u0011\u0011\u0014\u0002AB\u0011AD\u0010\u0010\u0002\u0011\u0010AA\u0004\u0011 \u0002\u0010\u0001\u0001\u0004\u0004\u0014DD D\u0004DD\u0010\u0004\u0004@@ D \u0004D\u0001\u0012\u0011@@D@\u0004\u0004B\u0000\"!\"@\u0001\u0001\u0014!\u0004 \u0000!\u0010\u0001\u0000\u0014\u0001\u0000DA\u0001\u0002\u0001\u0011\u0000\u0000 \u0004\u0010\u0000\u0001\u0001A\u0010\u0002\u0014\u0001\u0001\u0001\u0010\u0010\u0004\u0011\u0004\u0010\u0001@@B\u0004BA$\u0002A\u0001\u0014\u0010\u0004\u0010B\u0011A@\u0010\u0010A\u0000\u0001\u0010\u0012\u0001\u0004 \u0000\u0012 !\u0000\u0013\u0001\u0010\u0002\u0010B\u0011@\u0001 \u0001\u0004\u0002 \u0011\u0012\u0014\u0001\u0001\u0010A@\u0011A!\u0002\u0010\u0010\u0011\u0014\u0000\u0011\u0001\u0011\u0011\u0011\u0014!\u0001A\u0000\u0000ADA \u0014\u0001\"!AA\u0010\u0012\u0000\u0002@\u0000A\u0000\u0001@@\u0000\u0011\u0010@ \u0011 \u0004\u0004\u0014\u0014BA\u0001\u0000@@A$D! \u0011\u0011\u0010A\u0011\u0002\u0011\u0011\u0001\u0001\u0002\u0012\u0012A\u0014!\u0002\u0004B \"\u0012\u0010@\u0011\u0010D \u0004A\u0004\u0014\u0002\u0011\u0011\u0000\u0011\u0012\u0010A\u0011\u0011!\u0002 \u0004!$\u0011\u0014\u0000 \u0001\u0011\"\"\u0002 \u0000\u0011\u0001\u0000\u0010\u0014\u0000\u0000\u0010\u0014 \u0000\u0012@ $D\u0000\u0012\u0000\u0004\u0000\u0010\u0011 @@ \u0004\"\u0002AA\" \u0004\u0000A\u0000\u0000 \u0002!\u0004!\u0002$ \u0002\u0011$!\u0014\u0000\u0000\u0010!!\u0004\u0000\u0000\u0012\u0001\u0004\u0001\u0000\u0011\u0010A\u0012\u0011\u0001\u0012\u0014@\u0004\u0000\u0000@D\u0011\u0001@\u0001\u0002@\u0000\u0000\u0000\u0000\u0011A\u0000\u0012\u0010\u0000\u0010\u0014 \u0004@\u0002\u0000\u0001\u0011B\u0001@\u0000\u0010\u0014B \u0004\u0010@\u0000\u0002\u0011\u0000A\u0011\u0010\u0001\u0014\u0000\u0010 \u0010\u0001\u0010\u0000\u0000\u0010\u0012\u0011\u0011B\u0000\u0000\u0010\u0004\u0010\u0001\u0011!\u0001A\u0010\u0000\u0002A!\u0010@\u0010\u0012\u0010\"\u0000@!\u0004\u0010\u0002A\u0001\u0001 \u0010\u0004\u0002 \u0000\u0004\u0014!\u0010\u0001\u0004\u0011\u0010\u0000A\u0004\u0000\u0011\u0000A\u0004\u0011\u0004\"\u0001\u0014A\u0001\u0000\"\u0001@\u0011\u0004\u0004B@\u0004!\u0002\u0001\u0004\u0010\u0004\u0014\u0011\u0011\u0004\u0001\u0011B@@A\u0000\u0011\u0004\u0001A\u0000\u0012\u0002\"\u0000\u0012 \u0012\u0000\u0000\u0010\u0004\u0004\u0010\u0014@\u0014\u0010\u0000\u0000\u0001\u0004\u0000\u0011\u0001\u0001\u0011\u0000\u0012\u0004\u0004\u0000B\u0001$\u0014\u0004A\u0010\u0014\u0001\u0010A\u0014A@\u0002@\u0010\u0014\u0010\u0014\"\u0011B\u0000\u0000\u0001\u0010\u0000\u0001@@\u0014!\u0010\u0012!\u0014\u0002\u0000\u0000\u0010@\u0000\u0010\u0001\u0002\u0002D\u0010\u0001\u0000\u0011\u0000@@B\u0000\u0001!\u0011\u0010@\u0000\u0000B\u0014\u0014D@\u0000@D\u0000\u0001\u00100\u0000\u0004\u0004\u0010ADD$\"!DDAA!\"\u0002\u0014D\u0014!\"BA\u0000@D\u0001\u0010@\u0010\u0001\u0011\"D\u0001\u0000\u0004\u0004\u0010 \u0004\u0010D\u0010ADD\u0010\u0004\u0014\u0014@\u0011\u0010\u0000A@@\u0000\u0002\u0010\u0010@D\u0000\u0014\u0010\u0000\u0001B\u0000B B\u0000B \u0004\u0002 DA\u0010\u0012\u0001 \"\"\"\u0002D@\u0001A$B\u0011\u0014\u0004@\u0010\u0000DAA\u0014D\u0014\u0014\u0000#2\u0000\u0014\u0000\u0002A \u0000B \"\u0000\u0004\u0000@\u0004\"\"\u0004@\u0002@\u0010\u0001D\"\"\"\u0004$DDD\u0012D\u0010B!\u0012A\u0004\u0012  \u0011\u0002\u0010\u0010\u0000\u0000\u0004\u0000$\u0012\u0000DA\u0010\u0014\"B \u0001B\u0001A\u0010! @\u0000!\u0004\u0010\u0012\u0004\u0000AA\u0014!\u0011\u0004\u0010BA\u0000\u0014@\u0011\"\u0011 \u0000\u0012 \"\u0001\u0002@ \u0000\u0002 \u0004\u0004\u0001\u0012 \u0012 \u0000\u0001\u0001\u0002\u0010\u0004\u0012  \"\u0000\u0010\"\u0000!\"\u0002A\u0011\u0000\u0000\u0002\u0000\u0000BD\u0000\u0010\u0001 \u0001\u0004\u0014\u0001\u0000\u0000\u0010\u0011@\u0010\u0001\u0010\u0012AA$A\u0011\u0011\u0014\u0014@$B\u0004\u0014\u0010!\u0010DA\u0004AAD@\u0010\u0004DD@D\u0011A\u0014\u0001@A\u0000\u0004\u0010\u0002D \u0000\u0001\u0001\u0002\u0010@@\u0002\u0002\u0014\u0001\u0011\u0010\u0014\u0010B\u0004\u0000\u0014\u0014\u0000\u0001\u0000@@ $\u0000\u0014D\u0001\u0004!\u0004\u0002A\u0014BA\u0011A\u0011\u0001$\u0011\u0011\u0014A\u0011\u0001$@@\u0002\u0004 \u0010\u0004\u0004$@\u0002AA\"\"\"\"@\"\"AA\"\"\u0012\u0014$\"\"\"\"\"\"\"\"\"\"\"\"\"\"\"\"\"\"\"AA\"\"\"\"\"\"\"\"\"\u0012$\"\"\"\"\"\"\"\"\"\"\"\"\"\"\"\"\"\"\u0002\u0014A\"\"\"\"\"\"\"\"\"\"\"\"\"\u0002$\"\"\u0002AB\u0001\"\u0000\u0004!D\u0010\u0004A@\u0004@\u0004\u0001\u0002@@\u0004\u0002A\u0004@\u0001\u0001\u0000@!\u0004\u0010@\u0001\u0000\u0000\u0010\u0010\u0000\u0000\u0010\u0010\u0000\u0000 \u0011\u0010@@\u0010B\u0004@@\u0002\u0002\u0001A\u0014\u0010BB\u0004A\u0011DD\u0002\u0004A\u0014\u0004\"B\u0010\u0011\u0004\u0000\u0001\u0014\u0000  A\u0000\u0001\u0000\u0004D\u0000\u0012$\u0001\u0011\u0010 \u0010\"\u0012\"\u0002\u0011 \u0002\u0000\u0011\u0000D\u0001\u0002\u0010BA\u0004D\u0004\u0011@D\u0011\u0004\u0004BD\u0001\"\u0004@\u0000D\u0004\"A@@@\"@@@\u0001\u0004\u0004\u0010\u0000A@\u0000D\u0011\u0010\"\u0001\u0011\u0000\u0014\u0002@\u0011\u0001\u0004!\u0011\u0000\u0004@\u0001\u0011\u0014\u0000\u0010\u0014\u0010A\u0011D \u0001\u0001\u0004A\u0014\u0004A\u0012A\u0012\u0004\u0014\u0011\u0000\u0014\u0000\u0011\u0010\u0014\u0011\u0001\u0011\u0002\u0001@\u0011\"\u0000\u0004@ADD\u0011\u0000D\u0004\u0010\u0014\u0001A@\u0001\u0000@\"\u0001\u0014\u0000\u0000D \u0000\u0004\u0000\u0002@\u0001\u0010\u0011\u0010@\u0000\u0000\u0004\u0011@A@\u0001\u0014D\u0014\u0010\u0004\u0004\u0002A\u0001\u0014D\u0011@\u0010@!\u0010\u0002\u0000\u0004@\u0010\u0000A\u0010\u0004DA\u0001D@\u0014\u0004B\u0001@\u0001@\u0000\u0004A\u0001\u0010\u0000\u0004\u0000\u0001\u0011\u0004$\u0001\u0000\u0000D@DA@A@\u0014\u0001DB\u0010\u0001@!\u0012$\u0011\u0012\u0011D\u0011\u0000\u0004\u0012A\u0010\"\u0011D\u0010\u0000AA$A\u0014\u0004!\u0012B\u0000\u0011B\u0001\u0010BA@\u0010D\u0010\u0004@D@@A DDD\u0000 \u0004\u0004B@\u0000\u0000\u0004BA\u0001\u0010\u0002\u0002\u0002\u0014D\u0011A\u0011\u0010\u0004\u0010\u0004\u0010\"\u0001\u0004\u0004$ADB\u0001\u0000\u0004\"$ \u0010\u0012\u0001@\u0014\u0010\u0000 D@@\u0002\u0010\u0011\u0011\u0010\u0000\u0014@@\u0011\u0010\u0010\u0000\u0000\u0004\u0001\u0010\u0011\u0010\u0000\u0001\u0000\u0010\u0001\u0004\u0004\u0002\u0000@\u0000!\u0010@@A\u0000A@ D\u0004\u0014\u0014@\u0001\u0010\u0001\u0014\u0010\u0000\u0011\u0014\u0010\u0000\u0001\u0002\u0012@@\u0014\u0000$\u0001\u0014\u0010\u0004\u0014\u0014D\u0001D\u0014A \u0014\u0001A\u0010\u0010@\u0000\u0013@@\u0010@\u0001\u0001\u0000\u0000 @  AD\u0004\u0014\u0001!\u0001\u0004\u0000\u0002\u0010\u0011\u0000D\u0011!\u0014\"\u0011\u0011@\u0010 \u0011\u0010\u0010\u0004@\u0000@D \u0012\u0004B@\u0004$B @!\u0014\u0014\u0010\u0004\u0001\u0000\u0000A\u0001@\u0010\u0002\u0000\u0004\u0014\u0010@\u0000\u0004A B\u0000D\u0000\u0014\u0000B\u0000AA\u0012\u0011B\u0000\u0004\u0004C@\"\u0001\u0001\u0000\u0014\u0011\u0014B \u0010\u0014!\u0000\u0014\u0001\"\u0001A\u0010B\u0011B\u0011\u0001\u0010\u0001@\u0001ADD\u0004\u0010\u0011\u0001\u0001\u0012\u0014D\u0000\u0014A@!@\"\u0002\u0002\u0011\u0002\u0001\u0002\u0001\u0001\u0001\u0001!\"\u0014\u0000\u0004\u0011!\u0014@\u0000$\u0010\u0010\u0001\u0000\u0000\u0001\u0001\u0011\u0010D\u0000\u0011\u0012 \u0001\u0012\u0000\u0003\u0010\u0000@\u0014\u0010\u0001!\"@\u0000\u0014@\u0010A\u0001\u0004\u0004\u0004\u0004B\u0010D B!\u0014\"B\u0014DAA\u0014D@ !\"BD\u0014\u0012!\u0004\u0000\"\u0000@\u0014DD$DDD\u0004@\u0000\u0011\u0011\u0011@\u0002@A\u0010\u0001\u0010\u0014\u0014\u0014\u0000D@B @\u0000D!\"D\u0010A@\u0000\u0001@@@\u0011\u0010\u0002\u0011\u0010\u0014D\u0014@\u0014\u0014\u0010\u0012\u0004\u0011\u0011\u0001 \u0001\u0000\u0001\u0002\u0010\u0001 \"\u0002\u0001\u0000\u0010\u0012\u0002\u0004!\u0011\u0010\u0002@!\u0012\u0010\u0010\u0000\u0012\u0001\u0000\u0001\u0004! \u0004D@\u0000\u0001\"\u0001A\u0001A\u0011\u0000\u0011\u0010\u0001\u0004\u0012\u0014\u0000\u0014\u0002\u0011@\u0001\u0000\u0004A\u0001\"A\u0014\u0004\u0004\u0004\u0004\u0001\u0002A\u0000\u0004\u0002\u0004 \u0004\u0002@ \u0004\u0004\u0010D\u0004\u0010\u0014A\u0010\u0014\u0012\u0000@\u0000ADD\u0012\u0001@\u0001\u0000D@@\u0004\"\"\u0012\u0000DD \u0004\u0002D\u0001\u0010\u0000\u0004BD\u0002D\u0000\u0001A\u0014\u0004@\u0004\u0002@D\u0001\u00100\u0001$ \u0000\u0001\u0002\u0010\u0000\u0010\u0002\u0001\u0004\u0012\u0010\u0011 \u0000\u0001\u0010\u0014@ \u0010\u0004\u0012A\u0010\u0001BD\u0010\u0014\u0004\u0001B\u0011\u0010\"A@A \u0014@\u0010\u0012@\u0011\u0014\u0000\t\n",
      "#\n",
      "\b\u0005\n",
      "#\u0017\u0004\u001c",
      "#\u0004\u0018\u0005\u0014####\u001d",
      "\u000e\u001d",
      "\u0017#\u0016#\u0005\u0017\u0003\u0003\u0003\u0003#\u0012\u000f\u0001#\u000f#\u0018\u0012\u0017#\u000f\u0001\u0001\u0001##\u000f\u0001#\u0012\u0016#\u0016\u0017\u0012\u0001\u0001\t\u0016\u0012\u0018\u0012\u0014\t\u0006\u0016\u0006\u0016#\u0016\u0006\u0017\u0006\u001c",
      "\u0001\u0016\n",
      "\u0018\u0014###\u0019\u0012#\u000b",
      "####\u0010#\u001b##\u000f\u001d",
      "##\u0018#\u0014#\u001d",
      "##\u0016\u0017\u0017\u0016\t###\u0001#\u0014\u000b",
      "#\u0001\u0001\u0004\u0001\u0003#\u0019#\t\u000e###\u0004\u0004\u0003\u0003\u0003\u0006#\u0014\u0005\u0004\u0004\u0004\u0016\u0004##\u0005\u000f\u0017\u0017\t#\u0012\u0017\t\u0016\u001b\u000b",
      "\u0016#\u0017\t#####\u0017\u0014#\u000f##\u0004\u000f\u0013\u0004##\u0004\u0004#\u001b\u000e#\u0014##\u0013\u0010###\u0017\u0017#\u0010#\u0016\u0014#\u0004\u0016##\u0016#\u0016\u0001\u0001\u0004\u000f\u0016\u0001\u000f\u0016\u001c",
      "\u0019\u0004\n",
      "\u0006\u0014\u0019#\u0001#\u000e\u0006\u0006#\u0004#\u0005\u0018\u001b\u0005\u0018#\u0018\u0006#\u0005\u0012\u0017#\u0018#\u0005#\u0018\u0005#\u000e\u0005\u0016\u0014\u0005\u0017\u0016#\u0014#\u001b\u001d",
      "\u0014\u0012#\u0005#\u000e##\u0012#\u0014\u0004#\t###\u0001##\u0014\u000b",
      "\u0004\u0001#\u0014##\u0013\u0016#\u0014\n",
      "\t\u0019#\n",
      "#\u0016##\u0014\u0014#\u0017\u0017#\u0010\u0005\u0014##\u0001\t\t\t#\u0014\u0017\n",
      "#\u0014\u0017##\u0004\u0019\u000b",
      "#\u000e\u0005\t#\u0006\u0014\u0016\u0012\u0016\u0001\u001b\n",
      "#\n"
     ]
    }
   ],
   "source": [
    "# Formato Plink2:\n",
    "# *psam contiene FID, IID, SEX, PHENO1 columns\n",
    "# *pvar contiene CHROM, POS, ID, REF, ALT columns\n",
    "# *pgen contiene una matrix que no se puede visualizar\n",
    "\n",
    "! head {WORK_DIR}/EAS/GP2_round3_EAS_maf_hwe_release3.psam\n",
    "! head {WORK_DIR}/EAS/GP2_round3_EAS_maf_hwe_release3.pvar\n",
    "! head {WORK_DIR}/EAS/GP2_round3_EAS_maf_hwe_release3.pgen\n"
   ]
  },
  {
   "cell_type": "code",
   "execution_count": 13,
   "metadata": {},
   "outputs": [
    {
     "name": "stdout",
     "output_type": "stream",
     "text": [
      "PLINK v2.00a1LM 64-bit Intel (11 Feb 2018)\r\n",
      "Options in effect:\r\n",
      "  --bfile /data/CARD/PD/GP2/genotypes/GP2/round3/clean/GP2_round3_NEW_MERGE_EAS_maf_hwe\r\n",
      "  --keep /data/CARD/PD/GP2/genotypes/GP2/round3/clean/GP2_round3_EAS_maf_hwe_release3.samples\r\n",
      "  --make-pgen\r\n",
      "  --out /data/CARD/PD/GP2/genotypes/GP2/round3/clean/GP2_round3_EAS_maf_hwe_release3\r\n",
      "\r\n",
      "Hostname: cn0904\r\n",
      "Working directory: /gpfs/gsfs6/users/levineks/GP2\r\n",
      "Start time: Fri Oct 28 12:02:52 2022\r\n"
     ]
    }
   ],
   "source": [
    "# Visualizar el archivo *log \n",
    "\n",
    "! head {WORK_DIR}/EAS/GP2_round3_EAS_maf_hwe_release3.log"
   ]
  },
  {
   "cell_type": "markdown",
   "metadata": {},
   "source": [
    "### Visualiza los archivos *pvar, *psam y *pgen (en python)"
   ]
  },
  {
   "cell_type": "code",
   "execution_count": 14,
   "metadata": {},
   "outputs": [
    {
     "data": {
      "text/html": [
       "<div>\n",
       "<style scoped>\n",
       "    .dataframe tbody tr th:only-of-type {\n",
       "        vertical-align: middle;\n",
       "    }\n",
       "\n",
       "    .dataframe tbody tr th {\n",
       "        vertical-align: top;\n",
       "    }\n",
       "\n",
       "    .dataframe thead th {\n",
       "        text-align: right;\n",
       "    }\n",
       "</style>\n",
       "<table border=\"1\" class=\"dataframe\">\n",
       "  <thead>\n",
       "    <tr style=\"text-align: right;\">\n",
       "      <th></th>\n",
       "      <th>#FID</th>\n",
       "      <th>IID</th>\n",
       "      <th>SEX</th>\n",
       "      <th>PHENO1</th>\n",
       "    </tr>\n",
       "  </thead>\n",
       "  <tbody>\n",
       "    <tr>\n",
       "      <th>0</th>\n",
       "      <td>0</td>\n",
       "      <td>APGS_000051_s1</td>\n",
       "      <td>1</td>\n",
       "      <td>2</td>\n",
       "    </tr>\n",
       "    <tr>\n",
       "      <th>1</th>\n",
       "      <td>0</td>\n",
       "      <td>APGS_000113_s1</td>\n",
       "      <td>1</td>\n",
       "      <td>2</td>\n",
       "    </tr>\n",
       "    <tr>\n",
       "      <th>2</th>\n",
       "      <td>0</td>\n",
       "      <td>APGS_000135_s1</td>\n",
       "      <td>1</td>\n",
       "      <td>2</td>\n",
       "    </tr>\n",
       "    <tr>\n",
       "      <th>3</th>\n",
       "      <td>0</td>\n",
       "      <td>APGS_000186_s1</td>\n",
       "      <td>1</td>\n",
       "      <td>2</td>\n",
       "    </tr>\n",
       "    <tr>\n",
       "      <th>4</th>\n",
       "      <td>0</td>\n",
       "      <td>APGS_000201_s1</td>\n",
       "      <td>1</td>\n",
       "      <td>2</td>\n",
       "    </tr>\n",
       "  </tbody>\n",
       "</table>\n",
       "</div>"
      ],
      "text/plain": [
       "   #FID             IID  SEX  PHENO1\n",
       "0     0  APGS_000051_s1    1       2\n",
       "1     0  APGS_000113_s1    1       2\n",
       "2     0  APGS_000135_s1    1       2\n",
       "3     0  APGS_000186_s1    1       2\n",
       "4     0  APGS_000201_s1    1       2"
      ]
     },
     "execution_count": 14,
     "metadata": {},
     "output_type": "execute_result"
    }
   ],
   "source": [
    "psam = pd.read_csv(f'{WORK_DIR}/EAS/GP2_round3_EAS_maf_hwe_release3.psam', sep = '\\t')\n",
    "psam.head()"
   ]
  },
  {
   "cell_type": "code",
   "execution_count": 15,
   "metadata": {},
   "outputs": [
    {
     "name": "stderr",
     "output_type": "stream",
     "text": [
      "/tmp/ipykernel_1511/2695683932.py:1: DtypeWarning: Columns (0) have mixed types. Specify dtype option on import or set low_memory=False.\n",
      "  pvar= pd.read_csv(f'{WORK_DIR}/EAS/GP2_round3_EAS_maf_hwe_release3.pvar', sep = '\\t')\n"
     ]
    },
    {
     "data": {
      "text/html": [
       "<div>\n",
       "<style scoped>\n",
       "    .dataframe tbody tr th:only-of-type {\n",
       "        vertical-align: middle;\n",
       "    }\n",
       "\n",
       "    .dataframe tbody tr th {\n",
       "        vertical-align: top;\n",
       "    }\n",
       "\n",
       "    .dataframe thead th {\n",
       "        text-align: right;\n",
       "    }\n",
       "</style>\n",
       "<table border=\"1\" class=\"dataframe\">\n",
       "  <thead>\n",
       "    <tr style=\"text-align: right;\">\n",
       "      <th></th>\n",
       "      <th>#CHROM</th>\n",
       "      <th>POS</th>\n",
       "      <th>ID</th>\n",
       "      <th>REF</th>\n",
       "      <th>ALT</th>\n",
       "    </tr>\n",
       "  </thead>\n",
       "  <tbody>\n",
       "    <tr>\n",
       "      <th>0</th>\n",
       "      <td>0</td>\n",
       "      <td>0</td>\n",
       "      <td>10:47074788-A-G</td>\n",
       "      <td>G</td>\n",
       "      <td>A</td>\n",
       "    </tr>\n",
       "    <tr>\n",
       "      <th>1</th>\n",
       "      <td>0</td>\n",
       "      <td>0</td>\n",
       "      <td>10:47084956-C-T</td>\n",
       "      <td>A</td>\n",
       "      <td>G</td>\n",
       "    </tr>\n",
       "    <tr>\n",
       "      <th>2</th>\n",
       "      <td>0</td>\n",
       "      <td>0</td>\n",
       "      <td>15:23279911-C-T</td>\n",
       "      <td>A</td>\n",
       "      <td>G</td>\n",
       "    </tr>\n",
       "    <tr>\n",
       "      <th>3</th>\n",
       "      <td>0</td>\n",
       "      <td>0</td>\n",
       "      <td>1:144677777-T-C</td>\n",
       "      <td>G</td>\n",
       "      <td>A</td>\n",
       "    </tr>\n",
       "    <tr>\n",
       "      <th>4</th>\n",
       "      <td>0</td>\n",
       "      <td>0</td>\n",
       "      <td>1:144863320-TC</td>\n",
       "      <td>A</td>\n",
       "      <td>G</td>\n",
       "    </tr>\n",
       "  </tbody>\n",
       "</table>\n",
       "</div>"
      ],
      "text/plain": [
       "  #CHROM  POS               ID REF ALT\n",
       "0      0    0  10:47074788-A-G   G   A\n",
       "1      0    0  10:47084956-C-T   A   G\n",
       "2      0    0  15:23279911-C-T   A   G\n",
       "3      0    0  1:144677777-T-C   G   A\n",
       "4      0    0   1:144863320-TC   A   G"
      ]
     },
     "execution_count": 15,
     "metadata": {},
     "output_type": "execute_result"
    }
   ],
   "source": [
    "pvar= pd.read_csv(f'{WORK_DIR}/EAS/GP2_round3_EAS_maf_hwe_release3.pvar', sep = '\\t')\n",
    "pvar.head()"
   ]
  },
  {
   "cell_type": "markdown",
   "metadata": {},
   "source": [
    "### Calcula componentes principales"
   ]
  },
  {
   "cell_type": "code",
   "execution_count": 16,
   "metadata": {},
   "outputs": [
    {
     "name": "stdout",
     "output_type": "stream",
     "text": [
      "PLINK v2.00a3.3LM AVX2 Intel (3 Jun 2022)      www.cog-genomics.org/plink/2.0/\n",
      "(C) 2005-2022 Shaun Purcell, Christopher Chang   GNU General Public License v3\n",
      "Logging to EJEMPLO_1.log.\n",
      "Options in effect:\n",
      "  --geno 0.05\n",
      "  --hwe 1E-6\n",
      "  --maf 0.01\n",
      "  --make-bed\n",
      "  --out EJEMPLO_1\n",
      "  --pfile EAS/GP2_round3_EAS_maf_hwe_release3\n",
      "\n",
      "Start time: Wed Dec 27 04:52:43 2023\n",
      "3676 MiB RAM detected; reserving 1838 MiB for main workspace.\n",
      "Using 1 compute thread.\n",
      "137 samples (52 females, 85 males; 137 founders) loaded from\n",
      "EAS/GP2_round3_EAS_maf_hwe_release3.psam.\n",
      "840075 variants loaded from EAS/GP2_round3_EAS_maf_hwe_release3.pvar.\n",
      "1 binary phenotype loaded (104 cases, 33 controls).\n",
      "Calculating allele frequencies... 1523313946546270788593done.\n",
      "--geno: 27492 variants removed due to missing genotype data.\n",
      "Computing chrX Hardy-Weinberg p-values... 1010111112121313141415151616171718181919202021212222232324242525262627272828292930303131323233333434353536363737383839394040414142424343444445454646474748484949505051515252535354545555565657575858595960606161626263636464656566666767686869697070717172727373747475757676777778787979808081818282838384848585868687878888898990909191929293939494959596969797989899done.\n"
     ]
    },
    {
     "name": "stderr",
     "output_type": "stream",
     "text": [
      "Warning: --hwe observation counts vary by more than 10%.  Consider using\n",
      "--geno, and/or applying different p-value thresholds to distinct subsets of\n",
      "your data.\n"
     ]
    },
    {
     "name": "stdout",
     "output_type": "stream",
     "text": [
      "--hwe: 6 variants removed due to Hardy-Weinberg exact test (founders only).\n",
      "62598 variants removed due to allele frequency threshold(s)\n",
      "(--maf/--max-maf/--mac/--max-mac).\n",
      "749979 variants remaining after main filters.\n",
      "Writing EJEMPLO_1.fam ... done.\n",
      "Writing EJEMPLO_1.bim ... done.\n",
      "Writing EJEMPLO_1.bed ... 1523313946546270788693done.\n",
      "End time: Wed Dec 27 04:52:44 2023\n",
      "PLINK v2.00a3.3LM AVX2 Intel (3 Jun 2022)      www.cog-genomics.org/plink/2.0/\n",
      "(C) 2005-2022 Shaun Purcell, Christopher Chang   GNU General Public License v3\n",
      "Logging to prune.log.\n",
      "Options in effect:\n",
      "  --bfile EJEMPLO_1\n",
      "  --indep-pairwise 50 5 0.5\n",
      "  --out prune\n",
      "\n",
      "Start time: Wed Dec 27 04:52:44 2023\n",
      "3676 MiB RAM detected; reserving 1838 MiB for main workspace.\n",
      "Using 1 compute thread.\n",
      "137 samples (52 females, 85 males; 137 founders) loaded from EJEMPLO_1.fam.\n",
      "749979 variants loaded from EJEMPLO_1.bim.\n",
      "1 binary phenotype loaded (104 cases, 33 controls).\n",
      "Calculating allele frequencies... 17263443526169788796done.\n",
      "--indep-pairwise: Ignoring 478 chromosome 0 variants.\n",
      "--indep-pairwise (1 compute thread): 17263443526169788796383224/749501 variants removed.\n",
      "Variant lists written to prune.prune.in and prune.prune.out .\n",
      "End time: Wed Dec 27 04:52:45 2023\n",
      "PLINK v2.00a3.3LM AVX2 Intel (3 Jun 2022)      www.cog-genomics.org/plink/2.0/\n",
      "(C) 2005-2022 Shaun Purcell, Christopher Chang   GNU General Public License v3\n",
      "Logging to prune.log.\n",
      "Options in effect:\n",
      "  --bfile EJEMPLO_1\n",
      "  --extract prune.prune.in\n",
      "  --make-bed\n",
      "  --out prune\n",
      "\n",
      "Start time: Wed Dec 27 04:52:45 2023\n",
      "3676 MiB RAM detected; reserving 1838 MiB for main workspace.\n",
      "Using 1 compute thread.\n",
      "137 samples (52 females, 85 males; 137 founders) loaded from EJEMPLO_1.fam.\n",
      "749979 variants loaded from EJEMPLO_1.bim.\n",
      "1 binary phenotype loaded (104 cases, 33 controls).\n",
      "--extract: 366277 variants remaining.\n",
      "366277 variants remaining after main filters.\n",
      "Writing prune.fam ... done.\n",
      "Writing prune.bim ... done.\n",
      "Writing prune.bed ... 17253442516068788796done.\n",
      "End time: Wed Dec 27 04:52:46 2023\n",
      "PLINK v2.00a3.3LM AVX2 Intel (3 Jun 2022)      www.cog-genomics.org/plink/2.0/\n",
      "(C) 2005-2022 Shaun Purcell, Christopher Chang   GNU General Public License v3\n",
      "Logging to EJEMPLO_1.PCA.log.\n",
      "Options in effect:\n",
      "  --bfile prune\n",
      "  --out EJEMPLO_1.PCA\n",
      "  --pca 10\n",
      "\n",
      "Start time: Wed Dec 27 04:52:46 2023\n",
      "3676 MiB RAM detected; reserving 1838 MiB for main workspace.\n",
      "Using 1 compute thread.\n",
      "137 samples (52 females, 85 males; 137 founders) loaded from prune.fam.\n",
      "366277 variants loaded from prune.bim.\n",
      "1 binary phenotype loaded (104 cases, 33 controls).\n",
      "Calculating allele frequencies... 1735537189done.\n",
      "Excluding 8640 variants on non-autosomes from GRM construction.\n",
      "Constructing GRM: 10111213141516171819202122232425262728293031323334353637383940414243444546474849505152535455565758596061626364656666676869707172737475767778798081828384858687888990919293949596979899done.\n",
      "Correcting for missingness... 101112131415161718192021222324252627282930313233343536373839404142434445464748495051525354555657585960616263646566676869707172737475767778798081828384858687888990919293949596979899done.\n",
      "Excluding 8640 variants on non-autosomes from PCA.\n",
      "Extracting eigenvalues and eigenvectors... done.\n",
      "--pca: Eigenvectors written to EJEMPLO_1.PCA.eigenvec , and eigenvalues written\n",
      "to EJEMPLO_1.PCA.eigenval .\n",
      "End time: Wed Dec 27 04:52:46 2023\n"
     ]
    }
   ],
   "source": [
    "%%bash\n",
    "WORK_DIR=/home/jupyter/EJERCICIO_1/\n",
    "cd $WORK_DIR\n",
    "\n",
    "# Utiliza variantes con calidad optima. Descarta variantes raras\n",
    "/home/jupyter/tools/plink2 --pfile EAS/GP2_round3_EAS_maf_hwe_release3 --maf 0.01 --geno 0.05 --hwe 1E-6 --make-bed --out EJEMPLO_1\n",
    "\n",
    "# Filtra variantes independientes (pruning)\n",
    "/home/jupyter/tools/plink2 --bfile EJEMPLO_1 --indep-pairwise 50 5 0.5 --out prune\n",
    "\n",
    "# Extrae variantes filtradas\n",
    "/home/jupyter/tools/plink2 --bfile EJEMPLO_1 --extract prune.prune.in --make-bed --out prune\n",
    "\n",
    "# Calcula PCs\n",
    "/home/jupyter/tools/plink2 --bfile prune --pca 10 --out EJEMPLO_1.PCA"
   ]
  },
  {
   "cell_type": "code",
   "execution_count": 17,
   "metadata": {},
   "outputs": [
    {
     "name": "stdout",
     "output_type": "stream",
     "text": [
      "#FID\tIID\tPC1\tPC2\tPC3\tPC4\tPC5\tPC6\tPC7\tPC8\tPC9\tPC10\n",
      "0\tAPGS_000051_s1\t0.0380752\t0.0676968\t0.00329508\t-0.069545\t-0.0434179\t-0.0333652\t-0.0413233\t0.00685397\t-0.0261765\t-0.0240971\n",
      "0\tAPGS_000113_s1\t-0.00809064\t0.0659355\t-0.0264762\t0.0211067\t-0.0189945\t0.0587418\t0.0383859\t0.00923688\t0.0838931\t-0.0492883\n",
      "0\tAPGS_000135_s1\t-0.0169093\t0.0661386\t-0.030057\t0.0181156\t-0.031205\t0.0389084\t0.0368215\t0.0252988\t0.0270844\t-0.00303184\n",
      "0\tAPGS_000186_s1\t0.0203702\t0.054612\t-0.00012354\t-0.0253828\t-0.0214954\t-0.0364197\t0.00450415\t-0.0593161\t0.0367202\t-0.107248\n",
      "0\tAPGS_000201_s1\t0.0172614\t0.0635851\t-0.00397269\t-0.0574377\t0.000567505\t-0.0429637\t0.00211394\t0.00491069\t-0.0863221\t-0.0802582\n",
      "0\tAPGS_000204_s1\t0.0357435\t0.0524748\t0.000828454\t-0.119189\t0.00291202\t-0.0672826\t-0.0552363\t-0.001515\t-0.0616961\t-0.0119103\n",
      "0\tAPGS_000263_s1\t0.132403\t-0.0825484\t-0.0655674\t0.00839186\t0.0470194\t0.0022924\t-0.021393\t0.109509\t-0.0596602\t-0.0780649\n",
      "0\tAPGS_000314_s1\t-0.0608043\t0.0474488\t-0.0209897\t0.113576\t0.0120864\t0.0535251\t-0.00886369\t-0.00171638\t-0.0482896\t0.000479159\n",
      "0\tAPGS_000415_s1\t-0.00948835\t0.065781\t-0.0269864\t0.0108697\t0.0189475\t-0.0283952\t0.00340485\t0.0718501\t0.000646442\t-0.125056\n"
     ]
    }
   ],
   "source": [
    "%%bash\n",
    "WORK_DIR=/home/jupyter/EJERCICIO_1/\n",
    "cd $WORK_DIR\n",
    "\n",
    "head EJEMPLO_1.PCA.eigenvec"
   ]
  },
  {
   "cell_type": "code",
   "execution_count": 18,
   "metadata": {},
   "outputs": [
    {
     "data": {
      "text/html": [
       "<div>\n",
       "<style scoped>\n",
       "    .dataframe tbody tr th:only-of-type {\n",
       "        vertical-align: middle;\n",
       "    }\n",
       "\n",
       "    .dataframe tbody tr th {\n",
       "        vertical-align: top;\n",
       "    }\n",
       "\n",
       "    .dataframe thead th {\n",
       "        text-align: right;\n",
       "    }\n",
       "</style>\n",
       "<table border=\"1\" class=\"dataframe\">\n",
       "  <thead>\n",
       "    <tr style=\"text-align: right;\">\n",
       "      <th></th>\n",
       "      <th>#FID</th>\n",
       "      <th>IID</th>\n",
       "      <th>PC1</th>\n",
       "      <th>PC2</th>\n",
       "      <th>PC3</th>\n",
       "      <th>PC4</th>\n",
       "      <th>PC5</th>\n",
       "      <th>PC6</th>\n",
       "      <th>PC7</th>\n",
       "      <th>PC8</th>\n",
       "      <th>PC9</th>\n",
       "      <th>PC10</th>\n",
       "    </tr>\n",
       "  </thead>\n",
       "  <tbody>\n",
       "    <tr>\n",
       "      <th>0</th>\n",
       "      <td>0</td>\n",
       "      <td>APGS_000051_s1</td>\n",
       "      <td>0.038075</td>\n",
       "      <td>0.067697</td>\n",
       "      <td>0.003295</td>\n",
       "      <td>-0.069545</td>\n",
       "      <td>-0.043418</td>\n",
       "      <td>-0.033365</td>\n",
       "      <td>-0.041323</td>\n",
       "      <td>0.006854</td>\n",
       "      <td>-0.026176</td>\n",
       "      <td>-0.024097</td>\n",
       "    </tr>\n",
       "    <tr>\n",
       "      <th>1</th>\n",
       "      <td>0</td>\n",
       "      <td>APGS_000113_s1</td>\n",
       "      <td>-0.008091</td>\n",
       "      <td>0.065935</td>\n",
       "      <td>-0.026476</td>\n",
       "      <td>0.021107</td>\n",
       "      <td>-0.018995</td>\n",
       "      <td>0.058742</td>\n",
       "      <td>0.038386</td>\n",
       "      <td>0.009237</td>\n",
       "      <td>0.083893</td>\n",
       "      <td>-0.049288</td>\n",
       "    </tr>\n",
       "    <tr>\n",
       "      <th>2</th>\n",
       "      <td>0</td>\n",
       "      <td>APGS_000135_s1</td>\n",
       "      <td>-0.016909</td>\n",
       "      <td>0.066139</td>\n",
       "      <td>-0.030057</td>\n",
       "      <td>0.018116</td>\n",
       "      <td>-0.031205</td>\n",
       "      <td>0.038908</td>\n",
       "      <td>0.036822</td>\n",
       "      <td>0.025299</td>\n",
       "      <td>0.027084</td>\n",
       "      <td>-0.003032</td>\n",
       "    </tr>\n",
       "    <tr>\n",
       "      <th>3</th>\n",
       "      <td>0</td>\n",
       "      <td>APGS_000186_s1</td>\n",
       "      <td>0.020370</td>\n",
       "      <td>0.054612</td>\n",
       "      <td>-0.000124</td>\n",
       "      <td>-0.025383</td>\n",
       "      <td>-0.021495</td>\n",
       "      <td>-0.036420</td>\n",
       "      <td>0.004504</td>\n",
       "      <td>-0.059316</td>\n",
       "      <td>0.036720</td>\n",
       "      <td>-0.107248</td>\n",
       "    </tr>\n",
       "    <tr>\n",
       "      <th>4</th>\n",
       "      <td>0</td>\n",
       "      <td>APGS_000201_s1</td>\n",
       "      <td>0.017261</td>\n",
       "      <td>0.063585</td>\n",
       "      <td>-0.003973</td>\n",
       "      <td>-0.057438</td>\n",
       "      <td>0.000568</td>\n",
       "      <td>-0.042964</td>\n",
       "      <td>0.002114</td>\n",
       "      <td>0.004911</td>\n",
       "      <td>-0.086322</td>\n",
       "      <td>-0.080258</td>\n",
       "    </tr>\n",
       "  </tbody>\n",
       "</table>\n",
       "</div>"
      ],
      "text/plain": [
       "   #FID             IID       PC1       PC2       PC3       PC4       PC5  \\\n",
       "0     0  APGS_000051_s1  0.038075  0.067697  0.003295 -0.069545 -0.043418   \n",
       "1     0  APGS_000113_s1 -0.008091  0.065935 -0.026476  0.021107 -0.018995   \n",
       "2     0  APGS_000135_s1 -0.016909  0.066139 -0.030057  0.018116 -0.031205   \n",
       "3     0  APGS_000186_s1  0.020370  0.054612 -0.000124 -0.025383 -0.021495   \n",
       "4     0  APGS_000201_s1  0.017261  0.063585 -0.003973 -0.057438  0.000568   \n",
       "\n",
       "        PC6       PC7       PC8       PC9      PC10  \n",
       "0 -0.033365 -0.041323  0.006854 -0.026176 -0.024097  \n",
       "1  0.058742  0.038386  0.009237  0.083893 -0.049288  \n",
       "2  0.038908  0.036822  0.025299  0.027084 -0.003032  \n",
       "3 -0.036420  0.004504 -0.059316  0.036720 -0.107248  \n",
       "4 -0.042964  0.002114  0.004911 -0.086322 -0.080258  "
      ]
     },
     "execution_count": 18,
     "metadata": {},
     "output_type": "execute_result"
    }
   ],
   "source": [
    "componentes_principales_eigenvec = pd.read_csv(f'{WORK_DIR}/EJEMPLO_1.PCA.eigenvec', delim_whitespace=True)\n",
    "componentes_principales_eigenvec.head()"
   ]
  },
  {
   "cell_type": "code",
   "execution_count": 19,
   "metadata": {},
   "outputs": [
    {
     "data": {
      "text/html": [
       "<div>\n",
       "<style scoped>\n",
       "    .dataframe tbody tr th:only-of-type {\n",
       "        vertical-align: middle;\n",
       "    }\n",
       "\n",
       "    .dataframe tbody tr th {\n",
       "        vertical-align: top;\n",
       "    }\n",
       "\n",
       "    .dataframe thead th {\n",
       "        text-align: right;\n",
       "    }\n",
       "</style>\n",
       "<table border=\"1\" class=\"dataframe\">\n",
       "  <thead>\n",
       "    <tr style=\"text-align: right;\">\n",
       "      <th></th>\n",
       "      <th>0</th>\n",
       "    </tr>\n",
       "  </thead>\n",
       "  <tbody>\n",
       "    <tr>\n",
       "      <th>0</th>\n",
       "      <td>1.92447</td>\n",
       "    </tr>\n",
       "    <tr>\n",
       "      <th>1</th>\n",
       "      <td>1.51498</td>\n",
       "    </tr>\n",
       "    <tr>\n",
       "      <th>2</th>\n",
       "      <td>1.23161</td>\n",
       "    </tr>\n",
       "    <tr>\n",
       "      <th>3</th>\n",
       "      <td>1.17151</td>\n",
       "    </tr>\n",
       "    <tr>\n",
       "      <th>4</th>\n",
       "      <td>1.12876</td>\n",
       "    </tr>\n",
       "  </tbody>\n",
       "</table>\n",
       "</div>"
      ],
      "text/plain": [
       "         0\n",
       "0  1.92447\n",
       "1  1.51498\n",
       "2  1.23161\n",
       "3  1.17151\n",
       "4  1.12876"
      ]
     },
     "execution_count": 19,
     "metadata": {},
     "output_type": "execute_result"
    }
   ],
   "source": [
    "componentes_principales_eigenval = pd.read_csv(f'{WORK_DIR}/EJEMPLO_1.PCA.eigenval', sep = '\\t', header = None)\n",
    "componentes_principales_eigenval.head()"
   ]
  },
  {
   "cell_type": "code",
   "execution_count": 20,
   "metadata": {},
   "outputs": [
    {
     "name": "stdout",
     "output_type": "stream",
     "text": [
      "EAS\t       EJEMPLO_1.log\t       prune.bed  prune.prune.in\r\n",
      "EJEMPLO_1.bed  EJEMPLO_1.PCA.eigenval  prune.bim  prune.prune.out\r\n",
      "EJEMPLO_1.bim  EJEMPLO_1.PCA.eigenvec  prune.fam\r\n",
      "EJEMPLO_1.fam  EJEMPLO_1.PCA.log       prune.log\r\n"
     ]
    }
   ],
   "source": [
    "! ls /home/jupyter/EJERCICIO_1"
   ]
  },
  {
   "cell_type": "markdown",
   "metadata": {},
   "source": [
    "## Crea un “scree plot” (grafico de sedimentacion)"
   ]
  },
  {
   "cell_type": "code",
   "execution_count": 21,
   "metadata": {},
   "outputs": [
    {
     "name": "stdout",
     "output_type": "stream",
     "text": [
      "Making a working directory\n"
     ]
    },
    {
     "name": "stderr",
     "output_type": "stream",
     "text": [
      "Executing: mkdir -p /home/jupyter/EJERCICIO_2\n"
     ]
    }
   ],
   "source": [
    "# Crea una carpeta en tu \"workspace\" donde vamos a ejecutar los analisis\n",
    "print(\"Making a working directory\")\n",
    "WORK_DIR = f'/home/jupyter/EJERCICIO_2'\n",
    "shell_do(f'mkdir -p {WORK_DIR}')"
   ]
  },
  {
   "cell_type": "code",
   "execution_count": 22,
   "metadata": {},
   "outputs": [
    {
     "name": "stdout",
     "output_type": "stream",
     "text": [
      "Read in pca.eigenval files from PLINK\n"
     ]
    },
    {
     "data": {
      "image/png": "[encoded data removed]",
      "text/plain": [
       "<Figure size 640x480 with 1 Axes>"
      ]
     },
     "metadata": {},
     "output_type": "display_data"
    }
   ],
   "source": [
    "import matplotlib.pyplot as plt\n",
    "\n",
    "# Lee los archivos del analisis de componentes principales - Eigenvalues and Eigenvectors\n",
    "print(\"Read in pca.eigenval files from PLINK\")\n",
    "eigenval = pd.read_csv(f'/home/jupyter/EJERCICIO_1/EJEMPLO_1.PCA.eigenval', delimiter=\"\\t\", header=None)\n",
    "\n",
    "# Actualiza el nombre de las columnas\n",
    "eigenval.columns = [\"Eigenvalues\"]\n",
    "eigenval[\"PC\"] = eigenval.index + 1\n",
    "eigenval[\"VarianceExplained\"] = eigenval[\"Eigenvalues\"] / eigenval[\"Eigenvalues\"].sum() * 100\n",
    "\n",
    "# Extrae solo los primeros 10PCs\n",
    "eigenval2 = eigenval.head(10)\n",
    "\n",
    "# Genera el plot\n",
    "plt.plot(eigenval2[\"PC\"], eigenval2[\"VarianceExplained\"])\n",
    "plt.xlabel(\"Componentes principales\")\n",
    "plt.ylabel(\"Porcentaje (%) Varianza Explicada\")\n",
    "plt.title(\"Scree Plot: \\n Muestras GP2 EAS \\n (104 Casos; 33 Controles)\")\n",
    "\n",
    "# Guarda tu plot en PDF y JPEG\n",
    "plt.savefig(f'{WORK_DIR}/ScreePlot_GP2_EAS_unrelated.pdf')\n",
    "plt.savefig(f'{WORK_DIR}/ScreePlot_GP2_EAS_unrelated.jpg')\n",
    "plt.show()"
   ]
  },
  {
   "cell_type": "code",
   "execution_count": 23,
   "metadata": {},
   "outputs": [
    {
     "name": "stdout",
     "output_type": "stream",
     "text": [
      "ScreePlot_GP2_EAS_unrelated.jpg  ScreePlot_GP2_EAS_unrelated.pdf\r\n"
     ]
    }
   ],
   "source": [
    "! ls /home/jupyter/EJERCICIO_2"
   ]
  },
  {
   "cell_type": "markdown",
   "metadata": {},
   "source": [
    "## Estima que muestras estan emparentadas entre si y si hay muestras duplicadas en los datos de la población SAS"
   ]
  },
  {
   "cell_type": "code",
   "execution_count": 24,
   "metadata": {},
   "outputs": [
    {
     "name": "stdout",
     "output_type": "stream",
     "text": [
      "Making a working directory\n"
     ]
    },
    {
     "name": "stderr",
     "output_type": "stream",
     "text": [
      "Executing: mkdir -p /home/jupyter/EJERCICIO_3\n"
     ]
    }
   ],
   "source": [
    "# Crea una carpeta en tu \"workspace\" donde vamos a ejecutar los analisis\n",
    "print(\"Making a working directory\")\n",
    "WORK_DIR = f'/home/jupyter/EJERCICIO_3'\n",
    "shell_do(f'mkdir -p {WORK_DIR}')"
   ]
  },
  {
   "cell_type": "code",
   "execution_count": 25,
   "metadata": {},
   "outputs": [
    {
     "name": "stderr",
     "output_type": "stream",
     "text": [
      "Executing: gsutil -u terra-61e6143b -m cp -r gs://gp2tier2/release3_31102022/raw_genotypes/SAS /home/jupyter/EJERCICIO_3\n"
     ]
    },
    {
     "name": "stdout",
     "output_type": "stream",
     "text": [
      "Copying gs://gp2tier2/release3_31102022/raw_genotypes/SAS/GP2_round3_SAS_maf_hwe_release3.pgen...\n",
      "Copying gs://gp2tier2/release3_31102022/raw_genotypes/SAS/GP2_round3_SAS_maf_hwe_release3.psam...\n",
      "Copying gs://gp2tier2/release3_31102022/raw_genotypes/SAS/GP2_round3_SAS_maf_hwe_release3.pvar...\n",
      "Copying gs://gp2tier2/release3_31102022/raw_genotypes/SAS/GP2_round3_SAS_maf_hwe_release3.log...\n",
      "Copying gs://gp2tier2/release3_31102022/raw_genotypes/SAS/GP2_round3_SAS_maf_hwe_release3.samples...\n",
      "\\ [5/5 files][ 35.8 MiB/ 35.8 MiB] 100% Done                                    \n",
      "Operation completed over 5 objects/35.8 MiB.                                     \n"
     ]
    }
   ],
   "source": [
    "## Importa desde el bucket GP2-Tier 2 los genotipos \"raw\" de la poblacion SAS\n",
    "shell_do(f'gsutil -u {BILLING_PROJECT_ID} -m cp -r {GP2_RELEASE_PATH}/raw_genotypes/SAS {WORK_DIR}')"
   ]
  },
  {
   "cell_type": "code",
   "execution_count": 26,
   "metadata": {},
   "outputs": [
    {
     "name": "stderr",
     "output_type": "stream",
     "text": [
      "Executing: gsutil -mu terra-61e6143b cp -r gs://fc-secure-0b3bd9f2-17a9-4e2b-91f6-53c11325da24/gcta /home/jupyter/tools/\n"
     ]
    },
    {
     "name": "stdout",
     "output_type": "stream",
     "text": [
      "Copying gs://fc-secure-0b3bd9f2-17a9-4e2b-91f6-53c11325da24/gcta...\n",
      "| [1/1 files][ 43.0 MiB/ 43.0 MiB] 100% Done                                    \n",
      "Operation completed over 1 objects/43.0 MiB.                                     \n"
     ]
    }
   ],
   "source": [
    "shell_do(f'gsutil -mu {BILLING_PROJECT_ID} cp -r {WORKSPACE_BUCKET}/gcta /home/jupyter/tools/')\n",
    "\n",
    "# Pasos:\n",
    "# Descarga gcta desde https://yanglab.westlake.edu.cn/software/gcta/#Download\n",
    "# Adjunta el ejecutable en tu workspace (accede a la carpeta \"Data\" y clica \"Upload\")\n",
    "# Copia gcta desde tu workspace a tu working directory"
   ]
  },
  {
   "cell_type": "code",
   "execution_count": 27,
   "metadata": {},
   "outputs": [],
   "source": [
    "%%bash\n",
    "# Elimina los permisos de acceso\n",
    "chmod u+x /home/jupyter/tools/gcta"
   ]
  },
  {
   "cell_type": "code",
   "execution_count": 28,
   "metadata": {},
   "outputs": [
    {
     "name": "stdout",
     "output_type": "stream",
     "text": [
      "PLINK v2.00a3.3LM AVX2 Intel (3 Jun 2022)      www.cog-genomics.org/plink/2.0/\n",
      "(C) 2005-2022 Shaun Purcell, Christopher Chang   GNU General Public License v3\n",
      "Logging to pruning.log.\n",
      "Options in effect:\n",
      "  --geno 0.01\n",
      "  --indep-pairwise 50 5 0.5\n",
      "  --maf 0.05\n",
      "  --out pruning\n",
      "  --pfile SAS/GP2_round3_SAS_maf_hwe_release3\n",
      "\n",
      "Start time: Wed Dec 27 04:53:04 2023\n",
      "3676 MiB RAM detected; reserving 1838 MiB for main workspace.\n",
      "Using 1 compute thread.\n",
      "59 samples (22 females, 37 males; 59 founders) loaded from\n",
      "SAS/GP2_round3_SAS_maf_hwe_release3.psam.\n",
      "972779 variants loaded from SAS/GP2_round3_SAS_maf_hwe_release3.pvar.\n",
      "1 binary phenotype loaded (42 cases, 17 controls).\n",
      "Calculating allele frequencies... 13202633404753606774808794done.\n",
      "--geno: 75520 variants removed due to missing genotype data.\n",
      "274492 variants removed due to allele frequency threshold(s)\n",
      "(--maf/--max-maf/--mac/--max-mac).\n",
      "622767 variants remaining after main filters.\n",
      "--indep-pairwise: Ignoring 387 chromosome 0 variants.\n",
      "--indep-pairwise (1 compute thread): 102131425263738494331661/622380 variants removed.\n",
      "Variant lists written to pruning.prune.in and pruning.prune.out .\n",
      "End time: Wed Dec 27 04:53:06 2023\n",
      "PLINK v2.00a3.3LM AVX2 Intel (3 Jun 2022)      www.cog-genomics.org/plink/2.0/\n",
      "(C) 2005-2022 Shaun Purcell, Christopher Chang   GNU General Public License v3\n",
      "Logging to pruned_data.log.\n",
      "Options in effect:\n",
      "  --extract pruning.prune.in\n",
      "  --make-bed\n",
      "  --out pruned_data\n",
      "  --pfile SAS/GP2_round3_SAS_maf_hwe_release3\n",
      "\n",
      "Start time: Wed Dec 27 04:53:06 2023\n",
      "3676 MiB RAM detected; reserving 1838 MiB for main workspace.\n",
      "Using 1 compute thread.\n",
      "59 samples (22 females, 37 males; 59 founders) loaded from\n",
      "SAS/GP2_round3_SAS_maf_hwe_release3.psam.\n",
      "972779 variants loaded from SAS/GP2_round3_SAS_maf_hwe_release3.pvar.\n",
      "1 binary phenotype loaded (42 cases, 17 controls).\n",
      "--extract: 290719 variants remaining.\n",
      "290719 variants remaining after main filters.\n",
      "Writing pruned_data.fam ... done.\n",
      "Writing pruned_data.bim ... done.\n",
      "Writing pruned_data.bed ... 13192633384552596673808795done.\n",
      "End time: Wed Dec 27 04:53:06 2023\n",
      "PLINK v2.00a3.3LM AVX2 Intel (3 Jun 2022)      www.cog-genomics.org/plink/2.0/\n",
      "(C) 2005-2022 Shaun Purcell, Christopher Chang   GNU General Public License v3\n",
      "Logging to prunedHet.log.\n",
      "Options in effect:\n",
      "  --bfile pruned_data\n",
      "  --het\n",
      "  --out prunedHet\n",
      "\n",
      "Start time: Wed Dec 27 04:53:06 2023\n",
      "3676 MiB RAM detected; reserving 1838 MiB for main workspace.\n",
      "Using 1 compute thread.\n",
      "59 samples (22 females, 37 males; 59 founders) loaded from pruned_data.fam.\n",
      "290719 variants loaded from pruned_data.bim.\n",
      "1 binary phenotype loaded (42 cases, 17 controls).\n",
      "Calculating allele frequencies... 22456790done.\n",
      "Excluding 6908 variants on non-autosomes from --het.\n",
      "--het: 23466992done.\n",
      "--het: Results written to prunedHet.het .\n",
      "End time: Wed Dec 27 04:53:06 2023\n",
      "*******************************************************************\n",
      "* Genome-wide Complex Trait Analysis (GCTA)\n",
      "* version v1.94.1 Linux\n",
      "* Built at Aug  3 2022 04:46:31, by GCC 8.5\n",
      "* (C) 2010-present, Yang Lab, Westlake University\n",
      "* Please report bugs to Jian Yang <jian.yang@westlake.edu.cn>\n",
      "*******************************************************************\n",
      "Analysis started at 04:53:06 UTC on Wed Dec 27 2023.\n",
      "Hostname: d1a2442342de\n",
      "\n",
      "Options: \n",
      " \n",
      "--bfile pruned_data \n",
      "--make-grm \n",
      "--out GRM_matrix \n",
      "--autosome \n",
      "--maf 0.05 \n",
      "\n",
      "Note: GRM is computed using the SNPs on the autosomes.\n",
      "Reading PLINK FAM file from [pruned_data.fam]...\n",
      "59 individuals to be included from FAM file.\n",
      "59 individuals to be included. 37 males, 22 females, 0 unknown.\n",
      "Reading PLINK BIM file from [pruned_data.bim]...\n",
      "290719 SNPs to be included from BIM file(s).\n",
      "282877 SNPs to be included on valid chromosomes\n",
      "Threshold to filter variants: MAF > 0.050000.\n",
      "Computing the genetic relationship matrix (GRM) v2 ...\n",
      "Subset 1/1, no. subject 1-59\n",
      "  59 samples, 282877 markers, 1770 GRM elements\n",
      "IDs for the GRM file have been saved in the file [GRM_matrix.grm.id]\n",
      "Computing GRM...\n",
      "  100% finished in 0.2 sec\n",
      "282877 SNPs have been processed.\n",
      "  Used 282877 valid SNPs.\n",
      "The GRM computation is completed.\n",
      "Saving GRM...\n",
      "GRM has been saved in the file [GRM_matrix.grm.bin]\n",
      "Number of SNPs in each pair of individuals has been saved in the file [GRM_matrix.grm.N.bin]\n",
      "\n",
      "Analysis finished at 04:53:07 UTC on Wed Dec 27 2023\n",
      "Overall computational time: 0.78 sec.\n",
      "*******************************************************************\n",
      "* Genome-wide Complex Trait Analysis (GCTA)\n",
      "* version v1.94.1 Linux\n",
      "* Built at Aug  3 2022 04:46:31, by GCC 8.5\n",
      "* (C) 2010-present, Yang Lab, Westlake University\n",
      "* Please report bugs to Jian Yang <jian.yang@westlake.edu.cn>\n",
      "*******************************************************************\n",
      "Analysis started at 04:53:07 UTC on Wed Dec 27 2023.\n",
      "Hostname: d1a2442342de\n",
      "\n",
      "Options: \n",
      " \n",
      "--grm-cutoff 0.125 \n",
      "--grm GRM_matrix \n",
      "--out GRM_matrix_0125 \n",
      "--make-grm \n",
      "\n",
      "Pruning the GRM with a cutoff of 0.125000...\n",
      "Total number of parts to be processed: 1\n",
      "    Processing part 1\n",
      "After pruning the GRM, there are 57 individuals (2 individuals removed).\n",
      "    Pruned unrelated IDs have been saved to GRM_matrix_0125.grm.id\n",
      "Pruning GRM values, total parts 1\n",
      "    Processing part 1\n",
      "    GRM values have been saved to [GRM_matrix_0125.grm.bin]\n",
      "Pruning number of SNPs to calculate GRM, total parts 1\n",
      "    Processing part 1\n",
      "    Number of SNPs has been saved to [GRM_matrix_0125.grm.N.bin]\n",
      "\n",
      "Analysis finished at 04:53:07 UTC on Wed Dec 27 2023\n",
      "Overall computational time: 0.00 sec.\n",
      "PLINK v2.00a3.3LM AVX2 Intel (3 Jun 2022)      www.cog-genomics.org/plink/2.0/\n",
      "(C) 2005-2022 Shaun Purcell, Christopher Chang   GNU General Public License v3\n",
      "Logging to muestras_emparentadas.log.\n",
      "Options in effect:\n",
      "  --make-bed\n",
      "  --out muestras_emparentadas\n",
      "  --pfile SAS/GP2_round3_SAS_maf_hwe_release3\n",
      "  --remove GRM_matrix_0125.grm.id\n",
      "\n",
      "Start time: Wed Dec 27 04:53:07 2023\n",
      "3676 MiB RAM detected; reserving 1838 MiB for main workspace.\n",
      "Using 1 compute thread.\n",
      "59 samples (22 females, 37 males; 59 founders) loaded from\n",
      "SAS/GP2_round3_SAS_maf_hwe_release3.psam.\n",
      "972779 variants loaded from SAS/GP2_round3_SAS_maf_hwe_release3.pvar.\n",
      "1 binary phenotype loaded (42 cases, 17 controls).\n",
      "--remove: 2 samples remaining.\n",
      "2 samples (1 female, 1 male; 2 founders) remaining after main filters.\n",
      "2 cases and 0 controls remaining after main filters.\n",
      "Writing muestras_emparentadas.fam ... done.\n",
      "Writing muestras_emparentadas.bim ... done.\n",
      "Writing muestras_emparentadas.bed ... 13202633404753606774808794done.\n",
      "End time: Wed Dec 27 04:53:08 2023\n",
      "0\tBCM_000801_s1\t0\t0\t1\t2\n",
      "0\tCORIELL_003435_s1\t0\t0\t2\t2\n",
      "0\tBCM_000801_s1\n",
      "0\tCORIELL_003435_s1\n"
     ]
    }
   ],
   "source": [
    "%%bash\n",
    "WORK_DIR=/home/jupyter/EJERCICIO_3/\n",
    "cd $WORK_DIR\n",
    "\n",
    "/home/jupyter/tools/plink2 --pfile SAS/GP2_round3_SAS_maf_hwe_release3 --geno 0.01 --maf 0.05 --indep-pairwise 50 5 0.5 --out pruning\n",
    "/home/jupyter/tools/plink2 --pfile SAS/GP2_round3_SAS_maf_hwe_release3 --extract pruning.prune.in --make-bed --out pruned_data\n",
    "/home/jupyter/tools/plink2 --bfile pruned_data --het --out prunedHet\n",
    "\n",
    "/home/jupyter/tools/gcta --bfile pruned_data --make-grm --out GRM_matrix --autosome --maf 0.05 \n",
    "/home/jupyter/tools/gcta --grm-cutoff 0.125 --grm GRM_matrix --out GRM_matrix_0125 --make-grm\n",
    "/home/jupyter/tools/plink2 --pfile SAS/GP2_round3_SAS_maf_hwe_release3 --remove GRM_matrix_0125.grm.id --make-bed --out muestras_emparentadas\n",
    "\n",
    "head muestras_emparentadas.fam\n",
    "cut -f 1,2 muestras_emparentadas.fam > lista_muestras_emparentadas.txt\n",
    "cat lista_muestras_emparentadas.txt"
   ]
  },
  {
   "cell_type": "code",
   "execution_count": 29,
   "metadata": {},
   "outputs": [
    {
     "name": "stdout",
     "output_type": "stream",
     "text": [
      "PLINK v2.00a3.3LM AVX2 Intel (3 Jun 2022)      www.cog-genomics.org/plink/2.0/\n",
      "(C) 2005-2022 Shaun Purcell, Christopher Chang   GNU General Public License v3\n",
      "Logging to pruning.log.\n",
      "Options in effect:\n",
      "  --geno 0.01\n",
      "  --indep-pairwise 50 5 0.5\n",
      "  --maf 0.05\n",
      "  --out pruning\n",
      "  --pfile SAS/GP2_round3_SAS_maf_hwe_release3\n",
      "\n",
      "Start time: Wed Dec 27 04:53:08 2023\n",
      "3676 MiB RAM detected; reserving 1838 MiB for main workspace.\n",
      "Using 1 compute thread.\n",
      "59 samples (22 females, 37 males; 59 founders) loaded from\n",
      "SAS/GP2_round3_SAS_maf_hwe_release3.psam.\n",
      "972779 variants loaded from SAS/GP2_round3_SAS_maf_hwe_release3.pvar.\n",
      "1 binary phenotype loaded (42 cases, 17 controls).\n",
      "Calculating allele frequencies... 13202633404753606774808794done.\n",
      "--geno: 75520 variants removed due to missing genotype data.\n",
      "274492 variants removed due to allele frequency threshold(s)\n",
      "(--maf/--max-maf/--mac/--max-mac).\n",
      "622767 variants remaining after main filters.\n",
      "--indep-pairwise: Ignoring 387 chromosome 0 variants.\n",
      "--indep-pairwise (1 compute thread): 102131425263738494331661/622380 variants removed.\n",
      "Variant lists written to pruning.prune.in and pruning.prune.out .\n",
      "End time: Wed Dec 27 04:53:09 2023\n",
      "PLINK v2.00a3.3LM AVX2 Intel (3 Jun 2022)      www.cog-genomics.org/plink/2.0/\n",
      "(C) 2005-2022 Shaun Purcell, Christopher Chang   GNU General Public License v3\n",
      "Logging to pruned_data.log.\n",
      "Options in effect:\n",
      "  --extract pruning.prune.in\n",
      "  --make-bed\n",
      "  --out pruned_data\n",
      "  --pfile SAS/GP2_round3_SAS_maf_hwe_release3\n",
      "\n",
      "Start time: Wed Dec 27 04:53:09 2023\n",
      "3676 MiB RAM detected; reserving 1838 MiB for main workspace.\n",
      "Using 1 compute thread.\n",
      "59 samples (22 females, 37 males; 59 founders) loaded from\n",
      "SAS/GP2_round3_SAS_maf_hwe_release3.psam.\n",
      "972779 variants loaded from SAS/GP2_round3_SAS_maf_hwe_release3.pvar.\n",
      "1 binary phenotype loaded (42 cases, 17 controls).\n",
      "--extract: 290719 variants remaining.\n",
      "290719 variants remaining after main filters.\n",
      "Writing pruned_data.fam ... done.\n",
      "Writing pruned_data.bim ... done.\n",
      "Writing pruned_data.bed ... 13192633384552596673808795done.\n",
      "End time: Wed Dec 27 04:53:09 2023\n",
      "PLINK v2.00a3.3LM AVX2 Intel (3 Jun 2022)      www.cog-genomics.org/plink/2.0/\n",
      "(C) 2005-2022 Shaun Purcell, Christopher Chang   GNU General Public License v3\n",
      "Logging to prunedHet.log.\n",
      "Options in effect:\n",
      "  --bfile pruned_data\n",
      "  --het\n",
      "  --out prunedHet\n",
      "\n",
      "Start time: Wed Dec 27 04:53:09 2023\n",
      "3676 MiB RAM detected; reserving 1838 MiB for main workspace.\n",
      "Using 1 compute thread.\n",
      "59 samples (22 females, 37 males; 59 founders) loaded from pruned_data.fam.\n",
      "290719 variants loaded from pruned_data.bim.\n",
      "1 binary phenotype loaded (42 cases, 17 controls).\n",
      "Calculating allele frequencies... 22456790done.\n",
      "Excluding 6908 variants on non-autosomes from --het.\n",
      "--het: 23466992done.\n",
      "--het: Results written to prunedHet.het .\n",
      "End time: Wed Dec 27 04:53:10 2023\n",
      "*******************************************************************\n",
      "* Genome-wide Complex Trait Analysis (GCTA)\n",
      "* version v1.94.1 Linux\n",
      "* Built at Aug  3 2022 04:46:31, by GCC 8.5\n",
      "* (C) 2010-present, Yang Lab, Westlake University\n",
      "* Please report bugs to Jian Yang <jian.yang@westlake.edu.cn>\n",
      "*******************************************************************\n",
      "Analysis started at 04:53:10 UTC on Wed Dec 27 2023.\n",
      "Hostname: d1a2442342de\n",
      "\n",
      "Options: \n",
      " \n",
      "--bfile pruned_data \n",
      "--make-grm \n",
      "--out GRM_matrix \n",
      "--autosome \n",
      "--maf 0.05 \n",
      "\n",
      "Note: GRM is computed using the SNPs on the autosomes.\n",
      "Reading PLINK FAM file from [pruned_data.fam]...\n",
      "59 individuals to be included from FAM file.\n",
      "59 individuals to be included. 37 males, 22 females, 0 unknown.\n",
      "Reading PLINK BIM file from [pruned_data.bim]...\n",
      "290719 SNPs to be included from BIM file(s).\n",
      "282877 SNPs to be included on valid chromosomes\n",
      "Threshold to filter variants: MAF > 0.050000.\n",
      "Computing the genetic relationship matrix (GRM) v2 ...\n",
      "Subset 1/1, no. subject 1-59\n",
      "  59 samples, 282877 markers, 1770 GRM elements\n",
      "IDs for the GRM file have been saved in the file [GRM_matrix.grm.id]\n",
      "Computing GRM...\n",
      "  100% finished in 0.2 sec\n",
      "282877 SNPs have been processed.\n",
      "  Used 282877 valid SNPs.\n",
      "The GRM computation is completed.\n",
      "Saving GRM...\n",
      "GRM has been saved in the file [GRM_matrix.grm.bin]\n",
      "Number of SNPs in each pair of individuals has been saved in the file [GRM_matrix.grm.N.bin]\n",
      "\n",
      "Analysis finished at 04:53:10 UTC on Wed Dec 27 2023\n",
      "Overall computational time: 0.74 sec.\n",
      "*******************************************************************\n",
      "* Genome-wide Complex Trait Analysis (GCTA)\n",
      "* version v1.94.1 Linux\n",
      "* Built at Aug  3 2022 04:46:31, by GCC 8.5\n",
      "* (C) 2010-present, Yang Lab, Westlake University\n",
      "* Please report bugs to Jian Yang <jian.yang@westlake.edu.cn>\n",
      "*******************************************************************\n",
      "Analysis started at 04:53:10 UTC on Wed Dec 27 2023.\n",
      "Hostname: d1a2442342de\n",
      "\n",
      "Options: \n",
      " \n",
      "--grm-cutoff 0.8 \n",
      "--grm GRM_matrix \n",
      "--out GRM_matrix_08 \n",
      "--make-grm \n",
      "\n",
      "Pruning the GRM with a cutoff of 0.800000...\n",
      "Total number of parts to be processed: 1\n",
      "    Processing part 1\n",
      "After pruning the GRM, there are 59 individuals (0 individuals removed).\n",
      "    Pruned unrelated IDs have been saved to GRM_matrix_08.grm.id\n",
      "Pruning GRM values, total parts 1\n",
      "    Processing part 1\n",
      "    GRM values have been saved to [GRM_matrix_08.grm.bin]\n",
      "Pruning number of SNPs to calculate GRM, total parts 1\n",
      "    Processing part 1\n",
      "    Number of SNPs has been saved to [GRM_matrix_08.grm.N.bin]\n",
      "\n",
      "Analysis finished at 04:53:10 UTC on Wed Dec 27 2023\n",
      "Overall computational time: 0.00 sec.\n",
      "PLINK v2.00a3.3LM AVX2 Intel (3 Jun 2022)      www.cog-genomics.org/plink/2.0/\n",
      "(C) 2005-2022 Shaun Purcell, Christopher Chang   GNU General Public License v3\n",
      "Logging to muestras_duplicadas.log.\n",
      "Options in effect:\n",
      "  --make-bed\n",
      "  --out muestras_duplicadas\n",
      "  --pfile SAS/GP2_round3_SAS_maf_hwe_release3\n",
      "  --remove GRM_matrix_08.grm.id\n",
      "\n",
      "Start time: Wed Dec 27 04:53:10 2023\n",
      "3676 MiB RAM detected; reserving 1838 MiB for main workspace.\n",
      "Using 1 compute thread.\n",
      "59 samples (22 females, 37 males; 59 founders) loaded from\n",
      "SAS/GP2_round3_SAS_maf_hwe_release3.psam.\n",
      "972779 variants loaded from SAS/GP2_round3_SAS_maf_hwe_release3.pvar.\n",
      "1 binary phenotype loaded (42 cases, 17 controls).\n",
      "--remove: 0 samples remaining.\n"
     ]
    },
    {
     "name": "stderr",
     "output_type": "stream",
     "text": [
      "Error: No samples remaining after main filters.\n"
     ]
    },
    {
     "name": "stdout",
     "output_type": "stream",
     "text": [
      "End time: Wed Dec 27 04:53:11 2023\n"
     ]
    },
    {
     "name": "stderr",
     "output_type": "stream",
     "text": [
      "head: cannot open 'muestras_duplicadas.fam' for reading: No such file or directory\n",
      "cut: muestras_duplicadas.fam: No such file or directory\n"
     ]
    }
   ],
   "source": [
    "%%bash\n",
    "WORK_DIR=/home/jupyter/EJERCICIO_3/\n",
    "cd $WORK_DIR\n",
    "\n",
    "/home/jupyter/tools/plink2 --pfile SAS/GP2_round3_SAS_maf_hwe_release3 --geno 0.01 --maf 0.05 --indep-pairwise 50 5 0.5 --out pruning\n",
    "/home/jupyter/tools/plink2 --pfile SAS/GP2_round3_SAS_maf_hwe_release3 --extract pruning.prune.in --make-bed --out pruned_data\n",
    "/home/jupyter/tools/plink2 --bfile pruned_data --het --out prunedHet\n",
    "\n",
    "/home/jupyter/tools/gcta --bfile pruned_data --make-grm --out GRM_matrix --autosome --maf 0.05 \n",
    "/home/jupyter/tools/gcta --grm-cutoff 0.8 --grm GRM_matrix --out GRM_matrix_08 --make-grm\n",
    "/home/jupyter/tools/plink2 --pfile SAS/GP2_round3_SAS_maf_hwe_release3 --remove GRM_matrix_08.grm.id --make-bed --out muestras_duplicadas\n",
    "\n",
    "head muestras_duplicadas.fam\n",
    "cut -f 1,2 muestras_duplicadas.fam > lista_muestras_duplicadas.txt\n",
    "cat lista_muestras_duplicadas.txt"
   ]
  },
  {
   "cell_type": "code",
   "execution_count": 30,
   "metadata": {},
   "outputs": [
    {
     "name": "stdout",
     "output_type": "stream",
     "text": [
      "GRM_matrix_0125.grm.bin    GRM_matrix.grm.N.bin\t\t    pruned_data.bim\r\n",
      "GRM_matrix_0125.grm.id\t   GRM_matrix.log\t\t    pruned_data.fam\r\n",
      "GRM_matrix_0125.grm.N.bin  lista_muestras_duplicadas.txt    pruned_data.log\r\n",
      "GRM_matrix_0125.log\t   lista_muestras_emparentadas.txt  prunedHet.het\r\n",
      "GRM_matrix_08.grm.bin\t   muestras_duplicadas.log\t    prunedHet.log\r\n",
      "GRM_matrix_08.grm.id\t   muestras_emparentadas.bed\t    pruning.log\r\n",
      "GRM_matrix_08.grm.N.bin    muestras_emparentadas.bim\t    pruning.prune.in\r\n",
      "GRM_matrix_08.log\t   muestras_emparentadas.fam\t    pruning.prune.out\r\n",
      "GRM_matrix.grm.bin\t   muestras_emparentadas.log\t    SAS\r\n",
      "GRM_matrix.grm.id\t   pruned_data.bed\r\n"
     ]
    }
   ],
   "source": [
    "! ls /home/jupyter/EJERCICIO_3/"
   ]
  },
  {
   "cell_type": "markdown",
   "metadata": {},
   "source": [
    "## Estima la frecuencia de GBA - N370S en los datos de la población AJ"
   ]
  },
  {
   "cell_type": "code",
   "execution_count": 31,
   "metadata": {},
   "outputs": [
    {
     "name": "stdout",
     "output_type": "stream",
     "text": [
      "Making a working directory\n"
     ]
    },
    {
     "name": "stderr",
     "output_type": "stream",
     "text": [
      "Executing: mkdir -p /home/jupyter/EJERCICIO_4\n"
     ]
    }
   ],
   "source": [
    "# Crea una carpeta en tu \"workspace\" donde vamos a ejecutar los analisis\n",
    "print(\"Making a working directory\")\n",
    "WORK_DIR = f'/home/jupyter/EJERCICIO_4'\n",
    "shell_do(f'mkdir -p {WORK_DIR}')"
   ]
  },
  {
   "cell_type": "code",
   "execution_count": 32,
   "metadata": {},
   "outputs": [
    {
     "name": "stderr",
     "output_type": "stream",
     "text": [
      "Executing: gsutil -u terra-61e6143b -m cp -r gs://gp2tier2/release3_31102022/raw_genotypes/AJ /home/jupyter/EJERCICIO_4\n"
     ]
    },
    {
     "name": "stdout",
     "output_type": "stream",
     "text": [
      "Copying gs://gp2tier2/release3_31102022/raw_genotypes/AJ/GP2_round3_AJ_maf_hwe_release3.pvar...\n",
      "Copying gs://gp2tier2/release3_31102022/raw_genotypes/AJ/GP2_round3_AJ_maf_hwe_release3.psam...\n",
      "Copying gs://gp2tier2/release3_31102022/raw_genotypes/AJ/GP2_round3_AJ_maf_hwe_release3.log...\n",
      "Copying gs://gp2tier2/release3_31102022/raw_genotypes/AJ/GP2_round3_AJ_maf_hwe_release3.pgen...\n",
      "Copying gs://gp2tier2/release3_31102022/raw_genotypes/AJ/GP2_round3_AJ_maf_hwe_release3.samples...\n",
      "- [5/5 files][192.7 MiB/192.7 MiB] 100% Done                                    \n",
      "Operation completed over 5 objects/192.7 MiB.                                    \n"
     ]
    }
   ],
   "source": [
    "## Importa desde el bucket GP2-Tier 2 los genotipos \"raw\" de la poblacion SAS\n",
    "shell_do(f'gsutil -u {BILLING_PROJECT_ID} -m cp -r {GP2_RELEASE_PATH}/raw_genotypes/AJ {WORK_DIR}')"
   ]
  },
  {
   "cell_type": "code",
   "execution_count": 33,
   "metadata": {},
   "outputs": [
    {
     "name": "stdout",
     "output_type": "stream",
     "text": [
      "PLINK v2.00a3.3LM AVX2 Intel (3 Jun 2022)      www.cog-genomics.org/plink/2.0/\n",
      "(C) 2005-2022 Shaun Purcell, Christopher Chang   GNU General Public License v3\n",
      "Logging to GBA_N370S.log.\n",
      "Options in effect:\n",
      "  --chr 1\n",
      "  --from-bp 155235843\n",
      "  --make-bed\n",
      "  --out GBA_N370S\n",
      "  --pfile AJ/GP2_round3_AJ_maf_hwe_release3\n",
      "  --to-bp 155235843\n",
      "\n",
      "Start time: Wed Dec 27 04:53:22 2023\n",
      "3676 MiB RAM detected; reserving 1838 MiB for main workspace.\n",
      "Using 1 compute thread.\n",
      "1285 samples (477 females, 808 males; 1285 founders) loaded from\n",
      "AJ/GP2_round3_AJ_maf_hwe_release3.psam.\n",
      "69602 out of 940435 variants loaded from\n",
      "AJ/GP2_round3_AJ_maf_hwe_release3.pvar.\n",
      "1 binary phenotype loaded (600 cases, 323 controls).\n",
      "3 variants remaining after main filters.\n",
      "Writing GBA_N370S.fam ... done.\n",
      "Writing GBA_N370S.bim ... done.\n",
      "Writing GBA_N370S.bed ... done.\n",
      "End time: Wed Dec 27 04:53:22 2023\n"
     ]
    }
   ],
   "source": [
    "%%bash\n",
    "WORK_DIR=/home/jupyter/EJERCICIO_4/\n",
    "cd $WORK_DIR\n",
    "\n",
    "# Extrae GBA N370S considerando que sus posiciones estan en hg38 (https://www.ncbi.nlm.nih.gov/clinvar/variation/4290/?new_evidence=true)\n",
    "/home/jupyter/tools/plink2 --pfile AJ/GP2_round3_AJ_maf_hwe_release3 --chr 1 --from-bp 155235843 --to-bp 155235843 --make-bed --out GBA_N370S\n",
    "\n",
    "#Date cuenta que defines el tramo del chr a utilizar donde se encuentra GBA"
   ]
  },
  {
   "cell_type": "code",
   "execution_count": 34,
   "metadata": {},
   "outputs": [
    {
     "data": {
      "text/html": [
       "<div>\n",
       "<style scoped>\n",
       "    .dataframe tbody tr th:only-of-type {\n",
       "        vertical-align: middle;\n",
       "    }\n",
       "\n",
       "    .dataframe tbody tr th {\n",
       "        vertical-align: top;\n",
       "    }\n",
       "\n",
       "    .dataframe thead th {\n",
       "        text-align: right;\n",
       "    }\n",
       "</style>\n",
       "<table border=\"1\" class=\"dataframe\">\n",
       "  <thead>\n",
       "    <tr style=\"text-align: right;\">\n",
       "      <th></th>\n",
       "      <th>0</th>\n",
       "      <th>1</th>\n",
       "      <th>2</th>\n",
       "      <th>3</th>\n",
       "      <th>4</th>\n",
       "      <th>5</th>\n",
       "    </tr>\n",
       "  </thead>\n",
       "  <tbody>\n",
       "    <tr>\n",
       "      <th>0</th>\n",
       "      <td>1</td>\n",
       "      <td>chr1:155235843:T:C</td>\n",
       "      <td>0</td>\n",
       "      <td>155235843</td>\n",
       "      <td>G</td>\n",
       "      <td>A</td>\n",
       "    </tr>\n",
       "    <tr>\n",
       "      <th>1</th>\n",
       "      <td>1</td>\n",
       "      <td>exm106217</td>\n",
       "      <td>0</td>\n",
       "      <td>155235843</td>\n",
       "      <td>G</td>\n",
       "      <td>A</td>\n",
       "    </tr>\n",
       "    <tr>\n",
       "      <th>2</th>\n",
       "      <td>1</td>\n",
       "      <td>ilmnseq_rs76763715.1_F2BT</td>\n",
       "      <td>0</td>\n",
       "      <td>155235843</td>\n",
       "      <td>G</td>\n",
       "      <td>A</td>\n",
       "    </tr>\n",
       "  </tbody>\n",
       "</table>\n",
       "</div>"
      ],
      "text/plain": [
       "   0                          1  2          3  4  5\n",
       "0  1         chr1:155235843:T:C  0  155235843  G  A\n",
       "1  1                  exm106217  0  155235843  G  A\n",
       "2  1  ilmnseq_rs76763715.1_F2BT  0  155235843  G  A"
      ]
     },
     "execution_count": 34,
     "metadata": {},
     "output_type": "execute_result"
    }
   ],
   "source": [
    "GBA_N370S = pd.read_csv(f'{WORK_DIR}/GBA_N370S.bim', sep = '\\t', header = None)\n",
    "GBA_N370S.head()"
   ]
  },
  {
   "cell_type": "code",
   "execution_count": 35,
   "metadata": {},
   "outputs": [
    {
     "name": "stdout",
     "output_type": "stream",
     "text": [
      "PLINK v2.00a3.3LM AVX2 Intel (3 Jun 2022)      www.cog-genomics.org/plink/2.0/\n",
      "(C) 2005-2022 Shaun Purcell, Christopher Chang   GNU General Public License v3\n",
      "Logging to GBA_N370S_frecuencia.log.\n",
      "Options in effect:\n",
      "  --bfile GBA_N370S\n",
      "  --freq\n",
      "  --out GBA_N370S_frecuencia\n",
      "\n",
      "Start time: Wed Dec 27 04:53:22 2023\n",
      "3676 MiB RAM detected; reserving 1838 MiB for main workspace.\n",
      "Using 1 compute thread.\n",
      "1285 samples (477 females, 808 males; 1285 founders) loaded from GBA_N370S.fam.\n",
      "3 variants loaded from GBA_N370S.bim.\n",
      "1 binary phenotype loaded (600 cases, 323 controls).\n",
      "Calculating allele frequencies... done.\n",
      "--freq: Allele frequencies (founders only) written to\n",
      "GBA_N370S_frecuencia.afreq .\n",
      "End time: Wed Dec 27 04:53:22 2023\n"
     ]
    }
   ],
   "source": [
    "%%bash\n",
    "WORK_DIR=/home/jupyter/EJERCICIO_4/\n",
    "cd $WORK_DIR\n",
    "\n",
    "# Extrae GBA N370S considerando que sus posiciones estan en hg38 (https://www.ncbi.nlm.nih.gov/clinvar/variation/4290/?new_evidence=true)\n",
    "/home/jupyter/tools/plink2 --bfile GBA_N370S --freq --out GBA_N370S_frecuencia\n"
   ]
  },
  {
   "cell_type": "code",
   "execution_count": 36,
   "metadata": {},
   "outputs": [
    {
     "data": {
      "text/html": [
       "<div>\n",
       "<style scoped>\n",
       "    .dataframe tbody tr th:only-of-type {\n",
       "        vertical-align: middle;\n",
       "    }\n",
       "\n",
       "    .dataframe tbody tr th {\n",
       "        vertical-align: top;\n",
       "    }\n",
       "\n",
       "    .dataframe thead th {\n",
       "        text-align: right;\n",
       "    }\n",
       "</style>\n",
       "<table border=\"1\" class=\"dataframe\">\n",
       "  <thead>\n",
       "    <tr style=\"text-align: right;\">\n",
       "      <th></th>\n",
       "      <th>#CHROM</th>\n",
       "      <th>ID</th>\n",
       "      <th>REF</th>\n",
       "      <th>ALT</th>\n",
       "      <th>ALT_FREQS</th>\n",
       "      <th>OBS_CT</th>\n",
       "    </tr>\n",
       "  </thead>\n",
       "  <tbody>\n",
       "    <tr>\n",
       "      <th>0</th>\n",
       "      <td>1</td>\n",
       "      <td>chr1:155235843:T:C</td>\n",
       "      <td>A</td>\n",
       "      <td>G</td>\n",
       "      <td>0.103891</td>\n",
       "      <td>2570</td>\n",
       "    </tr>\n",
       "    <tr>\n",
       "      <th>1</th>\n",
       "      <td>1</td>\n",
       "      <td>exm106217</td>\n",
       "      <td>A</td>\n",
       "      <td>G</td>\n",
       "      <td>0.080172</td>\n",
       "      <td>1160</td>\n",
       "    </tr>\n",
       "    <tr>\n",
       "      <th>2</th>\n",
       "      <td>1</td>\n",
       "      <td>ilmnseq_rs76763715.1_F2BT</td>\n",
       "      <td>A</td>\n",
       "      <td>G</td>\n",
       "      <td>0.105118</td>\n",
       "      <td>2540</td>\n",
       "    </tr>\n",
       "  </tbody>\n",
       "</table>\n",
       "</div>"
      ],
      "text/plain": [
       "   #CHROM                         ID REF ALT  ALT_FREQS  OBS_CT\n",
       "0       1         chr1:155235843:T:C   A   G   0.103891    2570\n",
       "1       1                  exm106217   A   G   0.080172    1160\n",
       "2       1  ilmnseq_rs76763715.1_F2BT   A   G   0.105118    2540"
      ]
     },
     "execution_count": 36,
     "metadata": {},
     "output_type": "execute_result"
    }
   ],
   "source": [
    "GBA_N370S_frecuencia = pd.read_csv(f'{WORK_DIR}/GBA_N370S_frecuencia.afreq', sep = '\\t')\n",
    "GBA_N370S_frecuencia.head()"
   ]
  },
  {
   "cell_type": "code",
   "execution_count": 37,
   "metadata": {},
   "outputs": [
    {
     "name": "stdout",
     "output_type": "stream",
     "text": [
      "PLINK v1.90b6.9 64-bit (4 Mar 2019)            www.cog-genomics.org/plink/1.9/\n",
      "(C) 2005-2019 Shaun Purcell, Christopher Chang   GNU General Public License v3\n",
      "Logging to GBA_N370S_frecuencia_casos_controls.log.\n",
      "Options in effect:\n",
      "  --assoc\n",
      "  --bfile GBA_N370S\n",
      "  --out GBA_N370S_frecuencia_casos_controls\n",
      "\n",
      "3676 MB RAM detected; reserving 1838 MB for main workspace.\n",
      "3 variants loaded from .bim file.\n",
      "1285 people (808 males, 477 females) loaded from .fam.\n",
      "923 phenotype values loaded from .fam.\n",
      "Using 1 thread.\n",
      "Before main variant filters, 1285 founders and 0 nonfounders present.\n",
      "Calculating allele frequencies... 10111213141516171819202122232425262728293031323334353637383940414243444546474849505152535455565758596061626364656667686970717273747576777879808182838485868788899091929394959697989 done.\n",
      "Total genotyping rate is 0.81323.\n",
      "3 variants and 1285 people pass filters and QC.\n",
      "Among remaining phenotypes, 600 are cases and 323 are controls.  (362\n",
      "phenotypes are missing.)\n",
      "Writing C/C --assoc report to GBA_N370S_frecuencia_casos_controls.assoc ...\n",
      "done.\n"
     ]
    }
   ],
   "source": [
    "%%bash\n",
    "WORK_DIR=/home/jupyter/EJERCICIO_4/\n",
    "cd $WORK_DIR\n",
    "\n",
    "# Extrae GBA N370S considerando que sus posiciones estan en hg38 (https://www.ncbi.nlm.nih.gov/clinvar/variation/4290/?new_evidence=true)\n",
    "/home/jupyter/tools/plink --bfile GBA_N370S --assoc --out GBA_N370S_frecuencia_casos_controls\n"
   ]
  },
  {
   "cell_type": "markdown",
   "metadata": {},
   "source": [
    "## Estima el numero de homozigotos para el alelo de riesgo y heterozigotos para la mutacion LRRK2 G2019S en los datos en los datos de la población AJ"
   ]
  },
  {
   "cell_type": "code",
   "execution_count": 39,
   "metadata": {},
   "outputs": [
    {
     "name": "stdout",
     "output_type": "stream",
     "text": [
      "Making a working directory\n"
     ]
    },
    {
     "name": "stderr",
     "output_type": "stream",
     "text": [
      "Executing: mkdir -p /home/jupyter/EJERCICIO_5\n"
     ]
    }
   ],
   "source": [
    "# Crea una carpeta en tu \"workspace\" donde vamos a ejecutar los analisis\n",
    "print(\"Making a working directory\")\n",
    "WORK_DIR = f'/home/jupyter/EJERCICIO_5'\n",
    "shell_do(f'mkdir -p {WORK_DIR}')"
   ]
  },
  {
   "cell_type": "code",
   "execution_count": 40,
   "metadata": {},
   "outputs": [
    {
     "name": "stderr",
     "output_type": "stream",
     "text": [
      "Executing: gsutil -u terra-61e6143b -m cp -r gs://gp2tier2/release3_31102022/raw_genotypes/AJ /home/jupyter/EJERCICIO_5\n"
     ]
    },
    {
     "name": "stdout",
     "output_type": "stream",
     "text": [
      "Copying gs://gp2tier2/release3_31102022/raw_genotypes/AJ/GP2_round3_AJ_maf_hwe_release3.pvar...\n",
      "Copying gs://gp2tier2/release3_31102022/raw_genotypes/AJ/GP2_round3_AJ_maf_hwe_release3.psam...\n",
      "Copying gs://gp2tier2/release3_31102022/raw_genotypes/AJ/GP2_round3_AJ_maf_hwe_release3.pgen...\n",
      "Copying gs://gp2tier2/release3_31102022/raw_genotypes/AJ/GP2_round3_AJ_maf_hwe_release3.log...\n",
      "Copying gs://gp2tier2/release3_31102022/raw_genotypes/AJ/GP2_round3_AJ_maf_hwe_release3.samples...\n",
      "/ [5/5 files][192.7 MiB/192.7 MiB] 100% Done                                    \n",
      "Operation completed over 5 objects/192.7 MiB.                                    \n"
     ]
    }
   ],
   "source": [
    "## Importa desde el bucket GP2-Tier 2 los genotipos \"raw\" de la poblacion AJ\n",
    "shell_do(f'gsutil -u {BILLING_PROJECT_ID} -m cp -r {GP2_RELEASE_PATH}/raw_genotypes/AJ {WORK_DIR}')"
   ]
  },
  {
   "cell_type": "code",
   "execution_count": 41,
   "metadata": {},
   "outputs": [
    {
     "name": "stdout",
     "output_type": "stream",
     "text": [
      "PLINK v2.00a3.3LM AVX2 Intel (3 Jun 2022)      www.cog-genomics.org/plink/2.0/\n",
      "(C) 2005-2022 Shaun Purcell, Christopher Chang   GNU General Public License v3\n",
      "Logging to LRRK2_G2019.log.\n",
      "Options in effect:\n",
      "  --chr 12\n",
      "  --from-bp 40340400\n",
      "  --make-bed\n",
      "  --out LRRK2_G2019\n",
      "  --pfile AJ/GP2_round3_AJ_maf_hwe_release3\n",
      "  --to-bp 40340400\n",
      "\n",
      "Start time: Wed Dec 27 04:54:18 2023\n",
      "3676 MiB RAM detected; reserving 1838 MiB for main workspace.\n",
      "Using 1 compute thread.\n",
      "1285 samples (477 females, 808 males; 1285 founders) loaded from\n",
      "AJ/GP2_round3_AJ_maf_hwe_release3.psam.\n",
      "42552 out of 940435 variants loaded from\n",
      "AJ/GP2_round3_AJ_maf_hwe_release3.pvar.\n",
      "1 binary phenotype loaded (600 cases, 323 controls).\n",
      "3 variants remaining after main filters.\n",
      "Writing LRRK2_G2019.fam ... done.\n",
      "Writing LRRK2_G2019.bim ... done.\n",
      "Writing LRRK2_G2019.bed ... done.\n",
      "End time: Wed Dec 27 04:54:18 2023\n"
     ]
    }
   ],
   "source": [
    "%%bash\n",
    "WORK_DIR=/home/jupyter/EJERCICIO_5/\n",
    "cd $WORK_DIR\n",
    "\n",
    "# Extrae LRRK2 G2019 considerando que sus posiciones estan en hg38 (https://www.ncbi.nlm.nih.gov/clinvar/variation/4290/?new_evidence=true)\n",
    "/home/jupyter/tools/plink2 --pfile AJ/GP2_round3_AJ_maf_hwe_release3 --chr 12 --from-bp 40340400 --to-bp 40340400  --make-bed --out LRRK2_G2019\n"
   ]
  },
  {
   "cell_type": "code",
   "execution_count": 42,
   "metadata": {},
   "outputs": [
    {
     "name": "stdout",
     "output_type": "stream",
     "text": [
      "PLINK v2.00a3.3LM AVX2 Intel (3 Jun 2022)      www.cog-genomics.org/plink/2.0/\n",
      "(C) 2005-2022 Shaun Purcell, Christopher Chang   GNU General Public License v3\n",
      "Logging to LRRK2_G2019.log.\n",
      "Options in effect:\n",
      "  --bfile LRRK2_G2019\n",
      "  --export A\n",
      "  --out LRRK2_G2019\n",
      "\n",
      "Start time: Wed Dec 27 04:54:18 2023\n",
      "3676 MiB RAM detected; reserving 1838 MiB for main workspace.\n",
      "Using 1 compute thread.\n",
      "1285 samples (477 females, 808 males; 1285 founders) loaded from\n",
      "LRRK2_G2019.fam.\n",
      "3 variants loaded from LRRK2_G2019.bim.\n",
      "1 binary phenotype loaded (600 cases, 323 controls).\n",
      "--export A pass 1/1: loading... 0writing... 10101111121213131414151516161717181819202021212222232324242525262627272828292930303131323233333434353536363737383839404041414242434344444545464647474848494950505151525253535454555556565757585859606061616262636364646565666667676868696970707171727273737474757576767777787879808081818282838384848585868687878888898990909191929293939494959596969797989899done.\n",
      "--export A: LRRK2_G2019.raw written.\n",
      "End time: Wed Dec 27 04:54:18 2023\n"
     ]
    }
   ],
   "source": [
    "%%bash\n",
    "WORK_DIR=/home/jupyter/EJERCICIO_5/\n",
    "cd $WORK_DIR\n",
    "\n",
    "# Extrae LRRK2 G2019 considerando que sus posiciones estan en hg38 (https://www.ncbi.nlm.nih.gov/clinvar/variation/4290/?new_evidence=true)\n",
    "/home/jupyter/tools/plink2 --bfile LRRK2_G2019 --recode A --out LRRK2_G2019\n",
    "\n",
    "#Recode A: Genera un archivo .raw "
   ]
  },
  {
   "cell_type": "code",
   "execution_count": 43,
   "metadata": {},
   "outputs": [
    {
     "data": {
      "text/html": [
       "<div>\n",
       "<style scoped>\n",
       "    .dataframe tbody tr th:only-of-type {\n",
       "        vertical-align: middle;\n",
       "    }\n",
       "\n",
       "    .dataframe tbody tr th {\n",
       "        vertical-align: top;\n",
       "    }\n",
       "\n",
       "    .dataframe thead th {\n",
       "        text-align: right;\n",
       "    }\n",
       "</style>\n",
       "<table border=\"1\" class=\"dataframe\">\n",
       "  <thead>\n",
       "    <tr style=\"text-align: right;\">\n",
       "      <th></th>\n",
       "      <th>FID</th>\n",
       "      <th>IID</th>\n",
       "      <th>PAT</th>\n",
       "      <th>MAT</th>\n",
       "      <th>SEX</th>\n",
       "      <th>PHENOTYPE</th>\n",
       "      <th>exm994671_G</th>\n",
       "      <th>rs34637584_G</th>\n",
       "      <th>seq_rs34637584_G</th>\n",
       "    </tr>\n",
       "  </thead>\n",
       "  <tbody>\n",
       "    <tr>\n",
       "      <th>2</th>\n",
       "      <td>0</td>\n",
       "      <td>APGS_000486_s1</td>\n",
       "      <td>0</td>\n",
       "      <td>0</td>\n",
       "      <td>1</td>\n",
       "      <td>2</td>\n",
       "      <td>2</td>\n",
       "      <td>2</td>\n",
       "      <td>2</td>\n",
       "    </tr>\n",
       "    <tr>\n",
       "      <th>3</th>\n",
       "      <td>0</td>\n",
       "      <td>APGS_000646_s1</td>\n",
       "      <td>0</td>\n",
       "      <td>0</td>\n",
       "      <td>2</td>\n",
       "      <td>2</td>\n",
       "      <td>2</td>\n",
       "      <td>2</td>\n",
       "      <td>2</td>\n",
       "    </tr>\n",
       "    <tr>\n",
       "      <th>4</th>\n",
       "      <td>0</td>\n",
       "      <td>APGS_000808_s1</td>\n",
       "      <td>0</td>\n",
       "      <td>0</td>\n",
       "      <td>1</td>\n",
       "      <td>2</td>\n",
       "      <td>2</td>\n",
       "      <td>2</td>\n",
       "      <td>2</td>\n",
       "    </tr>\n",
       "    <tr>\n",
       "      <th>5</th>\n",
       "      <td>0</td>\n",
       "      <td>APGS_001017_s1</td>\n",
       "      <td>0</td>\n",
       "      <td>0</td>\n",
       "      <td>1</td>\n",
       "      <td>2</td>\n",
       "      <td>2</td>\n",
       "      <td>2</td>\n",
       "      <td>2</td>\n",
       "    </tr>\n",
       "    <tr>\n",
       "      <th>7</th>\n",
       "      <td>0</td>\n",
       "      <td>APGS_001066_s1</td>\n",
       "      <td>0</td>\n",
       "      <td>0</td>\n",
       "      <td>2</td>\n",
       "      <td>2</td>\n",
       "      <td>2</td>\n",
       "      <td>2</td>\n",
       "      <td>2</td>\n",
       "    </tr>\n",
       "  </tbody>\n",
       "</table>\n",
       "</div>"
      ],
      "text/plain": [
       "   FID             IID  PAT  MAT  SEX  PHENOTYPE  exm994671_G  rs34637584_G  \\\n",
       "2    0  APGS_000486_s1    0    0    1          2            2             2   \n",
       "3    0  APGS_000646_s1    0    0    2          2            2             2   \n",
       "4    0  APGS_000808_s1    0    0    1          2            2             2   \n",
       "5    0  APGS_001017_s1    0    0    1          2            2             2   \n",
       "7    0  APGS_001066_s1    0    0    2          2            2             2   \n",
       "\n",
       "   seq_rs34637584_G  \n",
       "2                 2  \n",
       "3                 2  \n",
       "4                 2  \n",
       "5                 2  \n",
       "7                 2  "
      ]
     },
     "execution_count": 43,
     "metadata": {},
     "output_type": "execute_result"
    }
   ],
   "source": [
    "# Identifica individuos homozygotos para el alelo alternativo\n",
    "LRRK2 = pd.read_csv(f'{WORK_DIR}/LRRK2_G2019.raw', sep = '\\t')\n",
    "homo = LRRK2[LRRK2['rs34637584_G'] == 2]\n",
    "homo.head()"
   ]
  },
  {
   "cell_type": "code",
   "execution_count": 44,
   "metadata": {},
   "outputs": [
    {
     "name": "stdout",
     "output_type": "stream",
     "text": [
      "Tenemos 85 casos heterocigotos y 5 controles heterocigotos\n"
     ]
    }
   ],
   "source": [
    "het_cases = LRRK2[(LRRK2['rs34637584_G'] == 1) & (LRRK2['PHENOTYPE'] == 2)]\n",
    "het_controls = LRRK2[(LRRK2['rs34637584_G'] == 1) & (LRRK2['PHENOTYPE'] == 1)]\n",
    "\n",
    "print(\"Tenemos \" + str(het_cases.shape[0]) + \" casos heterocigotos y \" + str(het_controls.shape[0]) + \" controles heterocigotos\")"
   ]
  },
  {
   "cell_type": "code",
   "execution_count": 45,
   "metadata": {},
   "outputs": [
    {
     "name": "stdout",
     "output_type": "stream",
     "text": [
      "Tenemos 3 casos homocigotos y 0 controles homocigotos\n"
     ]
    }
   ],
   "source": [
    "LRRK2 = pd.read_csv(f'{WORK_DIR}/LRRK2_G2019.raw', sep = '\\t')\n",
    "risk_homo_cases = LRRK2[(LRRK2['rs34637584_G'] == 0) & (LRRK2['PHENOTYPE'] == 2)]\n",
    "risk_homo_controls = LRRK2[(LRRK2['rs34637584_G'] == 0) & (LRRK2['PHENOTYPE'] == 1)]\n",
    "\n",
    "#Neurobooster esta codificado para que el alelo de riesgo es 0\n",
    "print(\"Tenemos \" + str(risk_homo_cases.shape[0]) + \" casos homocigotos y \" + str(risk_homo_controls.shape[0]) + \" controles homocigotos\")"
   ]
  },
  {
   "cell_type": "markdown",
   "metadata": {},
   "source": [
    "## Estima patrones de homocigosis en los datos de la población EUR"
   ]
  },
  {
   "cell_type": "code",
   "execution_count": 46,
   "metadata": {},
   "outputs": [
    {
     "name": "stdout",
     "output_type": "stream",
     "text": [
      "Making a working directory\n"
     ]
    },
    {
     "name": "stderr",
     "output_type": "stream",
     "text": [
      "Executing: mkdir -p /home/jupyter/EJERCICIO_6\n"
     ]
    }
   ],
   "source": [
    "# Crea una carpeta en tu \"workspace\" donde vamos a ejecutar los analisis\n",
    "print(\"Making a working directory\")\n",
    "WORK_DIR = f'/home/jupyter/EJERCICIO_6'\n",
    "shell_do(f'mkdir -p {WORK_DIR}')"
   ]
  },
  {
   "cell_type": "code",
   "execution_count": 47,
   "metadata": {},
   "outputs": [
    {
     "name": "stderr",
     "output_type": "stream",
     "text": [
      "Executing: gsutil -u terra-61e6143b -m cp -r gs://gp2tier2/release3_31102022/raw_genotypes/EUR /home/jupyter/EJERCICIO_6\n"
     ]
    },
    {
     "name": "stdout",
     "output_type": "stream",
     "text": [
      "Copying gs://gp2tier2/release3_31102022/raw_genotypes/EUR/GP2_round3_EUR_maf_hwe_release3.pvar...\n",
      "Copying gs://gp2tier2/release3_31102022/raw_genotypes/EUR/GP2_round3_EUR_maf_hwe_release3.log...\n",
      "Copying gs://gp2tier2/release3_31102022/raw_genotypes/EUR/GP2_round3_EUR_maf_hwe_release3.psam...\n",
      "Copying gs://gp2tier2/release3_31102022/raw_genotypes/EUR/GP2_round3_EUR_maf_hwe_release3.pgen...\n",
      "Copying gs://gp2tier2/release3_31102022/raw_genotypes/EUR/GP2_round3_EUR_maf_hwe_release3.samples...\n",
      "\\ [5/5 files][  1.4 GiB/  1.4 GiB] 100% Done  63.9 MiB/s ETA 00:00:00           \n",
      "Operation completed over 5 objects/1.4 GiB.                                      \n"
     ]
    }
   ],
   "source": [
    "## Importa desde el bucket GP2-Tier 2 los genotipos \"raw\" de la poblacion EUR\n",
    "shell_do(f'gsutil -u {BILLING_PROJECT_ID} -m cp -r {GP2_RELEASE_PATH}/raw_genotypes/EUR {WORK_DIR}')"
   ]
  },
  {
   "cell_type": "code",
   "execution_count": 48,
   "metadata": {},
   "outputs": [
    {
     "name": "stdout",
     "output_type": "stream",
     "text": [
      "PLINK v2.00a3.3LM AVX2 Intel (3 Jun 2022)      www.cog-genomics.org/plink/2.0/\n",
      "(C) 2005-2022 Shaun Purcell, Christopher Chang   GNU General Public License v3\n",
      "Logging to pruning.log.\n",
      "Options in effect:\n",
      "  --indep-pairwise 50 5 0.5\n",
      "  --out pruning\n",
      "  --pfile EUR/GP2_round3_EUR_maf_hwe_release3\n",
      "\n",
      "Start time: Wed Dec 27 04:54:44 2023\n",
      "3676 MiB RAM detected; reserving 1838 MiB for main workspace.\n",
      "Using 1 compute thread.\n",
      "11002 samples (4271 females, 6731 males; 11002 founders) loaded from\n",
      "EUR/GP2_round3_EUR_maf_hwe_release3.psam.\n",
      "902020 variants loaded from EUR/GP2_round3_EUR_maf_hwe_release3.pvar.\n",
      "1 binary phenotype loaded (6852 cases, 3875 controls).\n",
      "Calculating allele frequencies... 142129364350586572798794done.\n",
      "--indep-pairwise: Ignoring 593 chromosome 0 variants.\n",
      "--indep-pairwise (1 compute thread): 142129364350586572798794436029/901427 variants removed.\n",
      "Variant lists written to pruning.prune.in and pruning.prune.out .\n",
      "End time: Wed Dec 27 04:55:25 2023\n",
      "PLINK v2.00a3.3LM AVX2 Intel (3 Jun 2022)      www.cog-genomics.org/plink/2.0/\n",
      "(C) 2005-2022 Shaun Purcell, Christopher Chang   GNU General Public License v3\n",
      "Logging to pruned_data.log.\n",
      "Options in effect:\n",
      "  --extract pruning.prune.in\n",
      "  --make-bed\n",
      "  --out pruned_data\n",
      "  --pfile EUR/GP2_round3_EUR_maf_hwe_release3\n",
      "\n",
      "Start time: Wed Dec 27 04:55:25 2023\n",
      "3676 MiB RAM detected; reserving 1838 MiB for main workspace.\n",
      "Using 1 compute thread.\n",
      "11002 samples (4271 females, 6731 males; 11002 founders) loaded from\n",
      "EUR/GP2_round3_EUR_maf_hwe_release3.psam.\n",
      "902020 variants loaded from EUR/GP2_round3_EUR_maf_hwe_release3.pvar.\n",
      "1 binary phenotype loaded (6852 cases, 3875 controls).\n",
      "--extract: 465398 variants remaining.\n",
      "465398 variants remaining after main filters.\n",
      "Writing pruned_data.fam ... done.\n",
      "Writing pruned_data.bim ... done.\n",
      "Writing pruned_data.bed ... 142128354249576471798795done.\n",
      "End time: Wed Dec 27 04:55:55 2023\n",
      "PLINK v1.90b6.9 64-bit (4 Mar 2019)            www.cog-genomics.org/plink/1.9/\n",
      "(C) 2005-2019 Shaun Purcell, Christopher Chang   GNU General Public License v3\n",
      "Logging to ROH.log.\n",
      "Options in effect:\n",
      "  --bfile pruned_data\n",
      "  --homozyg-density 50\n",
      "  --homozyg-gap 1000\n",
      "  --homozyg-kb 1000\n",
      "  --homozyg-snp 10\n",
      "  --homozyg-window-het 1\n",
      "  --homozyg-window-missing 10\n",
      "  --homozyg-window-snp 20\n",
      "  --homozyg-window-threshold 0.05\n",
      "  --out ROH\n",
      "\n",
      "3676 MB RAM detected; reserving 1838 MB for main workspace.\n",
      "465398 variants loaded from .bim file.\n",
      "11002 people (6731 males, 4271 females) loaded from .fam.\n",
      "10727 phenotype values loaded from .fam.\n",
      "Using 1 thread.\n",
      "Before main variant filters, 11002 founders and 0 nonfounders present.\n",
      "Calculating allele frequencies... 10111213141516171819202122232425262728293031323334353637383940414243444546474849505152535455565758596061626364656667686970717273747576777879808182838485868788899091929394959697989 done.\n"
     ]
    },
    {
     "name": "stderr",
     "output_type": "stream",
     "text": [
      "Warning: 20940 het. haploid genotypes present (see ROH.hh ); many commands\n",
      "treat these as missing.\n",
      "Warning: Nonmissing nonmale Y chromosome genotype(s) present; many commands\n",
      "treat these as missing.\n"
     ]
    },
    {
     "name": "stdout",
     "output_type": "stream",
     "text": [
      "Total genotyping rate is 0.973152.\n",
      "465398 variants and 11002 people pass filters and QC.\n",
      "Among remaining phenotypes, 6852 are cases and 3875 are controls.  (275\n",
      "phenotypes are missing.)\n",
      "--homozyg: Scan complete, found 563315 ROH.\n",
      "Results saved to ROH.hom + ROH.hom.indiv + ROH.hom.summary .\n"
     ]
    }
   ],
   "source": [
    "%%bash\n",
    "WORK_DIR=/home/jupyter/EJERCICIO_6/\n",
    "cd $WORK_DIR\n",
    "\n",
    "# Calcula regiones en homocigosis\n",
    "/home/jupyter/tools/plink2 --pfile EUR/GP2_round3_EUR_maf_hwe_release3 --indep-pairwise 50 5 0.5 --out pruning \n",
    "/home/jupyter/tools/plink2 --pfile EUR/GP2_round3_EUR_maf_hwe_release3 --extract pruning.prune.in --make-bed --out pruned_data\n",
    "/home/jupyter/tools/plink --bfile pruned_data \\\n",
    "--homozyg-density 50 \\\n",
    "--homozyg-gap 1000 \\\n",
    "--homozyg-kb 1000 \\\n",
    "--homozyg-snp 10 \\\n",
    "--homozyg-window-het 1 \\\n",
    "--homozyg-window-missing 10 \\\n",
    "--homozyg-window-snp 20 \\\n",
    "--homozyg-window-threshold 0.05 \\\n",
    "--out ROH\n",
    "\n",
    "# https://www.cog-genomics.org/plink/1.9/ibd"
   ]
  },
  {
   "cell_type": "code",
   "execution_count": 49,
   "metadata": {},
   "outputs": [
    {
     "name": "stdout",
     "output_type": "stream",
     "text": [
      "   FID             IID  PHE  NSEG       KB    KBAVG\n",
      "0    0  APGS_000001_s1    2    51  72348.3  1418.59\n",
      "1    0  APGS_000002_s1    2    50  66266.8  1325.34\n",
      "2    0  APGS_000003_s1    2    46  62715.0  1363.37\n",
      "3    0  APGS_000005_s1    2    47  63205.8  1344.80\n",
      "4    0  APGS_000006_s1    2    51  73274.5  1436.76\n",
      "   FID             IID  PHE  NSEG       KB    KBAVG  case\n",
      "0    0  APGS_000001_s1    2    51  72348.3  1418.59     1\n",
      "1    0  APGS_000002_s1    2    50  66266.8  1325.34     1\n",
      "2    0  APGS_000003_s1    2    46  62715.0  1363.37     1\n",
      "3    0  APGS_000005_s1    2    47  63205.8  1344.80     1\n",
      "4    0  APGS_000006_s1    2    51  73274.5  1436.76     1\n",
      "                 Generalized Linear Model Regression Results                  \n",
      "==============================================================================\n",
      "Dep. Variable:                   case   No. Observations:                11002\n",
      "Model:                            GLM   Df Residuals:                    11000\n",
      "Model Family:                Binomial   Df Model:                            1\n",
      "Link Function:                  Logit   Scale:                          1.0000\n",
      "Method:                          IRLS   Log-Likelihood:                   -inf\n",
      "Date:                Wed, 27 Dec 2023   Deviance:                   2.3454e+05\n",
      "Time:                        04:57:24   Pearson chi2:                 4.03e+05\n",
      "No. Iterations:                     7   Pseudo R-squ. (CS):                nan\n",
      "Covariance Type:            nonrobust                                         \n",
      "==============================================================================\n",
      "                 coef    std err          z      P>|z|      [0.025      0.975]\n",
      "------------------------------------------------------------------------------\n",
      "Intercept      5.5359      0.154     35.970      0.000       5.234       5.838\n",
      "NSEG          -0.1208      0.003    -39.080      0.000      -0.127      -0.115\n",
      "==============================================================================\n"
     ]
    },
    {
     "name": "stderr",
     "output_type": "stream",
     "text": [
      "/opt/conda/lib/python3.10/site-packages/statsmodels/genmod/generalized_linear_model.py:1806: RuntimeWarning: invalid value encountered in double_scalars\n",
      "  prsq = 1 - np.exp((self.llnull - self.llf) * (2 / self.nobs))\n"
     ]
    }
   ],
   "source": [
    "# Calcula si hay diferencias en cuanto a numero de segmentos en homz (NSEG), longitud (KB) y tamano medio del segmento (KAVG) en casos y controles\n",
    "data = pd.read_csv('/home/jupyter/EJERCICIO_6/ROH.hom.indiv', delim_whitespace=True)\n",
    "print(data.head())\n",
    "data[\"case\"] = data[\"PHE\"] - 1\n",
    "print(data.head())\n",
    "\n",
    "import statsmodels.formula.api as smf\n",
    "import statsmodels.api as sm\n",
    "\n",
    "model1 = smf.glm(formula='case ~ NSEG', data=data, family=sm.families.Binomial())\n",
    "result1 = model1.fit()\n",
    "print(result1.summary())\n",
    "\n",
    "# model2 = smf.glm(formula='case ~ KB', data=data, family=sm.families.Binomial())\n",
    "# result2 = model2.fit()\n",
    "# print(result2.summary())\n",
    "\n",
    "# model3 = smf.glm(formula='case ~ KBAVG', data=data, family=sm.families.Binomial())\n",
    "# result3 = model3.fit()\n",
    "# print(result3.summary())"
   ]
  },
  {
   "cell_type": "markdown",
   "metadata": {},
   "source": [
    "## Extrae la region de SNCA y compara los haplotipos en los datos de las poblaciónes AMR y EUR"
   ]
  },
  {
   "cell_type": "code",
   "execution_count": 50,
   "metadata": {},
   "outputs": [
    {
     "name": "stderr",
     "output_type": "stream",
     "text": [
      "Executing: mkdir -p /home/jupyter/EJERCICIO_7\n"
     ]
    },
    {
     "name": "stdout",
     "output_type": "stream",
     "text": [
      "Making a working directory\n"
     ]
    }
   ],
   "source": [
    "# Crea una carpeta en tu \"workspace\" donde vamos a ejecutar los analisis\n",
    "print(\"Making a working directory\")\n",
    "WORK_DIR = f'/home/jupyter/EJERCICIO_7'\n",
    "shell_do(f'mkdir -p {WORK_DIR}')"
   ]
  },
  {
   "cell_type": "code",
   "execution_count": 51,
   "metadata": {},
   "outputs": [
    {
     "name": "stderr",
     "output_type": "stream",
     "text": [
      "Executing: gsutil -u terra-61e6143b -m cp -r gs://gp2tier2/release3_31102022/raw_genotypes/EUR /home/jupyter/EJERCICIO_7\n"
     ]
    },
    {
     "name": "stdout",
     "output_type": "stream",
     "text": [
      "Copying gs://gp2tier2/release3_31102022/raw_genotypes/EUR/GP2_round3_EUR_maf_hwe_release3.pvar...\n",
      "Copying gs://gp2tier2/release3_31102022/raw_genotypes/EUR/GP2_round3_EUR_maf_hwe_release3.psam...\n",
      "Copying gs://gp2tier2/release3_31102022/raw_genotypes/EUR/GP2_round3_EUR_maf_hwe_release3.pgen...\n",
      "Copying gs://gp2tier2/release3_31102022/raw_genotypes/EUR/GP2_round3_EUR_maf_hwe_release3.log...\n",
      "Copying gs://gp2tier2/release3_31102022/raw_genotypes/EUR/GP2_round3_EUR_maf_hwe_release3.samples...\n",
      "\\ [5/5 files][  1.4 GiB/  1.4 GiB] 100% Done  60.1 MiB/s ETA 00:00:00           \n",
      "Operation completed over 5 objects/1.4 GiB.                                      \n"
     ]
    },
    {
     "name": "stderr",
     "output_type": "stream",
     "text": [
      "Executing: gsutil -u terra-61e6143b -m cp -r gs://gp2tier2/release3_31102022/raw_genotypes/AMR /home/jupyter/EJERCICIO_7\n"
     ]
    },
    {
     "name": "stdout",
     "output_type": "stream",
     "text": [
      "Copying gs://gp2tier2/release3_31102022/raw_genotypes/AMR/GP2_round3_AMR_maf_hwe_release3.psam...\n",
      "Copying gs://gp2tier2/release3_31102022/raw_genotypes/AMR/GP2_round3_AMR_maf_hwe_release3.pvar...\n",
      "Copying gs://gp2tier2/release3_31102022/raw_genotypes/AMR/GP2_round3_AMR_maf_hwe_release3.log...\n",
      "Copying gs://gp2tier2/release3_31102022/raw_genotypes/AMR/GP2_round3_AMR_maf_hwe_release3.pgen...\n",
      "Copying gs://gp2tier2/release3_31102022/raw_genotypes/AMR/GP2_round3_AMR_maf_hwe_release3.samples...\n",
      "\\ [5/5 files][ 92.8 MiB/ 92.8 MiB] 100% Done                                    \n",
      "Operation completed over 5 objects/92.8 MiB.                                     \n"
     ]
    }
   ],
   "source": [
    "## Importa desde el bucket GP2-Tier 2 los genotipos \"raw\" de la poblacion EUR\n",
    "shell_do(f'gsutil -u {BILLING_PROJECT_ID} -m cp -r {GP2_RELEASE_PATH}/raw_genotypes/EUR {WORK_DIR}')\n",
    "shell_do(f'gsutil -u {BILLING_PROJECT_ID} -m cp -r {GP2_RELEASE_PATH}/raw_genotypes/AMR {WORK_DIR}')"
   ]
  },
  {
   "cell_type": "code",
   "execution_count": 52,
   "metadata": {},
   "outputs": [
    {
     "name": "stdout",
     "output_type": "stream",
     "text": [
      "PLINK v2.00a3.3LM AVX2 Intel (3 Jun 2022)      www.cog-genomics.org/plink/2.0/\n",
      "(C) 2005-2022 Shaun Purcell, Christopher Chang   GNU General Public License v3\n",
      "Logging to chr_4_GP2_round3_AMR_maf_hwe_release3.log.\n",
      "Options in effect:\n",
      "  --chr 4\n",
      "  --make-bed\n",
      "  --out chr_4_GP2_round3_AMR_maf_hwe_release3\n",
      "  --pfile AMR/GP2_round3_AMR_maf_hwe_release3\n",
      "\n",
      "Start time: Wed Dec 27 04:58:19 2023\n",
      "3676 MiB RAM detected; reserving 1838 MiB for main workspace.\n",
      "Using 1 compute thread.\n",
      "417 samples (186 females, 231 males; 417 founders) loaded from\n",
      "AMR/GP2_round3_AMR_maf_hwe_release3.psam.\n",
      "71069 out of 1122358 variants loaded from\n",
      "AMR/GP2_round3_AMR_maf_hwe_release3.pvar.\n",
      "1 binary phenotype loaded (230 cases, 182 controls).\n",
      "Writing chr_4_GP2_round3_AMR_maf_hwe_release3.fam ... done.\n",
      "Writing chr_4_GP2_round3_AMR_maf_hwe_release3.bim ... done.\n",
      "Writing chr_4_GP2_round3_AMR_maf_hwe_release3.bed ... done.\n",
      "End time: Wed Dec 27 04:58:19 2023\n",
      "PLINK v2.00a3.3LM AVX2 Intel (3 Jun 2022)      www.cog-genomics.org/plink/2.0/\n",
      "(C) 2005-2022 Shaun Purcell, Christopher Chang   GNU General Public License v3\n",
      "Logging to chr_4_GP2_round3_EUR_maf_hwe_release3.log.\n",
      "Options in effect:\n",
      "  --chr 4\n",
      "  --make-bed\n",
      "  --out chr_4_GP2_round3_EUR_maf_hwe_release3\n",
      "  --pfile EUR/GP2_round3_EUR_maf_hwe_release3\n",
      "\n",
      "Start time: Wed Dec 27 04:58:19 2023\n",
      "3676 MiB RAM detected; reserving 1838 MiB for main workspace.\n",
      "Using 1 compute thread.\n",
      "11002 samples (4271 females, 6731 males; 11002 founders) loaded from\n",
      "EUR/GP2_round3_EUR_maf_hwe_release3.psam.\n",
      "57605 out of 902020 variants loaded from\n",
      "EUR/GP2_round3_EUR_maf_hwe_release3.pvar.\n",
      "1 binary phenotype loaded (6852 cases, 3875 controls).\n",
      "Writing chr_4_GP2_round3_EUR_maf_hwe_release3.fam ... done.\n",
      "Writing chr_4_GP2_round3_EUR_maf_hwe_release3.bim ... done.\n",
      "Writing chr_4_GP2_round3_EUR_maf_hwe_release3.bed ... done.\n",
      "End time: Wed Dec 27 04:58:21 2023\n",
      "PLINK v1.90b6.9 64-bit (4 Mar 2019)            www.cog-genomics.org/plink/1.9/\n",
      "(C) 2005-2019 Shaun Purcell, Christopher Chang   GNU General Public License v3\n",
      "Logging to CASES.AMR.log.\n",
      "Options in effect:\n",
      "  --bfile chr_4_GP2_round3_AMR_maf_hwe_release3\n",
      "  --filter-cases\n",
      "  --maf 0.01\n",
      "  --make-bed\n",
      "  --out CASES.AMR\n",
      "\n",
      "3676 MB RAM detected; reserving 1838 MB for main workspace.\n",
      "71069 variants loaded from .bim file.\n",
      "417 people (231 males, 186 females) loaded from .fam.\n",
      "412 phenotype values loaded from .fam.\n",
      "187 people removed due to case/control status (--filter-cases).\n",
      "Using 1 thread.\n",
      "Before main variant filters, 230 founders and 0 nonfounders present.\n",
      "Calculating allele frequencies... 10111213141516171819202122232425262728293031323334353637383940414243444546474849505152535455565758596061626364656667686970717273747576777879808182838485868788899091929394959697989 done.\n",
      "Total genotyping rate in remaining samples is 0.993343.\n",
      "7740 variants removed due to minor allele threshold(s)\n",
      "(--maf/--max-maf/--mac/--max-mac).\n",
      "63329 variants and 230 people pass filters and QC.\n",
      "Among remaining phenotypes, 230 are cases and 0 are controls.\n",
      "--make-bed to CASES.AMR.bed + CASES.AMR.bim + CASES.AMR.fam ... 101112131415161718192021222324252627282930313233343536373839404142434445464748495051525354555657585960616263646566676869707172737475767778798081828384858687888990919293949596979899done.\n",
      "PLINK v1.90b6.9 64-bit (4 Mar 2019)            www.cog-genomics.org/plink/1.9/\n",
      "(C) 2005-2019 Shaun Purcell, Christopher Chang   GNU General Public License v3\n",
      "Logging to CASES.EUR.log.\n",
      "Options in effect:\n",
      "  --bfile chr_4_GP2_round3_EUR_maf_hwe_release3\n",
      "  --filter-cases\n",
      "  --maf 0.01\n",
      "  --make-bed\n",
      "  --out CASES.EUR\n",
      "\n",
      "3676 MB RAM detected; reserving 1838 MB for main workspace.\n",
      "57605 variants loaded from .bim file.\n",
      "11002 people (6731 males, 4271 females) loaded from .fam.\n",
      "10727 phenotype values loaded from .fam.\n",
      "4150 people removed due to case/control status (--filter-cases).\n",
      "Using 1 thread.\n",
      "Before main variant filters, 6852 founders and 0 nonfounders present.\n",
      "Calculating allele frequencies... 10111213141516171819202122232425262728293031323334353637383940414243444546474849505152535455565758596061626364656667686970717273747576777879808182838485868788899091929394959697989 done.\n",
      "Total genotyping rate in remaining samples is 0.975538.\n",
      "2658 variants removed due to minor allele threshold(s)\n",
      "(--maf/--max-maf/--mac/--max-mac).\n",
      "54947 variants and 6852 people pass filters and QC.\n",
      "Among remaining phenotypes, 6852 are cases and 0 are controls.\n",
      "--make-bed to CASES.EUR.bed + CASES.EUR.bim + CASES.EUR.fam ... 101112131415161718192021222324252627282930313233343536373839404142434445464748495051525354555657585960616263646566676869707172737475767778798081828384858687888990919293949596979899done.\n",
      "PLINK v1.90b6.9 64-bit (4 Mar 2019)            www.cog-genomics.org/plink/1.9/\n",
      "(C) 2005-2019 Shaun Purcell, Christopher Chang   GNU General Public License v3\n",
      "Logging to AMR_blocks.log.\n",
      "Options in effect:\n",
      "  --bfile CASES.AMR\n",
      "  --blocks\n",
      "  --out AMR_blocks\n",
      "\n",
      "3676 MB RAM detected; reserving 1838 MB for main workspace.\n",
      "63329 variants loaded from .bim file.\n",
      "230 people (142 males, 88 females) loaded from .fam.\n",
      "230 phenotype values loaded from .fam.\n",
      "Using 1 thread.\n",
      "Before main variant filters, 230 founders and 0 nonfounders present.\n",
      "Calculating allele frequencies... 10111213141516171819202122232425262728293031323334353637383940414243444546474849505152535455565758596061626364656667686970717273747576777879808182838485868788899091929394959697989 done.\n",
      "Total genotyping rate is 0.993322.\n",
      "63329 variants and 230 people pass filters and QC.\n",
      "Among remaining phenotypes, 230 are cases and 0 are controls.\n",
      "--blocks: 6981 haploblocks written to AMR_blocks.blocks .122222323242425252626272728282929303031313232333334343535363637373838393940404141424243434444454546464747484849505051515252535354545555565657575858595960606161626263636464656566666767686869697070717172727373747475757676777778787979808081818282838384848585868687878888898990909191929293939494959596969797989899%\n",
      "Extra block details written to AMR_blocks.blocks.det .\n",
      "Longest span: 199.997kb.\n",
      "PLINK v1.90b6.9 64-bit (4 Mar 2019)            www.cog-genomics.org/plink/1.9/\n",
      "(C) 2005-2019 Shaun Purcell, Christopher Chang   GNU General Public License v3\n",
      "Logging to EUR_blocks.log.\n",
      "Options in effect:\n",
      "  --bfile CASES.EUR\n",
      "  --blocks\n",
      "  --out EUR_blocks\n",
      "\n",
      "3676 MB RAM detected; reserving 1838 MB for main workspace.\n",
      "54947 variants loaded from .bim file.\n",
      "6852 people (4445 males, 2407 females) loaded from .fam.\n",
      "6852 phenotype values loaded from .fam.\n",
      "Using 1 thread.\n",
      "Before main variant filters, 6852 founders and 0 nonfounders present.\n",
      "Calculating allele frequencies... 10111213141516171819202122232425262728293031323334353637383940414243444546474849505152535455565758596061626364656667686970717273747576777879808182838485868788899091929394959697989 done.\n",
      "Total genotyping rate is 0.975492.\n",
      "54947 variants and 6852 people pass filters and QC.\n",
      "Among remaining phenotypes, 6852 are cases and 0 are controls.\n",
      "--blocks: 6816 haploblocks written to EUR_blocks.blocks .12222232324252526262727282829293030313132323333343435353636373738383939404041414242434344444545464647474848495050515152525353545455555656575758585959606061616262636364646565666667676868696970707171727273737475757676777778787979808081818282838384848585868687878888898990909191929293939494959596969797989899%\n",
      "Extra block details written to EUR_blocks.blocks.det .\n",
      "Longest span: 199.997kb.\n"
     ]
    }
   ],
   "source": [
    "%%bash\n",
    "WORK_DIR=/home/jupyter/EJERCICIO_7/\n",
    "cd $WORK_DIR\n",
    "\n",
    "#Extrae casos de ambas datasets\n",
    "/home/jupyter/tools/plink2 --pfile AMR/GP2_round3_AMR_maf_hwe_release3 --chr 4 --make-bed --out chr_4_GP2_round3_AMR_maf_hwe_release3\n",
    "/home/jupyter/tools/plink2 --pfile EUR/GP2_round3_EUR_maf_hwe_release3 --chr 4 --make-bed --out chr_4_GP2_round3_EUR_maf_hwe_release3\n",
    "\n",
    "/home/jupyter/tools/plink --bfile chr_4_GP2_round3_AMR_maf_hwe_release3 --maf 0.01 --filter-cases --make-bed --out CASES.AMR\n",
    "/home/jupyter/tools/plink --bfile chr_4_GP2_round3_EUR_maf_hwe_release3 --maf 0.01 --filter-cases --make-bed --out CASES.EUR\n",
    "\n",
    "/home/jupyter/tools/plink --bfile CASES.AMR --blocks --out AMR_blocks\n",
    "/home/jupyter/tools/plink --bfile CASES.EUR --blocks --out EUR_blocks\n"
   ]
  },
  {
   "cell_type": "code",
   "execution_count": 53,
   "metadata": {},
   "outputs": [
    {
     "data": {
      "text/html": [
       "<div>\n",
       "<style scoped>\n",
       "    .dataframe tbody tr th:only-of-type {\n",
       "        vertical-align: middle;\n",
       "    }\n",
       "\n",
       "    .dataframe tbody tr th {\n",
       "        vertical-align: top;\n",
       "    }\n",
       "\n",
       "    .dataframe thead th {\n",
       "        text-align: right;\n",
       "    }\n",
       "</style>\n",
       "<table border=\"1\" class=\"dataframe\">\n",
       "  <thead>\n",
       "    <tr style=\"text-align: right;\">\n",
       "      <th></th>\n",
       "      <th>CHR</th>\n",
       "      <th>BP1</th>\n",
       "      <th>BP2</th>\n",
       "      <th>KB</th>\n",
       "      <th>NSNPS</th>\n",
       "      <th>SNPS</th>\n",
       "    </tr>\n",
       "  </thead>\n",
       "  <tbody>\n",
       "    <tr>\n",
       "      <th>3263</th>\n",
       "      <td>4</td>\n",
       "      <td>89704960</td>\n",
       "      <td>89704988</td>\n",
       "      <td>0.029</td>\n",
       "      <td>2</td>\n",
       "      <td>rs356182|rs356181</td>\n",
       "    </tr>\n",
       "  </tbody>\n",
       "</table>\n",
       "</div>"
      ],
      "text/plain": [
       "      CHR       BP1       BP2     KB  NSNPS               SNPS\n",
       "3263    4  89704960  89704988  0.029      2  rs356182|rs356181"
      ]
     },
     "execution_count": 53,
     "metadata": {},
     "output_type": "execute_result"
    }
   ],
   "source": [
    "AMR_Haplo = pd.read_csv(\"/home/jupyter/EJERCICIO_7/AMR_blocks.blocks.det\", delim_whitespace=True)\n",
    "EUR_Haplo = pd.read_csv(\"/home/jupyter/EJERCICIO_7/EUR_blocks.blocks.det\", delim_whitespace=True)\n",
    "\n",
    "SNP_of_interest = \"rs356182\"\n",
    "\n",
    "AMR_Haps_of_interest = AMR_Haplo[AMR_Haplo['SNPS'].str.contains(SNP_of_interest)]\n",
    "AMR_Haps_of_interest.head()\n"
   ]
  },
  {
   "cell_type": "code",
   "execution_count": 54,
   "metadata": {},
   "outputs": [
    {
     "data": {
      "text/html": [
       "<div>\n",
       "<style scoped>\n",
       "    .dataframe tbody tr th:only-of-type {\n",
       "        vertical-align: middle;\n",
       "    }\n",
       "\n",
       "    .dataframe tbody tr th {\n",
       "        vertical-align: top;\n",
       "    }\n",
       "\n",
       "    .dataframe thead th {\n",
       "        text-align: right;\n",
       "    }\n",
       "</style>\n",
       "<table border=\"1\" class=\"dataframe\">\n",
       "  <thead>\n",
       "    <tr style=\"text-align: right;\">\n",
       "      <th></th>\n",
       "      <th>CHR</th>\n",
       "      <th>BP1</th>\n",
       "      <th>BP2</th>\n",
       "      <th>KB</th>\n",
       "      <th>NSNPS</th>\n",
       "      <th>SNPS</th>\n",
       "    </tr>\n",
       "  </thead>\n",
       "  <tbody>\n",
       "    <tr>\n",
       "      <th>3221</th>\n",
       "      <td>4</td>\n",
       "      <td>89704960</td>\n",
       "      <td>89704960</td>\n",
       "      <td>0.001</td>\n",
       "      <td>2</td>\n",
       "      <td>Seq_rs356182|rs356182</td>\n",
       "    </tr>\n",
       "  </tbody>\n",
       "</table>\n",
       "</div>"
      ],
      "text/plain": [
       "      CHR       BP1       BP2     KB  NSNPS                   SNPS\n",
       "3221    4  89704960  89704960  0.001      2  Seq_rs356182|rs356182"
      ]
     },
     "execution_count": 54,
     "metadata": {},
     "output_type": "execute_result"
    }
   ],
   "source": [
    "EUR_Haps_of_interest = EUR_Haplo[EUR_Haplo['SNPS'].str.contains(SNP_of_interest)]\n",
    "EUR_Haps_of_interest.head()"
   ]
  },
  {
   "cell_type": "markdown",
   "metadata": {},
   "source": [
    "## Guarda tus resultados..!"
   ]
  },
  {
   "cell_type": "code",
   "execution_count": null,
   "metadata": {},
   "outputs": [
    {
     "name": "stderr",
     "output_type": "stream",
     "text": [
      "Executing: gsutil -mu terra-61e6143b cp -r /home/jupyter//EJERCICIO* gs://fc-secure-0b3bd9f2-17a9-4e2b-91f6-53c11325da24\n"
     ]
    },
    {
     "name": "stdout",
     "output_type": "stream",
     "text": [
      "Copying file:///home/jupyter//EJERCICIO_1/prune.bed [Content-Type=application/octet-stream]...\n",
      "Copying file:///home/jupyter//EJERCICIO_1/prune.fam [Content-Type=application/octet-stream]...\n",
      "Copying file:///home/jupyter//EJERCICIO_1/EJEMPLO_1.PCA.log [Content-Type=application/octet-stream]...\n",
      "Copying file:///home/jupyter//EJERCICIO_1/EJEMPLO_1.log [Content-Type=application/octet-stream]...\n",
      "Copying file:///home/jupyter//EJERCICIO_1/EJEMPLO_1.PCA.eigenvec [Content-Type=application/octet-stream]...\n",
      "Copying file:///home/jupyter//EJERCICIO_1/EJEMPLO_1.PCA.eigenval [Content-Type=application/octet-stream]...\n",
      "Copying file:///home/jupyter//EJERCICIO_1/prune.prune.in [Content-Type=application/octet-stream]...\n",
      "Copying file:///home/jupyter//EJERCICIO_1/EJEMPLO_1.bim [Content-Type=application/octet-stream]...\n",
      "Copying file:///home/jupyter//EJERCICIO_1/prune.prune.out [Content-Type=application/octet-stream]...\n",
      "Copying file:///home/jupyter//EJERCICIO_1/EJEMPLO_1.bed [Content-Type=application/octet-stream]...\n",
      "Copying file:///home/jupyter//EJERCICIO_1/EJEMPLO_1.fam [Content-Type=application/octet-stream]...\n",
      "Copying file:///home/jupyter//EJERCICIO_1/prune.log [Content-Type=application/octet-stream]...\n",
      "Copying file:///home/jupyter//EJERCICIO_1/prune.bim [Content-Type=application/octet-stream]...\n",
      "Copying file:///home/jupyter//EJERCICIO_1/EAS/GP2_round3_EAS_maf_hwe_release3.pgen [Content-Type=application/octet-stream]...\n",
      "Copying file:///home/jupyter//EJERCICIO_1/EAS/GP2_round3_EAS_maf_hwe_release3.psam [Content-Type=application/octet-stream]...\n",
      "Copying file:///home/jupyter//EJERCICIO_1/EAS/GP2_round3_EAS_maf_hwe_release3.pvar [Content-Type=application/octet-stream]...\n",
      "Copying file:///home/jupyter//EJERCICIO_1/EAS/GP2_round3_EAS_maf_hwe_release3.log [Content-Type=application/octet-stream]...\n",
      "Copying file:///home/jupyter//EJERCICIO_1/EAS/GP2_round3_EAS_maf_hwe_release3.samples [Content-Type=application/octet-stream]...\n",
      "Copying file:///home/jupyter//EJERCICIO_2/ScreePlot_GP2_EAS_unrelated.pdf [Content-Type=application/pdf]...\n",
      "Copying file:///home/jupyter//EJERCICIO_2/ScreePlot_GP2_EAS_unrelated.jpg [Content-Type=image/jpeg]...\n",
      "Copying file:///home/jupyter//EJERCICIO_3/pruned_data.log [Content-Type=application/octet-stream]...\n",
      "Copying file:///home/jupyter//EJERCICIO_3/muestras_emparentadas.bim [Content-Type=application/octet-stream]...\n",
      "Copying file:///home/jupyter//EJERCICIO_3/muestras_emparentadas.fam [Content-Type=application/octet-stream]...\n",
      "Copying file:///home/jupyter//EJERCICIO_3/pruning.prune.out [Content-Type=application/octet-stream]...\n",
      "Copying file:///home/jupyter//EJERCICIO_3/GRM_matrix.grm.N.bin [Content-Type=application/octet-stream]...\n",
      "Copying file:///home/jupyter//EJERCICIO_3/GRM_matrix.grm.bin [Content-Type=application/octet-stream]...\n",
      "Copying file:///home/jupyter//EJERCICIO_3/lista_muestras_emparentadas.txt [Content-Type=text/plain]...\n",
      "Copying file:///home/jupyter//EJERCICIO_3/GRM_matrix_0125.grm.bin [Content-Type=application/octet-stream]...\n",
      "Copying file:///home/jupyter//EJERCICIO_3/muestras_duplicadas.log [Content-Type=application/octet-stream]...\n",
      "Copying file:///home/jupyter//EJERCICIO_3/GRM_matrix_0125.log [Content-Type=application/octet-stream]...\n",
      "Copying file:///home/jupyter//EJERCICIO_3/pruned_data.bed [Content-Type=application/octet-stream]...\n",
      "Copying file:///home/jupyter//EJERCICIO_3/prunedHet.log [Content-Type=application/octet-stream]...\n",
      "Copying file:///home/jupyter//EJERCICIO_3/muestras_emparentadas.bed [Content-Type=application/octet-stream]...\n",
      "Copying file:///home/jupyter//EJERCICIO_3/GRM_matrix_08.log [Content-Type=application/octet-stream]...\n",
      "Copying file:///home/jupyter//EJERCICIO_3/pruning.log [Content-Type=application/octet-stream]...\n",
      "Copying file:///home/jupyter//EJERCICIO_3/muestras_emparentadas.log [Content-Type=application/octet-stream]...\n",
      "Copying file:///home/jupyter//EJERCICIO_3/GRM_matrix_0125.grm.id [Content-Type=application/octet-stream]...\n",
      "Copying file:///home/jupyter//EJERCICIO_3/lista_muestras_duplicadas.txt [Content-Type=text/plain]...\n",
      "Copying file:///home/jupyter//EJERCICIO_3/GRM_matrix.log [Content-Type=application/octet-stream]...\n",
      "Copying file:///home/jupyter//EJERCICIO_3/pruned_data.bim [Content-Type=application/octet-stream]...\n",
      "Copying file:///home/jupyter//EJERCICIO_3/GRM_matrix_08.grm.N.bin [Content-Type=application/octet-stream]...\n",
      "Copying file:///home/jupyter//EJERCICIO_3/GRM_matrix_0125.grm.N.bin [Content-Type=application/octet-stream]...\n",
      "Copying file:///home/jupyter//EJERCICIO_3/GRM_matrix_08.grm.id [Content-Type=application/octet-stream]...\n",
      "Copying file:///home/jupyter//EJERCICIO_3/prunedHet.het [Content-Type=application/octet-stream]...\n",
      "Copying file:///home/jupyter//EJERCICIO_3/GRM_matrix.grm.id [Content-Type=application/octet-stream]...\n",
      "Copying file:///home/jupyter//EJERCICIO_3/pruning.prune.in [Content-Type=application/octet-stream]...\n",
      "Copying file:///home/jupyter//EJERCICIO_3/pruned_data.fam [Content-Type=application/octet-stream]...\n",
      "Copying file:///home/jupyter//EJERCICIO_3/GRM_matrix_08.grm.bin [Content-Type=application/octet-stream]...\n",
      "Copying file:///home/jupyter//EJERCICIO_3/SAS/GP2_round3_SAS_maf_hwe_release3.pvar [Content-Type=application/octet-stream]...\n",
      "Copying file:///home/jupyter//EJERCICIO_3/SAS/GP2_round3_SAS_maf_hwe_release3.log [Content-Type=application/octet-stream]...\n",
      "Copying file:///home/jupyter//EJERCICIO_3/SAS/GP2_round3_SAS_maf_hwe_release3.pgen [Content-Type=application/octet-stream]...\n",
      "Copying file:///home/jupyter//EJERCICIO_3/SAS/GP2_round3_SAS_maf_hwe_release3.samples [Content-Type=application/octet-stream]...\n",
      "Copying file:///home/jupyter//EJERCICIO_3/SAS/GP2_round3_SAS_maf_hwe_release3.psam [Content-Type=application/octet-stream]...\n",
      "Copying file:///home/jupyter//EJERCICIO_4/GBA_N370S_frecuencia_casos_controls.assoc [Content-Type=application/octet-stream]...\n",
      "Copying file:///home/jupyter//EJERCICIO_4/GBA_N370S.bim [Content-Type=application/octet-stream]...\n",
      "Copying file:///home/jupyter//EJERCICIO_4/GBA_N370S.log [Content-Type=application/octet-stream]...\n",
      "Copying file:///home/jupyter//EJERCICIO_4/GBA_N370S_frecuencia.afreq [Content-Type=application/octet-stream]...\n",
      "Copying file:///home/jupyter//EJERCICIO_4/GBA_N370S.bed [Content-Type=application/octet-stream]...\n",
      "Copying file:///home/jupyter//EJERCICIO_4/GBA_N370S_frecuencia_casos_controls.log [Content-Type=application/octet-stream]...\n",
      "Copying file:///home/jupyter//EJERCICIO_4/GBA_N370S.fam [Content-Type=application/octet-stream]...\n",
      "Copying file:///home/jupyter//EJERCICIO_4/GBA_N370S_frecuencia.log [Content-Type=application/octet-stream]...\n",
      "Copying file:///home/jupyter//EJERCICIO_4/AJ/GP2_round3_AJ_maf_hwe_release3.pgen [Content-Type=application/octet-stream]...\n",
      "Copying file:///home/jupyter//EJERCICIO_4/AJ/GP2_round3_AJ_maf_hwe_release3.samples [Content-Type=application/octet-stream]...\n",
      "Copying file:///home/jupyter//EJERCICIO_4/AJ/GP2_round3_AJ_maf_hwe_release3.pvar [Content-Type=application/octet-stream]...\n",
      "==> NOTE: You are uploading one or more large file(s), which would run          \n",
      "significantly faster if you enable parallel composite uploads. This\n",
      "feature can be enabled by editing the\n",
      "\"parallel_composite_upload_threshold\" value in your .boto\n",
      "configuration file. However, note that if you do this large files will\n",
      "be uploaded as `composite objects\n",
      "<https://cloud.google.com/storage/docs/composite-objects>`_,which\n",
      "means that any user who downloads such objects will need to have a\n",
      "compiled crcmod installed (see \"gsutil help crcmod\"). This is because\n",
      "without a compiled crcmod, computing checksums on composite objects is\n",
      "so slow that gsutil disables downloads of composite objects.\n",
      "\n",
      "Copying file:///home/jupyter//EJERCICIO_4/AJ/GP2_round3_AJ_maf_hwe_release3.log [Content-Type=application/octet-stream]...\n",
      "Copying file:///home/jupyter//EJERCICIO_4/AJ/GP2_round3_AJ_maf_hwe_release3.psam [Content-Type=application/octet-stream]...\n",
      "Copying file:///home/jupyter//EJERCICIO_5/LRRK2_G2019.bim [Content-Type=application/octet-stream]...\n",
      "Copying file:///home/jupyter//EJERCICIO_5/LRRK2_G2019.raw [Content-Type=application/octet-stream]...\n",
      "Copying file:///home/jupyter//EJERCICIO_5/LRRK2_G2019.bed [Content-Type=application/octet-stream]...\n",
      "Copying file:///home/jupyter//EJERCICIO_5/LRRK2_G2019.fam [Content-Type=application/octet-stream]...\n",
      "Copying file:///home/jupyter//EJERCICIO_5/LRRK2_G2019.log [Content-Type=application/octet-stream]...\n",
      "Copying file:///home/jupyter//EJERCICIO_5/AJ/GP2_round3_AJ_maf_hwe_release3.pgen [Content-Type=application/octet-stream]...\n",
      "Copying file:///home/jupyter//EJERCICIO_5/AJ/GP2_round3_AJ_maf_hwe_release3.samples [Content-Type=application/octet-stream]...\n",
      "Copying file:///home/jupyter//EJERCICIO_5/AJ/GP2_round3_AJ_maf_hwe_release3.pvar [Content-Type=application/octet-stream]...\n",
      "Copying file:///home/jupyter//EJERCICIO_5/AJ/GP2_round3_AJ_maf_hwe_release3.log [Content-Type=application/octet-stream]...\n",
      "Copying file:///home/jupyter//EJERCICIO_5/AJ/GP2_round3_AJ_maf_hwe_release3.psam [Content-Type=application/octet-stream]...\n",
      "Copying file:///home/jupyter//EJERCICIO_6/pruned_data.log [Content-Type=application/octet-stream]...\n",
      "Copying file:///home/jupyter//EJERCICIO_6/pruning.prune.out [Content-Type=application/octet-stream]...\n",
      "Copying file:///home/jupyter//EJERCICIO_6/ROH.log [Content-Type=application/octet-stream]...\n",
      "Copying file:///home/jupyter//EJERCICIO_6/ROH.hh [Content-Type=text/x-c++hdr]...\n",
      "Copying file:///home/jupyter//EJERCICIO_6/pruned_data.bed [Content-Type=application/octet-stream]...\n",
      "Copying file:///home/jupyter//EJERCICIO_6/pruning.log [Content-Type=application/octet-stream]...\n",
      "Copying file:///home/jupyter//EJERCICIO_6/ROH.hom [Content-Type=application/octet-stream]...\n",
      "Copying file:///home/jupyter//EJERCICIO_6/pruned_data.bim [Content-Type=application/octet-stream]...\n",
      "Copying file:///home/jupyter//EJERCICIO_6/ROH.hom.summary [Content-Type=application/octet-stream]...\n",
      "Copying file:///home/jupyter//EJERCICIO_6/pruning.prune.in [Content-Type=application/octet-stream]...\n",
      "Copying file:///home/jupyter//EJERCICIO_6/ROH.hom.indiv [Content-Type=application/octet-stream]...\n",
      "Copying file:///home/jupyter//EJERCICIO_6/pruned_data.fam [Content-Type=application/octet-stream]...\n",
      "Copying file:///home/jupyter//EJERCICIO_6/EUR/GP2_round3_EUR_maf_hwe_release3.pgen [Content-Type=application/octet-stream]...\n",
      "Copying file:///home/jupyter//EJERCICIO_6/EUR/GP2_round3_EUR_maf_hwe_release3.pvar [Content-Type=application/octet-stream]...\n",
      "Copying file:///home/jupyter//EJERCICIO_6/EUR/GP2_round3_EUR_maf_hwe_release3.samples [Content-Type=application/octet-stream]...\n",
      "Copying file:///home/jupyter//EJERCICIO_6/EUR/GP2_round3_EUR_maf_hwe_release3.psam [Content-Type=application/octet-stream]...\n",
      "Copying file:///home/jupyter//EJERCICIO_6/EUR/GP2_round3_EUR_maf_hwe_release3.log [Content-Type=application/octet-stream]...\n",
      "Copying file:///home/jupyter//EJERCICIO_7/CASES.EUR.bed [Content-Type=application/octet-stream]...\n",
      "Copying file:///home/jupyter//EJERCICIO_7/CASES.AMR.bim [Content-Type=application/octet-stream]...\n",
      "Copying file:///home/jupyter//EJERCICIO_7/chr_4_GP2_round3_AMR_maf_hwe_release3.fam [Content-Type=application/octet-stream]...\n",
      "Copying file:///home/jupyter//EJERCICIO_7/AMR_blocks.blocks [Content-Type=application/octet-stream]...\n",
      "Copying file:///home/jupyter//EJERCICIO_7/chr_4_GP2_round3_EUR_maf_hwe_release3.bed [Content-Type=application/octet-stream]...\n",
      "Copying file:///home/jupyter//EJERCICIO_7/CASES.AMR.log [Content-Type=application/octet-stream]...\n",
      "Copying file:///home/jupyter//EJERCICIO_7/chr_4_GP2_round3_EUR_maf_hwe_release3.bim [Content-Type=application/octet-stream]...\n",
      "Copying file:///home/jupyter//EJERCICIO_7/CASES.AMR.fam [Content-Type=application/octet-stream]...\n",
      "Copying file:///home/jupyter//EJERCICIO_7/chr_4_GP2_round3_EUR_maf_hwe_release3.log [Content-Type=application/octet-stream]...\n",
      "Copying file:///home/jupyter//EJERCICIO_7/CASES.EUR.fam [Content-Type=application/octet-stream]...\n",
      "Copying file:///home/jupyter//EJERCICIO_7/chr_4_GP2_round3_AMR_maf_hwe_release3.log [Content-Type=application/octet-stream]...\n",
      "Copying file:///home/jupyter//EJERCICIO_7/chr_4_GP2_round3_AMR_maf_hwe_release3.bed [Content-Type=application/octet-stream]...\n",
      "Copying file:///home/jupyter//EJERCICIO_7/AMR_blocks.log [Content-Type=application/octet-stream]...\n",
      "Copying file:///home/jupyter//EJERCICIO_7/CASES.EUR.log [Content-Type=application/octet-stream]...\n",
      "Copying file:///home/jupyter//EJERCICIO_7/CASES.AMR.bed [Content-Type=application/octet-stream]...\n",
      "Copying file:///home/jupyter//EJERCICIO_7/CASES.EUR.bim [Content-Type=application/octet-stream]...\n",
      "Copying file:///home/jupyter//EJERCICIO_7/AMR_blocks.blocks.det [Content-Type=application/octet-stream]...\n",
      "Copying file:///home/jupyter//EJERCICIO_7/chr_4_GP2_round3_EUR_maf_hwe_release3.fam [Content-Type=application/octet-stream]...\n",
      "Copying file:///home/jupyter//EJERCICIO_7/EUR_blocks.blocks.det [Content-Type=application/octet-stream]...\n",
      "Copying file:///home/jupyter//EJERCICIO_7/EUR_blocks.log [Content-Type=application/octet-stream]...\n",
      "Copying file:///home/jupyter//EJERCICIO_7/EUR_blocks.blocks [Content-Type=application/octet-stream]...\n",
      "Copying file:///home/jupyter//EJERCICIO_7/chr_4_GP2_round3_AMR_maf_hwe_release3.bim [Content-Type=application/octet-stream]...\n",
      "Copying file:///home/jupyter//EJERCICIO_7/EUR/GP2_round3_EUR_maf_hwe_release3.pgen [Content-Type=application/octet-stream]...\n",
      "Copying file:///home/jupyter//EJERCICIO_7/EUR/GP2_round3_EUR_maf_hwe_release3.pvar [Content-Type=application/octet-stream]...\n",
      "Copying file:///home/jupyter//EJERCICIO_7/EUR/GP2_round3_EUR_maf_hwe_release3.samples [Content-Type=application/octet-stream]...\n",
      "Copying file:///home/jupyter//EJERCICIO_7/EUR/GP2_round3_EUR_maf_hwe_release3.psam [Content-Type=application/octet-stream]...\n",
      "Copying file:///home/jupyter//EJERCICIO_7/EUR/GP2_round3_EUR_maf_hwe_release3.log [Content-Type=application/octet-stream]...\n",
      "Copying file:///home/jupyter//EJERCICIO_7/AMR/GP2_round3_AMR_maf_hwe_release3.pvar [Content-Type=application/octet-stream]...\n",
      "Copying file:///home/jupyter//EJERCICIO_7/AMR/GP2_round3_AMR_maf_hwe_release3.psam [Content-Type=application/octet-stream]...\n",
      "Copying file:///home/jupyter//EJERCICIO_7/AMR/GP2_round3_AMR_maf_hwe_release3.samples [Content-Type=application/octet-stream]...\n",
      "Copying file:///home/jupyter//EJERCICIO_7/AMR/GP2_round3_AMR_maf_hwe_release3.pgen [Content-Type=application/octet-stream]...\n",
      "Copying file:///home/jupyter//EJERCICIO_7/AMR/GP2_round3_AMR_maf_hwe_release3.log [Content-Type=application/octet-stream]...\n",
      "| [122/125 files][  3.7 GiB/  5.0 GiB]  72% Done  58.9 MiB/s ETA 00:00:24       \r"
     ]
    }
   ],
   "source": [
    "WORK_DIR = '/home/jupyter/'\n",
    "\n",
    "shell_do(f'gsutil -mu {BILLING_PROJECT_ID} cp -r {WORK_DIR}/EJERCICIO* {WORKSPACE_BUCKET}')"
   ]
  }
 ],
 "metadata": {
  "kernelspec": {
   "display_name": "Python 3",
   "language": "python",
   "name": "python3"
  },
  "language_info": {
   "codemirror_mode": {
    "name": "ipython",
    "version": 3
   },
   "file_extension": ".py",
   "mimetype": "text/x-python",
   "name": "python",
   "nbconvert_exporter": "python",
   "pygments_lexer": "ipython3",
   "version": "3.10.12"
  },
  "toc": {
   "base_numbering": 1,
   "nav_menu": {},
   "number_sections": true,
   "sideBar": true,
   "skip_h1_title": false,
   "title_cell": "Table of Contents",
   "title_sidebar": "Contents",
   "toc_cell": false,
   "toc_position": {
    "height": "calc(100% - 180px)",
    "left": "10px",
    "top": "150px",
    "width": "165px"
   },
   "toc_section_display": true,
   "toc_window_display": true
  }
 },
 "nbformat": 4,
 "nbformat_minor": 2
}
