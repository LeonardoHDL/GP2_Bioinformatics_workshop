{
 "cells": [
  {
   "cell_type": "markdown",
   "metadata": {},
   "source": [
    "## __GP2 Taller de Bioinformatica Mexico - DEMO 7 - Estudio de asociacion genetica__\n",
    "\n",
    "```GP2 ❤️ Open Science 😍```\n",
    "\n",
    "* __Modulo:__ Estudio de asociacion genetica\n",
    "* __Estimacion de recursos computacionales y duracion del analisis:__\n",
    "    * __Configuracion de la maquina virtual:__ 4 CPUs, 26 GB memoria, 50 GB Disco\n",
    "    * __Duracion estimada:__ 1 h.\n",
    "- __Fecha de ultima actualizacion:__ 13-ENERO-2023\n",
    "    * Descripcion de la ultima actualizacion: \n",
    "        * Encabezado\n",
    "        * Usar shell_do para crear directorio de trabajo\n",
    "        * Eliminar hiperlinks\n",
    "\n",
    "### Descripcion\n",
    "\n",
    "__0. Getting Started__ \n",
    "\n",
    "- Cargar librerias de Python\n",
    "- Definir funciones de Python para interactuar con GCP/Terra\n",
    "- Inicializar las variables del entorno de trabajo\n",
    "- Instalar paquetes\n",
    "\n",
    "__1. Cargar los datos necesarios para realizar GWAS en el espacio de trabajo__\n",
    "\n",
    "__2. Visualizar los datos__\n",
    "\n",
    "__3. Control de calidad (QC)__\n",
    "\n",
    "- Cargar librerias de Python\n",
    "- Definir funciones de Python para interactuar con GCP/Terra\n",
    "- Inicializar las variables del entorno de trabajo\n",
    "- Instalar paquetes\n",
    "\n",
    "__4. Estudio de asociacion (GWAS)__\n",
    "\n",
    "- Realizar el estudio de asociacion de PD vs controles usando modelos de regresion logistica en R\n",
    "- Realizar un estudio de asociacion con la edad de inicio de la enfermedad usando modelos de regresion lineal en R\n",
    "- Realizar el estudio de asociacion usando plink\n",
    "- Explorar resultados\n",
    "\n",
    "__5. Visualizar los resultados__ \n",
    "\n",
    "- Visualizar los datos mediante un Manhattan plot\n",
    "- Visualizar la validez de los resultados mediante un Q-Q plot"
   ]
  },
  {
   "cell_type": "markdown",
   "metadata": {},
   "source": [
    "En este notebook vamos a realizar un estudio de asociacion del genoma completo (GWAS) con un conjunto de 66 SNPs a modo de ejemplo.  \n",
    "Para ello, vamos a usar el lenguaje de programacion de Python para explorar los datos y eliminar muestras que puedan sesgar el analisis.  \n",
    "Despues, vamos a usar el lenguaje de programacion de R para ajustar un modelo de regresion logistica de la misma manera que se implementa en software para analisis de datos genomicos como PLINK.  \n",
    "Una vez entendido la base del analisis, vamos a descargar el software PLINK, que nos ayudara a realizar un GWAS de una manera mas automatizada.  \n",
    "Finalmente, llevaremos a cabo visualizacion e interpretacion de resultados mediante tecnicas de visualizacion de GWAS muy utilizadas en la comunidad cientifica.  "
   ]
  },
  {
   "cell_type": "markdown",
   "metadata": {},
   "source": [
    "## Getting Started"
   ]
  },
  {
   "cell_type": "markdown",
   "metadata": {},
   "source": [
    "### Cargar librerias de Python"
   ]
  },
  {
   "cell_type": "code",
   "execution_count": 3,
   "metadata": {
    "scrolled": true
   },
   "outputs": [],
   "source": [
    "# Use the os package to interact with the environment\n",
    "import os\n",
    "\n",
    "# Use StringIO for working with file contents\n",
    "from io import StringIO\n",
    "\n",
    "# Bring in Pandas for Dataframe functionality\n",
    "import pandas as pd\n",
    "\n",
    "# numpy for basics\n",
    "import numpy as np\n",
    "\n",
    "# Enable IPython to display matplotlib graphs\n",
    "import matplotlib.pyplot as plt\n",
    "%matplotlib inline\n",
    "\n",
    "# Import seaborn for plots\n",
    "import seaborn as sns\n",
    "\n",
    "# Enable interaction with the FireCloud API\n",
    "from firecloud import api as fapi\n",
    "\n",
    "# Import the iPython HTML rendering for displaying links to Google Cloud Console\n",
    "from IPython.core.display import display, HTML\n",
    "\n",
    "# Import urllib modules for building URLs to Google Cloud Console\n",
    "import urllib.parse"
   ]
  },
  {
   "cell_type": "markdown",
   "metadata": {},
   "source": [
    "### Definir funciones de Python para interactuar con GCP/Terra"
   ]
  },
  {
   "cell_type": "code",
   "execution_count": 4,
   "metadata": {
    "scrolled": true
   },
   "outputs": [],
   "source": [
    "# Utility routine for printing a shell command before executing it\n",
    "def shell_do(command):\n",
    "    print(f'Executing: {command}')\n",
    "    !$command\n",
    "\n",
    "# Utility routines for reading files from Google Cloud Storage\n",
    "def gcs_read_file(path):\n",
    "    \"\"\"Return the contents of a file in GCS\"\"\"\n",
    "    contents = !gsutil -u {BILLING_PROJECT_ID} cat {path}\n",
    "    return '\\n'.join(contents)\n",
    "    \n",
    "def gcs_read_csv(path, sep=None):\n",
    "    \"\"\"Return a DataFrame from the contents of a delimited file in GCS\"\"\"\n",
    "    return pd.read_csv(StringIO(gcs_read_file(path)), sep=sep, engine='python')\n",
    "\n",
    "# Utility routine for display a message and a link\n",
    "def display_html_link(description, link_text, url):\n",
    "    html = f'''\n",
    "    <p>\n",
    "    </p>\n",
    "    <p>\n",
    "    {description}\n",
    "    <a target=_blank href=\"{url}\">{link_text}</a>.\n",
    "    </p>\n",
    "    '''\n",
    "\n",
    "    display(HTML(html))\n",
    "    \n",
    "# Utility routine for displaying a message and link to Cloud Console\n",
    "def link_to_cloud_console_gcs(description, link_text, gcs_path):\n",
    "    url = '{}?{}'.format(\n",
    "        os.path.join('https://console.cloud.google.com/storage/browser',\n",
    "                     gcs_path.replace(\"gs://\",\"\")),\n",
    "        urllib.parse.urlencode({'userProject': BILLING_PROJECT_ID}))\n",
    "\n",
    "    display_html_link(description, link_text, url)"
   ]
  },
  {
   "cell_type": "markdown",
   "metadata": {},
   "source": [
    "### Inicializar las variables del entorno de trabajo"
   ]
  },
  {
   "cell_type": "code",
   "execution_count": 5,
   "metadata": {
    "scrolled": true
   },
   "outputs": [
    {
     "name": "stdout",
     "output_type": "stream",
     "text": [
      "terra-61e6143b\n",
      "GP2-Bioinformatics-Courses\n",
      "GRUPO_4_MEXICO_WORKSHOP\n",
      "gs://fc-secure-0b3bd9f2-17a9-4e2b-91f6-53c11325da24\n"
     ]
    }
   ],
   "source": [
    "BILLING_PROJECT_ID = os.environ['GOOGLE_PROJECT']\n",
    "WORKSPACE_NAMESPACE = os.environ['WORKSPACE_NAMESPACE']\n",
    "WORKSPACE_NAME = os.environ['WORKSPACE_NAME']\n",
    "WORKSPACE_BUCKET = os.environ['WORKSPACE_BUCKET']\n",
    "#WORKSPACE_ATTRIBUTES = fapi.get_workspace(WORKSPACE_NAMESPACE, WORKSPACE_NAME).json().get('workspace',{}).get('attributes',{})\n",
    "\n",
    "print(BILLING_PROJECT_ID)\n",
    "print(WORKSPACE_NAMESPACE)\n",
    "print(WORKSPACE_NAME)\n",
    "print(WORKSPACE_BUCKET)\n",
    "\n",
    "#PATH_DATOS = 'mexico-workshop'\n",
    "#PATH_GWAS_DATOS = f'{PATH_DATOS}/DIA2/gwas-datos'"
   ]
  },
  {
   "cell_type": "markdown",
   "metadata": {},
   "source": [
    "### Configurar R en el entorno de trabajo y cargar los paquetes necesarios"
   ]
  },
  {
   "cell_type": "code",
   "execution_count": 6,
   "metadata": {
    "scrolled": true
   },
   "outputs": [],
   "source": [
    "import rpy2.rinterface\n",
    "%load_ext rpy2.ipython"
   ]
  },
  {
   "cell_type": "code",
   "execution_count": 7,
   "metadata": {
    "scrolled": true
   },
   "outputs": [
    {
     "name": "stdout",
     "output_type": "stream",
     "text": [
      "[1] \"Hello world\"\n"
     ]
    }
   ],
   "source": [
    "%%R\n",
    "print(\"Hello world\")"
   ]
  },
  {
   "cell_type": "code",
   "execution_count": 8,
   "metadata": {
    "scrolled": true
   },
   "outputs": [
    {
     "name": "stderr",
     "output_type": "stream",
     "text": [
      "R[write to console]: data.table 1.14.6 using 16 threads (see ?getDTthreads).  Latest news: r-datatable.com\n",
      "\n",
      "R[write to console]: \n",
      "\n",
      "R[write to console]: For example usage please run: vignette('qqman')\n",
      "\n",
      "R[write to console]: \n",
      "\n",
      "R[write to console]: Citation appreciated but not required:\n",
      "\n",
      "R[write to console]: Turner, (2018). qqman: an R package for visualizing GWAS results using Q-Q and manhattan plots. Journal of Open Source Software, 3(25), 731, https://doi.org/10.21105/joss.00731.\n",
      "\n",
      "R[write to console]: \n",
      "\n",
      "R[write to console]: \n",
      "Attaching package: ‘dplyr’\n",
      "\n",
      "\n",
      "R[write to console]: The following objects are masked from ‘package:data.table’:\n",
      "\n",
      "    between, first, last\n",
      "\n",
      "\n",
      "R[write to console]: The following objects are masked from ‘package:stats’:\n",
      "\n",
      "    filter, lag\n",
      "\n",
      "\n",
      "R[write to console]: The following objects are masked from ‘package:base’:\n",
      "\n",
      "    intersect, setdiff, setequal, union\n",
      "\n",
      "\n"
     ]
    }
   ],
   "source": [
    "%%R\n",
    "\n",
    "pack <- \"/home/jupyter/R_packages\"\n",
    "library(data.table, lib = pack)\n",
    "library(qqman, lib= pack)\n",
    "library(dplyr, lib= pack)\n",
    "library(tidyr, lib.loc = pack)\n",
    "library(stats)\n",
    "library(ggplot2, lib= pack)"
   ]
  },
  {
   "cell_type": "markdown",
   "metadata": {},
   "source": [
    "### Instalar plink2"
   ]
  },
  {
   "cell_type": "code",
   "execution_count": 9,
   "metadata": {
    "scrolled": true
   },
   "outputs": [
    {
     "name": "stdout",
     "output_type": "stream",
     "text": [
      "Dowloading plink2 \n",
      "    -------\n",
      "Archive:  plink2_linux_avx2_20220603.zip\n",
      "  inflating: plink2                  \n",
      "\n",
      " plink2 downloaded and unzipped in /home/jupyter/tools \n",
      " \n"
     ]
    },
    {
     "name": "stderr",
     "output_type": "stream",
     "text": [
      "--2023-01-31 16:40:27--  https://s3.amazonaws.com/plink2-assets/alpha3/plink2_linux_avx2_20220603.zip\n",
      "Resolving s3.amazonaws.com (s3.amazonaws.com)... 54.231.128.240, 52.216.114.53, 52.217.226.88, ...\n",
      "Connecting to s3.amazonaws.com (s3.amazonaws.com)|54.231.128.240|:443... connected.\n",
      "HTTP request sent, awaiting response... 304 Not Modified\n",
      "File ‘plink2_linux_avx2_20220603.zip’ not modified on server. Omitting download.\n",
      "\n"
     ]
    }
   ],
   "source": [
    "%%bash\n",
    "\n",
    "mkdir -p ~/tools\n",
    "cd ~/tools\n",
    "\n",
    "echo -e \"Dowloading plink2 \\n    -------\"\n",
    "wget -N https://s3.amazonaws.com/plink2-assets/alpha3/plink2_linux_avx2_20220603.zip\n",
    "unzip -o plink2_linux_avx2_20220603.zip\n",
    "echo -e \"\\n plink2 downloaded and unzipped in /home/jupyter/tools \\n \"\n",
    "cd ~"
   ]
  },
  {
   "cell_type": "code",
   "execution_count": 10,
   "metadata": {
    "scrolled": true
   },
   "outputs": [
    {
     "name": "stdout",
     "output_type": "stream",
     "text": [
      "annovar\n",
      "annovar.latest.tar.gz\n",
      "gcta\n",
      "LICENSE\n",
      "plink\n",
      "plink2\n",
      "plink2_linux_avx2_20220603.zip\n",
      "plink_linux_x86_64_20190304.zip\n",
      "prettify\n",
      "toy.map\n",
      "toy.ped\n"
     ]
    }
   ],
   "source": [
    "%%bash\n",
    "ls /home/jupyter/tools/"
   ]
  },
  {
   "cell_type": "markdown",
   "metadata": {},
   "source": [
    "## Cargar los datos necesarios para realizar GWAS en el espacio de trabajo"
   ]
  },
  {
   "cell_type": "code",
   "execution_count": 11,
   "metadata": {},
   "outputs": [
    {
     "name": "stdout",
     "output_type": "stream",
     "text": [
      "Making a working directory\n",
      "Executing: mkdir -p /home/jupyter/workdir_GWAS\n"
     ]
    }
   ],
   "source": [
    "# Crear una carpeta en el espacio de trabajo para copiar los archivos\n",
    "print(\"Making a working directory\")\n",
    "WORK_DIR = f'/home/jupyter/workdir_GWAS'\n",
    "shell_do(f'mkdir -p {WORK_DIR}')"
   ]
  },
  {
   "cell_type": "code",
   "execution_count": 12,
   "metadata": {
    "scrolled": true
   },
   "outputs": [
    {
     "name": "stdout",
     "output_type": "stream",
     "text": [
      "Executing: gsutil -mu terra-61e6143b ls gs://fc-secure-0b3bd9f2-17a9-4e2b-91f6-53c11325da24\n",
      "gs://fc-secure-0b3bd9f2-17a9-4e2b-91f6-53c11325da24/coding_nonsynonymous_pheno_PTPA.raw\n",
      "gs://fc-secure-0b3bd9f2-17a9-4e2b-91f6-53c11325da24/gcta\n",
      "gs://fc-secure-0b3bd9f2-17a9-4e2b-91f6-53c11325da24/pheno_PTPA_100KB.bed\n",
      "gs://fc-secure-0b3bd9f2-17a9-4e2b-91f6-53c11325da24/pheno_PTPA_100KB.bim\n",
      "gs://fc-secure-0b3bd9f2-17a9-4e2b-91f6-53c11325da24/pheno_PTPA_100KB.fam\n",
      "gs://fc-secure-0b3bd9f2-17a9-4e2b-91f6-53c11325da24/refFlat.txt\n",
      "gs://fc-secure-0b3bd9f2-17a9-4e2b-91f6-53c11325da24/sex.txt\n",
      "gs://fc-secure-0b3bd9f2-17a9-4e2b-91f6-53c11325da24/EJERCICIO_1/\n",
      "gs://fc-secure-0b3bd9f2-17a9-4e2b-91f6-53c11325da24/EJERCICIO_10/\n",
      "gs://fc-secure-0b3bd9f2-17a9-4e2b-91f6-53c11325da24/EJERCICIO_11/\n",
      "gs://fc-secure-0b3bd9f2-17a9-4e2b-91f6-53c11325da24/EJERCICIO_2/\n",
      "gs://fc-secure-0b3bd9f2-17a9-4e2b-91f6-53c11325da24/EJERCICIO_3/\n",
      "gs://fc-secure-0b3bd9f2-17a9-4e2b-91f6-53c11325da24/EJERCICIO_4/\n",
      "gs://fc-secure-0b3bd9f2-17a9-4e2b-91f6-53c11325da24/EJERCICIO_5/\n",
      "gs://fc-secure-0b3bd9f2-17a9-4e2b-91f6-53c11325da24/EJERCICIO_6/\n",
      "gs://fc-secure-0b3bd9f2-17a9-4e2b-91f6-53c11325da24/EJERCICIO_7/\n",
      "gs://fc-secure-0b3bd9f2-17a9-4e2b-91f6-53c11325da24/EJERCICIO_8/\n",
      "gs://fc-secure-0b3bd9f2-17a9-4e2b-91f6-53c11325da24/PTPA/\n",
      "gs://fc-secure-0b3bd9f2-17a9-4e2b-91f6-53c11325da24/gwas-datos/\n",
      "gs://fc-secure-0b3bd9f2-17a9-4e2b-91f6-53c11325da24/notebooks/\n",
      "gs://fc-secure-0b3bd9f2-17a9-4e2b-91f6-53c11325da24/prs_datos/\n",
      "gs://fc-secure-0b3bd9f2-17a9-4e2b-91f6-53c11325da24/rreal-gwas/\n",
      "gs://fc-secure-0b3bd9f2-17a9-4e2b-91f6-53c11325da24/rvtests/\n",
      "\n",
      "\n",
      " Vamos a mirar que hay dentro del fichero gwas-datos \n",
      "\n",
      "\n",
      "Executing: gsutil -mu terra-61e6143b ls gs://fc-secure-0b3bd9f2-17a9-4e2b-91f6-53c11325da24/gwas-datos\n",
      "gs://fc-secure-0b3bd9f2-17a9-4e2b-91f6-53c11325da24/gwas-datos/covariate_pheno.csv\n",
      "gs://fc-secure-0b3bd9f2-17a9-4e2b-91f6-53c11325da24/gwas-datos/covars_plink.txt\n",
      "gs://fc-secure-0b3bd9f2-17a9-4e2b-91f6-53c11325da24/gwas-datos/genetic_data.bed\n",
      "gs://fc-secure-0b3bd9f2-17a9-4e2b-91f6-53c11325da24/gwas-datos/genetic_data.bim\n",
      "gs://fc-secure-0b3bd9f2-17a9-4e2b-91f6-53c11325da24/gwas-datos/genetic_data.fam\n",
      "gs://fc-secure-0b3bd9f2-17a9-4e2b-91f6-53c11325da24/gwas-datos/pcs_file.txt\n",
      "gs://fc-secure-0b3bd9f2-17a9-4e2b-91f6-53c11325da24/gwas-datos/phenotype_plink.txt\n"
     ]
    }
   ],
   "source": [
    "# Explora la carpeta de gwas-datos\n",
    "#gs://fc-secure-cbdcecad-15a2-473b-8df9-841de062728d\n",
    "shell_do(f'gsutil -mu {BILLING_PROJECT_ID} ls {WORKSPACE_BUCKET}')\n",
    "print(\"\\n\\n Vamos a mirar que hay dentro del fichero gwas-datos \\n\\n\")\n",
    "shell_do(f'gsutil -mu {BILLING_PROJECT_ID} ls {WORKSPACE_BUCKET}/gwas-datos')"
   ]
  },
  {
   "cell_type": "markdown",
   "metadata": {},
   "source": [
    "### Carga los datos en el entorno de trabajo"
   ]
  },
  {
   "cell_type": "code",
   "execution_count": 13,
   "metadata": {
    "scrolled": true
   },
   "outputs": [
    {
     "name": "stdout",
     "output_type": "stream",
     "text": [
      "<class 'pandas.core.frame.DataFrame'>\n",
      "RangeIndex: 112 entries, 0 to 111\n",
      "Data columns (total 7 columns):\n",
      " #   Column             Non-Null Count  Dtype  \n",
      "---  ------             --------------  -----  \n",
      " 0   estudio            112 non-null    object \n",
      " 1   id_muestra         112 non-null    object \n",
      " 2   brazo_de_estudio   112 non-null    object \n",
      " 3   sexo               112 non-null    object \n",
      " 4   edad_inicio        41 non-null     float64\n",
      " 5   historia_familiar  112 non-null    object \n",
      " 6   comienzo_estudio   112 non-null    float64\n",
      "dtypes: float64(2), object(5)\n",
      "memory usage: 6.2+ KB\n"
     ]
    }
   ],
   "source": [
    "df = gcs_read_csv(f'{WORKSPACE_BUCKET}/gwas-datos/covariate_pheno.csv')\n",
    "df.info()"
   ]
  },
  {
   "cell_type": "code",
   "execution_count": 14,
   "metadata": {
    "scrolled": true
   },
   "outputs": [
    {
     "data": {
      "text/html": [
       "<div>\n",
       "<style scoped>\n",
       "    .dataframe tbody tr th:only-of-type {\n",
       "        vertical-align: middle;\n",
       "    }\n",
       "\n",
       "    .dataframe tbody tr th {\n",
       "        vertical-align: top;\n",
       "    }\n",
       "\n",
       "    .dataframe thead th {\n",
       "        text-align: right;\n",
       "    }\n",
       "</style>\n",
       "<table border=\"1\" class=\"dataframe\">\n",
       "  <thead>\n",
       "    <tr style=\"text-align: right;\">\n",
       "      <th></th>\n",
       "      <th>estudio</th>\n",
       "      <th>id_muestra</th>\n",
       "      <th>brazo_de_estudio</th>\n",
       "      <th>sexo</th>\n",
       "      <th>edad_inicio</th>\n",
       "      <th>historia_familiar</th>\n",
       "      <th>comienzo_estudio</th>\n",
       "    </tr>\n",
       "  </thead>\n",
       "  <tbody>\n",
       "    <tr>\n",
       "      <th>0</th>\n",
       "      <td>ESTUDIO_PD</td>\n",
       "      <td>muestra_no_1</td>\n",
       "      <td>CONTROL</td>\n",
       "      <td>Hombre</td>\n",
       "      <td>NaN</td>\n",
       "      <td>NO</td>\n",
       "      <td>78.64</td>\n",
       "    </tr>\n",
       "    <tr>\n",
       "      <th>1</th>\n",
       "      <td>ESTUDIO_PD</td>\n",
       "      <td>muestra_no_2</td>\n",
       "      <td>PD</td>\n",
       "      <td>Hombre</td>\n",
       "      <td>70.81</td>\n",
       "      <td>NO</td>\n",
       "      <td>76.42</td>\n",
       "    </tr>\n",
       "    <tr>\n",
       "      <th>2</th>\n",
       "      <td>ESTUDIO_PD</td>\n",
       "      <td>muestra_no_3</td>\n",
       "      <td>CONTROL</td>\n",
       "      <td>Hombre</td>\n",
       "      <td>NaN</td>\n",
       "      <td>NO</td>\n",
       "      <td>67.79</td>\n",
       "    </tr>\n",
       "    <tr>\n",
       "      <th>3</th>\n",
       "      <td>ESTUDIO_PD</td>\n",
       "      <td>muestra_no_4</td>\n",
       "      <td>PD</td>\n",
       "      <td>Mujer</td>\n",
       "      <td>58.61</td>\n",
       "      <td>NO</td>\n",
       "      <td>61.30</td>\n",
       "    </tr>\n",
       "    <tr>\n",
       "      <th>4</th>\n",
       "      <td>ESTUDIO_PD</td>\n",
       "      <td>muestra_no_5</td>\n",
       "      <td>PD</td>\n",
       "      <td>Mujer</td>\n",
       "      <td>52.27</td>\n",
       "      <td>NO</td>\n",
       "      <td>53.15</td>\n",
       "    </tr>\n",
       "  </tbody>\n",
       "</table>\n",
       "</div>"
      ],
      "text/plain": [
       "      estudio    id_muestra brazo_de_estudio    sexo  edad_inicio  \\\n",
       "0  ESTUDIO_PD  muestra_no_1          CONTROL  Hombre          NaN   \n",
       "1  ESTUDIO_PD  muestra_no_2               PD  Hombre        70.81   \n",
       "2  ESTUDIO_PD  muestra_no_3          CONTROL  Hombre          NaN   \n",
       "3  ESTUDIO_PD  muestra_no_4               PD   Mujer        58.61   \n",
       "4  ESTUDIO_PD  muestra_no_5               PD   Mujer        52.27   \n",
       "\n",
       "  historia_familiar  comienzo_estudio  \n",
       "0                NO             78.64  \n",
       "1                NO             76.42  \n",
       "2                NO             67.79  \n",
       "3                NO             61.30  \n",
       "4                NO             53.15  "
      ]
     },
     "execution_count": 14,
     "metadata": {},
     "output_type": "execute_result"
    }
   ],
   "source": [
    "df.head()\n"
   ]
  },
  {
   "cell_type": "markdown",
   "metadata": {},
   "source": [
    "### Explora los datos demograficos"
   ]
  },
  {
   "cell_type": "markdown",
   "metadata": {},
   "source": [
    "### Explora las variables categoricas en el conjunto de datos"
   ]
  },
  {
   "cell_type": "code",
   "execution_count": 15,
   "metadata": {
    "scrolled": true
   },
   "outputs": [
    {
     "data": {
      "text/html": [
       "<div>\n",
       "<style scoped>\n",
       "    .dataframe tbody tr th:only-of-type {\n",
       "        vertical-align: middle;\n",
       "    }\n",
       "\n",
       "    .dataframe tbody tr th {\n",
       "        vertical-align: top;\n",
       "    }\n",
       "\n",
       "    .dataframe thead th {\n",
       "        text-align: right;\n",
       "    }\n",
       "</style>\n",
       "<table border=\"1\" class=\"dataframe\">\n",
       "  <thead>\n",
       "    <tr style=\"text-align: right;\">\n",
       "      <th></th>\n",
       "      <th>sexo</th>\n",
       "      <th>brazo_de_estudio</th>\n",
       "      <th>historia_familiar</th>\n",
       "    </tr>\n",
       "  </thead>\n",
       "  <tbody>\n",
       "    <tr>\n",
       "      <th>count</th>\n",
       "      <td>112</td>\n",
       "      <td>112</td>\n",
       "      <td>112</td>\n",
       "    </tr>\n",
       "    <tr>\n",
       "      <th>unique</th>\n",
       "      <td>2</td>\n",
       "      <td>2</td>\n",
       "      <td>2</td>\n",
       "    </tr>\n",
       "    <tr>\n",
       "      <th>top</th>\n",
       "      <td>Hombre</td>\n",
       "      <td>CONTROL</td>\n",
       "      <td>NO</td>\n",
       "    </tr>\n",
       "    <tr>\n",
       "      <th>freq</th>\n",
       "      <td>71</td>\n",
       "      <td>71</td>\n",
       "      <td>111</td>\n",
       "    </tr>\n",
       "  </tbody>\n",
       "</table>\n",
       "</div>"
      ],
      "text/plain": [
       "          sexo brazo_de_estudio historia_familiar\n",
       "count      112              112               112\n",
       "unique       2                2                 2\n",
       "top     Hombre          CONTROL                NO\n",
       "freq        71               71               111"
      ]
     },
     "execution_count": 15,
     "metadata": {},
     "output_type": "execute_result"
    }
   ],
   "source": [
    "# Contar el numero de PD y de controls, \n",
    "# Contar el numero de personas de los dos sexos\n",
    "df[[\"sexo\", \"brazo_de_estudio\", \"historia_familiar\"]].describe(include='object')"
   ]
  },
  {
   "cell_type": "markdown",
   "metadata": {},
   "source": [
    "## Visualizacion de datos"
   ]
  },
  {
   "cell_type": "code",
   "execution_count": 16,
   "metadata": {
    "scrolled": true
   },
   "outputs": [
    {
     "data": {
      "text/plain": [
       "<seaborn.axisgrid.FacetGrid at 0x7fc9e2587dd0>"
      ]
     },
     "execution_count": 16,
     "metadata": {},
     "output_type": "execute_result"
    },
    {
     "data": {
      "image/png": "[encoded data removed]",
      "text/plain": [
       "<Figure size 360x360 with 1 Axes>"
      ]
     },
     "metadata": {
      "needs_background": "light"
     },
     "output_type": "display_data"
    }
   ],
   "source": [
    "# Visualiza la distribucion de variables continuas\n",
    "sns.displot(data = df,\n",
    "            x = 'edad_inicio', \n",
    "            kde=True, \n",
    "            color = \"red\")"
   ]
  },
  {
   "cell_type": "code",
   "execution_count": 17,
   "metadata": {
    "scrolled": true
   },
   "outputs": [
    {
     "data": {
      "text/plain": [
       "<seaborn.axisgrid.FacetGrid at 0x7fc9d6c0a790>"
      ]
     },
     "execution_count": 17,
     "metadata": {},
     "output_type": "execute_result"
    },
    {
     "data": {
      "image/png": "[encoded data removed]",
      "text/plain": [
       "<Figure size 720x360 with 2 Axes>"
      ]
     },
     "metadata": {
      "needs_background": "light"
     },
     "output_type": "display_data"
    }
   ],
   "source": [
    "sns.displot(data = df,\n",
    "            x = 'edad_inicio', \n",
    "            kde=True, \n",
    "            color = \"green\",\n",
    "            col = 'sexo')"
   ]
  },
  {
   "cell_type": "markdown",
   "metadata": {},
   "source": [
    "### EJERCICIO : Observa la distribucion de de edad de inicio por cada grupo de la variable genero mediante un plot violind\n",
    "\n",
    "Para realizar este ejercicio, puedes hacer una busqueda en internet.  \n",
    "**Pista**: Puedes usar el modulo seaborn (sns) que hemos usado para los plots previos. Para ello tendras que encontrar la funcion que termite obtener un violin plot"
   ]
  },
  {
   "cell_type": "code",
   "execution_count": 18,
   "metadata": {
    "scrolled": true
   },
   "outputs": [
    {
     "data": {
      "text/plain": [
       "<AxesSubplot:xlabel='edad_inicio', ylabel='sexo'>"
      ]
     },
     "execution_count": 18,
     "metadata": {},
     "output_type": "execute_result"
    },
    {
     "data": {
      "image/png": "[encoded data removed]",
      "text/plain": [
       "<Figure size 432x288 with 1 Axes>"
      ]
     },
     "metadata": {
      "needs_background": "light"
     },
     "output_type": "display_data"
    }
   ],
   "source": [
    "sns.violinplot(data=df, x='edad_inicio', y='sexo')"
   ]
  },
  {
   "cell_type": "code",
   "execution_count": 19,
   "metadata": {
    "scrolled": true
   },
   "outputs": [
    {
     "data": {
      "text/plain": [
       "<AxesSubplot:xlabel='sexo', ylabel='edad_inicio'>"
      ]
     },
     "execution_count": 19,
     "metadata": {},
     "output_type": "execute_result"
    },
    {
     "data": {
      "image/png": "[encoded data removed]",
      "text/plain": [
       "<Figure size 432x288 with 1 Axes>"
      ]
     },
     "metadata": {
      "needs_background": "light"
     },
     "output_type": "display_data"
    }
   ],
   "source": [
    "sns.violinplot(data=df, x='sexo', y='edad_inicio')"
   ]
  },
  {
   "cell_type": "markdown",
   "metadata": {},
   "source": [
    "## Control de calidad (QC)"
   ]
  },
  {
   "cell_type": "markdown",
   "metadata": {},
   "source": [
    "### Comprobar que todas las variables estan en el formato adecuado"
   ]
  },
  {
   "cell_type": "code",
   "execution_count": 20,
   "metadata": {
    "scrolled": true
   },
   "outputs": [
    {
     "name": "stdout",
     "output_type": "stream",
     "text": [
      "['Hombre' 'Mujer']\n",
      "['CONTROL' 'PD']\n"
     ]
    }
   ],
   "source": [
    "print(df.sexo.unique())\n",
    "print(df.brazo_de_estudio.unique())"
   ]
  },
  {
   "cell_type": "code",
   "execution_count": 21,
   "metadata": {
    "scrolled": true
   },
   "outputs": [],
   "source": [
    "df['sexo'] = np.where(df['sexo'] == \"Mujer\", 2, 1)\n",
    "df['brazo_de_estudio'] = np.where(df['brazo_de_estudio'] == \"PD\", 1, 0)\n",
    "df.rename(columns={\"brazo_de_estudio\": \"estado\"}, inplace = True)\n",
    "\n",
    "#https://benalexkeen.com/mapping-categorical-data-in-pandas/"
   ]
  },
  {
   "cell_type": "code",
   "execution_count": 22,
   "metadata": {
    "scrolled": true
   },
   "outputs": [
    {
     "name": "stdout",
     "output_type": "stream",
     "text": [
      "[1 2]\n",
      "[0 1]\n"
     ]
    }
   ],
   "source": [
    "print(df.sexo.unique())\n",
    "print(df.estado.unique())"
   ]
  },
  {
   "cell_type": "code",
   "execution_count": 23,
   "metadata": {},
   "outputs": [
    {
     "data": {
      "text/html": [
       "<div>\n",
       "<style scoped>\n",
       "    .dataframe tbody tr th:only-of-type {\n",
       "        vertical-align: middle;\n",
       "    }\n",
       "\n",
       "    .dataframe tbody tr th {\n",
       "        vertical-align: top;\n",
       "    }\n",
       "\n",
       "    .dataframe thead th {\n",
       "        text-align: right;\n",
       "    }\n",
       "</style>\n",
       "<table border=\"1\" class=\"dataframe\">\n",
       "  <thead>\n",
       "    <tr style=\"text-align: right;\">\n",
       "      <th></th>\n",
       "      <th>estudio</th>\n",
       "      <th>id_muestra</th>\n",
       "      <th>estado</th>\n",
       "      <th>sexo</th>\n",
       "      <th>edad_inicio</th>\n",
       "      <th>historia_familiar</th>\n",
       "      <th>comienzo_estudio</th>\n",
       "    </tr>\n",
       "  </thead>\n",
       "  <tbody>\n",
       "    <tr>\n",
       "      <th>0</th>\n",
       "      <td>ESTUDIO_PD</td>\n",
       "      <td>muestra_no_1</td>\n",
       "      <td>0</td>\n",
       "      <td>1</td>\n",
       "      <td>NaN</td>\n",
       "      <td>NO</td>\n",
       "      <td>78.64</td>\n",
       "    </tr>\n",
       "    <tr>\n",
       "      <th>1</th>\n",
       "      <td>ESTUDIO_PD</td>\n",
       "      <td>muestra_no_2</td>\n",
       "      <td>1</td>\n",
       "      <td>1</td>\n",
       "      <td>70.81</td>\n",
       "      <td>NO</td>\n",
       "      <td>76.42</td>\n",
       "    </tr>\n",
       "    <tr>\n",
       "      <th>2</th>\n",
       "      <td>ESTUDIO_PD</td>\n",
       "      <td>muestra_no_3</td>\n",
       "      <td>0</td>\n",
       "      <td>1</td>\n",
       "      <td>NaN</td>\n",
       "      <td>NO</td>\n",
       "      <td>67.79</td>\n",
       "    </tr>\n",
       "    <tr>\n",
       "      <th>3</th>\n",
       "      <td>ESTUDIO_PD</td>\n",
       "      <td>muestra_no_4</td>\n",
       "      <td>1</td>\n",
       "      <td>2</td>\n",
       "      <td>58.61</td>\n",
       "      <td>NO</td>\n",
       "      <td>61.30</td>\n",
       "    </tr>\n",
       "    <tr>\n",
       "      <th>4</th>\n",
       "      <td>ESTUDIO_PD</td>\n",
       "      <td>muestra_no_5</td>\n",
       "      <td>1</td>\n",
       "      <td>2</td>\n",
       "      <td>52.27</td>\n",
       "      <td>NO</td>\n",
       "      <td>53.15</td>\n",
       "    </tr>\n",
       "  </tbody>\n",
       "</table>\n",
       "</div>"
      ],
      "text/plain": [
       "      estudio    id_muestra  estado  sexo  edad_inicio historia_familiar  \\\n",
       "0  ESTUDIO_PD  muestra_no_1       0     1          NaN                NO   \n",
       "1  ESTUDIO_PD  muestra_no_2       1     1        70.81                NO   \n",
       "2  ESTUDIO_PD  muestra_no_3       0     1          NaN                NO   \n",
       "3  ESTUDIO_PD  muestra_no_4       1     2        58.61                NO   \n",
       "4  ESTUDIO_PD  muestra_no_5       1     2        52.27                NO   \n",
       "\n",
       "   comienzo_estudio  \n",
       "0             78.64  \n",
       "1             76.42  \n",
       "2             67.79  \n",
       "3             61.30  \n",
       "4             53.15  "
      ]
     },
     "execution_count": 23,
     "metadata": {},
     "output_type": "execute_result"
    }
   ],
   "source": [
    "df.head()"
   ]
  },
  {
   "cell_type": "markdown",
   "metadata": {},
   "source": [
    "### Eliminar muestras que puedan sesgar nuestro analisis"
   ]
  },
  {
   "cell_type": "code",
   "execution_count": 24,
   "metadata": {
    "scrolled": true
   },
   "outputs": [
    {
     "data": {
      "text/plain": [
       "array(['NO', 'SI'], dtype=object)"
      ]
     },
     "execution_count": 24,
     "metadata": {},
     "output_type": "execute_result"
    }
   ],
   "source": [
    "df.historia_familiar.unique()"
   ]
  },
  {
   "cell_type": "code",
   "execution_count": 25,
   "metadata": {
    "scrolled": true
   },
   "outputs": [
    {
     "name": "stdout",
     "output_type": "stream",
     "text": [
      "Numero de muestras antes de eliminar pacientes de PD con historia familiar -> 112 \n",
      "\n",
      "Numero de muestras antes de eliminar pacientes de PD con historia familiar -> 111\n"
     ]
    }
   ],
   "source": [
    "print(\"Numero de muestras antes de eliminar pacientes de PD con historia familiar -> {no} \\n\".format(no = df.shape[0]))\n",
    "     \n",
    "df.drop(df[df['historia_familiar'] == \"SI\"].index, inplace = True)\n",
    "\n",
    "print(\"Numero de muestras antes de eliminar pacientes de PD con historia familiar -> {no}\".format(no = df.shape[0]))"
   ]
  },
  {
   "cell_type": "code",
   "execution_count": 26,
   "metadata": {
    "scrolled": true
   },
   "outputs": [
    {
     "data": {
      "text/html": [
       "<div>\n",
       "<style scoped>\n",
       "    .dataframe tbody tr th:only-of-type {\n",
       "        vertical-align: middle;\n",
       "    }\n",
       "\n",
       "    .dataframe tbody tr th {\n",
       "        vertical-align: top;\n",
       "    }\n",
       "\n",
       "    .dataframe thead th {\n",
       "        text-align: right;\n",
       "    }\n",
       "</style>\n",
       "<table border=\"1\" class=\"dataframe\">\n",
       "  <thead>\n",
       "    <tr style=\"text-align: right;\">\n",
       "      <th></th>\n",
       "      <th>estudio</th>\n",
       "      <th>id_muestra</th>\n",
       "      <th>estado</th>\n",
       "      <th>sexo</th>\n",
       "      <th>edad_inicio</th>\n",
       "      <th>historia_familiar</th>\n",
       "      <th>comienzo_estudio</th>\n",
       "    </tr>\n",
       "  </thead>\n",
       "  <tbody>\n",
       "    <tr>\n",
       "      <th>0</th>\n",
       "      <td>ESTUDIO_PD</td>\n",
       "      <td>muestra_no_1</td>\n",
       "      <td>0</td>\n",
       "      <td>1</td>\n",
       "      <td>NaN</td>\n",
       "      <td>NO</td>\n",
       "      <td>78.64</td>\n",
       "    </tr>\n",
       "    <tr>\n",
       "      <th>1</th>\n",
       "      <td>ESTUDIO_PD</td>\n",
       "      <td>muestra_no_2</td>\n",
       "      <td>1</td>\n",
       "      <td>1</td>\n",
       "      <td>70.81</td>\n",
       "      <td>NO</td>\n",
       "      <td>76.42</td>\n",
       "    </tr>\n",
       "    <tr>\n",
       "      <th>2</th>\n",
       "      <td>ESTUDIO_PD</td>\n",
       "      <td>muestra_no_3</td>\n",
       "      <td>0</td>\n",
       "      <td>1</td>\n",
       "      <td>NaN</td>\n",
       "      <td>NO</td>\n",
       "      <td>67.79</td>\n",
       "    </tr>\n",
       "    <tr>\n",
       "      <th>3</th>\n",
       "      <td>ESTUDIO_PD</td>\n",
       "      <td>muestra_no_4</td>\n",
       "      <td>1</td>\n",
       "      <td>2</td>\n",
       "      <td>58.61</td>\n",
       "      <td>NO</td>\n",
       "      <td>61.30</td>\n",
       "    </tr>\n",
       "    <tr>\n",
       "      <th>4</th>\n",
       "      <td>ESTUDIO_PD</td>\n",
       "      <td>muestra_no_5</td>\n",
       "      <td>1</td>\n",
       "      <td>2</td>\n",
       "      <td>52.27</td>\n",
       "      <td>NO</td>\n",
       "      <td>53.15</td>\n",
       "    </tr>\n",
       "  </tbody>\n",
       "</table>\n",
       "</div>"
      ],
      "text/plain": [
       "      estudio    id_muestra  estado  sexo  edad_inicio historia_familiar  \\\n",
       "0  ESTUDIO_PD  muestra_no_1       0     1          NaN                NO   \n",
       "1  ESTUDIO_PD  muestra_no_2       1     1        70.81                NO   \n",
       "2  ESTUDIO_PD  muestra_no_3       0     1          NaN                NO   \n",
       "3  ESTUDIO_PD  muestra_no_4       1     2        58.61                NO   \n",
       "4  ESTUDIO_PD  muestra_no_5       1     2        52.27                NO   \n",
       "\n",
       "   comienzo_estudio  \n",
       "0             78.64  \n",
       "1             76.42  \n",
       "2             67.79  \n",
       "3             61.30  \n",
       "4             53.15  "
      ]
     },
     "execution_count": 26,
     "metadata": {},
     "output_type": "execute_result"
    }
   ],
   "source": [
    "df.head()"
   ]
  },
  {
   "cell_type": "markdown",
   "metadata": {},
   "source": [
    "### Guardar los datos que pasen el control de calidad en el disco duro persistente"
   ]
  },
  {
   "cell_type": "code",
   "execution_count": 27,
   "metadata": {
    "scrolled": true
   },
   "outputs": [],
   "source": [
    "df.to_csv('/home/jupyter/workdir_GWAS/clinical_data_QC.csv', index=False) #Index=FALSE: elimina el index de la fila\n"
   ]
  },
  {
   "cell_type": "markdown",
   "metadata": {},
   "source": [
    "## Estudio de asociacion (GWAS)"
   ]
  },
  {
   "cell_type": "markdown",
   "metadata": {},
   "source": [
    "Una vez que hemos eliminado muestras que pueden sesgar nuestro analisis, recodificado variables, y explorado la distribucion de variables de interes, estamos listos para realizar el estudio de asociacion de genoma completo, tambien conocido como **GWAS**"
   ]
  },
  {
   "cell_type": "markdown",
   "metadata": {},
   "source": [
    "### Copia los datos guardados en la bucket en el disco duro persistente (DP) de la maquina virtual (VM)"
   ]
  },
  {
   "cell_type": "markdown",
   "metadata": {},
   "source": [
    "Antes, hemos usado Python para cargar un conjunto de datos en el entorno de trabajo (Uso de la funcion **gcs_read_csv**).  \n",
    "Ahora, vamos a usar el modulo de google **gsutil** para copiar los datos de la bucket al DP"
   ]
  },
  {
   "cell_type": "code",
   "execution_count": 28,
   "metadata": {
    "scrolled": true
   },
   "outputs": [
    {
     "name": "stdout",
     "output_type": "stream",
     "text": [
      "Executing: gsutil -mu terra-61e6143b cp gs://fc-secure-0b3bd9f2-17a9-4e2b-91f6-53c11325da24/gwas-datos/* /home/jupyter/workdir_GWAS/\n",
      "Copying gs://fc-secure-0b3bd9f2-17a9-4e2b-91f6-53c11325da24/gwas-datos/covariate_pheno.csv...\n",
      "Copying gs://fc-secure-0b3bd9f2-17a9-4e2b-91f6-53c11325da24/gwas-datos/covars_plink.txt...\n",
      "Copying gs://fc-secure-0b3bd9f2-17a9-4e2b-91f6-53c11325da24/gwas-datos/genetic_data.bed...\n",
      "Copying gs://fc-secure-0b3bd9f2-17a9-4e2b-91f6-53c11325da24/gwas-datos/genetic_data.bim...\n",
      "Copying gs://fc-secure-0b3bd9f2-17a9-4e2b-91f6-53c11325da24/gwas-datos/genetic_data.fam...\n",
      "Copying gs://fc-secure-0b3bd9f2-17a9-4e2b-91f6-53c11325da24/gwas-datos/pcs_file.txt...\n",
      "Copying gs://fc-secure-0b3bd9f2-17a9-4e2b-91f6-53c11325da24/gwas-datos/phenotype_plink.txt...\n",
      "/ [7/7 files][ 27.3 KiB/ 27.3 KiB] 100% Done                                    \n",
      "Operation completed over 7 objects/27.3 KiB.                                     \n"
     ]
    }
   ],
   "source": [
    "shell_do(f'gsutil -mu {BILLING_PROJECT_ID} cp {WORKSPACE_BUCKET}/gwas-datos/* /home/jupyter/workdir_GWAS/')"
   ]
  },
  {
   "cell_type": "code",
   "execution_count": 29,
   "metadata": {
    "scrolled": true
   },
   "outputs": [
    {
     "name": "stdout",
     "output_type": "stream",
     "text": [
      "clinical_data_QC.csv\n",
      "covariate_pheno.csv\n",
      "covars_plink.txt\n",
      "genetic_data.bed\n",
      "genetic_data.bim\n",
      "genetic_data.fam\n",
      "genetic_Rformat.log\n",
      "genetic_Rformat.raw\n",
      "pcs_file.txt\n",
      "phenotype_plink.txt\n"
     ]
    }
   ],
   "source": [
    "%%bash\n",
    "cd /home/jupyter/workdir_GWAS/\n",
    "ls"
   ]
  },
  {
   "cell_type": "code",
   "execution_count": 30,
   "metadata": {
    "scrolled": false
   },
   "outputs": [],
   "source": [
    "%%capture\n",
    "%%bash\n",
    "/home/jupyter/tools/plink2 --help "
   ]
  },
  {
   "cell_type": "code",
   "execution_count": 31,
   "metadata": {
    "scrolled": false
   },
   "outputs": [
    {
     "name": "stdout",
     "output_type": "stream",
     "text": [
      "Executing: /home/jupyter/tools/plink2             --bfile /home/jupyter/workdir_GWAS/genetic_data             --maf 0.01 --export A             --out /home/jupyter/workdir_GWAS/genetic_Rformat\n",
      "PLINK v2.00a3.3LM AVX2 Intel (3 Jun 2022)      www.cog-genomics.org/plink/2.0/\n",
      "(C) 2005-2022 Shaun Purcell, Christopher Chang   GNU General Public License v3\n",
      "Logging to /home/jupyter/workdir_GWAS/genetic_Rformat.log.\n",
      "Options in effect:\n",
      "  --bfile /home/jupyter/workdir_GWAS/genetic_data\n",
      "  --export A\n",
      "  --maf 0.01\n",
      "  --out /home/jupyter/workdir_GWAS/genetic_Rformat\n",
      "\n",
      "Start time: Tue Jan 31 16:41:40 2023\n",
      "120759 MiB RAM detected; reserving 60379 MiB for main workspace.\n",
      "Using up to 32 threads (change this with --threads).\n",
      "111 samples (0 females, 0 males, 111 ambiguous; 111 founders) loaded from\n",
      "/home/jupyter/workdir_GWAS/genetic_data.fam.\n",
      "66 variants loaded from /home/jupyter/workdir_GWAS/genetic_data.bim.\n",
      "Note: No phenotype data present.\n",
      "Calculating allele frequencies... done.\n",
      "1 variant removed due to allele frequency threshold(s)\n",
      "(--maf/--max-maf/--mac/--max-mac).\n",
      "65 variants remaining after main filters.\n",
      "--export A pass 1/1: loading... 0writing... 101112131415161718181920212223242526272728293031323334353636373839404142434445454647484950515253545455565758596061626363646566676869707172727374757677787980818182838485868788899090919293949596979899done.\n",
      "--export A: /home/jupyter/workdir_GWAS/genetic_Rformat.raw written.\n",
      "End time: Tue Jan 31 16:41:40 2023\n"
     ]
    }
   ],
   "source": [
    "shell_do(f'/home/jupyter/tools/plink2 \\\n",
    "            --bfile /home/jupyter/workdir_GWAS/genetic_data \\\n",
    "            --maf 0.01 --export A \\\n",
    "            --out /home/jupyter/workdir_GWAS/genetic_Rformat')"
   ]
  },
  {
   "cell_type": "code",
   "execution_count": 32,
   "metadata": {
    "code_folding": [],
    "scrolled": false
   },
   "outputs": [
    {
     "name": "stdout",
     "output_type": "stream",
     "text": [
      "OBSERVA LOS DATOS GENETICOS\n",
      "\n",
      "   FID          IID PAT MAT SEX PHENOTYPE rs499230_C rs647999_T rs12126052_T\n",
      "1:   0 muestra_no_1   0   0   0        -9          2          1            2\n",
      "2:   0 muestra_no_2   0   0   0        -9          1          1            2\n",
      "3:   0 muestra_no_3   0   0   0        -9          1          2            2\n",
      "4:   0 muestra_no_4   0   0   0        -9          2          2            2\n",
      "5:   0 muestra_no_5   0   0   0        -9          2          2            2\n",
      "   rs13031735_G\n",
      "1:            2\n",
      "2:            2\n",
      "3:            1\n",
      "4:            2\n",
      "5:            2\n",
      "\n",
      "\n",
      " OBSERVA LOS DATOS CLINICOS\n",
      "\n",
      "      estudio   id_muestra estado sexo edad_inicio historia_familiar\n",
      "1: ESTUDIO_PD muestra_no_1      0    1          NA                NO\n",
      "2: ESTUDIO_PD muestra_no_2      1    1       70.81                NO\n",
      "3: ESTUDIO_PD muestra_no_3      0    1          NA                NO\n",
      "4: ESTUDIO_PD muestra_no_4      1    2       58.61                NO\n",
      "5: ESTUDIO_PD muestra_no_5      1    2       52.27                NO\n",
      "6: ESTUDIO_PD muestra_no_6      1    1       59.38                NO\n",
      "   comienzo_estudio\n",
      "1:            78.64\n",
      "2:            76.42\n",
      "3:            67.79\n",
      "4:            61.30\n",
      "5:            53.15\n",
      "6:            63.84\n",
      "\n",
      "\n",
      " OBSERVA LOS DATOS UNIDOS \n",
      "\n",
      "      estudio   id_muestra estado sexo edad_inicio historia_familiar\n",
      "1: ESTUDIO_PD muestra_no_1      0    1          NA                NO\n",
      "2: ESTUDIO_PD muestra_no_2      1    1       70.81                NO\n",
      "3: ESTUDIO_PD muestra_no_3      0    1          NA                NO\n",
      "4: ESTUDIO_PD muestra_no_4      1    2       58.61                NO\n",
      "5: ESTUDIO_PD muestra_no_5      1    2       52.27                NO\n",
      "   comienzo_estudio FID PAT MAT SEX PHENOTYPE rs499230_C rs647999_T\n",
      "1:            78.64   0   0   0   0        -9          2          1\n",
      "2:            76.42   0   0   0   0        -9          1          1\n",
      "3:            67.79   0   0   0   0        -9          1          2\n",
      "4:            61.30   0   0   0   0        -9          2          2\n",
      "5:            53.15   0   0   0   0        -9          2          2\n",
      "   rs12126052_T rs13031735_G rs9807949_G rs12693387_T rs12491866_T rs7625647_G\n",
      "1:            2            2           2            2            2           1\n",
      "2:            2            2           2            1            2           1\n",
      "3:            2            1           2            2            2           1\n",
      "4:            2            2           2            1            2           1\n",
      "5:            2            2           2            2            2           2\n"
     ]
    }
   ],
   "source": [
    "%%R\n",
    "\n",
    "# Cargar los datos geneticos\n",
    "cat(\"OBSERVA LOS DATOS GENETICOS\\n\\n\")\n",
    "datos_geneticos = fread(\"/home/jupyter/workdir_GWAS/genetic_Rformat.raw\")\n",
    "print(datos_geneticos[c(1:5), c(1:10)])\n",
    "\n",
    "cat(\"\\n\\n OBSERVA LOS DATOS CLINICOS\\n\\n\")\n",
    "\n",
    "# Cargar los datos clinicos\n",
    "datos_clinicos = fread(\"/home/jupyter/workdir_GWAS/clinical_data_QC.csv\")\n",
    "print(head(datos_clinicos))\n",
    "\n",
    "\n",
    "datos = datos_clinicos %>% \n",
    "    inner_join(datos_geneticos, by = c(\"id_muestra\" = \"IID\"))\n",
    "    \n",
    "\n",
    "# print(dim(datos))\n",
    "\n",
    "cat(\"\\n\\n OBSERVA LOS DATOS UNIDOS \\n\\n\")\n",
    "print(datos[c(1:5), c(1:20)])\n",
    "\n",
    "datos = datos %>%\n",
    "    select(-c(FID:PHENOTYPE))\n",
    "\n",
    "# print(datos[c(1:5), c(1:20)])"
   ]
  },
  {
   "cell_type": "markdown",
   "metadata": {},
   "source": [
    "### Crear un modelo de regresion logistica en R con covariables"
   ]
  },
  {
   "cell_type": "code",
   "execution_count": 33,
   "metadata": {
    "scrolled": true
   },
   "outputs": [
    {
     "name": "stdout",
     "output_type": "stream",
     "text": [
      "\n",
      "Call:\n",
      "glm(formula = estado ~ comienzo_estudio + sexo, family = \"binomial\", \n",
      "    data = datos)\n",
      "\n",
      "Deviance Residuals: \n",
      "    Min       1Q   Median       3Q      Max  \n",
      "-1.0894  -0.9507  -0.8923   1.3829   1.5909  \n",
      "\n",
      "Coefficients:\n",
      "                 Estimate Std. Error z value Pr(>|z|)\n",
      "(Intercept)      -2.26332    2.08732  -1.084    0.278\n",
      "comienzo_estudio  0.02017    0.02855   0.707    0.480\n",
      "sexo              0.23215    0.41029   0.566    0.572\n",
      "\n",
      "(Dispersion parameter for binomial family taken to be 1)\n",
      "\n",
      "    Null deviance: 145.10  on 110  degrees of freedom\n",
      "Residual deviance: 144.35  on 108  degrees of freedom\n",
      "AIC: 150.35\n",
      "\n",
      "Number of Fisher Scoring iterations: 4\n",
      "\n"
     ]
    }
   ],
   "source": [
    "%%R\n",
    "# Training model\n",
    "logistic_model <- glm(estado ~ comienzo_estudio + sexo, \n",
    "                      data = datos, \n",
    "                      family = \"binomial\")\n",
    "\n",
    "summary(logistic_model)"
   ]
  },
  {
   "cell_type": "markdown",
   "metadata": {},
   "source": [
    "### Crear el modelo de regresion logistica haciendo uso de la funcion \"formula\" en R"
   ]
  },
  {
   "cell_type": "code",
   "execution_count": 39,
   "metadata": {
    "scrolled": false
   },
   "outputs": [
    {
     "name": "stdout",
     "output_type": "stream",
     "text": [
      " num [1:3, 1:4] -2.2633 0.0202 0.2322 2.0873 0.0285 ...\n",
      " - attr(*, \"dimnames\")=List of 2\n",
      "  ..$ : chr [1:3] \"(Intercept)\" \"comienzo_estudio\" \"sexo\"\n",
      "  ..$ : chr [1:4] \"Estimate\" \"Std. Error\" \"z value\" \"Pr(>|z|)\"\n"
     ]
    }
   ],
   "source": [
    "%%R\n",
    "\n",
    "fmla <- formula(\"estado ~ comienzo_estudio + sexo\")\n",
    "summary(glm(fmla, data = datos, family = \"binomial\")) $coefficients  %>% str()"
   ]
  },
  {
   "cell_type": "markdown",
   "metadata": {},
   "source": [
    "### Incorporar un bucle para incluir un SNP en cada iteracion"
   ]
  },
  {
   "cell_type": "code",
   "execution_count": 35,
   "metadata": {
    "scrolled": true
   },
   "outputs": [
    {
     "name": "stdout",
     "output_type": "stream",
     "text": [
      "[1] \"rs499230_C\"\n",
      "estado ~ comienzo_estudio + sexo + rs499230_C\n",
      "[1] 1\n",
      "                    Estimate Std. Error    z value  Pr(>|z|)\n",
      "(Intercept)      -1.76954038 2.24296060 -0.7889307 0.4301525\n",
      "comienzo_estudio  0.01952388 0.02866026  0.6812176 0.4957338\n",
      "sexo              0.21733150 0.41182532  0.5277274 0.5976886\n",
      "rs499230_C       -0.24414067 0.40190113 -0.6074645 0.5435427\n"
     ]
    }
   ],
   "source": [
    "%%R\n",
    "mask = grep(pattern = \"^rs\", x = colnames(datos))\n",
    "mask\n",
    "todos_snps = colnames(datos)[mask]\n",
    "todos_snps\n",
    "\n",
    "\n",
    "j = 0\n",
    "for (SNP in todos_snps[1]) {\n",
    "    j = j +1 \n",
    "    print(SNP)\n",
    "    fmla <- as.formula(paste(\"estado ~ comienzo_estudio + sexo\", SNP, sep = \" + \"))\n",
    "    model <- glm(fmla, data = datos, family = \"binomial\" )\n",
    "    print(fmla)\n",
    "    print(j)\n",
    "    print(summary(model)$coefficients)\n",
    "    \n",
    "    \n",
    "}"
   ]
  },
  {
   "cell_type": "markdown",
   "metadata": {},
   "source": [
    "### Realizar el paso previo en todos los SNPs e incluir la informacion en un archivo"
   ]
  },
  {
   "cell_type": "code",
   "execution_count": 36,
   "metadata": {
    "scrolled": true
   },
   "outputs": [],
   "source": [
    "%%R\n",
    "mask = grep(pattern = \"^rs\", x = colnames(datos))\n",
    "mask\n",
    "todos_snps = colnames(datos)[mask]\n",
    "todos_snps\n",
    "\n",
    "coefficients<-as.data.frame(matrix(ncol= 4))\n",
    "names(coefficients) <- c(\"SNP\",\"Coeff\", \"se\", \"Pvalue\")\n",
    "\n",
    "j = 0\n",
    "for (SNP in todos_snps) {\n",
    "    j = j + 1 \n",
    "    #print(SNP)\n",
    "    fmla <- as.formula(paste(\"estado ~ comienzo_estudio + sexo\", SNP, sep = \" + \"))\n",
    "    model <- glm(fmla, data = datos, family = \"binomial\" )\n",
    "    #print(fmla)\n",
    "    #print(j)\n",
    "    \n",
    "    coefficients[j,1]<- SNP\n",
    "    coefficients[j,2]<- summary(model)$coefficients[4,1]\n",
    "    coefficients[j,3]<- summary(model)$coefficients[4,2]\n",
    "    coefficients[j,4]<- summary(model)$coefficients[4,4]\n",
    "}   "
   ]
  },
  {
   "cell_type": "code",
   "execution_count": null,
   "metadata": {},
   "outputs": [],
   "source": []
  },
  {
   "cell_type": "markdown",
   "metadata": {},
   "source": [
    "### Filtrar SNPs significativamente asociados"
   ]
  },
  {
   "cell_type": "code",
   "execution_count": 40,
   "metadata": {
    "scrolled": true
   },
   "outputs": [
    {
     "name": "stdout",
     "output_type": "stream",
     "text": [
      "           SNP        Coeff        se    Pvalue\n",
      "1   rs499230_C -0.244140675 0.4019011 0.5435427\n",
      "2   rs647999_T -0.005781589 0.3178598 0.9854880\n",
      "3 rs12126052_T -0.589950827 0.6701157 0.3786581\n",
      "4 rs13031735_G  0.379885532 0.3456180 0.2717033\n",
      "5  rs9807949_G -0.693525736 0.8542200 0.4168594\n",
      "6 rs12693387_T -0.351373445 0.3744333 0.3480317\n"
     ]
    }
   ],
   "source": [
    "%%R\n",
    "head(coefficients) "
   ]
  },
  {
   "cell_type": "code",
   "execution_count": 41,
   "metadata": {
    "scrolled": true
   },
   "outputs": [
    {
     "name": "stdout",
     "output_type": "stream",
     "text": [
      "            SNP     Coeff        se     Pvalue\n",
      "18 rs12703010_C 0.6714563 0.3269241 0.03998924\n",
      "62  rs2299804_C 0.6723372 0.3043436 0.02716501\n"
     ]
    }
   ],
   "source": [
    "%%R\n",
    "get_index = which(coefficients$Pvalue < 0.05)\n",
    "print(coefficients[get_index,])"
   ]
  },
  {
   "cell_type": "markdown",
   "metadata": {},
   "source": [
    "### Guardar los resultados"
   ]
  },
  {
   "cell_type": "code",
   "execution_count": 42,
   "metadata": {
    "scrolled": true
   },
   "outputs": [],
   "source": [
    "%%R\n",
    "fwrite(coefficients, \"/home/jupyter/workdir_GWAS/riesgopd_resultados.txt\",\n",
    "       col.names = T, row.names = F, sep = \"\\t\", quote = F)"
   ]
  },
  {
   "cell_type": "markdown",
   "metadata": {},
   "source": [
    "### Crear un modelo de regresion lineal en R usando la edad de inicio de la enfermedad"
   ]
  },
  {
   "cell_type": "code",
   "execution_count": null,
   "metadata": {
    "scrolled": true
   },
   "outputs": [],
   "source": [
    "%%R \n",
    "datos_pd = subset(datos, estado == 1) # Filtrar casos\n",
    "cat(\"Numero total de pacientes de PD: \", nrow(datos_pd))"
   ]
  },
  {
   "cell_type": "markdown",
   "metadata": {},
   "source": [
    "### EJERCICIO: Crea un modelo de regresion lineal y extrae variables significativamente asociadas con la edad de inicio\n",
    "\n",
    "**Pista 1** : Usa la funcion lm en R.  -> https://www.rdocumentation.org/packages/stats/versions/3.6.2/topics/lm  \n",
    "**Pista 2** : Observa los datos_pd e identifica la variable dependiente en tu modelo de regresion  \n",
    "**Pista 3** : Puedes reutilizar el bucle visto previamente pero tendras que aplicar unos cambios  "
   ]
  },
  {
   "cell_type": "code",
   "execution_count": null,
   "metadata": {
    "scrolled": true
   },
   "outputs": [],
   "source": []
  },
  {
   "cell_type": "code",
   "execution_count": null,
   "metadata": {
    "scrolled": true
   },
   "outputs": [],
   "source": []
  },
  {
   "cell_type": "code",
   "execution_count": null,
   "metadata": {
    "scrolled": true
   },
   "outputs": [],
   "source": []
  },
  {
   "cell_type": "markdown",
   "metadata": {},
   "source": [
    "### Utiliza Plink para realizar un GWAS"
   ]
  },
  {
   "cell_type": "code",
   "execution_count": 43,
   "metadata": {
    "scrolled": true
   },
   "outputs": [
    {
     "name": "stdout",
     "output_type": "stream",
     "text": [
      "IID\testado\n",
      "muestra_no_1\t1\n",
      "muestra_no_2\t2\n",
      "muestra_no_3\t1\n",
      "muestra_no_4\t2\n",
      "muestra_no_5\t2\n",
      "muestra_no_6\t2\n",
      "muestra_no_7\t1\n",
      "muestra_no_8\t1\n",
      "muestra_no_9\t1\n"
     ]
    }
   ],
   "source": [
    "%%bash\n",
    "head /home/jupyter/workdir_GWAS/phenotype_plink.txt"
   ]
  },
  {
   "cell_type": "code",
   "execution_count": 44,
   "metadata": {
    "scrolled": true
   },
   "outputs": [
    {
     "name": "stdout",
     "output_type": "stream",
     "text": [
      "IID\tSEXO\tAGE\tPC1\tPC2\tPC3\tPC4\tPC5\n",
      "muestra_no_1\tHombre\t78.64\t0.82496\t0.77288\t-0.80166\t0.96902\t0.24788\n",
      "muestra_no_2\tHombre\t76.42\t-0.23535\t-0.95291\t0.39956\t-0.8304\t-0.93523\n",
      "muestra_no_3\tHombre\t67.79\t-0.20092\t0.59072\t-0.87952\t-0.37108\t0.55079\n",
      "muestra_no_4\tMujer\t61.3\t0.17852\t-0.5681\t0.19406\t0.31891\t0.73539\n",
      "muestra_no_5\tMujer\t53.15\t-0.57099\t0.71181\t-0.42546\t-0.57887\t-0.97658\n",
      "muestra_no_6\tHombre\t63.84\t0.40178\t0.31613\t0.38162\t0.15137\t-0.92126\n",
      "muestra_no_7\tHombre\t71.06\t0.77429\t0.97933\t-0.51195\t-0.9527\t-0.18011\n",
      "muestra_no_8\tMujer\t70.55\t0.08714\t0.53409\t-0.39131\t0.12419\t0.72967\n",
      "muestra_no_9\tHombre\t53.2\t-0.38644\t-0.10292\t-0.33734\t-0.56525\t-0.87893\n"
     ]
    }
   ],
   "source": [
    "%%bash \n",
    "head /home/jupyter/workdir_GWAS/covars_plink.txt"
   ]
  },
  {
   "cell_type": "code",
   "execution_count": 45,
   "metadata": {
    "scrolled": true
   },
   "outputs": [
    {
     "name": "stdout",
     "output_type": "stream",
     "text": [
      "Executing: /home/jupyter/tools/plink2             --bfile /home/jupyter/workdir_GWAS/genetic_data             --glm hide-covar             --covar iid-only /home/jupyter/workdir_GWAS/covars_plink.txt             --covar-name SEXO,AGE,PC1,PC2,PC3,PC4,PC5             --pheno iid-only /home/jupyter/workdir_GWAS/phenotype_plink.txt             --out /home/jupyter/workdir_GWAS/output_plink\n",
      "PLINK v2.00a3.3LM AVX2 Intel (3 Jun 2022)      www.cog-genomics.org/plink/2.0/\n",
      "(C) 2005-2022 Shaun Purcell, Christopher Chang   GNU General Public License v3\n",
      "Logging to /home/jupyter/workdir_GWAS/output_plink.log.\n",
      "Options in effect:\n",
      "  --bfile /home/jupyter/workdir_GWAS/genetic_data\n",
      "  --covar iid-only /home/jupyter/workdir_GWAS/covars_plink.txt\n",
      "  --covar-name SEXO,AGE,PC1,PC2,PC3,PC4,PC5\n",
      "  --glm hide-covar\n",
      "  --out /home/jupyter/workdir_GWAS/output_plink\n",
      "  --pheno iid-only /home/jupyter/workdir_GWAS/phenotype_plink.txt\n",
      "\n",
      "Start time: Tue Jan 31 17:27:15 2023\n",
      "120759 MiB RAM detected; reserving 60379 MiB for main workspace.\n",
      "Using up to 32 threads (change this with --threads).\n",
      "111 samples (0 females, 0 males, 111 ambiguous; 111 founders) loaded from\n",
      "/home/jupyter/workdir_GWAS/genetic_data.fam.\n",
      "66 variants loaded from /home/jupyter/workdir_GWAS/genetic_data.bim.\n",
      "1 binary phenotype loaded (40 cases, 71 controls).\n",
      "7 covariates loaded from /home/jupyter/workdir_GWAS/covars_plink.txt.\n",
      "Calculating allele frequencies... done.\n",
      "Warning: --glm remaining case count is less than 10x predictor count for\n",
      "phenotype 'estado'.\n",
      "--glm logistic-Firth hybrid regression on phenotype 'estado': done.\n",
      "Results written to /home/jupyter/workdir_GWAS/output_plink.estado.glm.logistic.hybrid .\n",
      "End time: Tue Jan 31 17:27:15 2023\n"
     ]
    }
   ],
   "source": [
    "shell_do(f'/home/jupyter/tools/plink2 \\\n",
    "            --bfile /home/jupyter/workdir_GWAS/genetic_data \\\n",
    "            --glm hide-covar \\\n",
    "            --covar iid-only /home/jupyter/workdir_GWAS/covars_plink.txt \\\n",
    "            --covar-name SEXO,AGE,PC1,PC2,PC3,PC4,PC5 \\\n",
    "            --pheno iid-only /home/jupyter/workdir_GWAS/phenotype_plink.txt \\\n",
    "            --out /home/jupyter/workdir_GWAS/output_plink')"
   ]
  },
  {
   "cell_type": "code",
   "execution_count": 46,
   "metadata": {
    "scrolled": true
   },
   "outputs": [
    {
     "name": "stdout",
     "output_type": "stream",
     "text": [
      "#CHROM\tPOS\tID\tREF\tALT\tA1\tFIRTH?\tTEST\tOBS_CT\tOR\tLOG(OR)_SE\tZ_STAT\tP\tERRCODE\n",
      "1\t37060524\trs499230\tC\tT\tT\tN\tADD\t111\t1.36851\t0.418121\t0.750311\t0.453068\t.\n",
      "1\t46889144\trs647999\tT\tG\tG\tN\tADD\t111\t1.03282\t0.324243\t0.0995807\t0.920677\t.\n",
      "1\t99922610\trs12126052\tT\tC\tC\tN\tADD\t111\t1.72698\t0.675289\t0.809096\t0.41846\t.\n",
      "2\t49072827\trs13031735\tG\tA\tA\tN\tADD\t110\t0.681569\t0.352807\t-1.08659\t0.277216\t.\n",
      "2\t182363251\trs9807949\tG\tA\tA\tN\tADD\t111\t1.90569\t0.877315\t0.73502\t0.462327\t.\n",
      "2\t185256271\trs12693387\tT\tC\tC\tN\tADD\t108\t1.58508\t0.393033\t1.172\t0.241198\t.\n",
      "3\t11792421\trs12491866\tT\tC\tC\tN\tADD\t111\t0.299829\t1.1311\t-1.06493\t0.286907\t.\n",
      "3\t27841330\trs7625647\tG\tA\tA\tN\tADD\t111\t0.649897\t0.30723\t-1.40266\t0.160717\t.\n",
      "3\t59668437\trs6766124\tG\tA\tA\tY\tADD\t111\t0.605268\t2.35466\t-0.21323\t0.831148\t.\n"
     ]
    }
   ],
   "source": [
    "%%bash\n",
    "head /home/jupyter/workdir_GWAS/output_plink.estado.glm.logistic.hybrid"
   ]
  },
  {
   "cell_type": "markdown",
   "metadata": {},
   "source": [
    "### Comprueba la consistencia de los resultados obtenidos mediante plink y R"
   ]
  },
  {
   "cell_type": "code",
   "execution_count": 47,
   "metadata": {
    "scrolled": true
   },
   "outputs": [
    {
     "name": "stdout",
     "output_type": "stream",
     "text": [
      "          SNP  plink_p\n",
      "1:   rs499230 0.453068\n",
      "2:   rs647999 0.920677\n",
      "3: rs12126052 0.418460\n",
      "4: rs13031735 0.277216\n",
      "5:  rs9807949 0.462327\n",
      "6: rs12693387 0.241198\n",
      "Joining with `by = join_by(SNP)`\n",
      "[1] \"Observa los resultados del test de correlacion de Pearson\"\n",
      "\n",
      "\tPearson's product-moment correlation\n",
      "\n",
      "data:  datos_unidos$plink_p and datos_unidos$r_p\n",
      "t = 31.632, df = 63, p-value < 2.2e-16\n",
      "alternative hypothesis: true correlation is not equal to 0\n",
      "95 percent confidence interval:\n",
      " 0.9510059 0.9816138\n",
      "sample estimates:\n",
      "      cor \n",
      "0.9699302 \n",
      "\n"
     ]
    }
   ],
   "source": [
    "%%R\n",
    "plink_res = fread(\"/home/jupyter/workdir_GWAS/output_plink.estado.glm.logistic.hybrid\")\n",
    "plink_res = plink_res %>% \n",
    "    select(SNP = ID, plink_p = P)\n",
    "print(head(plink_res))\n",
    "\n",
    "\n",
    "r_res = fread(\"/home/jupyter/workdir_GWAS/riesgopd_resultados.txt\")\n",
    "r_res = r_res %>% \n",
    "    select(SNP, r_p = Pvalue) %>%\n",
    "    dplyr::mutate(SNP = gsub(\"_.*\", \"\", SNP))\n",
    "\n",
    "\n",
    "datos_unidos = plink_res %>%\n",
    "    inner_join(r_res)\n",
    "#cor.test(my_data$wt, my_data$mpg,  method = \"spearman\")\n",
    "\n",
    "\n",
    "print(\"Observa los resultados del test de correlacion de Pearson\")\n",
    "print(cor.test(datos_unidos$plink_p, datos_unidos$r_p))\n"
   ]
  },
  {
   "cell_type": "code",
   "execution_count": 48,
   "metadata": {
    "scrolled": true
   },
   "outputs": [
    {
     "name": "stdout",
     "output_type": "stream",
     "text": [
      "[1] \"Observa la alta correlacion en un plot\"\n",
      "`geom_smooth()` using formula = 'y ~ x'\n"
     ]
    },
    {
     "data": {
      "image/png": "[encoded data removed]"
     },
     "metadata": {},
     "output_type": "display_data"
    }
   ],
   "source": [
    "%%R\n",
    "print(\"Observa la alta correlacion en un plot\")\n",
    "\n",
    "r <- round(cor(datos_unidos$plink_p, datos_unidos$r_p), 2)\n",
    "p <- cor.test(datos_unidos$plink_p, datos_unidos$r_p)$p.value\n",
    "ggplot2::ggplot(datos_unidos, aes(y=plink_p, x=r_p)) + \n",
    "  geom_point() + \n",
    "  geom_smooth(method=\"lm\", col=\"black\") + \n",
    "  theme_classic() "
   ]
  },
  {
   "cell_type": "markdown",
   "metadata": {},
   "source": [
    "## Visualizar los resultados"
   ]
  },
  {
   "cell_type": "markdown",
   "metadata": {},
   "source": [
    "Vamos a ver un archivo de GWAS...    \n",
    "De esta manera, vamos a poder ver el manhattan plot usando la libreria de R qqman"
   ]
  },
  {
   "cell_type": "code",
   "execution_count": 51,
   "metadata": {
    "scrolled": true
   },
   "outputs": [
    {
     "name": "stdout",
     "output_type": "stream",
     "text": [
      "Executing: gsutil -mu terra-61e6143b cp -r gs://fc-secure-0b3bd9f2-17a9-4e2b-91f6-53c11325da24/rreal-gwas /home/jupyter/workdir_GWAS/\n",
      "Copying gs://fc-secure-0b3bd9f2-17a9-4e2b-91f6-53c11325da24/rreal-gwas/RREAL_COGNITIVE_HG38.txt.gz...\n",
      "| [1/1 files][138.2 MiB/138.2 MiB] 100% Done                                    \n",
      "Operation completed over 1 objects/138.2 MiB.                                    \n"
     ]
    }
   ],
   "source": [
    "shell_do(f'gsutil -mu {BILLING_PROJECT_ID} cp -r {WORKSPACE_BUCKET}/rreal-gwas /home/jupyter/workdir_GWAS/')"
   ]
  },
  {
   "cell_type": "code",
   "execution_count": 52,
   "metadata": {
    "scrolled": true
   },
   "outputs": [
    {
     "name": "stdout",
     "output_type": "stream",
     "text": [
      "                 SNP   CHR       BP A1 A2    maf    beta        HR     se\n",
      "1 chr19:44908684:T:C chr19 44908684  T  C 0.1377  0.8810 2.4133118 0.1112\n",
      "2 chr19:44912678:G:T chr19 44912678  T  G 0.8866 -0.9105 0.4023230 0.1211\n",
      "3 chr19:44912456:G:A chr19 44912456  A  G 0.8866 -0.9105 0.4023230 0.1211\n",
      "4 chr19:44906745:G:A chr19 44906745  A  G 0.8873 -0.8888 0.4111488 0.1215\n",
      "5 chr19:44918903:C:G chr19 44918903  C  G 0.1716  0.7482 2.1131928 0.1030\n",
      "6 chr19:44919689:A:G chr19 44919689  A  G 0.1718  0.7464 2.1093925 0.1031\n",
      "          P    N\n",
      "1 2.316e-15 3923\n",
      "2 5.437e-14 3923\n",
      "3 5.437e-14 3923\n",
      "4 2.557e-13 3923\n",
      "5 3.791e-13 3923\n",
      "6 4.450e-13 3923\n"
     ]
    }
   ],
   "source": [
    "%%R\n",
    "gwas_datos = read.table(gzfile(\"/home/jupyter/workdir_GWAS/rreal-gwas/RREAL_COGNITIVE_HG38.txt.gz\"),\n",
    "                       header = T)\n",
    "#gwas_datos = fread(\"/home/jupyter/workdir_GWAS/rreal-gwas/RREAL_COGNITIVE_HG38.txt.gz\")\n",
    "head(gwas_datos)"
   ]
  },
  {
   "cell_type": "markdown",
   "metadata": {},
   "source": [
    "### Procesar los datos de GWAS"
   ]
  },
  {
   "cell_type": "code",
   "execution_count": 53,
   "metadata": {
    "scrolled": true
   },
   "outputs": [
    {
     "name": "stdout",
     "output_type": "stream",
     "text": [
      "'data.frame':\t5842576 obs. of  11 variables:\n",
      " $ SNP : chr  \"chr19:44908684:T:C\" \"chr19:44912678:G:T\" \"chr19:44912456:G:A\" \"chr19:44906745:G:A\" ...\n",
      " $ CHR : num  19 19 19 19 19 19 19 19 19 19 ...\n",
      " $ BP  : int  44908684 44912678 44912456 44906745 44918903 44919689 44919589 44888997 44924977 44892962 ...\n",
      " $ A1  : chr  \"T\" \"T\" \"A\" \"A\" ...\n",
      " $ A2  : chr  \"C\" \"G\" \"G\" \"G\" ...\n",
      " $ maf : num  0.138 0.887 0.887 0.887 0.172 ...\n",
      " $ beta: num  0.881 -0.91 -0.91 -0.889 0.748 ...\n",
      " $ HR  : num  2.413 0.402 0.402 0.411 2.113 ...\n",
      " $ se  : num  0.111 0.121 0.121 0.121 0.103 ...\n",
      " $ P   : num  2.32e-15 5.44e-14 5.44e-14 2.56e-13 3.79e-13 ...\n",
      " $ N   : int  3923 3923 3923 3923 3923 3923 3923 3923 3923 3923 ...\n"
     ]
    }
   ],
   "source": [
    "%%R\n",
    "gwas_datos$CHR = as.numeric(gsub(\"chr\",\"\", gwas_datos$CHR))\n",
    "str(gwas_datos)"
   ]
  },
  {
   "cell_type": "markdown",
   "metadata": {},
   "source": [
    "###  Manhattan y Q-Q plot"
   ]
  },
  {
   "cell_type": "code",
   "execution_count": 54,
   "metadata": {
    "scrolled": true
   },
   "outputs": [
    {
     "data": {
      "image/png": "[encoded data removed]"
     },
     "metadata": {},
     "output_type": "display_data"
    }
   ],
   "source": [
    "%%R\n",
    "qqman::manhattan(gwas_datos, chr=\"CHR\", bp=\"BP\", snp=\"SNP\", p=\"P\",\n",
    "          col = c(\"blue4\", \"orange3\"),  ylim = c(0, -log10(1e-11)),\n",
    "          chrlabs = NULL, suggestiveline= -log10(1e-6), \n",
    "          genomewideline = -log10(5e-08), highlight = NULL, \n",
    "          logp = TRUE, annotatePval = FALSE, \n",
    "          annotateTop = FALSE, main='GWAS cognitivo',\n",
    "          cex.lab=1.2, cex.axis=1.5, cex.main = 2.2)"
   ]
  },
  {
   "cell_type": "code",
   "execution_count": null,
   "metadata": {
    "scrolled": true
   },
   "outputs": [],
   "source": [
    "%%R\n",
    "qqman::qq(gwas_datos$P, \n",
    "         main = \"QQ plot de GWAS conigitivo\",\n",
    "         cex.lab=1.2, cex.axis=1.5, cex.main = 2.2)"
   ]
  }
 ],
 "metadata": {
  "kernelspec": {
   "display_name": "Python 3",
   "language": "python",
   "name": "python3"
  },
  "language_info": {
   "codemirror_mode": {
    "name": "ipython",
    "version": 3
   },
   "file_extension": ".py",
   "mimetype": "text/x-python",
   "name": "python",
   "nbconvert_exporter": "python",
   "pygments_lexer": "ipython3",
   "version": "3.10.12"
  },
  "toc": {
   "base_numbering": 1,
   "nav_menu": {},
   "number_sections": true,
   "sideBar": true,
   "skip_h1_title": false,
   "title_cell": "Table of Contents",
   "title_sidebar": "Contents",
   "toc_cell": false,
   "toc_position": {
    "height": "calc(100% - 180px)",
    "left": "10px",
    "top": "150px",
    "width": "289.837px"
   },
   "toc_section_display": true,
   "toc_window_display": true
  }
 },
 "nbformat": 4,
 "nbformat_minor": 2
}
