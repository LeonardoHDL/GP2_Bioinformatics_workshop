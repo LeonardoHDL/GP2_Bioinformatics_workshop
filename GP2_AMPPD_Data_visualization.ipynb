{
 "cells": [
  {
   "cell_type": "markdown",
   "metadata": {},
   "source": [
    "## __GP2 Taller de Bioinformatica Mexico - Vision general datos GP2 y AMP-PD__\n",
    "\n",
    "```GP2 ❤️ Open Science 😍```\n",
    "\n",
    "* __Modulo:__ Vision general datos GP2 y AMP-PD\n",
    "* __Estimacion de recursos computacionales y duracion del analisis:__\n",
    "    * __Configuracion de la maquina virtual:__ Por defecto; 1 CPU, 3.75 GB memoria, 50 GB espacio de disco\n",
    "    * __Duracion estimada:__ 20 min.\n",
    "* __Fecha de ultima actualizacion:__ 13-ENERO-2023\n",
    "\n",
    "### Descripcion\n",
    "\n",
    "__0. Getting Started__\n",
    "\n",
    "__1. Vision general datos GP2 y AMP-PD__\n",
    "\n",
    "__2. Como acceder a los datos GP2__\n",
    "\n",
    "__3. Crear un fichero de covariable con datos GP2__\n",
    "\n",
    "__4. Como acceder a los datos AMP-PD__\n",
    "\n",
    "__5. Crear un fichero de covariables con datos AMP-PD__"
   ]
  },
  {
   "cell_type": "markdown",
   "metadata": {},
   "source": [
    "## Getting Started\n",
    "\n",
    "### Cargar librerias de Python"
   ]
  },
  {
   "cell_type": "code",
   "execution_count": 1,
   "metadata": {},
   "outputs": [
    {
     "name": "stderr",
     "output_type": "stream",
     "text": [
      "/tmp/ipykernel_167/3943855956.py:26: DeprecationWarning: Importing display from IPython.core.display is deprecated since IPython 7.14, please import from IPython display\n",
      "  from IPython.core.display import display, HTML\n"
     ]
    }
   ],
   "source": [
    "# Use the os package to interact with the environment\n",
    "import os\n",
    "import sys\n",
    "\n",
    "# Bring in Pandas for Dataframe functionality\n",
    "import pandas as pd\n",
    "from functools import reduce\n",
    "\n",
    "# Bring some visualization functionality \n",
    "import seaborn as sns\n",
    "\n",
    "# numpy for basics\n",
    "import numpy as np\n",
    "\n",
    "# Use StringIO for working with file contents\n",
    "from io import StringIO\n",
    "\n",
    "# Enable IPython to display matplotlib graphs\n",
    "import matplotlib.pyplot as plt\n",
    "%matplotlib inline\n",
    "\n",
    "# Enable interaction with the FireCloud API\n",
    "from firecloud import api as fapi\n",
    "\n",
    "# Import the iPython HTML rendering for displaying links to Google Cloud Console\n",
    "from IPython.core.display import display, HTML\n",
    "\n",
    "# Import urllib modules for building URLs to Google Cloud Console\n",
    "import urllib.parse\n",
    "\n",
    "# BigQuery for querying data\n",
    "from google.cloud import bigquery"
   ]
  },
  {
   "cell_type": "markdown",
   "metadata": {},
   "source": [
    "### Definir funciones de Python para interactuar con GCP/Terra"
   ]
  },
  {
   "cell_type": "code",
   "execution_count": 2,
   "metadata": {},
   "outputs": [],
   "source": [
    "# Utility routine for printing a shell command before executing it\n",
    "def shell_do(command):\n",
    "    print(f'Executing: {command}', file=sys.stderr)\n",
    "    !$command\n",
    "    \n",
    "def shell_return(command):\n",
    "    print(f'Executing: {command}', file=sys.stderr)\n",
    "    output = !$command\n",
    "    return '\\n'.join(output)\n",
    "\n",
    "# Utility routine for printing a query before executing it\n",
    "def bq_query(query):\n",
    "    print(f'Executing: {query}', file=sys.stderr)\n",
    "    return pd.read_gbq(query, project_id=BILLING_PROJECT_ID, dialect='standard')\n",
    "\n",
    "# Utility routine for display a message and a link\n",
    "def display_html_link(description, link_text, url):\n",
    "    html = f'''\n",
    "    <p>\n",
    "    </p>\n",
    "    <p>\n",
    "    {description}\n",
    "    <a target=_blank href=\"{url}\">{link_text}</a>.\n",
    "    </p>\n",
    "    '''\n",
    "\n",
    "    display(HTML(html))\n",
    "\n",
    "# Utility routines for reading files from Google Cloud Storage\n",
    "def gcs_read_file(path):\n",
    "    \"\"\"Return the contents of a file in GCS\"\"\"\n",
    "    contents = !gsutil -u {BILLING_PROJECT_ID} cat {path}\n",
    "    return '\\n'.join(contents)\n",
    "    \n",
    "def gcs_read_csv(path, sep=None):\n",
    "    \"\"\"Return a DataFrame from the contents of a delimited file in GCS\"\"\"\n",
    "    return pd.read_csv(StringIO(gcs_read_file(path)), sep=sep, engine='python')\n",
    "\n",
    "# Utility routine for displaying a message and link to Cloud Console\n",
    "def link_to_cloud_console_gcs(description, link_text, gcs_path):\n",
    "    url = '{}?{}'.format(\n",
    "        os.path.join('https://console.cloud.google.com/storage/browser',\n",
    "                     gcs_path.replace(\"gs://\",\"\")),\n",
    "        urllib.parse.urlencode({'userProject': BILLING_PROJECT_ID}))\n",
    "\n",
    "    display_html_link(description, link_text, url)"
   ]
  },
  {
   "cell_type": "markdown",
   "metadata": {},
   "source": [
    "### Inicializar las variables del entorno de trabajo"
   ]
  },
  {
   "cell_type": "code",
   "execution_count": 3,
   "metadata": {
    "scrolled": false
   },
   "outputs": [],
   "source": [
    "# Set up billing project and data path variables\n",
    "BILLING_PROJECT_ID = os.environ['GOOGLE_PROJECT']\n",
    "WORKSPACE_NAMESPACE = os.environ['WORKSPACE_NAMESPACE']\n",
    "WORKSPACE_NAME = os.environ['WORKSPACE_NAME']\n",
    "WORKSPACE_BUCKET = os.environ['WORKSPACE_BUCKET']\n",
    "\n",
    "WORKSPACE_ATTRIBUTES = fapi.get_workspace(WORKSPACE_NAMESPACE, WORKSPACE_NAME).json().get('workspace',{}).get('attributes',{})"
   ]
  },
  {
   "cell_type": "markdown",
   "metadata": {},
   "source": [
    "## Vision general datos GP2 y AMP-PD"
   ]
  },
  {
   "cell_type": "markdown",
   "metadata": {},
   "source": [
    "### Bucket datos GP2 (version 3)\n",
    "\n",
    "Los ficheros raw estan almacenados en los buckets de <a href=\"https://cloud.google.com/storage/\">Google Cloud Storage</a>:\n",
    "\n",
    "#### __Tier 1__\n",
    "- <a href=\"https://console.cloud.google.com/storage/browser/gp2tier1/release3_31102022?pageState=(%22StorageObjectListTable%22:(%22f%22:%22%255B%255D%22))&prefix=&forceOnObjectsSortingFiltering=false\">gs://gp2tier1/release3_31102022/</a>: Tier 1 Bucket\n",
    "\n",
    "- <a href=\"https://console.cloud.google.com/storage/browser/gp2tier1/release3_31102022/summary_statistics?pageState=(%22StorageObjectListTable%22:(%22f%22:%22%255B%255D%22))&prefix=&forceOnObjectsSortingFiltering=false\">gs://gp2tier1/release3_31102022/summary_statistics/</a>: Summary Statistics\n",
    "\n",
    "#### __Tier 2__\n",
    "\n",
    "- <a href=\"https://console.cloud.google.com/storage/browser/gp2tier2/release3_31102022?pageState=(%22StorageObjectListTable%22:(%22f%22:%22%255B%255D%22))&prefix=&forceOnObjectsSortingFiltering=false\">gs://gp2tier2/release3_31102022/</a>: Tier 2 Bucket\n",
    "\n",
    "- <a href=\"https://console.cloud.google.com/storage/browser/gp2tier2/release3_31102022/summary_statistics?pageState=(%22StorageObjectListTable%22:(%22f%22:%22%255B%255D%22))&prefix=&forceOnObjectsSortingFiltering=false\">gs://gp2tier2/release3_31102022/summary_statistics/</a>: Summary Statistics\n",
    "\n",
    "- <a href=\"https://console.cloud.google.com/storage/browser/gp2tier2/release3_31102022/raw_genotypes?pageState=(%22StorageObjectListTable%22:(%22f%22:%22%255B%255D%22))&prefix=&forceOnObjectsSortingFiltering=false\">gs://gp2tier2/release3_31102022/raw_genotypes/</a>: Genotipos raw (ficheros divididos por ascendencia)\n",
    "\n",
    "- <a href=\"https://console.cloud.google.com/storage/browser/gp2tier2/release3_31102022/imputed_genotypes?pageState=(%22StorageObjectListTable%22:(%22f%22:%22%255B%255D%22))&prefix=&forceOnObjectsSortingFiltering=false\">gs://gp2tier2/release3_31102022/imputed_genotypes/</a>: Genotipos imputados (ficheros divididos por ascendencia)\n",
    "\n",
    "- <a href=\"https://console.cloud.google.com/storage/browser/gp2tier2/release3_31102022/cnvs?pageState=(%22StorageObjectListTable%22:(%22f%22:%22%255B%255D%22))&prefix=&forceOnObjectsSortingFiltering=false\">gs://gp2tier2/release3_31102022/cnvs/</a>: Estimacion probabilistica de variaciones en el numero de copias por gen\n",
    "\n",
    "- <a href=\"https://console.cloud.google.com/storage/browser/gp2tier2/release3_31102022/clinical_data?pageState=(%22StorageObjectListTable%22:(%22f%22:%22%255B%255D%22))&prefix=&forceOnObjectsSortingFiltering=false\">gs://gp2tier2/release3_31102022/clinical_data/</a>: Datos clinicos y diccionario\n",
    "\n",
    "- <a href=\"https://console.cloud.google.com/storage/browser/gp2tier2/release3_31102022/meta_data?pageState=(%22StorageObjectListTable%22:(%22f%22:%22%255B%255D%22))&prefix=&forceOnObjectsSortingFiltering=false\">gs://gp2tier2/release3_31102022/meta_data/</a>: Metadatos (fichero hdf5 con control de calidad, ascendencia, componentes principales, etc)"
   ]
  },
  {
   "cell_type": "markdown",
   "metadata": {},
   "source": [
    "### Bucket datos AMP-PD (version 3)\n",
    "\n",
    "Los ficheros raw estan almacenados en los buckets de <a href=\"https://cloud.google.com/storage/\">Google Cloud Storage</a>:\n",
    "\n",
    "- <a href=\"https://console.cloud.google.com/storage/browser/amp-pd-data/releases/2022_v3release_1115?pageState=(%22StorageObjectListTable%22:(%22f%22:%22%255B%255D%22))&prefix=&forceOnObjectsSortingFiltering=false\">gs://amp-pd-data/releases/2022_v3release_1115</a>: Datos clinicos y metadatos de los participantes\n",
    "\n",
    "- <a href=\"https://console.cloud.google.com/storage/browser/amp-pd-data-tier2/releases/2022_v3release_1115?pageState=(%22StorageObjectListTable%22:(%22f%22:%22%255B%255D%22))&prefix=&forceOnObjectsSortingFiltering=false\">gs://amp-pd-data-tier2/releases/2022_v3release_1115</a>: Mutaciones geneticas clinicamente reportadas y otros metadatos de los participantes de acceso restringido\n",
    "\n",
    "- <a href=\"https://console.cloud.google.com/storage/browser/amp-pd-genomics;tab=objects?prefix=&forceOnObjectsSortingFiltering=false\">gs://amp-pd-genomics</a>: Ficheros CRAMs, VCFs y metricas de secuenciacion del genoma completo \n",
    "\n",
    "- <a href=\"https://console.cloud.google.com/storage/browser/amp-pd-transcriptomics;tab=objects?prefix=&forceOnObjectsSortingFiltering=false\">gs://amp-pd-transcriptomics</a>: Ficheros de transcriptomica FASTQs, BAMs, cuantificacion y matriz de conteo para muestras individuales y pools\n",
    "\n",
    "- <a href=\"https://console.cloud.google.com/storage/browser/amp-pd-proteomics;tab=objects?prefix=&forceOnObjectsSortingFiltering=false\">gs://amp-pd-proteomics</a>: Vista previa de datos proteomicos con 8 archivos NPX sin filtrar de 4 cuatro ensayos separados para muestras de plasma y LCR coincidentes\n",
    "\n",
    "- Mas informacion aqui: https://amp-pd.org/data"
   ]
  },
  {
   "cell_type": "markdown",
   "metadata": {},
   "source": [
    "## Como acceder a los datos GP2"
   ]
  },
  {
   "cell_type": "code",
   "execution_count": 4,
   "metadata": {},
   "outputs": [
    {
     "name": "stdout",
     "output_type": "stream",
     "text": [
      "GP2 v3.0\n",
      "Path to GP2 v3.0 Clinical Data: gs://gp2tier2/release3_31102022/clinical_data\n",
      "Path to GP2 v3.0 Raw Genotype Data: gs://gp2tier2/release3_31102022/raw_genotypes\n",
      "Path to GP2 v3.0 Imputed Genotype Data: gs://gp2tier2/release3_31102022/imputed_genotypes\n",
      "Path to GP2 v3.0 Metadata: gs://gp2tier2/release3_31102022/meta_data\n",
      "Path to GP2 v3.0 Summary Stats Data: gs://gp2tier2/release3_31102022/summary_statistics\n"
     ]
    }
   ],
   "source": [
    "## GP2 v3.0\n",
    "## Definir la localizacion de la version 3.0 \n",
    "GP2_RELEASE_PATH = 'gs://gp2tier2/release3_31102022'\n",
    "GP2_CLINICAL_RELEASE_PATH = f'{GP2_RELEASE_PATH}/clinical_data'\n",
    "GP2_META_RELEASE_PATH = f'{GP2_RELEASE_PATH}/meta_data'\n",
    "GP2_SUMSTAT_RELEASE_PATH = f'{GP2_RELEASE_PATH}/summary_statistics'\n",
    "GP2_RAW_GENO_PATH = f'{GP2_RELEASE_PATH}/raw_genotypes'\n",
    "GP2_IMPUTED_GENO_PATH = f'{GP2_RELEASE_PATH}/imputed_genotypes'\n",
    "print('GP2 v3.0')\n",
    "print(f'Path to GP2 v3.0 Clinical Data: {GP2_CLINICAL_RELEASE_PATH}')\n",
    "print(f'Path to GP2 v3.0 Raw Genotype Data: {GP2_RAW_GENO_PATH}')\n",
    "print(f'Path to GP2 v3.0 Imputed Genotype Data: {GP2_IMPUTED_GENO_PATH}')\n",
    "print(f'Path to GP2 v3.0 Metadata: {GP2_META_RELEASE_PATH}')\n",
    "print(f'Path to GP2 v3.0 Summary Stats Data: {GP2_SUMSTAT_RELEASE_PATH}')"
   ]
  },
  {
   "cell_type": "code",
   "execution_count": 5,
   "metadata": {
    "scrolled": true
   },
   "outputs": [
    {
     "name": "stderr",
     "output_type": "stream",
     "text": [
      "Executing: gsutil -u terra-61e6143b ls gs://gp2tier2/release3_31102022/clinical_data\n"
     ]
    },
    {
     "name": "stdout",
     "output_type": "stream",
     "text": [
      "gs://gp2tier2/release3_31102022/clinical_data/\r\n",
      "gs://gp2tier2/release3_31102022/clinical_data/master_key_release3_final.csv\r\n",
      "gs://gp2tier2/release3_31102022/clinical_data/release3_31102022_data_dictionary.csv\r\n"
     ]
    }
   ],
   "source": [
    "#Consultar la informacion clinica del directorio de datos clinicos de GP2\n",
    "shell_do(f'gsutil -u {BILLING_PROJECT_ID} ls {GP2_CLINICAL_RELEASE_PATH}')"
   ]
  },
  {
   "cell_type": "code",
   "execution_count": 6,
   "metadata": {
    "scrolled": true
   },
   "outputs": [
    {
     "name": "stdout",
     "output_type": "stream",
     "text": [
      "Making a working directory\n"
     ]
    },
    {
     "name": "stderr",
     "output_type": "stream",
     "text": [
      "Executing: mkdir -p /home/jupyter/GP2_COV_FILE\n"
     ]
    }
   ],
   "source": [
    "# Crear una carpeta en el espacio de trabajo para copiar los archivos\n",
    "print(\"Making a working directory\")\n",
    "WORK_DIR = f'/home/jupyter/GP2_COV_FILE'\n",
    "shell_do(f'mkdir -p {WORK_DIR}')"
   ]
  },
  {
   "cell_type": "code",
   "execution_count": 7,
   "metadata": {},
   "outputs": [
    {
     "name": "stdout",
     "output_type": "stream",
     "text": [
      "Copy over files from bucket to VM workspace\n",
      "WARNING! This VM, when deleted, deletes all data copied over to it\n",
      "If you want to store results or files long-term, copy them to your bucket\n"
     ]
    }
   ],
   "source": [
    "print(\"Copy over files from bucket to VM workspace\")\n",
    "print(\"WARNING! This VM, when deleted, deletes all data copied over to it\")\n",
    "print(\"If you want to store results or files long-term, copy them to your bucket\")"
   ]
  },
  {
   "cell_type": "code",
   "execution_count": 8,
   "metadata": {},
   "outputs": [
    {
     "name": "stderr",
     "output_type": "stream",
     "text": [
      "Executing: gsutil -u terra-61e6143b -m cp -r gs://gp2tier2/release3_31102022/clinical_data/master_key_release3_final.csv /home/jupyter/GP2_COV_FILE\n"
     ]
    },
    {
     "name": "stdout",
     "output_type": "stream",
     "text": [
      "Copying gs://gp2tier2/release3_31102022/clinical_data/master_key_release3_final.csv...\n",
      "/ [1/1 files][  1.6 MiB/  1.6 MiB] 100% Done                                    \n",
      "Operation completed over 1 objects/1.6 MiB.                                      \n"
     ]
    },
    {
     "name": "stderr",
     "output_type": "stream",
     "text": [
      "Executing: gsutil -u terra-61e6143b -m cp -r gs://gp2tier2/release3_31102022/clinical_data/release3_31102022_data_dictionary.csv /home/jupyter/GP2_COV_FILE\n"
     ]
    },
    {
     "name": "stdout",
     "output_type": "stream",
     "text": [
      "Copying gs://gp2tier2/release3_31102022/clinical_data/release3_31102022_data_dictionary.csv...\n",
      "/ [1/1 files][  2.0 KiB/  2.0 KiB] 100% Done                                    \n",
      "Operation completed over 1 objects/2.0 KiB.                                      \n"
     ]
    }
   ],
   "source": [
    "shell_do(f'gsutil -u {BILLING_PROJECT_ID} -m cp -r {GP2_CLINICAL_RELEASE_PATH}/master_key_release3_final.csv {WORK_DIR}')\n",
    "shell_do(f'gsutil -u {BILLING_PROJECT_ID} -m cp -r {GP2_CLINICAL_RELEASE_PATH}/release3_31102022_data_dictionary.csv {WORK_DIR}')"
   ]
  },
  {
   "cell_type": "markdown",
   "metadata": {},
   "source": [
    "## Como crear un fichero de covariable con datos GP2\n",
    "\n",
    "Tened en cuenta que seguimos teniendo individuos emparentados"
   ]
  },
  {
   "cell_type": "code",
   "execution_count": 9,
   "metadata": {},
   "outputs": [
    {
     "data": {
      "text/html": [
       "<div>\n",
       "<style scoped>\n",
       "    .dataframe tbody tr th:only-of-type {\n",
       "        vertical-align: middle;\n",
       "    }\n",
       "\n",
       "    .dataframe tbody tr th {\n",
       "        vertical-align: top;\n",
       "    }\n",
       "\n",
       "    .dataframe thead th {\n",
       "        text-align: right;\n",
       "    }\n",
       "</style>\n",
       "<table border=\"1\" class=\"dataframe\">\n",
       "  <thead>\n",
       "    <tr style=\"text-align: right;\">\n",
       "      <th></th>\n",
       "      <th>GP2ID</th>\n",
       "      <th>GP2sampleID</th>\n",
       "      <th>manifest_id</th>\n",
       "      <th>phenotype</th>\n",
       "      <th>pheno_for_qc</th>\n",
       "      <th>other_pheno</th>\n",
       "      <th>sex_for_qc</th>\n",
       "      <th>age</th>\n",
       "      <th>age_of_onset</th>\n",
       "      <th>age_at_diagnosis</th>\n",
       "      <th>age_at_death</th>\n",
       "      <th>race_for_qc</th>\n",
       "      <th>family_history_for_qc</th>\n",
       "      <th>region_for_qc</th>\n",
       "      <th>study</th>\n",
       "      <th>pruned</th>\n",
       "      <th>pruned_reason</th>\n",
       "      <th>label</th>\n",
       "      <th>related</th>\n",
       "    </tr>\n",
       "  </thead>\n",
       "  <tbody>\n",
       "    <tr>\n",
       "      <th>0</th>\n",
       "      <td>SYNAPS-KZ_000001</td>\n",
       "      <td>SYNAPS-KZ_000001_s1</td>\n",
       "      <td>m1</td>\n",
       "      <td>Control</td>\n",
       "      <td>1</td>\n",
       "      <td>Control</td>\n",
       "      <td>2</td>\n",
       "      <td>64.0</td>\n",
       "      <td>NaN</td>\n",
       "      <td>NaN</td>\n",
       "      <td>NaN</td>\n",
       "      <td>Asian</td>\n",
       "      <td>Not Reported</td>\n",
       "      <td>KAZ</td>\n",
       "      <td>SYNAPS-KZ</td>\n",
       "      <td>0</td>\n",
       "      <td>NaN</td>\n",
       "      <td>CAS</td>\n",
       "      <td>NaN</td>\n",
       "    </tr>\n",
       "    <tr>\n",
       "      <th>1</th>\n",
       "      <td>SYNAPS-KZ_000002</td>\n",
       "      <td>SYNAPS-KZ_000002_s1</td>\n",
       "      <td>m1</td>\n",
       "      <td>Control</td>\n",
       "      <td>1</td>\n",
       "      <td>Control</td>\n",
       "      <td>1</td>\n",
       "      <td>53.0</td>\n",
       "      <td>NaN</td>\n",
       "      <td>NaN</td>\n",
       "      <td>NaN</td>\n",
       "      <td>Asian</td>\n",
       "      <td>Not Reported</td>\n",
       "      <td>KAZ</td>\n",
       "      <td>SYNAPS-KZ</td>\n",
       "      <td>0</td>\n",
       "      <td>NaN</td>\n",
       "      <td>CAS</td>\n",
       "      <td>NaN</td>\n",
       "    </tr>\n",
       "    <tr>\n",
       "      <th>2</th>\n",
       "      <td>SYNAPS-KZ_000003</td>\n",
       "      <td>SYNAPS-KZ_000003_s1</td>\n",
       "      <td>m1</td>\n",
       "      <td>Control</td>\n",
       "      <td>1</td>\n",
       "      <td>Control</td>\n",
       "      <td>2</td>\n",
       "      <td>59.0</td>\n",
       "      <td>NaN</td>\n",
       "      <td>NaN</td>\n",
       "      <td>NaN</td>\n",
       "      <td>Asian</td>\n",
       "      <td>Not Reported</td>\n",
       "      <td>KAZ</td>\n",
       "      <td>SYNAPS-KZ</td>\n",
       "      <td>0</td>\n",
       "      <td>NaN</td>\n",
       "      <td>CAS</td>\n",
       "      <td>NaN</td>\n",
       "    </tr>\n",
       "    <tr>\n",
       "      <th>3</th>\n",
       "      <td>SYNAPS-KZ_000004</td>\n",
       "      <td>SYNAPS-KZ_000004_s1</td>\n",
       "      <td>m1</td>\n",
       "      <td>Control</td>\n",
       "      <td>1</td>\n",
       "      <td>Control</td>\n",
       "      <td>1</td>\n",
       "      <td>57.0</td>\n",
       "      <td>NaN</td>\n",
       "      <td>NaN</td>\n",
       "      <td>NaN</td>\n",
       "      <td>Asian</td>\n",
       "      <td>Not Reported</td>\n",
       "      <td>KAZ</td>\n",
       "      <td>SYNAPS-KZ</td>\n",
       "      <td>0</td>\n",
       "      <td>NaN</td>\n",
       "      <td>CAS</td>\n",
       "      <td>NaN</td>\n",
       "    </tr>\n",
       "    <tr>\n",
       "      <th>4</th>\n",
       "      <td>SYNAPS-KZ_000005</td>\n",
       "      <td>SYNAPS-KZ_000005_s1</td>\n",
       "      <td>m1</td>\n",
       "      <td>Control</td>\n",
       "      <td>1</td>\n",
       "      <td>Control</td>\n",
       "      <td>1</td>\n",
       "      <td>59.0</td>\n",
       "      <td>NaN</td>\n",
       "      <td>NaN</td>\n",
       "      <td>NaN</td>\n",
       "      <td>Asian</td>\n",
       "      <td>Not Reported</td>\n",
       "      <td>KAZ</td>\n",
       "      <td>SYNAPS-KZ</td>\n",
       "      <td>0</td>\n",
       "      <td>NaN</td>\n",
       "      <td>CAS</td>\n",
       "      <td>NaN</td>\n",
       "    </tr>\n",
       "  </tbody>\n",
       "</table>\n",
       "</div>"
      ],
      "text/plain": [
       "              GP2ID          GP2sampleID manifest_id phenotype  pheno_for_qc  \\\n",
       "0  SYNAPS-KZ_000001  SYNAPS-KZ_000001_s1          m1   Control             1   \n",
       "1  SYNAPS-KZ_000002  SYNAPS-KZ_000002_s1          m1   Control             1   \n",
       "2  SYNAPS-KZ_000003  SYNAPS-KZ_000003_s1          m1   Control             1   \n",
       "3  SYNAPS-KZ_000004  SYNAPS-KZ_000004_s1          m1   Control             1   \n",
       "4  SYNAPS-KZ_000005  SYNAPS-KZ_000005_s1          m1   Control             1   \n",
       "\n",
       "  other_pheno  sex_for_qc   age  age_of_onset  age_at_diagnosis  age_at_death  \\\n",
       "0     Control           2  64.0           NaN               NaN           NaN   \n",
       "1     Control           1  53.0           NaN               NaN           NaN   \n",
       "2     Control           2  59.0           NaN               NaN           NaN   \n",
       "3     Control           1  57.0           NaN               NaN           NaN   \n",
       "4     Control           1  59.0           NaN               NaN           NaN   \n",
       "\n",
       "  race_for_qc family_history_for_qc region_for_qc      study  pruned  \\\n",
       "0       Asian          Not Reported           KAZ  SYNAPS-KZ       0   \n",
       "1       Asian          Not Reported           KAZ  SYNAPS-KZ       0   \n",
       "2       Asian          Not Reported           KAZ  SYNAPS-KZ       0   \n",
       "3       Asian          Not Reported           KAZ  SYNAPS-KZ       0   \n",
       "4       Asian          Not Reported           KAZ  SYNAPS-KZ       0   \n",
       "\n",
       "  pruned_reason label  related  \n",
       "0           NaN   CAS      NaN  \n",
       "1           NaN   CAS      NaN  \n",
       "2           NaN   CAS      NaN  \n",
       "3           NaN   CAS      NaN  \n",
       "4           NaN   CAS      NaN  "
      ]
     },
     "execution_count": 9,
     "metadata": {},
     "output_type": "execute_result"
    }
   ],
   "source": [
    "# Cargamos el archivo de historia medica\n",
    "gp2_clinical_df = pd.read_csv(f'{WORK_DIR}/master_key_release3_final.csv')\n",
    "\n",
    "# Mostramos el encabezado del archivo \n",
    "gp2_clinical_df.head()"
   ]
  },
  {
   "cell_type": "code",
   "execution_count": 10,
   "metadata": {},
   "outputs": [
    {
     "data": {
      "text/plain": [
       "Index(['GP2ID', 'GP2sampleID', 'manifest_id', 'phenotype', 'pheno_for_qc',\n",
       "       'other_pheno', 'sex_for_qc', 'age', 'age_of_onset', 'age_at_diagnosis',\n",
       "       'age_at_death', 'race_for_qc', 'family_history_for_qc', 'region_for_qc',\n",
       "       'study', 'pruned', 'pruned_reason', 'label', 'related'],\n",
       "      dtype='object')"
      ]
     },
     "execution_count": 10,
     "metadata": {},
     "output_type": "execute_result"
    }
   ],
   "source": [
    "# Mostramos las columnas\n",
    "gp2_clinical_df.columns"
   ]
  },
  {
   "cell_type": "code",
   "execution_count": 13,
   "metadata": {},
   "outputs": [],
   "source": [
    "## Mantenemos las columnas de interes\n",
    "gp2_data_toKeep_df = gp2_clinical_df[['GP2sampleID',\n",
    "                                      'phenotype', 'sex_for_qc', 'age','age_of_onset',\n",
    "                                      'race_for_qc']].copy()"
   ]
  },
  {
   "cell_type": "code",
   "execution_count": 14,
   "metadata": {},
   "outputs": [],
   "source": [
    "# Renombramos las columnas\n",
    "gp2_data_toKeep_df.rename(columns = {'GP2sampleID': 'IID',\n",
    "                                     'sex_for_qc':'SEX', \n",
    "                                     'age':'AGE', \n",
    "                                     'race_for_qc':'RACE',\n",
    "                                     'age_of_onset':'AAO'}, inplace = True)"
   ]
  },
  {
   "cell_type": "code",
   "execution_count": 15,
   "metadata": {},
   "outputs": [
    {
     "data": {
      "text/html": [
       "<div>\n",
       "<style scoped>\n",
       "    .dataframe tbody tr th:only-of-type {\n",
       "        vertical-align: middle;\n",
       "    }\n",
       "\n",
       "    .dataframe tbody tr th {\n",
       "        vertical-align: top;\n",
       "    }\n",
       "\n",
       "    .dataframe thead th {\n",
       "        text-align: right;\n",
       "    }\n",
       "</style>\n",
       "<table border=\"1\" class=\"dataframe\">\n",
       "  <thead>\n",
       "    <tr style=\"text-align: right;\">\n",
       "      <th></th>\n",
       "      <th>IID</th>\n",
       "      <th>phenotype</th>\n",
       "      <th>SEX</th>\n",
       "      <th>AGE</th>\n",
       "      <th>AAO</th>\n",
       "      <th>RACE</th>\n",
       "    </tr>\n",
       "  </thead>\n",
       "  <tbody>\n",
       "    <tr>\n",
       "      <th>0</th>\n",
       "      <td>SYNAPS-KZ_000001_s1</td>\n",
       "      <td>Control</td>\n",
       "      <td>2</td>\n",
       "      <td>64.0</td>\n",
       "      <td>NaN</td>\n",
       "      <td>Asian</td>\n",
       "    </tr>\n",
       "    <tr>\n",
       "      <th>1</th>\n",
       "      <td>SYNAPS-KZ_000002_s1</td>\n",
       "      <td>Control</td>\n",
       "      <td>1</td>\n",
       "      <td>53.0</td>\n",
       "      <td>NaN</td>\n",
       "      <td>Asian</td>\n",
       "    </tr>\n",
       "    <tr>\n",
       "      <th>2</th>\n",
       "      <td>SYNAPS-KZ_000003_s1</td>\n",
       "      <td>Control</td>\n",
       "      <td>2</td>\n",
       "      <td>59.0</td>\n",
       "      <td>NaN</td>\n",
       "      <td>Asian</td>\n",
       "    </tr>\n",
       "    <tr>\n",
       "      <th>3</th>\n",
       "      <td>SYNAPS-KZ_000004_s1</td>\n",
       "      <td>Control</td>\n",
       "      <td>1</td>\n",
       "      <td>57.0</td>\n",
       "      <td>NaN</td>\n",
       "      <td>Asian</td>\n",
       "    </tr>\n",
       "    <tr>\n",
       "      <th>4</th>\n",
       "      <td>SYNAPS-KZ_000005_s1</td>\n",
       "      <td>Control</td>\n",
       "      <td>1</td>\n",
       "      <td>59.0</td>\n",
       "      <td>NaN</td>\n",
       "      <td>Asian</td>\n",
       "    </tr>\n",
       "  </tbody>\n",
       "</table>\n",
       "</div>"
      ],
      "text/plain": [
       "                   IID phenotype  SEX   AGE  AAO   RACE\n",
       "0  SYNAPS-KZ_000001_s1   Control    2  64.0  NaN  Asian\n",
       "1  SYNAPS-KZ_000002_s1   Control    1  53.0  NaN  Asian\n",
       "2  SYNAPS-KZ_000003_s1   Control    2  59.0  NaN  Asian\n",
       "3  SYNAPS-KZ_000004_s1   Control    1  57.0  NaN  Asian\n",
       "4  SYNAPS-KZ_000005_s1   Control    1  59.0  NaN  Asian"
      ]
     },
     "execution_count": 15,
     "metadata": {},
     "output_type": "execute_result"
    }
   ],
   "source": [
    "# Mostramos el encabezado del archivo resultante\n",
    "gp2_data_toKeep_df.head()"
   ]
  },
  {
   "cell_type": "code",
   "execution_count": 18,
   "metadata": {},
   "outputs": [
    {
     "data": {
      "text/plain": [
       "phenotype\n",
       "PD              9031\n",
       "Control         6847\n",
       "Other            740\n",
       "Not Reported     239\n",
       "Name: count, dtype: int64"
      ]
     },
     "execution_count": 18,
     "metadata": {},
     "output_type": "execute_result"
    }
   ],
   "source": [
    "# Mostramos los fenotipos\n",
    "gp2_data_toKeep_df['phenotype'].value_counts(dropna=False)"
   ]
  },
  {
   "cell_type": "code",
   "execution_count": 21,
   "metadata": {},
   "outputs": [],
   "source": [
    "gp2_data_pheno_toKeep_df = gp2_data_toKeep_df.copy()"
   ]
  },
  {
   "cell_type": "code",
   "execution_count": 22,
   "metadata": {},
   "outputs": [],
   "source": [
    "conditions = [\n",
    "    (gp2_data_pheno_toKeep_df['phenotype'] == \"PD\"),\n",
    "    (gp2_data_pheno_toKeep_df['phenotype'] == \"Control\")]\n"
   ]
  },
  {
   "cell_type": "code",
   "execution_count": 23,
   "metadata": {},
   "outputs": [],
   "source": [
    "## Asignamos casos=2, controles=1, -9 para los restantes (de acuerdo con las especificaciones de PLINK)\n",
    "choices = [2,1]\n",
    "gp2_data_pheno_toKeep_df['PHENO'] = np.select(conditions, choices, default=-9).astype(np.int64)"
   ]
  },
  {
   "cell_type": "code",
   "execution_count": 24,
   "metadata": {},
   "outputs": [],
   "source": [
    "# Restablecemos los indices\n",
    "gp2_data_pheno_toKeep_df.reset_index(inplace=True)\n",
    "gp2_data_pheno_toKeep_df.drop(columns=[\"index\"], inplace=True)"
   ]
  },
  {
   "cell_type": "code",
   "execution_count": 25,
   "metadata": {
    "scrolled": true
   },
   "outputs": [
    {
     "data": {
      "text/html": [
       "<div>\n",
       "<style scoped>\n",
       "    .dataframe tbody tr th:only-of-type {\n",
       "        vertical-align: middle;\n",
       "    }\n",
       "\n",
       "    .dataframe tbody tr th {\n",
       "        vertical-align: top;\n",
       "    }\n",
       "\n",
       "    .dataframe thead th {\n",
       "        text-align: right;\n",
       "    }\n",
       "</style>\n",
       "<table border=\"1\" class=\"dataframe\">\n",
       "  <thead>\n",
       "    <tr style=\"text-align: right;\">\n",
       "      <th></th>\n",
       "      <th>IID</th>\n",
       "      <th>phenotype</th>\n",
       "      <th>SEX</th>\n",
       "      <th>AGE</th>\n",
       "      <th>AAO</th>\n",
       "      <th>RACE</th>\n",
       "      <th>PHENO</th>\n",
       "    </tr>\n",
       "  </thead>\n",
       "  <tbody>\n",
       "    <tr>\n",
       "      <th>0</th>\n",
       "      <td>SYNAPS-KZ_000001_s1</td>\n",
       "      <td>Control</td>\n",
       "      <td>2</td>\n",
       "      <td>64.0</td>\n",
       "      <td>NaN</td>\n",
       "      <td>Asian</td>\n",
       "      <td>1</td>\n",
       "    </tr>\n",
       "    <tr>\n",
       "      <th>1</th>\n",
       "      <td>SYNAPS-KZ_000002_s1</td>\n",
       "      <td>Control</td>\n",
       "      <td>1</td>\n",
       "      <td>53.0</td>\n",
       "      <td>NaN</td>\n",
       "      <td>Asian</td>\n",
       "      <td>1</td>\n",
       "    </tr>\n",
       "    <tr>\n",
       "      <th>2</th>\n",
       "      <td>SYNAPS-KZ_000003_s1</td>\n",
       "      <td>Control</td>\n",
       "      <td>2</td>\n",
       "      <td>59.0</td>\n",
       "      <td>NaN</td>\n",
       "      <td>Asian</td>\n",
       "      <td>1</td>\n",
       "    </tr>\n",
       "    <tr>\n",
       "      <th>3</th>\n",
       "      <td>SYNAPS-KZ_000004_s1</td>\n",
       "      <td>Control</td>\n",
       "      <td>1</td>\n",
       "      <td>57.0</td>\n",
       "      <td>NaN</td>\n",
       "      <td>Asian</td>\n",
       "      <td>1</td>\n",
       "    </tr>\n",
       "    <tr>\n",
       "      <th>4</th>\n",
       "      <td>SYNAPS-KZ_000005_s1</td>\n",
       "      <td>Control</td>\n",
       "      <td>1</td>\n",
       "      <td>59.0</td>\n",
       "      <td>NaN</td>\n",
       "      <td>Asian</td>\n",
       "      <td>1</td>\n",
       "    </tr>\n",
       "    <tr>\n",
       "      <th>...</th>\n",
       "      <td>...</td>\n",
       "      <td>...</td>\n",
       "      <td>...</td>\n",
       "      <td>...</td>\n",
       "      <td>...</td>\n",
       "      <td>...</td>\n",
       "      <td>...</td>\n",
       "    </tr>\n",
       "    <tr>\n",
       "      <th>16852</th>\n",
       "      <td>PPMI_000789_s1</td>\n",
       "      <td>Other</td>\n",
       "      <td>2</td>\n",
       "      <td>NaN</td>\n",
       "      <td>NaN</td>\n",
       "      <td>White</td>\n",
       "      <td>-9</td>\n",
       "    </tr>\n",
       "    <tr>\n",
       "      <th>16853</th>\n",
       "      <td>PPMI_000781_s1</td>\n",
       "      <td>Other</td>\n",
       "      <td>1</td>\n",
       "      <td>57.0</td>\n",
       "      <td>NaN</td>\n",
       "      <td>White</td>\n",
       "      <td>-9</td>\n",
       "    </tr>\n",
       "    <tr>\n",
       "      <th>16854</th>\n",
       "      <td>PPMI_000818_s1</td>\n",
       "      <td>Other</td>\n",
       "      <td>1</td>\n",
       "      <td>60.0</td>\n",
       "      <td>NaN</td>\n",
       "      <td>White</td>\n",
       "      <td>-9</td>\n",
       "    </tr>\n",
       "    <tr>\n",
       "      <th>16855</th>\n",
       "      <td>PPMI_000841_s1</td>\n",
       "      <td>Other</td>\n",
       "      <td>2</td>\n",
       "      <td>68.0</td>\n",
       "      <td>NaN</td>\n",
       "      <td>White</td>\n",
       "      <td>-9</td>\n",
       "    </tr>\n",
       "    <tr>\n",
       "      <th>16856</th>\n",
       "      <td>PPMI_000808_s1</td>\n",
       "      <td>Other</td>\n",
       "      <td>1</td>\n",
       "      <td>NaN</td>\n",
       "      <td>NaN</td>\n",
       "      <td>White</td>\n",
       "      <td>-9</td>\n",
       "    </tr>\n",
       "  </tbody>\n",
       "</table>\n",
       "<p>16857 rows × 7 columns</p>\n",
       "</div>"
      ],
      "text/plain": [
       "                       IID phenotype  SEX   AGE  AAO   RACE  PHENO\n",
       "0      SYNAPS-KZ_000001_s1   Control    2  64.0  NaN  Asian      1\n",
       "1      SYNAPS-KZ_000002_s1   Control    1  53.0  NaN  Asian      1\n",
       "2      SYNAPS-KZ_000003_s1   Control    2  59.0  NaN  Asian      1\n",
       "3      SYNAPS-KZ_000004_s1   Control    1  57.0  NaN  Asian      1\n",
       "4      SYNAPS-KZ_000005_s1   Control    1  59.0  NaN  Asian      1\n",
       "...                    ...       ...  ...   ...  ...    ...    ...\n",
       "16852       PPMI_000789_s1     Other    2   NaN  NaN  White     -9\n",
       "16853       PPMI_000781_s1     Other    1  57.0  NaN  White     -9\n",
       "16854       PPMI_000818_s1     Other    1  60.0  NaN  White     -9\n",
       "16855       PPMI_000841_s1     Other    2  68.0  NaN  White     -9\n",
       "16856       PPMI_000808_s1     Other    1   NaN  NaN  White     -9\n",
       "\n",
       "[16857 rows x 7 columns]"
      ]
     },
     "execution_count": 25,
     "metadata": {},
     "output_type": "execute_result"
    }
   ],
   "source": [
    "gp2_data_pheno_toKeep_df"
   ]
  },
  {
   "cell_type": "code",
   "execution_count": 27,
   "metadata": {},
   "outputs": [],
   "source": [
    "# Eliminamos la columna de fenotipo inicial\n",
    "gp2_data_pheno_toKeep_df.drop(columns=['phenotype'], inplace=True)"
   ]
  },
  {
   "cell_type": "code",
   "execution_count": 28,
   "metadata": {},
   "outputs": [
    {
     "data": {
      "text/html": [
       "<div>\n",
       "<style scoped>\n",
       "    .dataframe tbody tr th:only-of-type {\n",
       "        vertical-align: middle;\n",
       "    }\n",
       "\n",
       "    .dataframe tbody tr th {\n",
       "        vertical-align: top;\n",
       "    }\n",
       "\n",
       "    .dataframe thead th {\n",
       "        text-align: right;\n",
       "    }\n",
       "</style>\n",
       "<table border=\"1\" class=\"dataframe\">\n",
       "  <thead>\n",
       "    <tr style=\"text-align: right;\">\n",
       "      <th></th>\n",
       "      <th>IID</th>\n",
       "      <th>SEX</th>\n",
       "      <th>AGE</th>\n",
       "      <th>AAO</th>\n",
       "      <th>RACE</th>\n",
       "      <th>PHENO</th>\n",
       "    </tr>\n",
       "  </thead>\n",
       "  <tbody>\n",
       "    <tr>\n",
       "      <th>0</th>\n",
       "      <td>SYNAPS-KZ_000001_s1</td>\n",
       "      <td>2</td>\n",
       "      <td>64.0</td>\n",
       "      <td>NaN</td>\n",
       "      <td>Asian</td>\n",
       "      <td>1</td>\n",
       "    </tr>\n",
       "    <tr>\n",
       "      <th>1</th>\n",
       "      <td>SYNAPS-KZ_000002_s1</td>\n",
       "      <td>1</td>\n",
       "      <td>53.0</td>\n",
       "      <td>NaN</td>\n",
       "      <td>Asian</td>\n",
       "      <td>1</td>\n",
       "    </tr>\n",
       "    <tr>\n",
       "      <th>2</th>\n",
       "      <td>SYNAPS-KZ_000003_s1</td>\n",
       "      <td>2</td>\n",
       "      <td>59.0</td>\n",
       "      <td>NaN</td>\n",
       "      <td>Asian</td>\n",
       "      <td>1</td>\n",
       "    </tr>\n",
       "    <tr>\n",
       "      <th>3</th>\n",
       "      <td>SYNAPS-KZ_000004_s1</td>\n",
       "      <td>1</td>\n",
       "      <td>57.0</td>\n",
       "      <td>NaN</td>\n",
       "      <td>Asian</td>\n",
       "      <td>1</td>\n",
       "    </tr>\n",
       "    <tr>\n",
       "      <th>4</th>\n",
       "      <td>SYNAPS-KZ_000005_s1</td>\n",
       "      <td>1</td>\n",
       "      <td>59.0</td>\n",
       "      <td>NaN</td>\n",
       "      <td>Asian</td>\n",
       "      <td>1</td>\n",
       "    </tr>\n",
       "    <tr>\n",
       "      <th>...</th>\n",
       "      <td>...</td>\n",
       "      <td>...</td>\n",
       "      <td>...</td>\n",
       "      <td>...</td>\n",
       "      <td>...</td>\n",
       "      <td>...</td>\n",
       "    </tr>\n",
       "    <tr>\n",
       "      <th>16852</th>\n",
       "      <td>PPMI_000789_s1</td>\n",
       "      <td>2</td>\n",
       "      <td>NaN</td>\n",
       "      <td>NaN</td>\n",
       "      <td>White</td>\n",
       "      <td>-9</td>\n",
       "    </tr>\n",
       "    <tr>\n",
       "      <th>16853</th>\n",
       "      <td>PPMI_000781_s1</td>\n",
       "      <td>1</td>\n",
       "      <td>57.0</td>\n",
       "      <td>NaN</td>\n",
       "      <td>White</td>\n",
       "      <td>-9</td>\n",
       "    </tr>\n",
       "    <tr>\n",
       "      <th>16854</th>\n",
       "      <td>PPMI_000818_s1</td>\n",
       "      <td>1</td>\n",
       "      <td>60.0</td>\n",
       "      <td>NaN</td>\n",
       "      <td>White</td>\n",
       "      <td>-9</td>\n",
       "    </tr>\n",
       "    <tr>\n",
       "      <th>16855</th>\n",
       "      <td>PPMI_000841_s1</td>\n",
       "      <td>2</td>\n",
       "      <td>68.0</td>\n",
       "      <td>NaN</td>\n",
       "      <td>White</td>\n",
       "      <td>-9</td>\n",
       "    </tr>\n",
       "    <tr>\n",
       "      <th>16856</th>\n",
       "      <td>PPMI_000808_s1</td>\n",
       "      <td>1</td>\n",
       "      <td>NaN</td>\n",
       "      <td>NaN</td>\n",
       "      <td>White</td>\n",
       "      <td>-9</td>\n",
       "    </tr>\n",
       "  </tbody>\n",
       "</table>\n",
       "<p>16857 rows × 6 columns</p>\n",
       "</div>"
      ],
      "text/plain": [
       "                       IID  SEX   AGE  AAO   RACE  PHENO\n",
       "0      SYNAPS-KZ_000001_s1    2  64.0  NaN  Asian      1\n",
       "1      SYNAPS-KZ_000002_s1    1  53.0  NaN  Asian      1\n",
       "2      SYNAPS-KZ_000003_s1    2  59.0  NaN  Asian      1\n",
       "3      SYNAPS-KZ_000004_s1    1  57.0  NaN  Asian      1\n",
       "4      SYNAPS-KZ_000005_s1    1  59.0  NaN  Asian      1\n",
       "...                    ...  ...   ...  ...    ...    ...\n",
       "16852       PPMI_000789_s1    2   NaN  NaN  White     -9\n",
       "16853       PPMI_000781_s1    1  57.0  NaN  White     -9\n",
       "16854       PPMI_000818_s1    1  60.0  NaN  White     -9\n",
       "16855       PPMI_000841_s1    2  68.0  NaN  White     -9\n",
       "16856       PPMI_000808_s1    1   NaN  NaN  White     -9\n",
       "\n",
       "[16857 rows x 6 columns]"
      ]
     },
     "execution_count": 28,
     "metadata": {},
     "output_type": "execute_result"
    }
   ],
   "source": [
    "gp2_data_pheno_toKeep_df"
   ]
  },
  {
   "cell_type": "code",
   "execution_count": 29,
   "metadata": {},
   "outputs": [
    {
     "name": "stdout",
     "output_type": "stream",
     "text": [
      "PHENO\n",
      " 2    9031\n",
      " 1    6847\n",
      "-9     979\n",
      "Name: count, dtype: int64\n"
     ]
    }
   ],
   "source": [
    "# Mostramos el recuento de fenotipos\n",
    "print(gp2_data_pheno_toKeep_df['PHENO'].value_counts(dropna=False))"
   ]
  },
  {
   "cell_type": "code",
   "execution_count": 30,
   "metadata": {},
   "outputs": [
    {
     "data": {
      "text/plain": [
       "RACE                                       SEX  PHENO\n",
       "American Indian or Alaska Native           1     1          7\n",
       "                                                 2          7\n",
       "                                           2     1         11\n",
       "                                                 2          5\n",
       "Asian                                      0     2          1\n",
       "                                           1     2        116\n",
       "                                                 1         96\n",
       "                                                -9          3\n",
       "                                           2     1        160\n",
       "                                                 2         97\n",
       "                                                -9          2\n",
       "Black or African American                  1     1        593\n",
       "                                                 2        104\n",
       "                                                -9          3\n",
       "                                           2     1        983\n",
       "                                                 2         89\n",
       "                                                -9          3\n",
       "Multi-racial                               1     2         43\n",
       "                                                 1          6\n",
       "                                           2     2         19\n",
       "                                                 1         18\n",
       "Native Hawaiian or Other Pacific Islander  1     2          4\n",
       "                                                -9          1\n",
       "                                                 1          1\n",
       "                                           2     1          3\n",
       "Not Reported                               0    -9        108\n",
       "                                                 2          7\n",
       "                                                 1          1\n",
       "                                           1     2       1016\n",
       "                                                -9          8\n",
       "                                                 1          5\n",
       "                                           2     2        548\n",
       "                                                 1          3\n",
       "                                                -9          1\n",
       "Other                                      1     2         62\n",
       "                                                 1         38\n",
       "                                                -9          7\n",
       "                                           2     2         40\n",
       "                                                 1         19\n",
       "                                                -9          1\n",
       "Unknown                                    1     2        133\n",
       "                                                -9         78\n",
       "                                                 1         22\n",
       "                                           2    -9         96\n",
       "                                                 2         82\n",
       "                                                 1         40\n",
       "White                                      1     2       4359\n",
       "                                                 1       2805\n",
       "                                                -9        373\n",
       "                                           2     2       2299\n",
       "                                                 1       2036\n",
       "                                                -9        295\n",
       "Name: count, dtype: int64"
      ]
     },
     "execution_count": 30,
     "metadata": {},
     "output_type": "execute_result"
    }
   ],
   "source": [
    "# Vamos a agrupar los casos y controles segun el genero y la etnia\n",
    "gp2_data_pheno_toKeep_df.groupby(['RACE','SEX'])['PHENO'].value_counts()"
   ]
  },
  {
   "cell_type": "code",
   "execution_count": 31,
   "metadata": {},
   "outputs": [
    {
     "data": {
      "text/html": [
       "<div>\n",
       "<style scoped>\n",
       "    .dataframe tbody tr th:only-of-type {\n",
       "        vertical-align: middle;\n",
       "    }\n",
       "\n",
       "    .dataframe tbody tr th {\n",
       "        vertical-align: top;\n",
       "    }\n",
       "\n",
       "    .dataframe thead th {\n",
       "        text-align: right;\n",
       "    }\n",
       "</style>\n",
       "<table border=\"1\" class=\"dataframe\">\n",
       "  <thead>\n",
       "    <tr style=\"text-align: right;\">\n",
       "      <th></th>\n",
       "      <th>IID</th>\n",
       "      <th>SEX</th>\n",
       "      <th>AGE</th>\n",
       "      <th>AAO</th>\n",
       "      <th>RACE</th>\n",
       "      <th>PHENO</th>\n",
       "    </tr>\n",
       "  </thead>\n",
       "  <tbody>\n",
       "    <tr>\n",
       "      <th>0</th>\n",
       "      <td>SYNAPS-KZ_000001_s1</td>\n",
       "      <td>2</td>\n",
       "      <td>64.0</td>\n",
       "      <td>NaN</td>\n",
       "      <td>Asian</td>\n",
       "      <td>1</td>\n",
       "    </tr>\n",
       "    <tr>\n",
       "      <th>1</th>\n",
       "      <td>SYNAPS-KZ_000002_s1</td>\n",
       "      <td>1</td>\n",
       "      <td>53.0</td>\n",
       "      <td>NaN</td>\n",
       "      <td>Asian</td>\n",
       "      <td>1</td>\n",
       "    </tr>\n",
       "    <tr>\n",
       "      <th>2</th>\n",
       "      <td>SYNAPS-KZ_000003_s1</td>\n",
       "      <td>2</td>\n",
       "      <td>59.0</td>\n",
       "      <td>NaN</td>\n",
       "      <td>Asian</td>\n",
       "      <td>1</td>\n",
       "    </tr>\n",
       "    <tr>\n",
       "      <th>3</th>\n",
       "      <td>SYNAPS-KZ_000004_s1</td>\n",
       "      <td>1</td>\n",
       "      <td>57.0</td>\n",
       "      <td>NaN</td>\n",
       "      <td>Asian</td>\n",
       "      <td>1</td>\n",
       "    </tr>\n",
       "    <tr>\n",
       "      <th>4</th>\n",
       "      <td>SYNAPS-KZ_000005_s1</td>\n",
       "      <td>1</td>\n",
       "      <td>59.0</td>\n",
       "      <td>NaN</td>\n",
       "      <td>Asian</td>\n",
       "      <td>1</td>\n",
       "    </tr>\n",
       "  </tbody>\n",
       "</table>\n",
       "</div>"
      ],
      "text/plain": [
       "                   IID  SEX   AGE  AAO   RACE  PHENO\n",
       "0  SYNAPS-KZ_000001_s1    2  64.0  NaN  Asian      1\n",
       "1  SYNAPS-KZ_000002_s1    1  53.0  NaN  Asian      1\n",
       "2  SYNAPS-KZ_000003_s1    2  59.0  NaN  Asian      1\n",
       "3  SYNAPS-KZ_000004_s1    1  57.0  NaN  Asian      1\n",
       "4  SYNAPS-KZ_000005_s1    1  59.0  NaN  Asian      1"
      ]
     },
     "execution_count": 31,
     "metadata": {},
     "output_type": "execute_result"
    }
   ],
   "source": [
    "gp2_data_pheno_toKeep_df.head()"
   ]
  },
  {
   "cell_type": "markdown",
   "metadata": {},
   "source": [
    "## Como acceder a los datos AMP-PD"
   ]
  },
  {
   "cell_type": "code",
   "execution_count": 32,
   "metadata": {
    "scrolled": true
   },
   "outputs": [
    {
     "name": "stdout",
     "output_type": "stream",
     "text": [
      "AMP-PD v3.0\n",
      "Path to AMP-PD v3.0 Clinical Data: gs://amp-pd-data/releases/2022_v3release_1115/clinical\n",
      "Path to AMP-PD v3.0 WGS Data: gs://amp-pd-genomics/releases/2022_v3release_1115/wgs-WB-DWGS/plink\n",
      "\n"
     ]
    }
   ],
   "source": [
    "## AMP-PD v3.0\n",
    "## Definimos la localizacion de la version 3.0\n",
    "AMP_RELEASE_PATH = 'gs://amp-pd-data/releases/2022_v3release_1115'\n",
    "AMP_CLINICAL_RELEASE_PATH = f'{AMP_RELEASE_PATH}/clinical'\n",
    "\n",
    "AMP_WGS_RELEASE_PATH = 'gs://amp-pd-genomics/releases/2022_v3release_1115/wgs-WB-DWGS'\n",
    "AMP_WGS_RELEASE_PLINK_PATH = os.path.join(AMP_WGS_RELEASE_PATH, 'plink')\n",
    "\n",
    "print('AMP-PD v3.0')\n",
    "print(f'Path to AMP-PD v3.0 Clinical Data: {AMP_CLINICAL_RELEASE_PATH}')\n",
    "print(f'Path to AMP-PD v3.0 WGS Data: {AMP_WGS_RELEASE_PLINK_PATH}')\n",
    "print('')"
   ]
  },
  {
   "cell_type": "code",
   "execution_count": 33,
   "metadata": {},
   "outputs": [
    {
     "name": "stdout",
     "output_type": "stream",
     "text": [
      "Making a working directory\n"
     ]
    },
    {
     "name": "stderr",
     "output_type": "stream",
     "text": [
      "Executing: mkdir -p /home/jupyter/AMP_COV_FILE\n"
     ]
    }
   ],
   "source": [
    "# Creamos una carpeta en el espacio de trabajo para copiar los archivos\n",
    "print(\"Making a working directory\")\n",
    "WORK_DIR = f'/home/jupyter/AMP_COV_FILE'\n",
    "shell_do(f'mkdir -p {WORK_DIR}')"
   ]
  },
  {
   "cell_type": "code",
   "execution_count": 34,
   "metadata": {
    "scrolled": true
   },
   "outputs": [
    {
     "name": "stdout",
     "output_type": "stream",
     "text": [
      "List available information in AMP-PD\n"
     ]
    },
    {
     "name": "stderr",
     "output_type": "stream",
     "text": [
      "Executing: gsutil -u terra-61e6143b ls gs://amp-pd-data/releases/2022_v3release_1115\n"
     ]
    },
    {
     "name": "stdout",
     "output_type": "stream",
     "text": [
      "gs://amp-pd-data/releases/2022_v3release_1115/amp_pd_case_control.csv\r\n",
      "gs://amp-pd-data/releases/2022_v3release_1115/amp_pd_global_sample_inventory.csv\r\n",
      "gs://amp-pd-data/releases/2022_v3release_1115/amp_pd_participant_wgs_duplicates.csv\r\n",
      "gs://amp-pd-data/releases/2022_v3release_1115/amp_pd_participants.csv\r\n",
      "gs://amp-pd-data/releases/2022_v3release_1115/proteomics_CSF-PPEA-D01_sample_inventory.csv\r\n",
      "gs://amp-pd-data/releases/2022_v3release_1115/proteomics_CSF-PPEA-D02_sample_inventory.csv\r\n",
      "gs://amp-pd-data/releases/2022_v3release_1115/proteomics_PLA-PPEA-D01_sample_inventory.csv\r\n",
      "gs://amp-pd-data/releases/2022_v3release_1115/proteomics_PLA-PPEA-D02_sample_inventory.csv\r\n",
      "gs://amp-pd-data/releases/2022_v3release_1115/rnaseq_CSF-REBR-VG29_sample_inventory.csv\r\n",
      "gs://amp-pd-data/releases/2022_v3release_1115/rnaseq_CSF-REBR-VGLN_sample_inventory.csv\r\n",
      "gs://amp-pd-data/releases/2022_v3release_1115/rnaseq_PLA-REBR-VG29_sample_inventory.csv\r\n",
      "gs://amp-pd-data/releases/2022_v3release_1115/rnaseq_PLA-REBR-VGLN_sample_inventory.csv\r\n",
      "gs://amp-pd-data/releases/2022_v3release_1115/rnaseq_PLA-RESR_sample_inventory.csv\r\n",
      "gs://amp-pd-data/releases/2022_v3release_1115/rnaseq_WB-RWTS_sample_inventory.csv\r\n",
      "gs://amp-pd-data/releases/2022_v3release_1115/wgs_WB-DWGS_sample_inventory.csv\r\n",
      "gs://amp-pd-data/releases/2022_v3release_1115/wgs_gatk_joint_genotyping_samples.csv\r\n",
      "gs://amp-pd-data/releases/2022_v3release_1115/clinical/\r\n"
     ]
    }
   ],
   "source": [
    "# Comprobamos la localizacion de los datos de AMP-PD\n",
    "print(\"List available information in AMP-PD\")\n",
    "shell_do(f'gsutil -u {BILLING_PROJECT_ID} ls {AMP_RELEASE_PATH}')"
   ]
  },
  {
   "cell_type": "code",
   "execution_count": 35,
   "metadata": {
    "scrolled": true
   },
   "outputs": [
    {
     "name": "stdout",
     "output_type": "stream",
     "text": [
      "List available clinical information in AMP-PD\n"
     ]
    },
    {
     "name": "stderr",
     "output_type": "stream",
     "text": [
      "Executing: gsutil -u terra-61e6143b ls gs://amp-pd-data/releases/2022_v3release_1115/clinical\n"
     ]
    },
    {
     "name": "stdout",
     "output_type": "stream",
     "text": [
      "gs://amp-pd-data/releases/2022_v3release_1115/clinical/Biospecimen_analyses_CSF_abeta_tau_ptau.csv\r\n",
      "gs://amp-pd-data/releases/2022_v3release_1115/clinical/Biospecimen_analyses_CSF_abeta_tau_ptau_dictionary.csv\r\n",
      "gs://amp-pd-data/releases/2022_v3release_1115/clinical/Biospecimen_analyses_CSF_beta_glucocerebrosidase.csv\r\n",
      "gs://amp-pd-data/releases/2022_v3release_1115/clinical/Biospecimen_analyses_CSF_beta_glucocerebrosidase_dictionary.csv\r\n",
      "gs://amp-pd-data/releases/2022_v3release_1115/clinical/Biospecimen_analyses_SomaLogic_plasma.csv\r\n",
      "gs://amp-pd-data/releases/2022_v3release_1115/clinical/Biospecimen_analyses_SomaLogic_plasma_dictionary.csv\r\n",
      "gs://amp-pd-data/releases/2022_v3release_1115/clinical/Biospecimen_analyses_other.csv\r\n",
      "gs://amp-pd-data/releases/2022_v3release_1115/clinical/Biospecimen_analyses_other_dictionary.csv\r\n",
      "gs://amp-pd-data/releases/2022_v3release_1115/clinical/Caffeine_history.csv\r\n",
      "gs://amp-pd-data/releases/2022_v3release_1115/clinical/Caffeine_history_dictionary.csv\r\n",
      "gs://amp-pd-data/releases/2022_v3release_1115/clinical/DTI.csv\r\n",
      "gs://amp-pd-data/releases/2022_v3release_1115/clinical/DTI_dictionary.csv\r\n",
      "gs://amp-pd-data/releases/2022_v3release_1115/clinical/DaTSCAN_SBR.csv\r\n",
      "gs://amp-pd-data/releases/2022_v3release_1115/clinical/DaTSCAN_SBR_dictionary.csv\r\n",
      "gs://amp-pd-data/releases/2022_v3release_1115/clinical/DaTSCAN_visual_interpretation.csv\r\n",
      "gs://amp-pd-data/releases/2022_v3release_1115/clinical/DaTSCAN_visual_interpretation_dictionary.csv\r\n",
      "gs://amp-pd-data/releases/2022_v3release_1115/clinical/Demographics.csv\r\n",
      "gs://amp-pd-data/releases/2022_v3release_1115/clinical/Demographics_dictionary.csv\r\n",
      "gs://amp-pd-data/releases/2022_v3release_1115/clinical/Enrollment.csv\r\n",
      "gs://amp-pd-data/releases/2022_v3release_1115/clinical/Enrollment_dictionary.csv\r\n",
      "gs://amp-pd-data/releases/2022_v3release_1115/clinical/Epworth_Sleepiness_Scale.csv\r\n",
      "gs://amp-pd-data/releases/2022_v3release_1115/clinical/Epworth_Sleepiness_Scale_dictionary.csv\r\n",
      "gs://amp-pd-data/releases/2022_v3release_1115/clinical/Family_History_PD.csv\r\n",
      "gs://amp-pd-data/releases/2022_v3release_1115/clinical/Family_History_PD_dictionary.csv\r\n",
      "gs://amp-pd-data/releases/2022_v3release_1115/clinical/LBD_Cohort_Clinical_Data.csv\r\n",
      "gs://amp-pd-data/releases/2022_v3release_1115/clinical/LBD_Cohort_Clinical_Data_dictionary.csv\r\n",
      "gs://amp-pd-data/releases/2022_v3release_1115/clinical/LBD_Cohort_Path_Data.csv\r\n",
      "gs://amp-pd-data/releases/2022_v3release_1115/clinical/LBD_Cohort_Path_Data_dictionary.csv\r\n",
      "gs://amp-pd-data/releases/2022_v3release_1115/clinical/MDS_UPDRS_Part_I.csv\r\n",
      "gs://amp-pd-data/releases/2022_v3release_1115/clinical/MDS_UPDRS_Part_II.csv\r\n",
      "gs://amp-pd-data/releases/2022_v3release_1115/clinical/MDS_UPDRS_Part_III.csv\r\n",
      "gs://amp-pd-data/releases/2022_v3release_1115/clinical/MDS_UPDRS_Part_III_dictionary.csv\r\n",
      "gs://amp-pd-data/releases/2022_v3release_1115/clinical/MDS_UPDRS_Part_II_dictionary.csv\r\n",
      "gs://amp-pd-data/releases/2022_v3release_1115/clinical/MDS_UPDRS_Part_IV.csv\r\n",
      "gs://amp-pd-data/releases/2022_v3release_1115/clinical/MDS_UPDRS_Part_IV_dictionary.csv\r\n",
      "gs://amp-pd-data/releases/2022_v3release_1115/clinical/MDS_UPDRS_Part_I_dictionary.csv\r\n",
      "gs://amp-pd-data/releases/2022_v3release_1115/clinical/MMSE.csv\r\n",
      "gs://amp-pd-data/releases/2022_v3release_1115/clinical/MMSE_dictionary.csv\r\n",
      "gs://amp-pd-data/releases/2022_v3release_1115/clinical/MOCA.csv\r\n",
      "gs://amp-pd-data/releases/2022_v3release_1115/clinical/MOCA_dictionary.csv\r\n",
      "gs://amp-pd-data/releases/2022_v3release_1115/clinical/MRI.csv\r\n",
      "gs://amp-pd-data/releases/2022_v3release_1115/clinical/MRI_dictionary.csv\r\n",
      "gs://amp-pd-data/releases/2022_v3release_1115/clinical/Modified_Schwab___England_ADL.csv\r\n",
      "gs://amp-pd-data/releases/2022_v3release_1115/clinical/Modified_Schwab___England_ADL_dictionary.csv\r\n",
      "gs://amp-pd-data/releases/2022_v3release_1115/clinical/PDQ_39.csv\r\n",
      "gs://amp-pd-data/releases/2022_v3release_1115/clinical/PDQ_39_dictionary.csv\r\n",
      "gs://amp-pd-data/releases/2022_v3release_1115/clinical/PD_Medical_History.csv\r\n",
      "gs://amp-pd-data/releases/2022_v3release_1115/clinical/PD_Medical_History_dictionary.csv\r\n",
      "gs://amp-pd-data/releases/2022_v3release_1115/clinical/REM_Sleep_Behavior_Disorder_Questionnaire_Mayo.csv\r\n",
      "gs://amp-pd-data/releases/2022_v3release_1115/clinical/REM_Sleep_Behavior_Disorder_Questionnaire_Mayo_dictionary.csv\r\n",
      "gs://amp-pd-data/releases/2022_v3release_1115/clinical/REM_Sleep_Behavior_Disorder_Questionnaire_Stiasny_Kolster.csv\r\n",
      "gs://amp-pd-data/releases/2022_v3release_1115/clinical/REM_Sleep_Behavior_Disorder_Questionnaire_Stiasny_Kolster_dictionary.csv\r\n",
      "gs://amp-pd-data/releases/2022_v3release_1115/clinical/Smoking_and_alcohol_history.csv\r\n",
      "gs://amp-pd-data/releases/2022_v3release_1115/clinical/Smoking_and_alcohol_history_dictionary.csv\r\n",
      "gs://amp-pd-data/releases/2022_v3release_1115/clinical/UPDRS.csv\r\n",
      "gs://amp-pd-data/releases/2022_v3release_1115/clinical/UPDRS_dictionary.csv\r\n",
      "gs://amp-pd-data/releases/2022_v3release_1115/clinical/UPSIT.csv\r\n",
      "gs://amp-pd-data/releases/2022_v3release_1115/clinical/UPSIT_dictionary.csv\r\n"
     ]
    }
   ],
   "source": [
    "print(\"List available clinical information in AMP-PD\")\n",
    "shell_do(f'gsutil -u {BILLING_PROJECT_ID} ls {AMP_CLINICAL_RELEASE_PATH}')"
   ]
  },
  {
   "cell_type": "code",
   "execution_count": 36,
   "metadata": {},
   "outputs": [
    {
     "name": "stdout",
     "output_type": "stream",
     "text": [
      "Copy over files from bucket to VM workspace\n",
      "WARNING! This VM, when deleted, deletes all data copied over to it\n",
      "If you want to store results or files long-term, copy them to your bucket\n"
     ]
    }
   ],
   "source": [
    "print(\"Copy over files from bucket to VM workspace\")\n",
    "print(\"WARNING! This VM, when deleted, deletes all data copied over to it\")\n",
    "print(\"If you want to store results or files long-term, copy them to your bucket\")"
   ]
  },
  {
   "cell_type": "code",
   "execution_count": 37,
   "metadata": {},
   "outputs": [
    {
     "name": "stderr",
     "output_type": "stream",
     "text": [
      "Executing: gsutil -u terra-61e6143b -m cp -r gs://amp-pd-data/releases/2022_v3release_1115/amp_pd_case_control.csv /home/jupyter/AMP_COV_FILE\n"
     ]
    },
    {
     "name": "stdout",
     "output_type": "stream",
     "text": [
      "Copying gs://amp-pd-data/releases/2022_v3release_1115/amp_pd_case_control.csv...\n",
      "/ [1/1 files][735.1 KiB/735.1 KiB] 100% Done                                    \n",
      "Operation completed over 1 objects/735.1 KiB.                                    \n"
     ]
    },
    {
     "name": "stderr",
     "output_type": "stream",
     "text": [
      "Executing: gsutil -u terra-61e6143b -m cp -r gs://amp-pd-data/releases/2022_v3release_1115/clinical/Enrollment.csv /home/jupyter/AMP_COV_FILE\n"
     ]
    },
    {
     "name": "stdout",
     "output_type": "stream",
     "text": [
      "Copying gs://amp-pd-data/releases/2022_v3release_1115/clinical/Enrollment.csv...\n",
      "/ [1/1 files][622.6 KiB/622.6 KiB] 100% Done                                    \n",
      "Operation completed over 1 objects/622.6 KiB.                                    \n"
     ]
    },
    {
     "name": "stderr",
     "output_type": "stream",
     "text": [
      "Executing: gsutil -u terra-61e6143b -m cp -r gs://amp-pd-data/releases/2022_v3release_1115/clinical/Demographics.csv /home/jupyter/AMP_COV_FILE\n"
     ]
    },
    {
     "name": "stdout",
     "output_type": "stream",
     "text": [
      "Copying gs://amp-pd-data/releases/2022_v3release_1115/clinical/Demographics.csv...\n",
      "/ [1/1 files][622.2 KiB/622.2 KiB] 100% Done                                    \n",
      "Operation completed over 1 objects/622.2 KiB.                                    \n"
     ]
    }
   ],
   "source": [
    "shell_do(f'gsutil -u {BILLING_PROJECT_ID} -m cp -r {AMP_RELEASE_PATH}/amp_pd_case_control.csv {WORK_DIR}')\n",
    "shell_do(f'gsutil -u {BILLING_PROJECT_ID} -m cp -r {AMP_CLINICAL_RELEASE_PATH}/Enrollment.csv {WORK_DIR}')\n",
    "shell_do(f'gsutil -u {BILLING_PROJECT_ID} -m cp -r {AMP_CLINICAL_RELEASE_PATH}/Demographics.csv {WORK_DIR}')\n"
   ]
  },
  {
   "cell_type": "markdown",
   "metadata": {},
   "source": [
    "Como puedes ver..\n",
    "\n",
    "- AMP tiene la informacion del fenotipo en un bucket diferente {AMP_RELEASE_PATH}/amp_pd_case_control.csv\n",
    "- Hay una gran variedad de informacion almacenada en {AMP_CLINICAL_RELEASE_PATH} como la informacion demografica, las puntuaciones UPDRS, el cuestionario RBD, DATSCAN, etc. Nosotros hemos copiado la informacion demografica y de reclutamiento\n",
    "- Los individuos emparentados estan presentes"
   ]
  },
  {
   "cell_type": "markdown",
   "metadata": {},
   "source": [
    "## Como crear un fichero de covariable con datos AMP-PD"
   ]
  },
  {
   "cell_type": "code",
   "execution_count": 38,
   "metadata": {},
   "outputs": [],
   "source": [
    "# Leemos el archivo de informacion clinica\n",
    "pd_case_control_df = pd.read_csv(f'{WORK_DIR}/amp_pd_case_control.csv')"
   ]
  },
  {
   "cell_type": "code",
   "execution_count": 39,
   "metadata": {},
   "outputs": [
    {
     "data": {
      "text/html": [
       "<div>\n",
       "<style scoped>\n",
       "    .dataframe tbody tr th:only-of-type {\n",
       "        vertical-align: middle;\n",
       "    }\n",
       "\n",
       "    .dataframe tbody tr th {\n",
       "        vertical-align: top;\n",
       "    }\n",
       "\n",
       "    .dataframe thead th {\n",
       "        text-align: right;\n",
       "    }\n",
       "</style>\n",
       "<table border=\"1\" class=\"dataframe\">\n",
       "  <thead>\n",
       "    <tr style=\"text-align: right;\">\n",
       "      <th></th>\n",
       "      <th>participant_id</th>\n",
       "      <th>diagnosis_at_baseline</th>\n",
       "      <th>diagnosis_latest</th>\n",
       "      <th>case_control_other_at_baseline</th>\n",
       "      <th>case_control_other_latest</th>\n",
       "    </tr>\n",
       "  </thead>\n",
       "  <tbody>\n",
       "    <tr>\n",
       "      <th>0</th>\n",
       "      <td>BF-1001</td>\n",
       "      <td>No PD Nor Other Neurological Disorder</td>\n",
       "      <td>No PD Nor Other Neurological Disorder</td>\n",
       "      <td>Control</td>\n",
       "      <td>Control</td>\n",
       "    </tr>\n",
       "    <tr>\n",
       "      <th>1</th>\n",
       "      <td>BF-1002</td>\n",
       "      <td>Idiopathic PD</td>\n",
       "      <td>Idiopathic PD</td>\n",
       "      <td>Case</td>\n",
       "      <td>Case</td>\n",
       "    </tr>\n",
       "    <tr>\n",
       "      <th>2</th>\n",
       "      <td>BF-1003</td>\n",
       "      <td>Idiopathic PD</td>\n",
       "      <td>Idiopathic PD</td>\n",
       "      <td>Case</td>\n",
       "      <td>Case</td>\n",
       "    </tr>\n",
       "    <tr>\n",
       "      <th>3</th>\n",
       "      <td>BF-1004</td>\n",
       "      <td>Idiopathic PD</td>\n",
       "      <td>Idiopathic PD</td>\n",
       "      <td>Case</td>\n",
       "      <td>Case</td>\n",
       "    </tr>\n",
       "    <tr>\n",
       "      <th>4</th>\n",
       "      <td>BF-1005</td>\n",
       "      <td>No PD Nor Other Neurological Disorder</td>\n",
       "      <td>No PD Nor Other Neurological Disorder</td>\n",
       "      <td>Control</td>\n",
       "      <td>Control</td>\n",
       "    </tr>\n",
       "  </tbody>\n",
       "</table>\n",
       "</div>"
      ],
      "text/plain": [
       "  participant_id                  diagnosis_at_baseline  \\\n",
       "0        BF-1001  No PD Nor Other Neurological Disorder   \n",
       "1        BF-1002                          Idiopathic PD   \n",
       "2        BF-1003                          Idiopathic PD   \n",
       "3        BF-1004                          Idiopathic PD   \n",
       "4        BF-1005  No PD Nor Other Neurological Disorder   \n",
       "\n",
       "                        diagnosis_latest case_control_other_at_baseline  \\\n",
       "0  No PD Nor Other Neurological Disorder                        Control   \n",
       "1                          Idiopathic PD                           Case   \n",
       "2                          Idiopathic PD                           Case   \n",
       "3                          Idiopathic PD                           Case   \n",
       "4  No PD Nor Other Neurological Disorder                        Control   \n",
       "\n",
       "  case_control_other_latest  \n",
       "0                   Control  \n",
       "1                      Case  \n",
       "2                      Case  \n",
       "3                      Case  \n",
       "4                   Control  "
      ]
     },
     "execution_count": 39,
     "metadata": {},
     "output_type": "execute_result"
    }
   ],
   "source": [
    "# Visualizamos el encabezado del archivo\n",
    "pd_case_control_df.head()"
   ]
  },
  {
   "cell_type": "markdown",
   "metadata": {},
   "source": [
    "Para los analisis, es recomendable usar el diagnostico mas reciente por individuo para descartar la posibilidad de diagnostico erroneo al inicio de la enfermedad."
   ]
  },
  {
   "cell_type": "code",
   "execution_count": 40,
   "metadata": {},
   "outputs": [],
   "source": [
    "# Mantenemos las columnas de interes\n",
    "pd_case_control_latest_df = pd_case_control_df[['participant_id', 'diagnosis_latest', 'case_control_other_latest']].copy()"
   ]
  },
  {
   "cell_type": "code",
   "execution_count": 41,
   "metadata": {},
   "outputs": [],
   "source": [
    "# Renombramos las columnas\n",
    "pd_case_control_latest_df.columns = ['ID', 'LATEST_DX', 'CASE_CONTROL']"
   ]
  },
  {
   "cell_type": "code",
   "execution_count": 42,
   "metadata": {},
   "outputs": [
    {
     "name": "stdout",
     "output_type": "stream",
     "text": [
      "CASE_CONTROL\n",
      "Control    4337\n",
      "Case       3538\n",
      "Other      2933\n",
      "Name: count, dtype: int64\n"
     ]
    }
   ],
   "source": [
    "print(pd_case_control_latest_df['CASE_CONTROL'].value_counts())"
   ]
  },
  {
   "cell_type": "code",
   "execution_count": 43,
   "metadata": {},
   "outputs": [
    {
     "name": "stdout",
     "output_type": "stream",
     "text": [
      "LATEST_DX\n",
      "No PD Nor Other Neurological Disorder        4337\n",
      "LBD                                          2614\n",
      "Parkinson's Disease                          2392\n",
      "Idiopathic PD                                1146\n",
      "Multiple System Atrophy                        71\n",
      "Progressive Supranuclear Palsy                 61\n",
      "Essential Tremor                               47\n",
      "Prodromal motor PD                             36\n",
      "Prodromal non-motor PD                         36\n",
      "Other Neurological Disorder(s)                 30\n",
      "Dementia With Lewy Bodies                      14\n",
      "Corticobasal Degeneration                       8\n",
      "Parkinsonism                                    3\n",
      "Possible Alzheimer's Disease                    3\n",
      "Neuroleptic-Induced Parkinsonism                3\n",
      "Vascular Parkinsonism                           2\n",
      "Olivopontocerebellar Atrophy                    1\n",
      "Fahr's Syndrome                                 1\n",
      "Alzheimer's Disease                             1\n",
      "Psychogenic Illness                             1\n",
      "Juvenile Autosomal Recessive Parkinsonism       1\n",
      "Name: count, dtype: int64\n"
     ]
    }
   ],
   "source": [
    "# Mostramos la columna del diagnostico mas reciente\n",
    "print(pd_case_control_latest_df['LATEST_DX'].value_counts())"
   ]
  },
  {
   "cell_type": "markdown",
   "metadata": {},
   "source": [
    "#### Informacion de las cohortes incluidas en AMP-PD\n",
    "\n",
    "AMP-PD usa la siguiente nomenclatura:\n",
    "\n",
    "- Las muestras con el prefijo LB- proceden de la cohorte __LBD__; mas informacion <a href=\"https://amp-pd.org/unified-cohorts/lbd/\">aqui</a>\n",
    "- Las muestras con el prefijo PP- proceden de la cohorte __PPMI__; mas informacion <a href=\"https://amp-pd.org/unified-cohorts/ppmi\">aqui</a>\n",
    "- Las muestras con el prefijo PD- proceden de la cohorte __PDBP__; mas informacion <a href=\"https://amp-pd.org/unified-cohorts/pdbp\">aqui</a>\n",
    "- Las muestras con el prefijo HB- proceden de la cohorte __HBS__; mas informacion <a href=\"https://amp-pd.org/unified-cohorts/hbs\">aqui</a>\n",
    "- Las muestras con el prefijo LC- proceden de la cohorte __LCC__; mas informacion <a href=\"https://amp-pd.org/unified-cohorts/lcc\">aqui</a>\n",
    "- Las muestras con el prefijo BF- proceden de la cohorte __BioFIND__; mas informacion <a href=\"https://amp-pd.org/unified-cohorts/biofind\">aqui</a>\n",
    "- Las muestras con el prefijo SU- proceden de la cohorte __SURE-PD3__; mas informacion <a href=\"https://amp-pd.org/unified-cohorts/sure-pd3\">aqui</a>\n",
    "- Las muestras con el prefijo SY- proceden de la cohorte __STEADY-PD3__; mas informacion <a href=\"https://amp-pd.org/unified-cohorts/steady-pd-3\">aqui</a>"
   ]
  },
  {
   "cell_type": "code",
   "execution_count": 44,
   "metadata": {},
   "outputs": [],
   "source": [
    "# Añadimos una columna para la cohorte en base al prefijo del estudio\n",
    "pd_case_control_latest_df['COHORT']= np.where(pd_case_control_latest_df.ID.str.contains(\"LB-\"), \"LBD\",\n",
    "                                    np.where(pd_case_control_latest_df.ID.str.contains(\"PP-\"), \"PPMI\",\n",
    "                                    np.where(pd_case_control_latest_df.ID.str.contains(\"PD-\"), \"PDBP\",\n",
    "                                    np.where(pd_case_control_latest_df.ID.str.contains(\"HB-\"), \"HBS\",\n",
    "                                    np.where(pd_case_control_latest_df.ID.str.contains(\"LC-\"), \"LCC\",\n",
    "                                    np.where(pd_case_control_latest_df.ID.str.contains(\"BF-\"), \"BIOFIND\",\n",
    "                                    np.where(pd_case_control_latest_df.ID.str.contains(\"SU-\"), \"SURE-PD3\",\n",
    "                                    np.where(pd_case_control_latest_df.ID.str.contains(\"SY-\"), \"STEADY-PD3\", np.nan))))))))"
   ]
  },
  {
   "cell_type": "code",
   "execution_count": 45,
   "metadata": {},
   "outputs": [
    {
     "data": {
      "text/html": [
       "<div>\n",
       "<style scoped>\n",
       "    .dataframe tbody tr th:only-of-type {\n",
       "        vertical-align: middle;\n",
       "    }\n",
       "\n",
       "    .dataframe tbody tr th {\n",
       "        vertical-align: top;\n",
       "    }\n",
       "\n",
       "    .dataframe thead th {\n",
       "        text-align: right;\n",
       "    }\n",
       "</style>\n",
       "<table border=\"1\" class=\"dataframe\">\n",
       "  <thead>\n",
       "    <tr style=\"text-align: right;\">\n",
       "      <th></th>\n",
       "      <th>ID</th>\n",
       "      <th>LATEST_DX</th>\n",
       "      <th>CASE_CONTROL</th>\n",
       "      <th>COHORT</th>\n",
       "    </tr>\n",
       "  </thead>\n",
       "  <tbody>\n",
       "    <tr>\n",
       "      <th>0</th>\n",
       "      <td>BF-1001</td>\n",
       "      <td>No PD Nor Other Neurological Disorder</td>\n",
       "      <td>Control</td>\n",
       "      <td>BIOFIND</td>\n",
       "    </tr>\n",
       "    <tr>\n",
       "      <th>1</th>\n",
       "      <td>BF-1002</td>\n",
       "      <td>Idiopathic PD</td>\n",
       "      <td>Case</td>\n",
       "      <td>BIOFIND</td>\n",
       "    </tr>\n",
       "    <tr>\n",
       "      <th>2</th>\n",
       "      <td>BF-1003</td>\n",
       "      <td>Idiopathic PD</td>\n",
       "      <td>Case</td>\n",
       "      <td>BIOFIND</td>\n",
       "    </tr>\n",
       "    <tr>\n",
       "      <th>3</th>\n",
       "      <td>BF-1004</td>\n",
       "      <td>Idiopathic PD</td>\n",
       "      <td>Case</td>\n",
       "      <td>BIOFIND</td>\n",
       "    </tr>\n",
       "    <tr>\n",
       "      <th>4</th>\n",
       "      <td>BF-1005</td>\n",
       "      <td>No PD Nor Other Neurological Disorder</td>\n",
       "      <td>Control</td>\n",
       "      <td>BIOFIND</td>\n",
       "    </tr>\n",
       "  </tbody>\n",
       "</table>\n",
       "</div>"
      ],
      "text/plain": [
       "        ID                              LATEST_DX CASE_CONTROL   COHORT\n",
       "0  BF-1001  No PD Nor Other Neurological Disorder      Control  BIOFIND\n",
       "1  BF-1002                          Idiopathic PD         Case  BIOFIND\n",
       "2  BF-1003                          Idiopathic PD         Case  BIOFIND\n",
       "3  BF-1004                          Idiopathic PD         Case  BIOFIND\n",
       "4  BF-1005  No PD Nor Other Neurological Disorder      Control  BIOFIND"
      ]
     },
     "execution_count": 45,
     "metadata": {},
     "output_type": "execute_result"
    }
   ],
   "source": [
    "pd_case_control_latest_df.head()"
   ]
  },
  {
   "cell_type": "code",
   "execution_count": 46,
   "metadata": {},
   "outputs": [],
   "source": [
    "case_con_reduced = pd_case_control_latest_df.copy()\n",
    "case_con_reduced.drop_duplicates(subset=['ID'], inplace=True)"
   ]
  },
  {
   "cell_type": "code",
   "execution_count": 47,
   "metadata": {},
   "outputs": [],
   "source": [
    "conditions = [\n",
    "    (case_con_reduced['CASE_CONTROL'] == \"Case\"),\n",
    "    (case_con_reduced['CASE_CONTROL'] == \"Control\")]"
   ]
  },
  {
   "cell_type": "code",
   "execution_count": 48,
   "metadata": {},
   "outputs": [],
   "source": [
    "## Asignamos casos=2, controles=1, -9 los restantes (de acuerdo con las especificaciones de PLINK)\n",
    "choices = [2,1]\n",
    "case_con_reduced['PHENO'] = np.select(conditions, choices, default=-9).astype(np.int64)"
   ]
  },
  {
   "cell_type": "code",
   "execution_count": 49,
   "metadata": {},
   "outputs": [],
   "source": [
    "# Restablecemos los indices\n",
    "case_con_reduced.reset_index(inplace=True)\n",
    "case_con_reduced.drop(columns=[\"index\"], inplace=True)"
   ]
  },
  {
   "cell_type": "code",
   "execution_count": 50,
   "metadata": {},
   "outputs": [
    {
     "data": {
      "text/html": [
       "<div>\n",
       "<style scoped>\n",
       "    .dataframe tbody tr th:only-of-type {\n",
       "        vertical-align: middle;\n",
       "    }\n",
       "\n",
       "    .dataframe tbody tr th {\n",
       "        vertical-align: top;\n",
       "    }\n",
       "\n",
       "    .dataframe thead th {\n",
       "        text-align: right;\n",
       "    }\n",
       "</style>\n",
       "<table border=\"1\" class=\"dataframe\">\n",
       "  <thead>\n",
       "    <tr style=\"text-align: right;\">\n",
       "      <th></th>\n",
       "      <th>ID</th>\n",
       "      <th>LATEST_DX</th>\n",
       "      <th>CASE_CONTROL</th>\n",
       "      <th>COHORT</th>\n",
       "      <th>PHENO</th>\n",
       "    </tr>\n",
       "  </thead>\n",
       "  <tbody>\n",
       "    <tr>\n",
       "      <th>0</th>\n",
       "      <td>BF-1001</td>\n",
       "      <td>No PD Nor Other Neurological Disorder</td>\n",
       "      <td>Control</td>\n",
       "      <td>BIOFIND</td>\n",
       "      <td>1</td>\n",
       "    </tr>\n",
       "    <tr>\n",
       "      <th>1</th>\n",
       "      <td>BF-1002</td>\n",
       "      <td>Idiopathic PD</td>\n",
       "      <td>Case</td>\n",
       "      <td>BIOFIND</td>\n",
       "      <td>2</td>\n",
       "    </tr>\n",
       "    <tr>\n",
       "      <th>2</th>\n",
       "      <td>BF-1003</td>\n",
       "      <td>Idiopathic PD</td>\n",
       "      <td>Case</td>\n",
       "      <td>BIOFIND</td>\n",
       "      <td>2</td>\n",
       "    </tr>\n",
       "    <tr>\n",
       "      <th>3</th>\n",
       "      <td>BF-1004</td>\n",
       "      <td>Idiopathic PD</td>\n",
       "      <td>Case</td>\n",
       "      <td>BIOFIND</td>\n",
       "      <td>2</td>\n",
       "    </tr>\n",
       "    <tr>\n",
       "      <th>4</th>\n",
       "      <td>BF-1005</td>\n",
       "      <td>No PD Nor Other Neurological Disorder</td>\n",
       "      <td>Control</td>\n",
       "      <td>BIOFIND</td>\n",
       "      <td>1</td>\n",
       "    </tr>\n",
       "    <tr>\n",
       "      <th>...</th>\n",
       "      <td>...</td>\n",
       "      <td>...</td>\n",
       "      <td>...</td>\n",
       "      <td>...</td>\n",
       "      <td>...</td>\n",
       "    </tr>\n",
       "    <tr>\n",
       "      <th>10802</th>\n",
       "      <td>SY-PDZW544CEL</td>\n",
       "      <td>Parkinson's Disease</td>\n",
       "      <td>Case</td>\n",
       "      <td>STEADY-PD3</td>\n",
       "      <td>2</td>\n",
       "    </tr>\n",
       "    <tr>\n",
       "      <th>10803</th>\n",
       "      <td>SY-PDZX554VNB</td>\n",
       "      <td>Parkinson's Disease</td>\n",
       "      <td>Case</td>\n",
       "      <td>STEADY-PD3</td>\n",
       "      <td>2</td>\n",
       "    </tr>\n",
       "    <tr>\n",
       "      <th>10804</th>\n",
       "      <td>SY-PDZX943HWN</td>\n",
       "      <td>Parkinson's Disease</td>\n",
       "      <td>Case</td>\n",
       "      <td>STEADY-PD3</td>\n",
       "      <td>2</td>\n",
       "    </tr>\n",
       "    <tr>\n",
       "      <th>10805</th>\n",
       "      <td>SY-PDZY968RFA</td>\n",
       "      <td>Parkinson's Disease</td>\n",
       "      <td>Case</td>\n",
       "      <td>STEADY-PD3</td>\n",
       "      <td>2</td>\n",
       "    </tr>\n",
       "    <tr>\n",
       "      <th>10806</th>\n",
       "      <td>SY-PDZZ260HUM</td>\n",
       "      <td>Parkinson's Disease</td>\n",
       "      <td>Case</td>\n",
       "      <td>STEADY-PD3</td>\n",
       "      <td>2</td>\n",
       "    </tr>\n",
       "  </tbody>\n",
       "</table>\n",
       "<p>10807 rows × 5 columns</p>\n",
       "</div>"
      ],
      "text/plain": [
       "                  ID                              LATEST_DX CASE_CONTROL  \\\n",
       "0            BF-1001  No PD Nor Other Neurological Disorder      Control   \n",
       "1            BF-1002                          Idiopathic PD         Case   \n",
       "2            BF-1003                          Idiopathic PD         Case   \n",
       "3            BF-1004                          Idiopathic PD         Case   \n",
       "4            BF-1005  No PD Nor Other Neurological Disorder      Control   \n",
       "...              ...                                    ...          ...   \n",
       "10802  SY-PDZW544CEL                    Parkinson's Disease         Case   \n",
       "10803  SY-PDZX554VNB                    Parkinson's Disease         Case   \n",
       "10804  SY-PDZX943HWN                    Parkinson's Disease         Case   \n",
       "10805  SY-PDZY968RFA                    Parkinson's Disease         Case   \n",
       "10806  SY-PDZZ260HUM                    Parkinson's Disease         Case   \n",
       "\n",
       "           COHORT  PHENO  \n",
       "0         BIOFIND      1  \n",
       "1         BIOFIND      2  \n",
       "2         BIOFIND      2  \n",
       "3         BIOFIND      2  \n",
       "4         BIOFIND      1  \n",
       "...           ...    ...  \n",
       "10802  STEADY-PD3      2  \n",
       "10803  STEADY-PD3      2  \n",
       "10804  STEADY-PD3      2  \n",
       "10805  STEADY-PD3      2  \n",
       "10806  STEADY-PD3      2  \n",
       "\n",
       "[10807 rows x 5 columns]"
      ]
     },
     "execution_count": 50,
     "metadata": {},
     "output_type": "execute_result"
    }
   ],
   "source": [
    "case_con_reduced"
   ]
  },
  {
   "cell_type": "code",
   "execution_count": 51,
   "metadata": {},
   "outputs": [],
   "source": [
    "# Eliminamos la columna de fenotipo inicial \n",
    "case_con_reduced.drop(columns=['CASE_CONTROL'], inplace=True)"
   ]
  },
  {
   "cell_type": "code",
   "execution_count": 52,
   "metadata": {},
   "outputs": [
    {
     "data": {
      "text/html": [
       "<div>\n",
       "<style scoped>\n",
       "    .dataframe tbody tr th:only-of-type {\n",
       "        vertical-align: middle;\n",
       "    }\n",
       "\n",
       "    .dataframe tbody tr th {\n",
       "        vertical-align: top;\n",
       "    }\n",
       "\n",
       "    .dataframe thead th {\n",
       "        text-align: right;\n",
       "    }\n",
       "</style>\n",
       "<table border=\"1\" class=\"dataframe\">\n",
       "  <thead>\n",
       "    <tr style=\"text-align: right;\">\n",
       "      <th></th>\n",
       "      <th>ID</th>\n",
       "      <th>LATEST_DX</th>\n",
       "      <th>COHORT</th>\n",
       "      <th>PHENO</th>\n",
       "    </tr>\n",
       "  </thead>\n",
       "  <tbody>\n",
       "    <tr>\n",
       "      <th>0</th>\n",
       "      <td>BF-1001</td>\n",
       "      <td>No PD Nor Other Neurological Disorder</td>\n",
       "      <td>BIOFIND</td>\n",
       "      <td>1</td>\n",
       "    </tr>\n",
       "    <tr>\n",
       "      <th>1</th>\n",
       "      <td>BF-1002</td>\n",
       "      <td>Idiopathic PD</td>\n",
       "      <td>BIOFIND</td>\n",
       "      <td>2</td>\n",
       "    </tr>\n",
       "    <tr>\n",
       "      <th>2</th>\n",
       "      <td>BF-1003</td>\n",
       "      <td>Idiopathic PD</td>\n",
       "      <td>BIOFIND</td>\n",
       "      <td>2</td>\n",
       "    </tr>\n",
       "    <tr>\n",
       "      <th>3</th>\n",
       "      <td>BF-1004</td>\n",
       "      <td>Idiopathic PD</td>\n",
       "      <td>BIOFIND</td>\n",
       "      <td>2</td>\n",
       "    </tr>\n",
       "    <tr>\n",
       "      <th>4</th>\n",
       "      <td>BF-1005</td>\n",
       "      <td>No PD Nor Other Neurological Disorder</td>\n",
       "      <td>BIOFIND</td>\n",
       "      <td>1</td>\n",
       "    </tr>\n",
       "    <tr>\n",
       "      <th>...</th>\n",
       "      <td>...</td>\n",
       "      <td>...</td>\n",
       "      <td>...</td>\n",
       "      <td>...</td>\n",
       "    </tr>\n",
       "    <tr>\n",
       "      <th>10802</th>\n",
       "      <td>SY-PDZW544CEL</td>\n",
       "      <td>Parkinson's Disease</td>\n",
       "      <td>STEADY-PD3</td>\n",
       "      <td>2</td>\n",
       "    </tr>\n",
       "    <tr>\n",
       "      <th>10803</th>\n",
       "      <td>SY-PDZX554VNB</td>\n",
       "      <td>Parkinson's Disease</td>\n",
       "      <td>STEADY-PD3</td>\n",
       "      <td>2</td>\n",
       "    </tr>\n",
       "    <tr>\n",
       "      <th>10804</th>\n",
       "      <td>SY-PDZX943HWN</td>\n",
       "      <td>Parkinson's Disease</td>\n",
       "      <td>STEADY-PD3</td>\n",
       "      <td>2</td>\n",
       "    </tr>\n",
       "    <tr>\n",
       "      <th>10805</th>\n",
       "      <td>SY-PDZY968RFA</td>\n",
       "      <td>Parkinson's Disease</td>\n",
       "      <td>STEADY-PD3</td>\n",
       "      <td>2</td>\n",
       "    </tr>\n",
       "    <tr>\n",
       "      <th>10806</th>\n",
       "      <td>SY-PDZZ260HUM</td>\n",
       "      <td>Parkinson's Disease</td>\n",
       "      <td>STEADY-PD3</td>\n",
       "      <td>2</td>\n",
       "    </tr>\n",
       "  </tbody>\n",
       "</table>\n",
       "<p>10807 rows × 4 columns</p>\n",
       "</div>"
      ],
      "text/plain": [
       "                  ID                              LATEST_DX      COHORT  PHENO\n",
       "0            BF-1001  No PD Nor Other Neurological Disorder     BIOFIND      1\n",
       "1            BF-1002                          Idiopathic PD     BIOFIND      2\n",
       "2            BF-1003                          Idiopathic PD     BIOFIND      2\n",
       "3            BF-1004                          Idiopathic PD     BIOFIND      2\n",
       "4            BF-1005  No PD Nor Other Neurological Disorder     BIOFIND      1\n",
       "...              ...                                    ...         ...    ...\n",
       "10802  SY-PDZW544CEL                    Parkinson's Disease  STEADY-PD3      2\n",
       "10803  SY-PDZX554VNB                    Parkinson's Disease  STEADY-PD3      2\n",
       "10804  SY-PDZX943HWN                    Parkinson's Disease  STEADY-PD3      2\n",
       "10805  SY-PDZY968RFA                    Parkinson's Disease  STEADY-PD3      2\n",
       "10806  SY-PDZZ260HUM                    Parkinson's Disease  STEADY-PD3      2\n",
       "\n",
       "[10807 rows x 4 columns]"
      ]
     },
     "execution_count": 52,
     "metadata": {},
     "output_type": "execute_result"
    }
   ],
   "source": [
    "case_con_reduced"
   ]
  },
  {
   "cell_type": "code",
   "execution_count": 53,
   "metadata": {
    "scrolled": true
   },
   "outputs": [
    {
     "name": "stdout",
     "output_type": "stream",
     "text": [
      "PHENO\n",
      " 1    4337\n",
      " 2    3537\n",
      "-9    2933\n",
      "Name: count, dtype: int64\n"
     ]
    }
   ],
   "source": [
    "# Mostramos el recuento de fenotipos\n",
    "print(case_con_reduced['PHENO'].value_counts(dropna=False))"
   ]
  },
  {
   "cell_type": "code",
   "execution_count": 54,
   "metadata": {
    "scrolled": true
   },
   "outputs": [
    {
     "name": "stdout",
     "output_type": "stream",
     "text": [
      "(10807, 4)\n"
     ]
    }
   ],
   "source": [
    "print(case_con_reduced.shape)"
   ]
  },
  {
   "cell_type": "markdown",
   "metadata": {},
   "source": [
    "Esto muestra que tenemos alrededor de:\n",
    "\n",
    "- 4.337 controles, los cuales se corresponden con 'No PD Nor Other Neurological Disorder'\n",
    "- 3.537 casos, los cuales se corresponden con 'Parkinson's Disease' y con 'Idiopathic PD' del fichero caso/control\n",
    "- 2.933 con fenotipo \"otros\" (por favor, revise abajo el listado de estos. En su mayoria son LBD)\n",
    "\n",
    "Estableceremos el diagnostico mas reciente como una variable categorica, en el caso de que quieras recodificar la columna PHENO a algo diferente a casos de EP y controles o crear un subset para analisis posteriores.\n"
   ]
  },
  {
   "cell_type": "code",
   "execution_count": 55,
   "metadata": {},
   "outputs": [],
   "source": [
    "# Cargamos el archivo Enrollment.csv\n",
    "enrollment_df = pd.read_csv(f'{WORK_DIR}/Enrollment.csv')"
   ]
  },
  {
   "cell_type": "code",
   "execution_count": 56,
   "metadata": {},
   "outputs": [
    {
     "data": {
      "text/html": [
       "<div>\n",
       "<style scoped>\n",
       "    .dataframe tbody tr th:only-of-type {\n",
       "        vertical-align: middle;\n",
       "    }\n",
       "\n",
       "    .dataframe tbody tr th {\n",
       "        vertical-align: top;\n",
       "    }\n",
       "\n",
       "    .dataframe thead th {\n",
       "        text-align: right;\n",
       "    }\n",
       "</style>\n",
       "<table border=\"1\" class=\"dataframe\">\n",
       "  <thead>\n",
       "    <tr style=\"text-align: right;\">\n",
       "      <th></th>\n",
       "      <th>participant_id</th>\n",
       "      <th>GUID</th>\n",
       "      <th>visit_name</th>\n",
       "      <th>visit_month</th>\n",
       "      <th>enrollment_months_after_baseline</th>\n",
       "      <th>informed_consent_months_after_baseline</th>\n",
       "      <th>prodromal_category</th>\n",
       "      <th>study_arm</th>\n",
       "    </tr>\n",
       "  </thead>\n",
       "  <tbody>\n",
       "    <tr>\n",
       "      <th>0</th>\n",
       "      <td>BF-1001</td>\n",
       "      <td>PDNW781VHY</td>\n",
       "      <td>M0</td>\n",
       "      <td>0</td>\n",
       "      <td>NaN</td>\n",
       "      <td>0.0</td>\n",
       "      <td>Unknown/Not collected as enrollment criterion</td>\n",
       "      <td>Healthy Control</td>\n",
       "    </tr>\n",
       "    <tr>\n",
       "      <th>1</th>\n",
       "      <td>BF-1002</td>\n",
       "      <td>PDCB969UGG</td>\n",
       "      <td>M0</td>\n",
       "      <td>0</td>\n",
       "      <td>NaN</td>\n",
       "      <td>0.0</td>\n",
       "      <td>Unknown/Not collected as enrollment criterion</td>\n",
       "      <td>PD</td>\n",
       "    </tr>\n",
       "    <tr>\n",
       "      <th>2</th>\n",
       "      <td>BF-1003</td>\n",
       "      <td>PDLW805AHT</td>\n",
       "      <td>M0</td>\n",
       "      <td>0</td>\n",
       "      <td>NaN</td>\n",
       "      <td>0.0</td>\n",
       "      <td>Unknown/Not collected as enrollment criterion</td>\n",
       "      <td>PD</td>\n",
       "    </tr>\n",
       "    <tr>\n",
       "      <th>3</th>\n",
       "      <td>BF-1004</td>\n",
       "      <td>PDKW284DYW</td>\n",
       "      <td>M0</td>\n",
       "      <td>0</td>\n",
       "      <td>NaN</td>\n",
       "      <td>0.0</td>\n",
       "      <td>Unknown/Not collected as enrollment criterion</td>\n",
       "      <td>PD</td>\n",
       "    </tr>\n",
       "    <tr>\n",
       "      <th>4</th>\n",
       "      <td>BF-1005</td>\n",
       "      <td>PDTM274KX6</td>\n",
       "      <td>M0</td>\n",
       "      <td>0</td>\n",
       "      <td>NaN</td>\n",
       "      <td>0.0</td>\n",
       "      <td>Unknown/Not collected as enrollment criterion</td>\n",
       "      <td>Healthy Control</td>\n",
       "    </tr>\n",
       "  </tbody>\n",
       "</table>\n",
       "</div>"
      ],
      "text/plain": [
       "  participant_id        GUID visit_name  visit_month  \\\n",
       "0        BF-1001  PDNW781VHY         M0            0   \n",
       "1        BF-1002  PDCB969UGG         M0            0   \n",
       "2        BF-1003  PDLW805AHT         M0            0   \n",
       "3        BF-1004  PDKW284DYW         M0            0   \n",
       "4        BF-1005  PDTM274KX6         M0            0   \n",
       "\n",
       "   enrollment_months_after_baseline  informed_consent_months_after_baseline  \\\n",
       "0                               NaN                                     0.0   \n",
       "1                               NaN                                     0.0   \n",
       "2                               NaN                                     0.0   \n",
       "3                               NaN                                     0.0   \n",
       "4                               NaN                                     0.0   \n",
       "\n",
       "                              prodromal_category        study_arm  \n",
       "0  Unknown/Not collected as enrollment criterion  Healthy Control  \n",
       "1  Unknown/Not collected as enrollment criterion               PD  \n",
       "2  Unknown/Not collected as enrollment criterion               PD  \n",
       "3  Unknown/Not collected as enrollment criterion               PD  \n",
       "4  Unknown/Not collected as enrollment criterion  Healthy Control  "
      ]
     },
     "execution_count": 56,
     "metadata": {},
     "output_type": "execute_result"
    }
   ],
   "source": [
    "enrollment_df.head()"
   ]
  },
  {
   "cell_type": "code",
   "execution_count": 57,
   "metadata": {},
   "outputs": [],
   "source": [
    "# Mantenemos las columnas de interes \n",
    "enrollment_subset_df = enrollment_df[['participant_id', 'study_arm']].copy()"
   ]
  },
  {
   "cell_type": "code",
   "execution_count": 58,
   "metadata": {},
   "outputs": [],
   "source": [
    "# Renombramos las columnas\n",
    "enrollment_subset_df.columns = ['ID', 'ENROLL_STUDY_ARM']"
   ]
  },
  {
   "cell_type": "code",
   "execution_count": 59,
   "metadata": {},
   "outputs": [
    {
     "data": {
      "text/html": [
       "<div>\n",
       "<style scoped>\n",
       "    .dataframe tbody tr th:only-of-type {\n",
       "        vertical-align: middle;\n",
       "    }\n",
       "\n",
       "    .dataframe tbody tr th {\n",
       "        vertical-align: top;\n",
       "    }\n",
       "\n",
       "    .dataframe thead th {\n",
       "        text-align: right;\n",
       "    }\n",
       "</style>\n",
       "<table border=\"1\" class=\"dataframe\">\n",
       "  <thead>\n",
       "    <tr style=\"text-align: right;\">\n",
       "      <th></th>\n",
       "      <th>ID</th>\n",
       "      <th>ENROLL_STUDY_ARM</th>\n",
       "    </tr>\n",
       "  </thead>\n",
       "  <tbody>\n",
       "    <tr>\n",
       "      <th>0</th>\n",
       "      <td>BF-1001</td>\n",
       "      <td>Healthy Control</td>\n",
       "    </tr>\n",
       "    <tr>\n",
       "      <th>1</th>\n",
       "      <td>BF-1002</td>\n",
       "      <td>PD</td>\n",
       "    </tr>\n",
       "    <tr>\n",
       "      <th>2</th>\n",
       "      <td>BF-1003</td>\n",
       "      <td>PD</td>\n",
       "    </tr>\n",
       "    <tr>\n",
       "      <th>3</th>\n",
       "      <td>BF-1004</td>\n",
       "      <td>PD</td>\n",
       "    </tr>\n",
       "    <tr>\n",
       "      <th>4</th>\n",
       "      <td>BF-1005</td>\n",
       "      <td>Healthy Control</td>\n",
       "    </tr>\n",
       "  </tbody>\n",
       "</table>\n",
       "</div>"
      ],
      "text/plain": [
       "        ID ENROLL_STUDY_ARM\n",
       "0  BF-1001  Healthy Control\n",
       "1  BF-1002               PD\n",
       "2  BF-1003               PD\n",
       "3  BF-1004               PD\n",
       "4  BF-1005  Healthy Control"
      ]
     },
     "execution_count": 59,
     "metadata": {},
     "output_type": "execute_result"
    }
   ],
   "source": [
    "enrollment_subset_df.head()"
   ]
  },
  {
   "cell_type": "code",
   "execution_count": 60,
   "metadata": {},
   "outputs": [],
   "source": [
    "# Eliminamos los IDs repetidos\n",
    "enrollment_subset_df.drop_duplicates(subset=['ID'], keep='first', inplace=True)"
   ]
  },
  {
   "cell_type": "code",
   "execution_count": 61,
   "metadata": {
    "scrolled": true
   },
   "outputs": [
    {
     "name": "stdout",
     "output_type": "stream",
     "text": [
      "ENROLL_STUDY_ARM\n",
      "Healthy Control                3377\n",
      "PD                             2706\n",
      "LBD                            2521\n",
      "Genetic Cohort Unaffected       427\n",
      "Genetic Cohort PD               280\n",
      "Genetic Registry Unaffected     245\n",
      "Genetic Registry PD             196\n",
      "Disease Control                 159\n",
      "SWEDD                            78\n",
      "Prodromal                        64\n",
      "NaN                               3\n",
      "Unknown                           1\n",
      "Name: count, dtype: int64\n"
     ]
    }
   ],
   "source": [
    "# Mostramos el brazo de estudio\n",
    "print(enrollment_subset_df['ENROLL_STUDY_ARM'].value_counts(dropna=False))"
   ]
  },
  {
   "cell_type": "code",
   "execution_count": 62,
   "metadata": {},
   "outputs": [
    {
     "name": "stdout",
     "output_type": "stream",
     "text": [
      "(10057, 2)\n"
     ]
    }
   ],
   "source": [
    "print(enrollment_subset_df.shape)"
   ]
  },
  {
   "cell_type": "markdown",
   "metadata": {},
   "source": [
    "Dejaremos esta columna como categorica, al igual que antes, en el caso de que quieras crear un subset de casos especificos (como por ejemplo aquellos incluidos en el \"genetic registry\") para analizarlo por separado.\n"
   ]
  },
  {
   "cell_type": "code",
   "execution_count": 63,
   "metadata": {},
   "outputs": [],
   "source": [
    "# Cargamos el archivo de historia medica\n",
    "demographics_df = pd.read_csv(f'{WORK_DIR}/Demographics.csv')"
   ]
  },
  {
   "cell_type": "code",
   "execution_count": 64,
   "metadata": {},
   "outputs": [
    {
     "data": {
      "text/html": [
       "<div>\n",
       "<style scoped>\n",
       "    .dataframe tbody tr th:only-of-type {\n",
       "        vertical-align: middle;\n",
       "    }\n",
       "\n",
       "    .dataframe tbody tr th {\n",
       "        vertical-align: top;\n",
       "    }\n",
       "\n",
       "    .dataframe thead th {\n",
       "        text-align: right;\n",
       "    }\n",
       "</style>\n",
       "<table border=\"1\" class=\"dataframe\">\n",
       "  <thead>\n",
       "    <tr style=\"text-align: right;\">\n",
       "      <th></th>\n",
       "      <th>participant_id</th>\n",
       "      <th>GUID</th>\n",
       "      <th>visit_name</th>\n",
       "      <th>visit_month</th>\n",
       "      <th>age_at_baseline</th>\n",
       "      <th>sex</th>\n",
       "      <th>ethnicity</th>\n",
       "      <th>race</th>\n",
       "      <th>education_level_years</th>\n",
       "    </tr>\n",
       "  </thead>\n",
       "  <tbody>\n",
       "    <tr>\n",
       "      <th>0</th>\n",
       "      <td>BF-1001</td>\n",
       "      <td>PDNW781VHY</td>\n",
       "      <td>M0</td>\n",
       "      <td>0</td>\n",
       "      <td>55</td>\n",
       "      <td>Male</td>\n",
       "      <td>Not Hispanic or Latino</td>\n",
       "      <td>White</td>\n",
       "      <td>12-16 years</td>\n",
       "    </tr>\n",
       "    <tr>\n",
       "      <th>1</th>\n",
       "      <td>BF-1002</td>\n",
       "      <td>PDCB969UGG</td>\n",
       "      <td>M0</td>\n",
       "      <td>0</td>\n",
       "      <td>66</td>\n",
       "      <td>Female</td>\n",
       "      <td>Not Hispanic or Latino</td>\n",
       "      <td>White</td>\n",
       "      <td>12-16 years</td>\n",
       "    </tr>\n",
       "    <tr>\n",
       "      <th>2</th>\n",
       "      <td>BF-1003</td>\n",
       "      <td>PDLW805AHT</td>\n",
       "      <td>M0</td>\n",
       "      <td>0</td>\n",
       "      <td>61</td>\n",
       "      <td>Male</td>\n",
       "      <td>Not Hispanic or Latino</td>\n",
       "      <td>White</td>\n",
       "      <td>12-16 years</td>\n",
       "    </tr>\n",
       "    <tr>\n",
       "      <th>3</th>\n",
       "      <td>BF-1004</td>\n",
       "      <td>PDKW284DYW</td>\n",
       "      <td>M0</td>\n",
       "      <td>0</td>\n",
       "      <td>62</td>\n",
       "      <td>Male</td>\n",
       "      <td>Not Hispanic or Latino</td>\n",
       "      <td>White</td>\n",
       "      <td>12-16 years</td>\n",
       "    </tr>\n",
       "    <tr>\n",
       "      <th>4</th>\n",
       "      <td>BF-1005</td>\n",
       "      <td>PDTM274KX6</td>\n",
       "      <td>M0</td>\n",
       "      <td>0</td>\n",
       "      <td>61</td>\n",
       "      <td>Female</td>\n",
       "      <td>Not Hispanic or Latino</td>\n",
       "      <td>White</td>\n",
       "      <td>12-16 years</td>\n",
       "    </tr>\n",
       "  </tbody>\n",
       "</table>\n",
       "</div>"
      ],
      "text/plain": [
       "  participant_id        GUID visit_name  visit_month  age_at_baseline     sex  \\\n",
       "0        BF-1001  PDNW781VHY         M0            0               55    Male   \n",
       "1        BF-1002  PDCB969UGG         M0            0               66  Female   \n",
       "2        BF-1003  PDLW805AHT         M0            0               61    Male   \n",
       "3        BF-1004  PDKW284DYW         M0            0               62    Male   \n",
       "4        BF-1005  PDTM274KX6         M0            0               61  Female   \n",
       "\n",
       "                ethnicity   race education_level_years  \n",
       "0  Not Hispanic or Latino  White           12-16 years  \n",
       "1  Not Hispanic or Latino  White           12-16 years  \n",
       "2  Not Hispanic or Latino  White           12-16 years  \n",
       "3  Not Hispanic or Latino  White           12-16 years  \n",
       "4  Not Hispanic or Latino  White           12-16 years  "
      ]
     },
     "execution_count": 64,
     "metadata": {},
     "output_type": "execute_result"
    }
   ],
   "source": [
    "demographics_df.head()"
   ]
  },
  {
   "cell_type": "code",
   "execution_count": 65,
   "metadata": {},
   "outputs": [],
   "source": [
    "# Renombramos las columnas\n",
    "demographics_df.rename(columns = {'participant_id':'ID'}, inplace = True)\n",
    "demographics_df.rename(columns = {'age_at_baseline':'BASELINE_AGE'}, inplace = True)\n",
    "demographics_df.rename(columns = {'race':'RACE'}, inplace = True)"
   ]
  },
  {
   "cell_type": "code",
   "execution_count": 66,
   "metadata": {},
   "outputs": [],
   "source": [
    "# Ordenamos segun el mes de visita y eliminamos los IDs repetidos\n",
    "demographics_baseline_df = demographics_df \\\n",
    ".sort_values('visit_month', ascending=True) \\\n",
    ".drop_duplicates('ID').sort_index()"
   ]
  },
  {
   "cell_type": "code",
   "execution_count": 67,
   "metadata": {},
   "outputs": [],
   "source": [
    "# Unimos el diagnostico mas reciente con los demograficos\n",
    "demographics_df_casecon = demographics_df.merge(case_con_reduced, on='ID', how='outer')"
   ]
  },
  {
   "cell_type": "code",
   "execution_count": 68,
   "metadata": {},
   "outputs": [
    {
     "data": {
      "text/html": [
       "<div>\n",
       "<style scoped>\n",
       "    .dataframe tbody tr th:only-of-type {\n",
       "        vertical-align: middle;\n",
       "    }\n",
       "\n",
       "    .dataframe tbody tr th {\n",
       "        vertical-align: top;\n",
       "    }\n",
       "\n",
       "    .dataframe thead th {\n",
       "        text-align: right;\n",
       "    }\n",
       "</style>\n",
       "<table border=\"1\" class=\"dataframe\">\n",
       "  <thead>\n",
       "    <tr style=\"text-align: right;\">\n",
       "      <th></th>\n",
       "      <th>ID</th>\n",
       "      <th>GUID</th>\n",
       "      <th>visit_name</th>\n",
       "      <th>visit_month</th>\n",
       "      <th>BASELINE_AGE</th>\n",
       "      <th>sex</th>\n",
       "      <th>ethnicity</th>\n",
       "      <th>RACE</th>\n",
       "      <th>education_level_years</th>\n",
       "      <th>LATEST_DX</th>\n",
       "      <th>COHORT</th>\n",
       "      <th>PHENO</th>\n",
       "    </tr>\n",
       "  </thead>\n",
       "  <tbody>\n",
       "    <tr>\n",
       "      <th>0</th>\n",
       "      <td>BF-1001</td>\n",
       "      <td>PDNW781VHY</td>\n",
       "      <td>M0</td>\n",
       "      <td>0</td>\n",
       "      <td>55</td>\n",
       "      <td>Male</td>\n",
       "      <td>Not Hispanic or Latino</td>\n",
       "      <td>White</td>\n",
       "      <td>12-16 years</td>\n",
       "      <td>No PD Nor Other Neurological Disorder</td>\n",
       "      <td>BIOFIND</td>\n",
       "      <td>1</td>\n",
       "    </tr>\n",
       "    <tr>\n",
       "      <th>1</th>\n",
       "      <td>BF-1002</td>\n",
       "      <td>PDCB969UGG</td>\n",
       "      <td>M0</td>\n",
       "      <td>0</td>\n",
       "      <td>66</td>\n",
       "      <td>Female</td>\n",
       "      <td>Not Hispanic or Latino</td>\n",
       "      <td>White</td>\n",
       "      <td>12-16 years</td>\n",
       "      <td>Idiopathic PD</td>\n",
       "      <td>BIOFIND</td>\n",
       "      <td>2</td>\n",
       "    </tr>\n",
       "    <tr>\n",
       "      <th>2</th>\n",
       "      <td>BF-1003</td>\n",
       "      <td>PDLW805AHT</td>\n",
       "      <td>M0</td>\n",
       "      <td>0</td>\n",
       "      <td>61</td>\n",
       "      <td>Male</td>\n",
       "      <td>Not Hispanic or Latino</td>\n",
       "      <td>White</td>\n",
       "      <td>12-16 years</td>\n",
       "      <td>Idiopathic PD</td>\n",
       "      <td>BIOFIND</td>\n",
       "      <td>2</td>\n",
       "    </tr>\n",
       "    <tr>\n",
       "      <th>3</th>\n",
       "      <td>BF-1004</td>\n",
       "      <td>PDKW284DYW</td>\n",
       "      <td>M0</td>\n",
       "      <td>0</td>\n",
       "      <td>62</td>\n",
       "      <td>Male</td>\n",
       "      <td>Not Hispanic or Latino</td>\n",
       "      <td>White</td>\n",
       "      <td>12-16 years</td>\n",
       "      <td>Idiopathic PD</td>\n",
       "      <td>BIOFIND</td>\n",
       "      <td>2</td>\n",
       "    </tr>\n",
       "    <tr>\n",
       "      <th>4</th>\n",
       "      <td>BF-1005</td>\n",
       "      <td>PDTM274KX6</td>\n",
       "      <td>M0</td>\n",
       "      <td>0</td>\n",
       "      <td>61</td>\n",
       "      <td>Female</td>\n",
       "      <td>Not Hispanic or Latino</td>\n",
       "      <td>White</td>\n",
       "      <td>12-16 years</td>\n",
       "      <td>No PD Nor Other Neurological Disorder</td>\n",
       "      <td>BIOFIND</td>\n",
       "      <td>1</td>\n",
       "    </tr>\n",
       "  </tbody>\n",
       "</table>\n",
       "</div>"
      ],
      "text/plain": [
       "        ID        GUID visit_name  visit_month  BASELINE_AGE     sex  \\\n",
       "0  BF-1001  PDNW781VHY         M0            0            55    Male   \n",
       "1  BF-1002  PDCB969UGG         M0            0            66  Female   \n",
       "2  BF-1003  PDLW805AHT         M0            0            61    Male   \n",
       "3  BF-1004  PDKW284DYW         M0            0            62    Male   \n",
       "4  BF-1005  PDTM274KX6         M0            0            61  Female   \n",
       "\n",
       "                ethnicity   RACE education_level_years  \\\n",
       "0  Not Hispanic or Latino  White           12-16 years   \n",
       "1  Not Hispanic or Latino  White           12-16 years   \n",
       "2  Not Hispanic or Latino  White           12-16 years   \n",
       "3  Not Hispanic or Latino  White           12-16 years   \n",
       "4  Not Hispanic or Latino  White           12-16 years   \n",
       "\n",
       "                               LATEST_DX   COHORT  PHENO  \n",
       "0  No PD Nor Other Neurological Disorder  BIOFIND      1  \n",
       "1                          Idiopathic PD  BIOFIND      2  \n",
       "2                          Idiopathic PD  BIOFIND      2  \n",
       "3                          Idiopathic PD  BIOFIND      2  \n",
       "4  No PD Nor Other Neurological Disorder  BIOFIND      1  "
      ]
     },
     "execution_count": 68,
     "metadata": {},
     "output_type": "execute_result"
    }
   ],
   "source": [
    "demographics_df_casecon.head()"
   ]
  },
  {
   "cell_type": "code",
   "execution_count": 69,
   "metadata": {},
   "outputs": [],
   "source": [
    "conditions = [\n",
    "     (demographics_df_casecon['sex'] == \"Male\"),\n",
    "     (demographics_df_casecon['sex'] == \"Female\")]"
   ]
  },
  {
   "cell_type": "code",
   "execution_count": 70,
   "metadata": {},
   "outputs": [],
   "source": [
    "# 1=hombre; 2=mujer\n",
    "choices = [1,2]\n",
    "# Creamos la nueva columna\n",
    "demographics_df_casecon['SEX'] = np.select(conditions, choices, default=None).astype(np.int64)"
   ]
  },
  {
   "cell_type": "code",
   "execution_count": 71,
   "metadata": {},
   "outputs": [],
   "source": [
    "# Eliminamos la columna anterior de genero\n",
    "demographics_df_casecon.drop(columns=['sex'], inplace=True)"
   ]
  },
  {
   "cell_type": "code",
   "execution_count": 72,
   "metadata": {},
   "outputs": [
    {
     "data": {
      "text/html": [
       "<div>\n",
       "<style scoped>\n",
       "    .dataframe tbody tr th:only-of-type {\n",
       "        vertical-align: middle;\n",
       "    }\n",
       "\n",
       "    .dataframe tbody tr th {\n",
       "        vertical-align: top;\n",
       "    }\n",
       "\n",
       "    .dataframe thead th {\n",
       "        text-align: right;\n",
       "    }\n",
       "</style>\n",
       "<table border=\"1\" class=\"dataframe\">\n",
       "  <thead>\n",
       "    <tr style=\"text-align: right;\">\n",
       "      <th></th>\n",
       "      <th>ID</th>\n",
       "      <th>GUID</th>\n",
       "      <th>visit_name</th>\n",
       "      <th>visit_month</th>\n",
       "      <th>BASELINE_AGE</th>\n",
       "      <th>ethnicity</th>\n",
       "      <th>RACE</th>\n",
       "      <th>education_level_years</th>\n",
       "      <th>LATEST_DX</th>\n",
       "      <th>COHORT</th>\n",
       "      <th>PHENO</th>\n",
       "      <th>SEX</th>\n",
       "    </tr>\n",
       "  </thead>\n",
       "  <tbody>\n",
       "    <tr>\n",
       "      <th>0</th>\n",
       "      <td>BF-1001</td>\n",
       "      <td>PDNW781VHY</td>\n",
       "      <td>M0</td>\n",
       "      <td>0</td>\n",
       "      <td>55</td>\n",
       "      <td>Not Hispanic or Latino</td>\n",
       "      <td>White</td>\n",
       "      <td>12-16 years</td>\n",
       "      <td>No PD Nor Other Neurological Disorder</td>\n",
       "      <td>BIOFIND</td>\n",
       "      <td>1</td>\n",
       "      <td>1</td>\n",
       "    </tr>\n",
       "    <tr>\n",
       "      <th>1</th>\n",
       "      <td>BF-1002</td>\n",
       "      <td>PDCB969UGG</td>\n",
       "      <td>M0</td>\n",
       "      <td>0</td>\n",
       "      <td>66</td>\n",
       "      <td>Not Hispanic or Latino</td>\n",
       "      <td>White</td>\n",
       "      <td>12-16 years</td>\n",
       "      <td>Idiopathic PD</td>\n",
       "      <td>BIOFIND</td>\n",
       "      <td>2</td>\n",
       "      <td>2</td>\n",
       "    </tr>\n",
       "    <tr>\n",
       "      <th>2</th>\n",
       "      <td>BF-1003</td>\n",
       "      <td>PDLW805AHT</td>\n",
       "      <td>M0</td>\n",
       "      <td>0</td>\n",
       "      <td>61</td>\n",
       "      <td>Not Hispanic or Latino</td>\n",
       "      <td>White</td>\n",
       "      <td>12-16 years</td>\n",
       "      <td>Idiopathic PD</td>\n",
       "      <td>BIOFIND</td>\n",
       "      <td>2</td>\n",
       "      <td>1</td>\n",
       "    </tr>\n",
       "    <tr>\n",
       "      <th>3</th>\n",
       "      <td>BF-1004</td>\n",
       "      <td>PDKW284DYW</td>\n",
       "      <td>M0</td>\n",
       "      <td>0</td>\n",
       "      <td>62</td>\n",
       "      <td>Not Hispanic or Latino</td>\n",
       "      <td>White</td>\n",
       "      <td>12-16 years</td>\n",
       "      <td>Idiopathic PD</td>\n",
       "      <td>BIOFIND</td>\n",
       "      <td>2</td>\n",
       "      <td>1</td>\n",
       "    </tr>\n",
       "    <tr>\n",
       "      <th>4</th>\n",
       "      <td>BF-1005</td>\n",
       "      <td>PDTM274KX6</td>\n",
       "      <td>M0</td>\n",
       "      <td>0</td>\n",
       "      <td>61</td>\n",
       "      <td>Not Hispanic or Latino</td>\n",
       "      <td>White</td>\n",
       "      <td>12-16 years</td>\n",
       "      <td>No PD Nor Other Neurological Disorder</td>\n",
       "      <td>BIOFIND</td>\n",
       "      <td>1</td>\n",
       "      <td>2</td>\n",
       "    </tr>\n",
       "  </tbody>\n",
       "</table>\n",
       "</div>"
      ],
      "text/plain": [
       "        ID        GUID visit_name  visit_month  BASELINE_AGE  \\\n",
       "0  BF-1001  PDNW781VHY         M0            0            55   \n",
       "1  BF-1002  PDCB969UGG         M0            0            66   \n",
       "2  BF-1003  PDLW805AHT         M0            0            61   \n",
       "3  BF-1004  PDKW284DYW         M0            0            62   \n",
       "4  BF-1005  PDTM274KX6         M0            0            61   \n",
       "\n",
       "                ethnicity   RACE education_level_years  \\\n",
       "0  Not Hispanic or Latino  White           12-16 years   \n",
       "1  Not Hispanic or Latino  White           12-16 years   \n",
       "2  Not Hispanic or Latino  White           12-16 years   \n",
       "3  Not Hispanic or Latino  White           12-16 years   \n",
       "4  Not Hispanic or Latino  White           12-16 years   \n",
       "\n",
       "                               LATEST_DX   COHORT  PHENO  SEX  \n",
       "0  No PD Nor Other Neurological Disorder  BIOFIND      1    1  \n",
       "1                          Idiopathic PD  BIOFIND      2    2  \n",
       "2                          Idiopathic PD  BIOFIND      2    1  \n",
       "3                          Idiopathic PD  BIOFIND      2    1  \n",
       "4  No PD Nor Other Neurological Disorder  BIOFIND      1    2  "
      ]
     },
     "execution_count": 72,
     "metadata": {},
     "output_type": "execute_result"
    }
   ],
   "source": [
    "demographics_df_casecon.head()"
   ]
  },
  {
   "cell_type": "code",
   "execution_count": 73,
   "metadata": {},
   "outputs": [
    {
     "data": {
      "text/html": [
       "<div>\n",
       "<style scoped>\n",
       "    .dataframe tbody tr th:only-of-type {\n",
       "        vertical-align: middle;\n",
       "    }\n",
       "\n",
       "    .dataframe tbody tr th {\n",
       "        vertical-align: top;\n",
       "    }\n",
       "\n",
       "    .dataframe thead th {\n",
       "        text-align: right;\n",
       "    }\n",
       "</style>\n",
       "<table border=\"1\" class=\"dataframe\">\n",
       "  <thead>\n",
       "    <tr style=\"text-align: right;\">\n",
       "      <th></th>\n",
       "      <th>ID</th>\n",
       "      <th>PHENO</th>\n",
       "      <th>SEX</th>\n",
       "      <th>RACE</th>\n",
       "      <th>BASELINE_AGE</th>\n",
       "      <th>LATEST_DX</th>\n",
       "      <th>COHORT</th>\n",
       "    </tr>\n",
       "  </thead>\n",
       "  <tbody>\n",
       "    <tr>\n",
       "      <th>0</th>\n",
       "      <td>BF-1001</td>\n",
       "      <td>1</td>\n",
       "      <td>1</td>\n",
       "      <td>White</td>\n",
       "      <td>55</td>\n",
       "      <td>No PD Nor Other Neurological Disorder</td>\n",
       "      <td>BIOFIND</td>\n",
       "    </tr>\n",
       "    <tr>\n",
       "      <th>1</th>\n",
       "      <td>BF-1002</td>\n",
       "      <td>2</td>\n",
       "      <td>2</td>\n",
       "      <td>White</td>\n",
       "      <td>66</td>\n",
       "      <td>Idiopathic PD</td>\n",
       "      <td>BIOFIND</td>\n",
       "    </tr>\n",
       "    <tr>\n",
       "      <th>2</th>\n",
       "      <td>BF-1003</td>\n",
       "      <td>2</td>\n",
       "      <td>1</td>\n",
       "      <td>White</td>\n",
       "      <td>61</td>\n",
       "      <td>Idiopathic PD</td>\n",
       "      <td>BIOFIND</td>\n",
       "    </tr>\n",
       "    <tr>\n",
       "      <th>3</th>\n",
       "      <td>BF-1004</td>\n",
       "      <td>2</td>\n",
       "      <td>1</td>\n",
       "      <td>White</td>\n",
       "      <td>62</td>\n",
       "      <td>Idiopathic PD</td>\n",
       "      <td>BIOFIND</td>\n",
       "    </tr>\n",
       "    <tr>\n",
       "      <th>4</th>\n",
       "      <td>BF-1005</td>\n",
       "      <td>1</td>\n",
       "      <td>2</td>\n",
       "      <td>White</td>\n",
       "      <td>61</td>\n",
       "      <td>No PD Nor Other Neurological Disorder</td>\n",
       "      <td>BIOFIND</td>\n",
       "    </tr>\n",
       "  </tbody>\n",
       "</table>\n",
       "</div>"
      ],
      "text/plain": [
       "        ID  PHENO  SEX   RACE  BASELINE_AGE  \\\n",
       "0  BF-1001      1    1  White            55   \n",
       "1  BF-1002      2    2  White            66   \n",
       "2  BF-1003      2    1  White            61   \n",
       "3  BF-1004      2    1  White            62   \n",
       "4  BF-1005      1    2  White            61   \n",
       "\n",
       "                               LATEST_DX   COHORT  \n",
       "0  No PD Nor Other Neurological Disorder  BIOFIND  \n",
       "1                          Idiopathic PD  BIOFIND  \n",
       "2                          Idiopathic PD  BIOFIND  \n",
       "3                          Idiopathic PD  BIOFIND  \n",
       "4  No PD Nor Other Neurological Disorder  BIOFIND  "
      ]
     },
     "execution_count": 73,
     "metadata": {},
     "output_type": "execute_result"
    }
   ],
   "source": [
    "## Mantenemos las columnas de interes\n",
    "demographics_df_casecon_toKeep = demographics_df_casecon[['ID', 'PHENO', 'SEX', 'RACE',\n",
    "                                                          'BASELINE_AGE', 'LATEST_DX',\n",
    "                                                          'COHORT']].copy()\n",
    "demographics_df_casecon_toKeep.head()"
   ]
  },
  {
   "cell_type": "code",
   "execution_count": 74,
   "metadata": {},
   "outputs": [],
   "source": [
    "# Unimos el fenotipo con la informacion de reclutamiento\n",
    "enrollment_pheno_df = demographics_df_casecon_toKeep.merge(enrollment_subset_df, on='ID', how='outer')"
   ]
  },
  {
   "cell_type": "code",
   "execution_count": 75,
   "metadata": {},
   "outputs": [],
   "source": [
    "# Creamos la columna FID\n",
    "enrollment_pheno_df['FID'] = enrollment_pheno_df['ID'].values "
   ]
  },
  {
   "cell_type": "code",
   "execution_count": 76,
   "metadata": {},
   "outputs": [],
   "source": [
    "# Renombramos ID por IID \n",
    "enrollment_pheno_df.rename(columns = {'ID':'IID'}, inplace = True)"
   ]
  },
  {
   "cell_type": "code",
   "execution_count": 77,
   "metadata": {
    "scrolled": true
   },
   "outputs": [
    {
     "data": {
      "text/html": [
       "<div>\n",
       "<style scoped>\n",
       "    .dataframe tbody tr th:only-of-type {\n",
       "        vertical-align: middle;\n",
       "    }\n",
       "\n",
       "    .dataframe tbody tr th {\n",
       "        vertical-align: top;\n",
       "    }\n",
       "\n",
       "    .dataframe thead th {\n",
       "        text-align: right;\n",
       "    }\n",
       "</style>\n",
       "<table border=\"1\" class=\"dataframe\">\n",
       "  <thead>\n",
       "    <tr style=\"text-align: right;\">\n",
       "      <th></th>\n",
       "      <th>IID</th>\n",
       "      <th>PHENO</th>\n",
       "      <th>SEX</th>\n",
       "      <th>RACE</th>\n",
       "      <th>BASELINE_AGE</th>\n",
       "      <th>LATEST_DX</th>\n",
       "      <th>COHORT</th>\n",
       "      <th>ENROLL_STUDY_ARM</th>\n",
       "      <th>FID</th>\n",
       "    </tr>\n",
       "  </thead>\n",
       "  <tbody>\n",
       "    <tr>\n",
       "      <th>0</th>\n",
       "      <td>BF-1001</td>\n",
       "      <td>1</td>\n",
       "      <td>1</td>\n",
       "      <td>White</td>\n",
       "      <td>55</td>\n",
       "      <td>No PD Nor Other Neurological Disorder</td>\n",
       "      <td>BIOFIND</td>\n",
       "      <td>Healthy Control</td>\n",
       "      <td>BF-1001</td>\n",
       "    </tr>\n",
       "    <tr>\n",
       "      <th>1</th>\n",
       "      <td>BF-1002</td>\n",
       "      <td>2</td>\n",
       "      <td>2</td>\n",
       "      <td>White</td>\n",
       "      <td>66</td>\n",
       "      <td>Idiopathic PD</td>\n",
       "      <td>BIOFIND</td>\n",
       "      <td>PD</td>\n",
       "      <td>BF-1002</td>\n",
       "    </tr>\n",
       "    <tr>\n",
       "      <th>2</th>\n",
       "      <td>BF-1003</td>\n",
       "      <td>2</td>\n",
       "      <td>1</td>\n",
       "      <td>White</td>\n",
       "      <td>61</td>\n",
       "      <td>Idiopathic PD</td>\n",
       "      <td>BIOFIND</td>\n",
       "      <td>PD</td>\n",
       "      <td>BF-1003</td>\n",
       "    </tr>\n",
       "    <tr>\n",
       "      <th>3</th>\n",
       "      <td>BF-1004</td>\n",
       "      <td>2</td>\n",
       "      <td>1</td>\n",
       "      <td>White</td>\n",
       "      <td>62</td>\n",
       "      <td>Idiopathic PD</td>\n",
       "      <td>BIOFIND</td>\n",
       "      <td>PD</td>\n",
       "      <td>BF-1004</td>\n",
       "    </tr>\n",
       "    <tr>\n",
       "      <th>4</th>\n",
       "      <td>BF-1005</td>\n",
       "      <td>1</td>\n",
       "      <td>2</td>\n",
       "      <td>White</td>\n",
       "      <td>61</td>\n",
       "      <td>No PD Nor Other Neurological Disorder</td>\n",
       "      <td>BIOFIND</td>\n",
       "      <td>Healthy Control</td>\n",
       "      <td>BF-1005</td>\n",
       "    </tr>\n",
       "    <tr>\n",
       "      <th>...</th>\n",
       "      <td>...</td>\n",
       "      <td>...</td>\n",
       "      <td>...</td>\n",
       "      <td>...</td>\n",
       "      <td>...</td>\n",
       "      <td>...</td>\n",
       "      <td>...</td>\n",
       "      <td>...</td>\n",
       "      <td>...</td>\n",
       "    </tr>\n",
       "    <tr>\n",
       "      <th>10802</th>\n",
       "      <td>SY-PDZW544CEL</td>\n",
       "      <td>2</td>\n",
       "      <td>1</td>\n",
       "      <td>White</td>\n",
       "      <td>62</td>\n",
       "      <td>Parkinson's Disease</td>\n",
       "      <td>STEADY-PD3</td>\n",
       "      <td>PD</td>\n",
       "      <td>SY-PDZW544CEL</td>\n",
       "    </tr>\n",
       "    <tr>\n",
       "      <th>10803</th>\n",
       "      <td>SY-PDZX554VNB</td>\n",
       "      <td>2</td>\n",
       "      <td>1</td>\n",
       "      <td>White</td>\n",
       "      <td>74</td>\n",
       "      <td>Parkinson's Disease</td>\n",
       "      <td>STEADY-PD3</td>\n",
       "      <td>PD</td>\n",
       "      <td>SY-PDZX554VNB</td>\n",
       "    </tr>\n",
       "    <tr>\n",
       "      <th>10804</th>\n",
       "      <td>SY-PDZX943HWN</td>\n",
       "      <td>2</td>\n",
       "      <td>1</td>\n",
       "      <td>White</td>\n",
       "      <td>46</td>\n",
       "      <td>Parkinson's Disease</td>\n",
       "      <td>STEADY-PD3</td>\n",
       "      <td>PD</td>\n",
       "      <td>SY-PDZX943HWN</td>\n",
       "    </tr>\n",
       "    <tr>\n",
       "      <th>10805</th>\n",
       "      <td>SY-PDZY968RFA</td>\n",
       "      <td>2</td>\n",
       "      <td>1</td>\n",
       "      <td>Multiracial</td>\n",
       "      <td>41</td>\n",
       "      <td>Parkinson's Disease</td>\n",
       "      <td>STEADY-PD3</td>\n",
       "      <td>PD</td>\n",
       "      <td>SY-PDZY968RFA</td>\n",
       "    </tr>\n",
       "    <tr>\n",
       "      <th>10806</th>\n",
       "      <td>SY-PDZZ260HUM</td>\n",
       "      <td>2</td>\n",
       "      <td>2</td>\n",
       "      <td>White</td>\n",
       "      <td>70</td>\n",
       "      <td>Parkinson's Disease</td>\n",
       "      <td>STEADY-PD3</td>\n",
       "      <td>PD</td>\n",
       "      <td>SY-PDZZ260HUM</td>\n",
       "    </tr>\n",
       "  </tbody>\n",
       "</table>\n",
       "<p>10807 rows × 9 columns</p>\n",
       "</div>"
      ],
      "text/plain": [
       "                 IID  PHENO  SEX         RACE  BASELINE_AGE  \\\n",
       "0            BF-1001      1    1        White            55   \n",
       "1            BF-1002      2    2        White            66   \n",
       "2            BF-1003      2    1        White            61   \n",
       "3            BF-1004      2    1        White            62   \n",
       "4            BF-1005      1    2        White            61   \n",
       "...              ...    ...  ...          ...           ...   \n",
       "10802  SY-PDZW544CEL      2    1        White            62   \n",
       "10803  SY-PDZX554VNB      2    1        White            74   \n",
       "10804  SY-PDZX943HWN      2    1        White            46   \n",
       "10805  SY-PDZY968RFA      2    1  Multiracial            41   \n",
       "10806  SY-PDZZ260HUM      2    2        White            70   \n",
       "\n",
       "                                   LATEST_DX      COHORT ENROLL_STUDY_ARM  \\\n",
       "0      No PD Nor Other Neurological Disorder     BIOFIND  Healthy Control   \n",
       "1                              Idiopathic PD     BIOFIND               PD   \n",
       "2                              Idiopathic PD     BIOFIND               PD   \n",
       "3                              Idiopathic PD     BIOFIND               PD   \n",
       "4      No PD Nor Other Neurological Disorder     BIOFIND  Healthy Control   \n",
       "...                                      ...         ...              ...   \n",
       "10802                    Parkinson's Disease  STEADY-PD3               PD   \n",
       "10803                    Parkinson's Disease  STEADY-PD3               PD   \n",
       "10804                    Parkinson's Disease  STEADY-PD3               PD   \n",
       "10805                    Parkinson's Disease  STEADY-PD3               PD   \n",
       "10806                    Parkinson's Disease  STEADY-PD3               PD   \n",
       "\n",
       "                 FID  \n",
       "0            BF-1001  \n",
       "1            BF-1002  \n",
       "2            BF-1003  \n",
       "3            BF-1004  \n",
       "4            BF-1005  \n",
       "...              ...  \n",
       "10802  SY-PDZW544CEL  \n",
       "10803  SY-PDZX554VNB  \n",
       "10804  SY-PDZX943HWN  \n",
       "10805  SY-PDZY968RFA  \n",
       "10806  SY-PDZZ260HUM  \n",
       "\n",
       "[10807 rows x 9 columns]"
      ]
     },
     "execution_count": 77,
     "metadata": {},
     "output_type": "execute_result"
    }
   ],
   "source": [
    "enrollment_pheno_df"
   ]
  },
  {
   "cell_type": "code",
   "execution_count": 78,
   "metadata": {},
   "outputs": [],
   "source": [
    "# Ordenamos las columnas\n",
    "reorder_enrollment_pheno_df = enrollment_pheno_df[['FID', 'IID', 'PHENO',\n",
    "                                                  'SEX', 'RACE', 'BASELINE_AGE', 'LATEST_DX',\n",
    "                                                  'COHORT', 'ENROLL_STUDY_ARM']].copy()"
   ]
  },
  {
   "cell_type": "code",
   "execution_count": 79,
   "metadata": {},
   "outputs": [
    {
     "data": {
      "text/html": [
       "<div>\n",
       "<style scoped>\n",
       "    .dataframe tbody tr th:only-of-type {\n",
       "        vertical-align: middle;\n",
       "    }\n",
       "\n",
       "    .dataframe tbody tr th {\n",
       "        vertical-align: top;\n",
       "    }\n",
       "\n",
       "    .dataframe thead th {\n",
       "        text-align: right;\n",
       "    }\n",
       "</style>\n",
       "<table border=\"1\" class=\"dataframe\">\n",
       "  <thead>\n",
       "    <tr style=\"text-align: right;\">\n",
       "      <th></th>\n",
       "      <th>FID</th>\n",
       "      <th>IID</th>\n",
       "      <th>PHENO</th>\n",
       "      <th>SEX</th>\n",
       "      <th>RACE</th>\n",
       "      <th>BASELINE_AGE</th>\n",
       "      <th>LATEST_DX</th>\n",
       "      <th>COHORT</th>\n",
       "      <th>ENROLL_STUDY_ARM</th>\n",
       "    </tr>\n",
       "  </thead>\n",
       "  <tbody>\n",
       "    <tr>\n",
       "      <th>0</th>\n",
       "      <td>BF-1001</td>\n",
       "      <td>BF-1001</td>\n",
       "      <td>1</td>\n",
       "      <td>1</td>\n",
       "      <td>White</td>\n",
       "      <td>55</td>\n",
       "      <td>No PD Nor Other Neurological Disorder</td>\n",
       "      <td>BIOFIND</td>\n",
       "      <td>Healthy Control</td>\n",
       "    </tr>\n",
       "    <tr>\n",
       "      <th>1</th>\n",
       "      <td>BF-1002</td>\n",
       "      <td>BF-1002</td>\n",
       "      <td>2</td>\n",
       "      <td>2</td>\n",
       "      <td>White</td>\n",
       "      <td>66</td>\n",
       "      <td>Idiopathic PD</td>\n",
       "      <td>BIOFIND</td>\n",
       "      <td>PD</td>\n",
       "    </tr>\n",
       "    <tr>\n",
       "      <th>2</th>\n",
       "      <td>BF-1003</td>\n",
       "      <td>BF-1003</td>\n",
       "      <td>2</td>\n",
       "      <td>1</td>\n",
       "      <td>White</td>\n",
       "      <td>61</td>\n",
       "      <td>Idiopathic PD</td>\n",
       "      <td>BIOFIND</td>\n",
       "      <td>PD</td>\n",
       "    </tr>\n",
       "    <tr>\n",
       "      <th>3</th>\n",
       "      <td>BF-1004</td>\n",
       "      <td>BF-1004</td>\n",
       "      <td>2</td>\n",
       "      <td>1</td>\n",
       "      <td>White</td>\n",
       "      <td>62</td>\n",
       "      <td>Idiopathic PD</td>\n",
       "      <td>BIOFIND</td>\n",
       "      <td>PD</td>\n",
       "    </tr>\n",
       "    <tr>\n",
       "      <th>4</th>\n",
       "      <td>BF-1005</td>\n",
       "      <td>BF-1005</td>\n",
       "      <td>1</td>\n",
       "      <td>2</td>\n",
       "      <td>White</td>\n",
       "      <td>61</td>\n",
       "      <td>No PD Nor Other Neurological Disorder</td>\n",
       "      <td>BIOFIND</td>\n",
       "      <td>Healthy Control</td>\n",
       "    </tr>\n",
       "  </tbody>\n",
       "</table>\n",
       "</div>"
      ],
      "text/plain": [
       "       FID      IID  PHENO  SEX   RACE  BASELINE_AGE  \\\n",
       "0  BF-1001  BF-1001      1    1  White            55   \n",
       "1  BF-1002  BF-1002      2    2  White            66   \n",
       "2  BF-1003  BF-1003      2    1  White            61   \n",
       "3  BF-1004  BF-1004      2    1  White            62   \n",
       "4  BF-1005  BF-1005      1    2  White            61   \n",
       "\n",
       "                               LATEST_DX   COHORT ENROLL_STUDY_ARM  \n",
       "0  No PD Nor Other Neurological Disorder  BIOFIND  Healthy Control  \n",
       "1                          Idiopathic PD  BIOFIND               PD  \n",
       "2                          Idiopathic PD  BIOFIND               PD  \n",
       "3                          Idiopathic PD  BIOFIND               PD  \n",
       "4  No PD Nor Other Neurological Disorder  BIOFIND  Healthy Control  "
      ]
     },
     "execution_count": 79,
     "metadata": {},
     "output_type": "execute_result"
    }
   ],
   "source": [
    "reorder_enrollment_pheno_df.head()"
   ]
  },
  {
   "cell_type": "code",
   "execution_count": 80,
   "metadata": {
    "scrolled": true
   },
   "outputs": [
    {
     "data": {
      "text/plain": [
       "COHORT      ENROLL_STUDY_ARM             PHENO\n",
       "BIOFIND     Healthy Control               1         89\n",
       "                                         -9          6\n",
       "            PD                            2        118\n",
       "HBS         Healthy Control               1        537\n",
       "            PD                            2        649\n",
       "LBD         Healthy Control               1       1972\n",
       "            LBD                          -9       2521\n",
       "PDBP        Disease Control              -9        155\n",
       "                                          2          3\n",
       "                                          1          1\n",
       "            Healthy Control               1        542\n",
       "                                         -9          1\n",
       "            PD                            2        873\n",
       "                                         -9         13\n",
       "            Unknown                       2          1\n",
       "PPMI        Genetic Cohort PD             2        275\n",
       "                                         -9          4\n",
       "                                          1          1\n",
       "            Genetic Cohort Unaffected     1        362\n",
       "                                         -9         44\n",
       "                                          2         21\n",
       "            Genetic Registry PD           2        196\n",
       "            Genetic Registry Unaffected   1        226\n",
       "                                         -9         16\n",
       "                                          2          3\n",
       "            Healthy Control               1        218\n",
       "                                         -9          8\n",
       "                                          2          4\n",
       "            PD                            2        446\n",
       "                                         -9         13\n",
       "            Prodromal                    -9         45\n",
       "                                          2         15\n",
       "                                          1          4\n",
       "            SWEDD                         2         67\n",
       "                                         -9          9\n",
       "                                          1          2\n",
       "STEADY-PD3  PD                            2        332\n",
       "                                         -9          1\n",
       "SURE-PD3    PD                            2        261\n",
       "Name: count, dtype: int64"
      ]
     },
     "execution_count": 80,
     "metadata": {},
     "output_type": "execute_result"
    }
   ],
   "source": [
    "# Agrupamos los casos y controles segun la cohorte\n",
    "reorder_enrollment_pheno_df.groupby(['COHORT','ENROLL_STUDY_ARM'])['PHENO'].value_counts()"
   ]
  },
  {
   "cell_type": "code",
   "execution_count": 81,
   "metadata": {},
   "outputs": [
    {
     "data": {
      "text/plain": [
       "<Axes: xlabel='BASELINE_AGE', ylabel='Count'>"
      ]
     },
     "execution_count": 81,
     "metadata": {},
     "output_type": "execute_result"
    },
    {
     "data": {
      "image/png": "[encoded data removed]",
      "text/plain": [
       "<Figure size 640x480 with 1 Axes>"
      ]
     },
     "metadata": {},
     "output_type": "display_data"
    }
   ],
   "source": [
    "cases_df = reorder_enrollment_pheno_df.query('PHENO==2')['BASELINE_AGE']\n",
    "sns.histplot(cases_df, bins=10)"
   ]
  },
  {
   "cell_type": "code",
   "execution_count": 82,
   "metadata": {},
   "outputs": [
    {
     "data": {
      "text/plain": [
       "RACE                                       PHENO  SEX\n",
       "American Indian or Alaska Native            1     2         1\n",
       "                                                  1         1\n",
       "                                            2     1         3\n",
       "Arab                                        2     1         2\n",
       "Asian                                      -9     2         1\n",
       "                                                  1         1\n",
       "                                            1     2         7\n",
       "                                                  1         2\n",
       "                                            2     1        24\n",
       "                                                  2        13\n",
       "Black or African American                  -9     1         5\n",
       "                                                  2         1\n",
       "                                            1     2        47\n",
       "                                                  1        31\n",
       "                                            2     2        24\n",
       "                                                  1        22\n",
       "Multiracial                                -9     2         2\n",
       "                                                  1         1\n",
       "                                            1     2        29\n",
       "                                                  1         8\n",
       "                                            2     2        28\n",
       "                                                  1        26\n",
       "Native Hawaiian or Other Pacific Islander   1     2        12\n",
       "                                                  1         3\n",
       "                                            2     2         1\n",
       "                                                  1         1\n",
       "Other                                      -9     2         1\n",
       "                                            1     2         3\n",
       "                                                  1         2\n",
       "                                            2     1        13\n",
       "                                                  2         8\n",
       "Unknown                                    -9     1         7\n",
       "                                                  2         1\n",
       "                                            1     1         6\n",
       "                                                  2         4\n",
       "                                            2     1        12\n",
       "                                                  2        11\n",
       "White                                      -9     1      1827\n",
       "                                                  2      1086\n",
       "                                            1     2      2251\n",
       "                                                  1      1914\n",
       "                                            2     1      2055\n",
       "                                                  2      1291\n",
       "Name: count, dtype: int64"
      ]
     },
     "execution_count": 82,
     "metadata": {},
     "output_type": "execute_result"
    }
   ],
   "source": [
    "reorder_enrollment_pheno_df.groupby(['RACE', 'PHENO'])['SEX'].value_counts()"
   ]
  }
 ],
 "metadata": {
  "kernelspec": {
   "display_name": "Python 3",
   "language": "python",
   "name": "python3"
  },
  "language_info": {
   "codemirror_mode": {
    "name": "ipython",
    "version": 3
   },
   "file_extension": ".py",
   "mimetype": "text/x-python",
   "name": "python",
   "nbconvert_exporter": "python",
   "pygments_lexer": "ipython3",
   "version": "3.10.12"
  },
  "toc": {
   "base_numbering": 1,
   "nav_menu": {},
   "number_sections": true,
   "sideBar": true,
   "skip_h1_title": false,
   "title_cell": "Table of Contents",
   "title_sidebar": "Contents",
   "toc_cell": false,
   "toc_position": {},
   "toc_section_display": true,
   "toc_window_display": false
  }
 },
 "nbformat": 4,
 "nbformat_minor": 2
}
